{
 "cells": [
  {
   "cell_type": "code",
   "execution_count": 1,
   "metadata": {
    "collapsed": true
   },
   "outputs": [],
   "source": [
    "import pandas as pd\n",
    "import numpy as np\n",
    "from sklearn.manifold import TSNE\n",
    "from time import clock\n",
    "from sklearn.preprocessing import StandardScaler\n",
    "from sklearn.pipeline import Pipeline\n",
    "from sklearn.cluster import KMeans\n",
    "from sklearn.mixture import GaussianMixture as GMM\n",
    "from collections import defaultdict, Counter\n",
    "from sklearn.metrics import adjusted_mutual_info_score, accuracy_score\n",
    "from sklearn.neural_network import MLPClassifier\n",
    "from sklearn.model_selection import GridSearchCV\n",
    "from sklearn.datasets import load_digits\n",
    "import sys"
   ]
  },
  {
   "cell_type": "markdown",
   "metadata": {},
   "source": [
    "# Import datasets"
   ]
  },
  {
   "cell_type": "code",
   "execution_count": 16,
   "metadata": {
    "collapsed": true
   },
   "outputs": [],
   "source": [
    "from sklearn.preprocessing import LabelEncoder\n",
    "import pandas as pd\n",
    "\n",
    "dataset1_csv = pd.read_csv('march_madness.csv')\n",
    "\n",
    "# March Madness \n",
    "game_result = dataset1_csv.values[:,3] - dataset1_csv.values[:,20]\n",
    "basketball = {\n",
    "    \"data\": np.delete(dataset1_csv.values, [0,3,20], axis=1),\n",
    "    \"target\": np.vectorize(lambda x : 0 if x < 1 else 1)(game_result)\n",
    "}\n",
    "encoder=LabelEncoder()\n",
    "for idx in range(len(basketball[\"data\"][0])):\n",
    "    if type(basketball[\"data\"][0][idx]) is str:\n",
    "        basketball[\"data\"][:,idx]=encoder.fit_transform(basketball[\"data\"][:,idx])\n",
    "\n",
    "digits = load_digits()\n",
    "digit = {\n",
    "    \"data\": StandardScaler().fit_transform(digits.data),\n",
    "    \"target\": digits.target\n",
    "}\n",
    "\n",
    "from sklearn.preprocessing import LabelEncoder\n",
    "import pandas as pd\n",
    "\n",
    "dataset1_csv = pd.read_csv('binary_basketball.csv')\n",
    "initial_dataset = dataset1_csv.values\n",
    "\n",
    "# # March Madness \n",
    "# game_result = dataset1_csv.values[:,41]\n",
    "\n",
    "# initial_dataset = dataset1_csv.values\n",
    "# updated_dataset = np.copy(dataset1_csv.values)\n",
    "# basketball = {\n",
    "#     \"data\": np.delete(updated_dataset, [41], axis=1),\n",
    "#     \"target\": np.vectorize(lambda x : 0 if x == \"Away\" else 1)(game_result)\n",
    "# }"
   ]
  },
  {
   "cell_type": "markdown",
   "metadata": {},
   "source": [
    "# Clustering PCA NN"
   ]
  },
  {
   "cell_type": "code",
   "execution_count": 20,
   "metadata": {
    "collapsed": true
   },
   "outputs": [
    {
     "name": "stderr",
     "output_type": "stream",
     "text": [
      "[Parallel(n_jobs=1)]: Done   1 out of   1 | elapsed:    0.0s remaining:    0.0s\n"
     ]
    },
    {
     "name": "stdout",
     "output_type": "stream",
     "text": [
      "Fitting 5 folds for each of 96 candidates, totalling 480 fits\n",
      "[CV] NN__hidden_layer_sizes=(5, 10), pca__n_components=2 .............\n",
      "[CV]  NN__hidden_layer_sizes=(5, 10), pca__n_components=2, score=0.6475728155339806, total=   0.0s\n",
      "[CV] NN__hidden_layer_sizes=(5, 10), pca__n_components=2 .............\n"
     ]
    },
    {
     "name": "stderr",
     "output_type": "stream",
     "text": [
      "[Parallel(n_jobs=1)]: Done   2 out of   2 | elapsed:    0.1s remaining:    0.0s\n"
     ]
    },
    {
     "name": "stdout",
     "output_type": "stream",
     "text": [
      "[CV]  NN__hidden_layer_sizes=(5, 10), pca__n_components=2, score=0.6466019417475728, total=   0.0s\n",
      "[CV] NN__hidden_layer_sizes=(5, 10), pca__n_components=2 .............\n",
      "[CV]  NN__hidden_layer_sizes=(5, 10), pca__n_components=2, score=0.6433430515063168, total=   0.0s\n",
      "[CV] NN__hidden_layer_sizes=(5, 10), pca__n_components=2 .............\n"
     ]
    },
    {
     "name": "stderr",
     "output_type": "stream",
     "text": [
      "[Parallel(n_jobs=1)]: Done   3 out of   3 | elapsed:    0.2s remaining:    0.0s\n",
      "[Parallel(n_jobs=1)]: Done   4 out of   4 | elapsed:    0.4s remaining:    0.0s\n"
     ]
    },
    {
     "name": "stdout",
     "output_type": "stream",
     "text": [
      "[CV]  NN__hidden_layer_sizes=(5, 10), pca__n_components=2, score=0.6452866861030127, total=   0.0s\n",
      "[CV] NN__hidden_layer_sizes=(5, 10), pca__n_components=2 .............\n",
      "[CV]  NN__hidden_layer_sizes=(5, 10), pca__n_components=2, score=0.6478599221789884, total=   0.0s\n",
      "[CV] NN__hidden_layer_sizes=(5, 10), pca__n_components=5 .............\n"
     ]
    },
    {
     "name": "stderr",
     "output_type": "stream",
     "text": [
      "[Parallel(n_jobs=1)]: Done   5 out of   5 | elapsed:    0.5s remaining:    0.0s\n"
     ]
    },
    {
     "name": "stdout",
     "output_type": "stream",
     "text": [
      "[CV]  NN__hidden_layer_sizes=(5, 10), pca__n_components=5, score=0.6495145631067961, total=   0.1s\n",
      "[CV] NN__hidden_layer_sizes=(5, 10), pca__n_components=5 .............\n",
      "[CV]  NN__hidden_layer_sizes=(5, 10), pca__n_components=5, score=0.6349514563106796, total=   0.1s\n",
      "[CV] NN__hidden_layer_sizes=(5, 10), pca__n_components=5 ............."
     ]
    },
    {
     "name": "stderr",
     "output_type": "stream",
     "text": [
      "[Parallel(n_jobs=1)]: Done   6 out of   6 | elapsed:    0.7s remaining:    0.0s\n",
      "[Parallel(n_jobs=1)]: Done   7 out of   7 | elapsed:    0.9s remaining:    0.0s\n"
     ]
    },
    {
     "name": "stdout",
     "output_type": "stream",
     "text": [
      "\n",
      "[CV]  NN__hidden_layer_sizes=(5, 10), pca__n_components=5, score=0.6501457725947521, total=   0.3s\n",
      "[CV] NN__hidden_layer_sizes=(5, 10), pca__n_components=5 .............\n",
      "[CV]  NN__hidden_layer_sizes=(5, 10), pca__n_components=5, score=0.6132167152575316, total=   0.0s\n",
      "[CV] NN__hidden_layer_sizes=(5, 10), pca__n_components=5 .............\n"
     ]
    },
    {
     "name": "stderr",
     "output_type": "stream",
     "text": [
      "[Parallel(n_jobs=1)]: Done   8 out of   8 | elapsed:    1.4s remaining:    0.0s\n",
      "[Parallel(n_jobs=1)]: Done   9 out of   9 | elapsed:    1.5s remaining:    0.0s\n"
     ]
    },
    {
     "name": "stdout",
     "output_type": "stream",
     "text": [
      "[CV]  NN__hidden_layer_sizes=(5, 10), pca__n_components=5, score=0.6060311284046692, total=   0.2s\n",
      "[CV] NN__hidden_layer_sizes=(5, 10), pca__n_components=10 ............\n",
      "[CV]  NN__hidden_layer_sizes=(5, 10), pca__n_components=10, score=0.5932038834951456, total=   0.1s\n",
      "[CV] NN__hidden_layer_sizes=(5, 10), pca__n_components=10 ............\n",
      "[CV]  NN__hidden_layer_sizes=(5, 10), pca__n_components=10, score=0.5912621359223301, total=   0.0s\n",
      "[CV] NN__hidden_layer_sizes=(5, 10), pca__n_components=10 ............\n",
      "[CV]  NN__hidden_layer_sizes=(5, 10), pca__n_components=10, score=0.60932944606414, total=   0.0s\n",
      "[CV] NN__hidden_layer_sizes=(5, 10), pca__n_components=10 ............\n",
      "[CV]  NN__hidden_layer_sizes=(5, 10), pca__n_components=10, score=0.60932944606414, total=   0.0s\n",
      "[CV] NN__hidden_layer_sizes=(5, 10), pca__n_components=10 ............\n",
      "[CV]  NN__hidden_layer_sizes=(5, 10), pca__n_components=10, score=0.5953307392996109, total=   0.1s\n",
      "[CV] NN__hidden_layer_sizes=(5, 10), pca__n_components=15 ............\n",
      "[CV]  NN__hidden_layer_sizes=(5, 10), pca__n_components=15, score=0.6446601941747573, total=   0.1s\n",
      "[CV] NN__hidden_layer_sizes=(5, 10), pca__n_components=15 ............\n",
      "[CV]  NN__hidden_layer_sizes=(5, 10), pca__n_components=15, score=0.6485436893203883, total=   0.0s\n",
      "[CV] NN__hidden_layer_sizes=(5, 10), pca__n_components=15 ............\n",
      "[CV]  NN__hidden_layer_sizes=(5, 10), pca__n_components=15, score=0.6491739552964043, total=   0.0s\n",
      "[CV] NN__hidden_layer_sizes=(5, 10), pca__n_components=15 ............\n",
      "[CV]  NN__hidden_layer_sizes=(5, 10), pca__n_components=15, score=0.6530612244897959, total=   0.1s\n",
      "[CV] NN__hidden_layer_sizes=(5, 10), pca__n_components=15 ............\n",
      "[CV]  NN__hidden_layer_sizes=(5, 10), pca__n_components=15, score=0.6488326848249028, total=   0.0s\n",
      "[CV] NN__hidden_layer_sizes=(5, 10), pca__n_components=20 ............\n",
      "[CV]  NN__hidden_layer_sizes=(5, 10), pca__n_components=20, score=0.9009708737864077, total=   0.5s\n",
      "[CV] NN__hidden_layer_sizes=(5, 10), pca__n_components=20 ............\n",
      "[CV]  NN__hidden_layer_sizes=(5, 10), pca__n_components=20, score=0.6097087378640776, total=   0.0s\n",
      "[CV] NN__hidden_layer_sizes=(5, 10), pca__n_components=20 ............\n",
      "[CV]  NN__hidden_layer_sizes=(5, 10), pca__n_components=20, score=0.6015549076773566, total=   0.0s\n",
      "[CV] NN__hidden_layer_sizes=(5, 10), pca__n_components=20 ............\n",
      "[CV]  NN__hidden_layer_sizes=(5, 10), pca__n_components=20, score=0.8532555879494655, total=   0.5s\n",
      "[CV] NN__hidden_layer_sizes=(5, 10), pca__n_components=20 ............\n",
      "[CV]  NN__hidden_layer_sizes=(5, 10), pca__n_components=20, score=0.9105058365758755, total=   0.7s\n",
      "[CV] NN__hidden_layer_sizes=(5, 10), pca__n_components=25 ............\n",
      "[CV]  NN__hidden_layer_sizes=(5, 10), pca__n_components=25, score=0.6320388349514563, total=   0.0s\n",
      "[CV] NN__hidden_layer_sizes=(5, 10), pca__n_components=25 ............\n",
      "[CV]  NN__hidden_layer_sizes=(5, 10), pca__n_components=25, score=0.9553398058252427, total=   0.5s\n",
      "[CV] NN__hidden_layer_sizes=(5, 10), pca__n_components=25 ............\n",
      "[CV]  NN__hidden_layer_sizes=(5, 10), pca__n_components=25, score=0.5898931000971818, total=   0.0s\n",
      "[CV] NN__hidden_layer_sizes=(5, 10), pca__n_components=25 ............\n",
      "[CV]  NN__hidden_layer_sizes=(5, 10), pca__n_components=25, score=0.9446064139941691, total=   0.6s\n",
      "[CV] NN__hidden_layer_sizes=(5, 10), pca__n_components=25 ............\n",
      "[CV]  NN__hidden_layer_sizes=(5, 10), pca__n_components=25, score=0.919260700389105, total=   0.5s\n",
      "[CV] NN__hidden_layer_sizes=(5, 10), pca__n_components=30 ............\n",
      "[CV]  NN__hidden_layer_sizes=(5, 10), pca__n_components=30, score=0.7776699029126214, total=   0.5s\n",
      "[CV] NN__hidden_layer_sizes=(5, 10), pca__n_components=30 ............\n",
      "[CV]  NN__hidden_layer_sizes=(5, 10), pca__n_components=30, score=0.9281553398058252, total=   0.9s\n",
      "[CV] NN__hidden_layer_sizes=(5, 10), pca__n_components=30 ............\n",
      "[CV]  NN__hidden_layer_sizes=(5, 10), pca__n_components=30, score=0.5840621963070942, total=   0.2s\n",
      "[CV] NN__hidden_layer_sizes=(5, 10), pca__n_components=30 ............\n",
      "[CV]  NN__hidden_layer_sizes=(5, 10), pca__n_components=30, score=0.5383867832847424, total=   0.0s\n",
      "[CV] NN__hidden_layer_sizes=(5, 10), pca__n_components=30 ............\n",
      "[CV]  NN__hidden_layer_sizes=(5, 10), pca__n_components=30, score=0.8803501945525292, total=   0.7s\n",
      "[CV] NN__hidden_layer_sizes=(5, 10), pca__n_components=35 ............\n",
      "[CV]  NN__hidden_layer_sizes=(5, 10), pca__n_components=35, score=0.933009708737864, total=   0.6s\n",
      "[CV] NN__hidden_layer_sizes=(5, 10), pca__n_components=35 ............\n",
      "[CV]  NN__hidden_layer_sizes=(5, 10), pca__n_components=35, score=0.9398058252427185, total=   0.5s\n",
      "[CV] NN__hidden_layer_sizes=(5, 10), pca__n_components=35 ............\n",
      "[CV]  NN__hidden_layer_sizes=(5, 10), pca__n_components=35, score=0.9251700680272109, total=   0.5s\n",
      "[CV] NN__hidden_layer_sizes=(5, 10), pca__n_components=35 ............\n",
      "[CV]  NN__hidden_layer_sizes=(5, 10), pca__n_components=35, score=0.9378036929057337, total=   0.7s\n",
      "[CV] NN__hidden_layer_sizes=(5, 10), pca__n_components=35 ............\n",
      "[CV]  NN__hidden_layer_sizes=(5, 10), pca__n_components=35, score=0.9163424124513618, total=   0.5s\n",
      "[CV] NN__hidden_layer_sizes=(10, 10), pca__n_components=2 ............\n",
      "[CV]  NN__hidden_layer_sizes=(10, 10), pca__n_components=2, score=0.6485436893203883, total=   0.0s\n",
      "[CV] NN__hidden_layer_sizes=(10, 10), pca__n_components=2 ............\n",
      "[CV]  NN__hidden_layer_sizes=(10, 10), pca__n_components=2, score=0.6485436893203883, total=   0.0s\n",
      "[CV] NN__hidden_layer_sizes=(10, 10), pca__n_components=2 ............\n",
      "[CV]  NN__hidden_layer_sizes=(10, 10), pca__n_components=2, score=0.6482021379980564, total=   0.0s\n",
      "[CV] NN__hidden_layer_sizes=(10, 10), pca__n_components=2 ............\n",
      "[CV]  NN__hidden_layer_sizes=(10, 10), pca__n_components=2, score=0.6482021379980564, total=   0.0s\n",
      "[CV] NN__hidden_layer_sizes=(10, 10), pca__n_components=2 ............\n",
      "[CV]  NN__hidden_layer_sizes=(10, 10), pca__n_components=2, score=0.6488326848249028, total=   0.0s\n",
      "[CV] NN__hidden_layer_sizes=(10, 10), pca__n_components=5 ............\n",
      "[CV]  NN__hidden_layer_sizes=(10, 10), pca__n_components=5, score=0.5359223300970873, total=   0.0s\n",
      "[CV] NN__hidden_layer_sizes=(10, 10), pca__n_components=5 ............\n",
      "[CV]  NN__hidden_layer_sizes=(10, 10), pca__n_components=5, score=0.5951456310679611, total=   0.1s\n",
      "[CV] NN__hidden_layer_sizes=(10, 10), pca__n_components=5 ............\n",
      "[CV]  NN__hidden_layer_sizes=(10, 10), pca__n_components=5, score=0.5247813411078717, total=   0.0s\n",
      "[CV] NN__hidden_layer_sizes=(10, 10), pca__n_components=5 ............\n",
      "[CV]  NN__hidden_layer_sizes=(10, 10), pca__n_components=5, score=0.6054421768707483, total=   0.1s\n",
      "[CV] NN__hidden_layer_sizes=(10, 10), pca__n_components=5 ............\n",
      "[CV]  NN__hidden_layer_sizes=(10, 10), pca__n_components=5, score=0.5311284046692607, total=   0.0s\n",
      "[CV] NN__hidden_layer_sizes=(10, 10), pca__n_components=10 ...........\n",
      "[CV]  NN__hidden_layer_sizes=(10, 10), pca__n_components=10, score=0.8009708737864077, total=   0.4s\n",
      "[CV] NN__hidden_layer_sizes=(10, 10), pca__n_components=10 ...........\n",
      "[CV]  NN__hidden_layer_sizes=(10, 10), pca__n_components=10, score=0.8281553398058252, total=   0.4s\n",
      "[CV] NN__hidden_layer_sizes=(10, 10), pca__n_components=10 ...........\n",
      "[CV]  NN__hidden_layer_sizes=(10, 10), pca__n_components=10, score=0.8017492711370262, total=   0.3s\n",
      "[CV] NN__hidden_layer_sizes=(10, 10), pca__n_components=10 ...........\n",
      "[CV]  NN__hidden_layer_sizes=(10, 10), pca__n_components=10, score=0.7667638483965015, total=   0.5s\n",
      "[CV] NN__hidden_layer_sizes=(10, 10), pca__n_components=10 ...........\n",
      "[CV]  NN__hidden_layer_sizes=(10, 10), pca__n_components=10, score=0.7373540856031129, total=   0.3s\n",
      "[CV] NN__hidden_layer_sizes=(10, 10), pca__n_components=15 ...........\n",
      "[CV]  NN__hidden_layer_sizes=(10, 10), pca__n_components=15, score=0.5553398058252427, total=   0.0s\n",
      "[CV] NN__hidden_layer_sizes=(10, 10), pca__n_components=15 ...........\n",
      "[CV]  NN__hidden_layer_sizes=(10, 10), pca__n_components=15, score=0.9067961165048544, total=   0.9s\n",
      "[CV] NN__hidden_layer_sizes=(10, 10), pca__n_components=15 ...........\n"
     ]
    },
    {
     "name": "stdout",
     "output_type": "stream",
     "text": [
      "[CV]  NN__hidden_layer_sizes=(10, 10), pca__n_components=15, score=0.8969873663751214, total=   0.4s\n",
      "[CV] NN__hidden_layer_sizes=(10, 10), pca__n_components=15 ...........\n",
      "[CV]  NN__hidden_layer_sizes=(10, 10), pca__n_components=15, score=0.9037900874635568, total=   0.6s\n",
      "[CV] NN__hidden_layer_sizes=(10, 10), pca__n_components=15 ...........\n",
      "[CV]  NN__hidden_layer_sizes=(10, 10), pca__n_components=15, score=0.8891050583657587, total=   0.4s\n",
      "[CV] NN__hidden_layer_sizes=(10, 10), pca__n_components=20 ...........\n",
      "[CV]  NN__hidden_layer_sizes=(10, 10), pca__n_components=20, score=0.5970873786407767, total=   0.0s\n",
      "[CV] NN__hidden_layer_sizes=(10, 10), pca__n_components=20 ...........\n",
      "[CV]  NN__hidden_layer_sizes=(10, 10), pca__n_components=20, score=0.579611650485437, total=   0.0s\n",
      "[CV] NN__hidden_layer_sizes=(10, 10), pca__n_components=20 ...........\n",
      "[CV]  NN__hidden_layer_sizes=(10, 10), pca__n_components=20, score=0.902818270165209, total=   0.5s\n",
      "[CV] NN__hidden_layer_sizes=(10, 10), pca__n_components=20 ...........\n",
      "[CV]  NN__hidden_layer_sizes=(10, 10), pca__n_components=20, score=0.6064139941690962, total=   0.0s\n",
      "[CV] NN__hidden_layer_sizes=(10, 10), pca__n_components=20 ...........\n",
      "[CV]  NN__hidden_layer_sizes=(10, 10), pca__n_components=20, score=0.9007782101167315, total=   0.5s\n",
      "[CV] NN__hidden_layer_sizes=(10, 10), pca__n_components=25 ...........\n",
      "[CV]  NN__hidden_layer_sizes=(10, 10), pca__n_components=25, score=0.933009708737864, total=   0.5s\n",
      "[CV] NN__hidden_layer_sizes=(10, 10), pca__n_components=25 ...........\n",
      "[CV]  NN__hidden_layer_sizes=(10, 10), pca__n_components=25, score=0.9067961165048544, total=   0.4s\n",
      "[CV] NN__hidden_layer_sizes=(10, 10), pca__n_components=25 ...........\n",
      "[CV]  NN__hidden_layer_sizes=(10, 10), pca__n_components=25, score=0.9222546161321672, total=   0.6s\n",
      "[CV] NN__hidden_layer_sizes=(10, 10), pca__n_components=25 ...........\n",
      "[CV]  NN__hidden_layer_sizes=(10, 10), pca__n_components=25, score=0.9203109815354713, total=   0.8s\n",
      "[CV] NN__hidden_layer_sizes=(10, 10), pca__n_components=25 ...........\n",
      "[CV]  NN__hidden_layer_sizes=(10, 10), pca__n_components=25, score=0.9056420233463035, total=   0.5s\n",
      "[CV] NN__hidden_layer_sizes=(10, 10), pca__n_components=30 ...........\n",
      "[CV]  NN__hidden_layer_sizes=(10, 10), pca__n_components=30, score=0.945631067961165, total=   0.5s\n",
      "[CV] NN__hidden_layer_sizes=(10, 10), pca__n_components=30 ...........\n",
      "[CV]  NN__hidden_layer_sizes=(10, 10), pca__n_components=30, score=0.9009708737864077, total=   0.4s\n",
      "[CV] NN__hidden_layer_sizes=(10, 10), pca__n_components=30 ...........\n",
      "[CV]  NN__hidden_layer_sizes=(10, 10), pca__n_components=30, score=0.8979591836734694, total=   0.3s\n",
      "[CV] NN__hidden_layer_sizes=(10, 10), pca__n_components=30 ...........\n",
      "[CV]  NN__hidden_layer_sizes=(10, 10), pca__n_components=30, score=0.9086491739552964, total=   0.4s\n",
      "[CV] NN__hidden_layer_sizes=(10, 10), pca__n_components=30 ...........\n",
      "[CV]  NN__hidden_layer_sizes=(10, 10), pca__n_components=30, score=0.9270428015564203, total=   0.6s\n",
      "[CV] NN__hidden_layer_sizes=(10, 10), pca__n_components=35 ...........\n",
      "[CV]  NN__hidden_layer_sizes=(10, 10), pca__n_components=35, score=0.9592233009708738, total=   1.4s\n",
      "[CV] NN__hidden_layer_sizes=(10, 10), pca__n_components=35 ...........\n",
      "[CV]  NN__hidden_layer_sizes=(10, 10), pca__n_components=35, score=0.9572815533980582, total=   0.7s\n",
      "[CV] NN__hidden_layer_sizes=(10, 10), pca__n_components=35 ...........\n",
      "[CV]  NN__hidden_layer_sizes=(10, 10), pca__n_components=35, score=0.9582118561710399, total=   0.8s\n",
      "[CV] NN__hidden_layer_sizes=(10, 10), pca__n_components=35 ...........\n",
      "[CV]  NN__hidden_layer_sizes=(10, 10), pca__n_components=35, score=0.9261418853255587, total=   0.6s\n",
      "[CV] NN__hidden_layer_sizes=(10, 10), pca__n_components=35 ...........\n",
      "[CV]  NN__hidden_layer_sizes=(10, 10), pca__n_components=35, score=0.9455252918287937, total=   1.1s\n",
      "[CV] NN__hidden_layer_sizes=(10, 20), pca__n_components=2 ............\n",
      "[CV]  NN__hidden_layer_sizes=(10, 20), pca__n_components=2, score=0.5980582524271845, total=   0.0s\n",
      "[CV] NN__hidden_layer_sizes=(10, 20), pca__n_components=2 ............\n",
      "[CV]  NN__hidden_layer_sizes=(10, 20), pca__n_components=2, score=0.6330097087378641, total=   0.2s\n",
      "[CV] NN__hidden_layer_sizes=(10, 20), pca__n_components=2 ............\n",
      "[CV]  NN__hidden_layer_sizes=(10, 20), pca__n_components=2, score=0.5354713313896987, total=   0.0s\n",
      "[CV] NN__hidden_layer_sizes=(10, 20), pca__n_components=2 ............\n",
      "[CV]  NN__hidden_layer_sizes=(10, 20), pca__n_components=2, score=0.6064139941690962, total=   0.1s\n",
      "[CV] NN__hidden_layer_sizes=(10, 20), pca__n_components=2 ............\n",
      "[CV]  NN__hidden_layer_sizes=(10, 20), pca__n_components=2, score=0.6313229571984436, total=   0.2s\n",
      "[CV] NN__hidden_layer_sizes=(10, 20), pca__n_components=5 ............\n",
      "[CV]  NN__hidden_layer_sizes=(10, 20), pca__n_components=5, score=0.5514563106796116, total=   0.1s\n",
      "[CV] NN__hidden_layer_sizes=(10, 20), pca__n_components=5 ............\n",
      "[CV]  NN__hidden_layer_sizes=(10, 20), pca__n_components=5, score=0.5281553398058253, total=   0.1s\n",
      "[CV] NN__hidden_layer_sizes=(10, 20), pca__n_components=5 ............\n",
      "[CV]  NN__hidden_layer_sizes=(10, 20), pca__n_components=5, score=0.6579203109815355, total=   0.2s\n",
      "[CV] NN__hidden_layer_sizes=(10, 20), pca__n_components=5 ............\n",
      "[CV]  NN__hidden_layer_sizes=(10, 20), pca__n_components=5, score=0.5092322643343051, total=   0.0s\n",
      "[CV] NN__hidden_layer_sizes=(10, 20), pca__n_components=5 ............\n",
      "[CV]  NN__hidden_layer_sizes=(10, 20), pca__n_components=5, score=0.6361867704280155, total=   0.2s\n",
      "[CV] NN__hidden_layer_sizes=(10, 20), pca__n_components=10 ...........\n",
      "[CV]  NN__hidden_layer_sizes=(10, 20), pca__n_components=10, score=0.829126213592233, total=   0.5s\n",
      "[CV] NN__hidden_layer_sizes=(10, 20), pca__n_components=10 ...........\n",
      "[CV]  NN__hidden_layer_sizes=(10, 20), pca__n_components=10, score=0.7980582524271844, total=   0.3s\n",
      "[CV] NN__hidden_layer_sizes=(10, 20), pca__n_components=10 ...........\n",
      "[CV]  NN__hidden_layer_sizes=(10, 20), pca__n_components=10, score=0.7405247813411079, total=   0.2s\n",
      "[CV] NN__hidden_layer_sizes=(10, 20), pca__n_components=10 ...........\n",
      "[CV]  NN__hidden_layer_sizes=(10, 20), pca__n_components=10, score=0.7628765792031098, total=   0.4s\n",
      "[CV] NN__hidden_layer_sizes=(10, 20), pca__n_components=10 ...........\n",
      "[CV]  NN__hidden_layer_sizes=(10, 20), pca__n_components=10, score=0.7947470817120622, total=   0.3s\n",
      "[CV] NN__hidden_layer_sizes=(10, 20), pca__n_components=15 ...........\n",
      "[CV]  NN__hidden_layer_sizes=(10, 20), pca__n_components=15, score=0.6504854368932039, total=   0.0s\n",
      "[CV] NN__hidden_layer_sizes=(10, 20), pca__n_components=15 ...........\n",
      "[CV]  NN__hidden_layer_sizes=(10, 20), pca__n_components=15, score=0.6514563106796116, total=   0.0s\n",
      "[CV] NN__hidden_layer_sizes=(10, 20), pca__n_components=15 ...........\n",
      "[CV]  NN__hidden_layer_sizes=(10, 20), pca__n_components=15, score=0.6103012633624878, total=   0.0s\n",
      "[CV] NN__hidden_layer_sizes=(10, 20), pca__n_components=15 ...........\n",
      "[CV]  NN__hidden_layer_sizes=(10, 20), pca__n_components=15, score=0.6336248785228377, total=   0.0s\n",
      "[CV] NN__hidden_layer_sizes=(10, 20), pca__n_components=15 ...........\n",
      "[CV]  NN__hidden_layer_sizes=(10, 20), pca__n_components=15, score=0.6313229571984436, total=   0.0s\n",
      "[CV] NN__hidden_layer_sizes=(10, 20), pca__n_components=20 ...........\n",
      "[CV]  NN__hidden_layer_sizes=(10, 20), pca__n_components=20, score=0.9009708737864077, total=   0.5s\n",
      "[CV] NN__hidden_layer_sizes=(10, 20), pca__n_components=20 ...........\n",
      "[CV]  NN__hidden_layer_sizes=(10, 20), pca__n_components=20, score=0.9106796116504854, total=   0.5s\n",
      "[CV] NN__hidden_layer_sizes=(10, 20), pca__n_components=20 ...........\n",
      "[CV]  NN__hidden_layer_sizes=(10, 20), pca__n_components=20, score=0.8775510204081632, total=   0.3s\n",
      "[CV] NN__hidden_layer_sizes=(10, 20), pca__n_components=20 ...........\n",
      "[CV]  NN__hidden_layer_sizes=(10, 20), pca__n_components=20, score=0.8969873663751214, total=   0.5s\n",
      "[CV] NN__hidden_layer_sizes=(10, 20), pca__n_components=20 ...........\n",
      "[CV]  NN__hidden_layer_sizes=(10, 20), pca__n_components=20, score=0.8939688715953308, total=   0.5s\n",
      "[CV] NN__hidden_layer_sizes=(10, 20), pca__n_components=25 ...........\n"
     ]
    },
    {
     "name": "stdout",
     "output_type": "stream",
     "text": [
      "[CV]  NN__hidden_layer_sizes=(10, 20), pca__n_components=25, score=0.9359223300970874, total=   0.6s\n",
      "[CV] NN__hidden_layer_sizes=(10, 20), pca__n_components=25 ...........\n",
      "[CV]  NN__hidden_layer_sizes=(10, 20), pca__n_components=25, score=0.9407766990291262, total=   0.6s\n",
      "[CV] NN__hidden_layer_sizes=(10, 20), pca__n_components=25 ...........\n",
      "[CV]  NN__hidden_layer_sizes=(10, 20), pca__n_components=25, score=0.9261418853255587, total=   0.5s\n",
      "[CV] NN__hidden_layer_sizes=(10, 20), pca__n_components=25 ...........\n",
      "[CV]  NN__hidden_layer_sizes=(10, 20), pca__n_components=25, score=0.8629737609329446, total=   0.4s\n",
      "[CV] NN__hidden_layer_sizes=(10, 20), pca__n_components=25 ...........\n",
      "[CV]  NN__hidden_layer_sizes=(10, 20), pca__n_components=25, score=0.9319066147859922, total=   0.6s\n",
      "[CV] NN__hidden_layer_sizes=(10, 20), pca__n_components=30 ...........\n",
      "[CV]  NN__hidden_layer_sizes=(10, 20), pca__n_components=30, score=0.920388349514563, total=   0.4s\n",
      "[CV] NN__hidden_layer_sizes=(10, 20), pca__n_components=30 ...........\n",
      "[CV]  NN__hidden_layer_sizes=(10, 20), pca__n_components=30, score=0.7126213592233009, total=   0.1s\n",
      "[CV] NN__hidden_layer_sizes=(10, 20), pca__n_components=30 ...........\n",
      "[CV]  NN__hidden_layer_sizes=(10, 20), pca__n_components=30, score=0.9212827988338192, total=   0.3s\n",
      "[CV] NN__hidden_layer_sizes=(10, 20), pca__n_components=30 ...........\n",
      "[CV]  NN__hidden_layer_sizes=(10, 20), pca__n_components=30, score=0.9319727891156463, total=   0.5s\n",
      "[CV] NN__hidden_layer_sizes=(10, 20), pca__n_components=30 ...........\n",
      "[CV]  NN__hidden_layer_sizes=(10, 20), pca__n_components=30, score=0.9367704280155642, total=   0.5s\n",
      "[CV] NN__hidden_layer_sizes=(10, 20), pca__n_components=35 ...........\n",
      "[CV]  NN__hidden_layer_sizes=(10, 20), pca__n_components=35, score=0.9446601941747573, total=   0.5s\n",
      "[CV] NN__hidden_layer_sizes=(10, 20), pca__n_components=35 ...........\n",
      "[CV]  NN__hidden_layer_sizes=(10, 20), pca__n_components=35, score=0.9466019417475728, total=   0.4s\n",
      "[CV] NN__hidden_layer_sizes=(10, 20), pca__n_components=35 ...........\n",
      "[CV]  NN__hidden_layer_sizes=(10, 20), pca__n_components=35, score=0.9494655004859086, total=   0.5s\n",
      "[CV] NN__hidden_layer_sizes=(10, 20), pca__n_components=35 ...........\n",
      "[CV]  NN__hidden_layer_sizes=(10, 20), pca__n_components=35, score=0.9339164237123421, total=   0.6s\n",
      "[CV] NN__hidden_layer_sizes=(10, 20), pca__n_components=35 ...........\n",
      "[CV]  NN__hidden_layer_sizes=(10, 20), pca__n_components=35, score=0.953307392996109, total=   0.9s\n",
      "[CV] NN__hidden_layer_sizes=(20, 20), pca__n_components=2 ............\n",
      "[CV]  NN__hidden_layer_sizes=(20, 20), pca__n_components=2, score=0.6495145631067961, total=   0.2s\n",
      "[CV] NN__hidden_layer_sizes=(20, 20), pca__n_components=2 ............\n",
      "[CV]  NN__hidden_layer_sizes=(20, 20), pca__n_components=2, score=0.6485436893203883, total=   0.3s\n",
      "[CV] NN__hidden_layer_sizes=(20, 20), pca__n_components=2 ............\n",
      "[CV]  NN__hidden_layer_sizes=(20, 20), pca__n_components=2, score=0.5830903790087464, total=   0.0s\n",
      "[CV] NN__hidden_layer_sizes=(20, 20), pca__n_components=2 ............\n",
      "[CV]  NN__hidden_layer_sizes=(20, 20), pca__n_components=2, score=0.640427599611273, total=   0.2s\n",
      "[CV] NN__hidden_layer_sizes=(20, 20), pca__n_components=2 ............\n",
      "[CV]  NN__hidden_layer_sizes=(20, 20), pca__n_components=2, score=0.6449416342412452, total=   0.2s\n",
      "[CV] NN__hidden_layer_sizes=(20, 20), pca__n_components=5 ............\n",
      "[CV]  NN__hidden_layer_sizes=(20, 20), pca__n_components=5, score=0.6339805825242718, total=   0.1s\n",
      "[CV] NN__hidden_layer_sizes=(20, 20), pca__n_components=5 ............\n",
      "[CV]  NN__hidden_layer_sizes=(20, 20), pca__n_components=5, score=0.6757281553398058, total=   0.3s\n",
      "[CV] NN__hidden_layer_sizes=(20, 20), pca__n_components=5 ............\n",
      "[CV]  NN__hidden_layer_sizes=(20, 20), pca__n_components=5, score=0.6608357628765792, total=   0.2s\n",
      "[CV] NN__hidden_layer_sizes=(20, 20), pca__n_components=5 ............\n",
      "[CV]  NN__hidden_layer_sizes=(20, 20), pca__n_components=5, score=0.6452866861030127, total=   0.1s\n",
      "[CV] NN__hidden_layer_sizes=(20, 20), pca__n_components=5 ............\n",
      "[CV]  NN__hidden_layer_sizes=(20, 20), pca__n_components=5, score=0.642023346303502, total=   0.2s\n",
      "[CV] NN__hidden_layer_sizes=(20, 20), pca__n_components=10 ...........\n",
      "[CV]  NN__hidden_layer_sizes=(20, 20), pca__n_components=10, score=0.8320388349514564, total=   0.3s\n",
      "[CV] NN__hidden_layer_sizes=(20, 20), pca__n_components=10 ...........\n",
      "[CV]  NN__hidden_layer_sizes=(20, 20), pca__n_components=10, score=0.8699029126213592, total=   0.2s\n",
      "[CV] NN__hidden_layer_sizes=(20, 20), pca__n_components=10 ...........\n",
      "[CV]  NN__hidden_layer_sizes=(20, 20), pca__n_components=10, score=0.7706511175898931, total=   0.2s\n",
      "[CV] NN__hidden_layer_sizes=(20, 20), pca__n_components=10 ...........\n",
      "[CV]  NN__hidden_layer_sizes=(20, 20), pca__n_components=10, score=0.7657920310981535, total=   0.3s\n",
      "[CV] NN__hidden_layer_sizes=(20, 20), pca__n_components=10 ...........\n",
      "[CV]  NN__hidden_layer_sizes=(20, 20), pca__n_components=10, score=0.7840466926070039, total=   0.3s\n",
      "[CV] NN__hidden_layer_sizes=(20, 20), pca__n_components=15 ...........\n",
      "[CV]  NN__hidden_layer_sizes=(20, 20), pca__n_components=15, score=0.8951456310679612, total=   0.5s\n",
      "[CV] NN__hidden_layer_sizes=(20, 20), pca__n_components=15 ...........\n",
      "[CV]  NN__hidden_layer_sizes=(20, 20), pca__n_components=15, score=0.9106796116504854, total=   0.4s\n",
      "[CV] NN__hidden_layer_sizes=(20, 20), pca__n_components=15 ...........\n",
      "[CV]  NN__hidden_layer_sizes=(20, 20), pca__n_components=15, score=0.8872691933916423, total=   0.3s\n",
      "[CV] NN__hidden_layer_sizes=(20, 20), pca__n_components=15 ...........\n",
      "[CV]  NN__hidden_layer_sizes=(20, 20), pca__n_components=15, score=0.8853255587949466, total=   0.6s\n",
      "[CV] NN__hidden_layer_sizes=(20, 20), pca__n_components=15 ...........\n",
      "[CV]  NN__hidden_layer_sizes=(20, 20), pca__n_components=15, score=0.896887159533074, total=   0.6s\n",
      "[CV] NN__hidden_layer_sizes=(20, 20), pca__n_components=20 ...........\n",
      "[CV]  NN__hidden_layer_sizes=(20, 20), pca__n_components=20, score=0.8825242718446602, total=   0.3s\n",
      "[CV] NN__hidden_layer_sizes=(20, 20), pca__n_components=20 ...........\n",
      "[CV]  NN__hidden_layer_sizes=(20, 20), pca__n_components=20, score=0.9174757281553398, total=   0.5s\n",
      "[CV] NN__hidden_layer_sizes=(20, 20), pca__n_components=20 ...........\n",
      "[CV]  NN__hidden_layer_sizes=(20, 20), pca__n_components=20, score=0.9086491739552964, total=   0.3s\n",
      "[CV] NN__hidden_layer_sizes=(20, 20), pca__n_components=20 ...........\n",
      "[CV]  NN__hidden_layer_sizes=(20, 20), pca__n_components=20, score=0.8931000971817298, total=   0.5s\n",
      "[CV] NN__hidden_layer_sizes=(20, 20), pca__n_components=20 ...........\n",
      "[CV]  NN__hidden_layer_sizes=(20, 20), pca__n_components=20, score=0.8861867704280155, total=   0.4s\n",
      "[CV] NN__hidden_layer_sizes=(20, 20), pca__n_components=25 ...........\n",
      "[CV]  NN__hidden_layer_sizes=(20, 20), pca__n_components=25, score=0.8844660194174757, total=   0.4s\n",
      "[CV] NN__hidden_layer_sizes=(20, 20), pca__n_components=25 ...........\n",
      "[CV]  NN__hidden_layer_sizes=(20, 20), pca__n_components=25, score=0.9388349514563107, total=   0.5s\n",
      "[CV] NN__hidden_layer_sizes=(20, 20), pca__n_components=25 ...........\n",
      "[CV]  NN__hidden_layer_sizes=(20, 20), pca__n_components=25, score=0.8931000971817298, total=   0.4s\n",
      "[CV] NN__hidden_layer_sizes=(20, 20), pca__n_components=25 ...........\n",
      "[CV]  NN__hidden_layer_sizes=(20, 20), pca__n_components=25, score=0.9086491739552964, total=   0.5s\n",
      "[CV] NN__hidden_layer_sizes=(20, 20), pca__n_components=25 ...........\n",
      "[CV]  NN__hidden_layer_sizes=(20, 20), pca__n_components=25, score=0.9221789883268483, total=   0.5s\n",
      "[CV] NN__hidden_layer_sizes=(20, 20), pca__n_components=30 ...........\n",
      "[CV]  NN__hidden_layer_sizes=(20, 20), pca__n_components=30, score=0.9281553398058252, total=   0.5s\n",
      "[CV] NN__hidden_layer_sizes=(20, 20), pca__n_components=30 ...........\n",
      "[CV]  NN__hidden_layer_sizes=(20, 20), pca__n_components=30, score=0.9388349514563107, total=   0.5s\n",
      "[CV] NN__hidden_layer_sizes=(20, 20), pca__n_components=30 ...........\n",
      "[CV]  NN__hidden_layer_sizes=(20, 20), pca__n_components=30, score=0.9378036929057337, total=   0.5s\n",
      "[CV] NN__hidden_layer_sizes=(20, 20), pca__n_components=30 ...........\n"
     ]
    },
    {
     "name": "stdout",
     "output_type": "stream",
     "text": [
      "[CV]  NN__hidden_layer_sizes=(20, 20), pca__n_components=30, score=0.9300291545189504, total=   0.5s\n",
      "[CV] NN__hidden_layer_sizes=(20, 20), pca__n_components=30 ...........\n",
      "[CV]  NN__hidden_layer_sizes=(20, 20), pca__n_components=30, score=0.9348249027237354, total=   0.5s\n",
      "[CV] NN__hidden_layer_sizes=(20, 20), pca__n_components=35 ...........\n",
      "[CV]  NN__hidden_layer_sizes=(20, 20), pca__n_components=35, score=0.9524271844660194, total=   0.6s\n",
      "[CV] NN__hidden_layer_sizes=(20, 20), pca__n_components=35 ...........\n",
      "[CV]  NN__hidden_layer_sizes=(20, 20), pca__n_components=35, score=0.929126213592233, total=   0.3s\n",
      "[CV] NN__hidden_layer_sizes=(20, 20), pca__n_components=35 ...........\n",
      "[CV]  NN__hidden_layer_sizes=(20, 20), pca__n_components=35, score=0.9465500485908649, total=   0.6s\n",
      "[CV] NN__hidden_layer_sizes=(20, 20), pca__n_components=35 ...........\n",
      "[CV]  NN__hidden_layer_sizes=(20, 20), pca__n_components=35, score=0.9426627793974732, total=   0.7s\n",
      "[CV] NN__hidden_layer_sizes=(20, 20), pca__n_components=35 ...........\n",
      "[CV]  NN__hidden_layer_sizes=(20, 20), pca__n_components=35, score=0.9182879377431906, total=   0.5s\n",
      "[CV] NN__hidden_layer_sizes=(20, 10), pca__n_components=2 ............\n",
      "[CV]  NN__hidden_layer_sizes=(20, 10), pca__n_components=2, score=0.6106796116504855, total=   0.1s\n",
      "[CV] NN__hidden_layer_sizes=(20, 10), pca__n_components=2 ............\n",
      "[CV]  NN__hidden_layer_sizes=(20, 10), pca__n_components=2, score=0.641747572815534, total=   0.0s\n",
      "[CV] NN__hidden_layer_sizes=(20, 10), pca__n_components=2 ............\n",
      "[CV]  NN__hidden_layer_sizes=(20, 10), pca__n_components=2, score=0.6122448979591837, total=   0.0s\n",
      "[CV] NN__hidden_layer_sizes=(20, 10), pca__n_components=2 ............\n",
      "[CV]  NN__hidden_layer_sizes=(20, 10), pca__n_components=2, score=0.6375121477162293, total=   0.2s\n",
      "[CV] NN__hidden_layer_sizes=(20, 10), pca__n_components=2 ............\n",
      "[CV]  NN__hidden_layer_sizes=(20, 10), pca__n_components=2, score=0.6303501945525292, total=   0.1s\n",
      "[CV] NN__hidden_layer_sizes=(20, 10), pca__n_components=5 ............\n",
      "[CV]  NN__hidden_layer_sizes=(20, 10), pca__n_components=5, score=0.5592233009708738, total=   0.0s\n",
      "[CV] NN__hidden_layer_sizes=(20, 10), pca__n_components=5 ............\n",
      "[CV]  NN__hidden_layer_sizes=(20, 10), pca__n_components=5, score=0.5388349514563107, total=   0.0s\n",
      "[CV] NN__hidden_layer_sizes=(20, 10), pca__n_components=5 ............\n",
      "[CV]  NN__hidden_layer_sizes=(20, 10), pca__n_components=5, score=0.6219630709426628, total=   0.0s\n",
      "[CV] NN__hidden_layer_sizes=(20, 10), pca__n_components=5 ............\n",
      "[CV]  NN__hidden_layer_sizes=(20, 10), pca__n_components=5, score=0.5937803692905733, total=   0.0s\n",
      "[CV] NN__hidden_layer_sizes=(20, 10), pca__n_components=5 ............\n",
      "[CV]  NN__hidden_layer_sizes=(20, 10), pca__n_components=5, score=0.6634241245136187, total=   0.1s\n",
      "[CV] NN__hidden_layer_sizes=(20, 10), pca__n_components=10 ...........\n",
      "[CV]  NN__hidden_layer_sizes=(20, 10), pca__n_components=10, score=0.8271844660194175, total=   0.3s\n",
      "[CV] NN__hidden_layer_sizes=(20, 10), pca__n_components=10 ...........\n",
      "[CV]  NN__hidden_layer_sizes=(20, 10), pca__n_components=10, score=0.8640776699029126, total=   0.3s\n",
      "[CV] NN__hidden_layer_sizes=(20, 10), pca__n_components=10 ...........\n",
      "[CV]  NN__hidden_layer_sizes=(20, 10), pca__n_components=10, score=0.7891156462585034, total=   0.2s\n",
      "[CV] NN__hidden_layer_sizes=(20, 10), pca__n_components=10 ...........\n",
      "[CV]  NN__hidden_layer_sizes=(20, 10), pca__n_components=10, score=0.750242954324587, total=   0.3s\n",
      "[CV] NN__hidden_layer_sizes=(20, 10), pca__n_components=10 ...........\n",
      "[CV]  NN__hidden_layer_sizes=(20, 10), pca__n_components=10, score=0.7752918287937743, total=   0.1s\n",
      "[CV] NN__hidden_layer_sizes=(20, 10), pca__n_components=15 ...........\n",
      "[CV]  NN__hidden_layer_sizes=(20, 10), pca__n_components=15, score=0.9009708737864077, total=   0.5s\n",
      "[CV] NN__hidden_layer_sizes=(20, 10), pca__n_components=15 ...........\n",
      "[CV]  NN__hidden_layer_sizes=(20, 10), pca__n_components=15, score=0.9116504854368932, total=   0.5s\n",
      "[CV] NN__hidden_layer_sizes=(20, 10), pca__n_components=15 ...........\n",
      "[CV]  NN__hidden_layer_sizes=(20, 10), pca__n_components=15, score=0.9105928085519922, total=   0.7s\n",
      "[CV] NN__hidden_layer_sizes=(20, 10), pca__n_components=15 ...........\n",
      "[CV]  NN__hidden_layer_sizes=(20, 10), pca__n_components=15, score=0.8668610301263362, total=   0.6s\n",
      "[CV] NN__hidden_layer_sizes=(20, 10), pca__n_components=15 ...........\n",
      "[CV]  NN__hidden_layer_sizes=(20, 10), pca__n_components=15, score=0.8754863813229572, total=   0.5s\n",
      "[CV] NN__hidden_layer_sizes=(20, 10), pca__n_components=20 ...........\n",
      "[CV]  NN__hidden_layer_sizes=(20, 10), pca__n_components=20, score=0.8932038834951457, total=   0.3s\n",
      "[CV] NN__hidden_layer_sizes=(20, 10), pca__n_components=20 ...........\n",
      "[CV]  NN__hidden_layer_sizes=(20, 10), pca__n_components=20, score=0.9262135922330097, total=   0.5s\n",
      "[CV] NN__hidden_layer_sizes=(20, 10), pca__n_components=20 ...........\n",
      "[CV]  NN__hidden_layer_sizes=(20, 10), pca__n_components=20, score=0.9096209912536443, total=   0.4s\n",
      "[CV] NN__hidden_layer_sizes=(20, 10), pca__n_components=20 ...........\n",
      "[CV]  NN__hidden_layer_sizes=(20, 10), pca__n_components=20, score=0.880466472303207, total=   0.4s\n",
      "[CV] NN__hidden_layer_sizes=(20, 10), pca__n_components=20 ...........\n",
      "[CV]  NN__hidden_layer_sizes=(20, 10), pca__n_components=20, score=0.8978599221789884, total=   0.4s\n",
      "[CV] NN__hidden_layer_sizes=(20, 10), pca__n_components=25 ...........\n",
      "[CV]  NN__hidden_layer_sizes=(20, 10), pca__n_components=25, score=0.9242718446601942, total=   0.4s\n",
      "[CV] NN__hidden_layer_sizes=(20, 10), pca__n_components=25 ...........\n",
      "[CV]  NN__hidden_layer_sizes=(20, 10), pca__n_components=25, score=0.9378640776699029, total=   0.4s\n",
      "[CV] NN__hidden_layer_sizes=(20, 10), pca__n_components=25 ...........\n",
      "[CV]  NN__hidden_layer_sizes=(20, 10), pca__n_components=25, score=0.8765792031098154, total=   0.2s\n",
      "[CV] NN__hidden_layer_sizes=(20, 10), pca__n_components=25 ...........\n",
      "[CV]  NN__hidden_layer_sizes=(20, 10), pca__n_components=25, score=0.8931000971817298, total=   0.5s\n",
      "[CV] NN__hidden_layer_sizes=(20, 10), pca__n_components=25 ...........\n",
      "[CV]  NN__hidden_layer_sizes=(20, 10), pca__n_components=25, score=0.9319066147859922, total=   0.5s\n",
      "[CV] NN__hidden_layer_sizes=(20, 10), pca__n_components=30 ...........\n",
      "[CV]  NN__hidden_layer_sizes=(20, 10), pca__n_components=30, score=0.9349514563106797, total=   0.4s\n",
      "[CV] NN__hidden_layer_sizes=(20, 10), pca__n_components=30 ...........\n",
      "[CV]  NN__hidden_layer_sizes=(20, 10), pca__n_components=30, score=0.9427184466019417, total=   0.3s\n",
      "[CV] NN__hidden_layer_sizes=(20, 10), pca__n_components=30 ...........\n",
      "[CV]  NN__hidden_layer_sizes=(20, 10), pca__n_components=30, score=0.9533527696793003, total=   0.5s\n",
      "[CV] NN__hidden_layer_sizes=(20, 10), pca__n_components=30 ...........\n",
      "[CV]  NN__hidden_layer_sizes=(20, 10), pca__n_components=30, score=0.9310009718172984, total=   0.3s\n",
      "[CV] NN__hidden_layer_sizes=(20, 10), pca__n_components=30 ...........\n",
      "[CV]  NN__hidden_layer_sizes=(20, 10), pca__n_components=30, score=0.9309338521400778, total=   0.4s\n",
      "[CV] NN__hidden_layer_sizes=(20, 10), pca__n_components=35 ...........\n",
      "[CV]  NN__hidden_layer_sizes=(20, 10), pca__n_components=35, score=0.9533980582524272, total=   0.5s\n",
      "[CV] NN__hidden_layer_sizes=(20, 10), pca__n_components=35 ...........\n",
      "[CV]  NN__hidden_layer_sizes=(20, 10), pca__n_components=35, score=0.941747572815534, total=   0.3s\n",
      "[CV] NN__hidden_layer_sizes=(20, 10), pca__n_components=35 ...........\n",
      "[CV]  NN__hidden_layer_sizes=(20, 10), pca__n_components=35, score=0.9611273080660836, total=   0.5s\n",
      "[CV] NN__hidden_layer_sizes=(20, 10), pca__n_components=35 ...........\n",
      "[CV]  NN__hidden_layer_sizes=(20, 10), pca__n_components=35, score=0.9591836734693877, total=   0.7s\n",
      "[CV] NN__hidden_layer_sizes=(20, 10), pca__n_components=35 ...........\n",
      "[CV]  NN__hidden_layer_sizes=(20, 10), pca__n_components=35, score=0.9474708171206225, total=   0.4s\n",
      "[CV] NN__hidden_layer_sizes=(5,), pca__n_components=2 ................\n",
      "[CV]  NN__hidden_layer_sizes=(5,), pca__n_components=2, score=0.46990291262135925, total=   0.0s\n",
      "[CV] NN__hidden_layer_sizes=(5,), pca__n_components=2 ................\n"
     ]
    },
    {
     "name": "stdout",
     "output_type": "stream",
     "text": [
      "[CV]  NN__hidden_layer_sizes=(5,), pca__n_components=2, score=0.47184466019417476, total=   0.0s\n",
      "[CV] NN__hidden_layer_sizes=(5,), pca__n_components=2 ................\n",
      "[CV]  NN__hidden_layer_sizes=(5,), pca__n_components=2, score=0.6277939747327502, total=   0.2s\n",
      "[CV] NN__hidden_layer_sizes=(5,), pca__n_components=2 ................\n",
      "[CV]  NN__hidden_layer_sizes=(5,), pca__n_components=2, score=0.45286686103012636, total=   0.0s\n",
      "[CV] NN__hidden_layer_sizes=(5,), pca__n_components=2 ................\n",
      "[CV]  NN__hidden_layer_sizes=(5,), pca__n_components=2, score=0.46206225680933855, total=   0.0s\n",
      "[CV] NN__hidden_layer_sizes=(5,), pca__n_components=5 ................\n",
      "[CV]  NN__hidden_layer_sizes=(5,), pca__n_components=5, score=0.5621359223300971, total=   0.1s\n",
      "[CV] NN__hidden_layer_sizes=(5,), pca__n_components=5 ................\n",
      "[CV]  NN__hidden_layer_sizes=(5,), pca__n_components=5, score=0.6456310679611651, total=   0.5s\n",
      "[CV] NN__hidden_layer_sizes=(5,), pca__n_components=5 ................\n",
      "[CV]  NN__hidden_layer_sizes=(5,), pca__n_components=5, score=0.6822157434402333, total=   0.4s\n",
      "[CV] NN__hidden_layer_sizes=(5,), pca__n_components=5 ................\n",
      "[CV]  NN__hidden_layer_sizes=(5,), pca__n_components=5, score=0.6501457725947521, total=   0.4s\n",
      "[CV] NN__hidden_layer_sizes=(5,), pca__n_components=5 ................\n",
      "[CV]  NN__hidden_layer_sizes=(5,), pca__n_components=5, score=0.6342412451361867, total=   0.3s\n",
      "[CV] NN__hidden_layer_sizes=(5,), pca__n_components=10 ...............\n",
      "[CV]  NN__hidden_layer_sizes=(5,), pca__n_components=10, score=0.7980582524271844, total=   0.3s\n",
      "[CV] NN__hidden_layer_sizes=(5,), pca__n_components=10 ...............\n",
      "[CV]  NN__hidden_layer_sizes=(5,), pca__n_components=10, score=0.6281553398058253, total=   0.0s\n",
      "[CV] NN__hidden_layer_sizes=(5,), pca__n_components=10 ...............\n",
      "[CV]  NN__hidden_layer_sizes=(5,), pca__n_components=10, score=0.5675413022351797, total=   0.0s\n",
      "[CV] NN__hidden_layer_sizes=(5,), pca__n_components=10 ...............\n",
      "[CV]  NN__hidden_layer_sizes=(5,), pca__n_components=10, score=0.7191448007774538, total=   0.4s\n",
      "[CV] NN__hidden_layer_sizes=(5,), pca__n_components=10 ...............\n",
      "[CV]  NN__hidden_layer_sizes=(5,), pca__n_components=10, score=0.580739299610895, total=   0.0s\n",
      "[CV] NN__hidden_layer_sizes=(5,), pca__n_components=15 ...............\n",
      "[CV]  NN__hidden_layer_sizes=(5,), pca__n_components=15, score=0.470873786407767, total=   0.0s\n",
      "[CV] NN__hidden_layer_sizes=(5,), pca__n_components=15 ...............\n",
      "[CV]  NN__hidden_layer_sizes=(5,), pca__n_components=15, score=0.9087378640776699, total=   0.4s\n",
      "[CV] NN__hidden_layer_sizes=(5,), pca__n_components=15 ...............\n",
      "[CV]  NN__hidden_layer_sizes=(5,), pca__n_components=15, score=0.8824101068999028, total=   0.6s\n",
      "[CV] NN__hidden_layer_sizes=(5,), pca__n_components=15 ...............\n",
      "[CV]  NN__hidden_layer_sizes=(5,), pca__n_components=15, score=0.4421768707482993, total=   0.0s\n",
      "[CV] NN__hidden_layer_sizes=(5,), pca__n_components=15 ...............\n",
      "[CV]  NN__hidden_layer_sizes=(5,), pca__n_components=15, score=0.8258754863813229, total=   0.4s\n",
      "[CV] NN__hidden_layer_sizes=(5,), pca__n_components=20 ...............\n",
      "[CV]  NN__hidden_layer_sizes=(5,), pca__n_components=20, score=0.903883495145631, total=   0.3s\n",
      "[CV] NN__hidden_layer_sizes=(5,), pca__n_components=20 ...............\n",
      "[CV]  NN__hidden_layer_sizes=(5,), pca__n_components=20, score=0.9135922330097087, total=   0.4s\n",
      "[CV] NN__hidden_layer_sizes=(5,), pca__n_components=20 ...............\n",
      "[CV]  NN__hidden_layer_sizes=(5,), pca__n_components=20, score=0.8979591836734694, total=   0.3s\n",
      "[CV] NN__hidden_layer_sizes=(5,), pca__n_components=20 ...............\n",
      "[CV]  NN__hidden_layer_sizes=(5,), pca__n_components=20, score=0.8765792031098154, total=   0.3s\n",
      "[CV] NN__hidden_layer_sizes=(5,), pca__n_components=20 ...............\n",
      "[CV]  NN__hidden_layer_sizes=(5,), pca__n_components=20, score=0.8861867704280155, total=   0.3s\n",
      "[CV] NN__hidden_layer_sizes=(5,), pca__n_components=25 ...............\n",
      "[CV]  NN__hidden_layer_sizes=(5,), pca__n_components=25, score=0.8941747572815534, total=   0.4s\n",
      "[CV] NN__hidden_layer_sizes=(5,), pca__n_components=25 ...............\n",
      "[CV]  NN__hidden_layer_sizes=(5,), pca__n_components=25, score=0.9097087378640777, total=   0.4s\n",
      "[CV] NN__hidden_layer_sizes=(5,), pca__n_components=25 ...............\n",
      "[CV]  NN__hidden_layer_sizes=(5,), pca__n_components=25, score=0.8872691933916423, total=   0.3s\n",
      "[CV] NN__hidden_layer_sizes=(5,), pca__n_components=25 ...............\n",
      "[CV]  NN__hidden_layer_sizes=(5,), pca__n_components=25, score=0.859086491739553, total=   0.3s\n",
      "[CV] NN__hidden_layer_sizes=(5,), pca__n_components=25 ...............\n",
      "[CV]  NN__hidden_layer_sizes=(5,), pca__n_components=25, score=0.8959143968871596, total=   0.5s\n",
      "[CV] NN__hidden_layer_sizes=(5,), pca__n_components=30 ...............\n",
      "[CV]  NN__hidden_layer_sizes=(5,), pca__n_components=30, score=0.9368932038834952, total=   0.4s\n",
      "[CV] NN__hidden_layer_sizes=(5,), pca__n_components=30 ...............\n",
      "[CV]  NN__hidden_layer_sizes=(5,), pca__n_components=30, score=0.9242718446601942, total=   0.3s\n",
      "[CV] NN__hidden_layer_sizes=(5,), pca__n_components=30 ...............\n",
      "[CV]  NN__hidden_layer_sizes=(5,), pca__n_components=30, score=0.8979591836734694, total=   0.3s\n",
      "[CV] NN__hidden_layer_sizes=(5,), pca__n_components=30 ...............\n",
      "[CV]  NN__hidden_layer_sizes=(5,), pca__n_components=30, score=0.9125364431486881, total=   0.4s\n",
      "[CV] NN__hidden_layer_sizes=(5,), pca__n_components=30 ...............\n",
      "[CV]  NN__hidden_layer_sizes=(5,), pca__n_components=30, score=0.9182879377431906, total=   0.4s\n",
      "[CV] NN__hidden_layer_sizes=(5,), pca__n_components=35 ...............\n",
      "[CV]  NN__hidden_layer_sizes=(5,), pca__n_components=35, score=0.8145631067961165, total=   0.3s\n",
      "[CV] NN__hidden_layer_sizes=(5,), pca__n_components=35 ...............\n",
      "[CV]  NN__hidden_layer_sizes=(5,), pca__n_components=35, score=0.962135922330097, total=   0.5s\n",
      "[CV] NN__hidden_layer_sizes=(5,), pca__n_components=35 ...............\n",
      "[CV]  NN__hidden_layer_sizes=(5,), pca__n_components=35, score=0.9552964042759962, total=   0.7s\n",
      "[CV] NN__hidden_layer_sizes=(5,), pca__n_components=35 ...............\n",
      "[CV]  NN__hidden_layer_sizes=(5,), pca__n_components=35, score=0.8221574344023324, total=   0.3s\n",
      "[CV] NN__hidden_layer_sizes=(5,), pca__n_components=35 ...............\n",
      "[CV]  NN__hidden_layer_sizes=(5,), pca__n_components=35, score=0.9231517509727627, total=   0.5s\n",
      "[CV] NN__hidden_layer_sizes=(10,), pca__n_components=2 ...............\n",
      "[CV]  NN__hidden_layer_sizes=(10,), pca__n_components=2, score=0.5368932038834952, total=   0.1s\n",
      "[CV] NN__hidden_layer_sizes=(10,), pca__n_components=2 ...............\n",
      "[CV]  NN__hidden_layer_sizes=(10,), pca__n_components=2, score=0.5592233009708738, total=   0.1s\n",
      "[CV] NN__hidden_layer_sizes=(10,), pca__n_components=2 ...............\n",
      "[CV]  NN__hidden_layer_sizes=(10,), pca__n_components=2, score=0.49854227405247814, total=   0.0s\n",
      "[CV] NN__hidden_layer_sizes=(10,), pca__n_components=2 ...............\n",
      "[CV]  NN__hidden_layer_sizes=(10,), pca__n_components=2, score=0.4839650145772595, total=   0.0s\n",
      "[CV] NN__hidden_layer_sizes=(10,), pca__n_components=2 ...............\n",
      "[CV]  NN__hidden_layer_sizes=(10,), pca__n_components=2, score=0.556420233463035, total=   0.1s\n",
      "[CV] NN__hidden_layer_sizes=(10,), pca__n_components=5 ...............\n",
      "[CV]  NN__hidden_layer_sizes=(10,), pca__n_components=5, score=0.583495145631068, total=   0.0s\n",
      "[CV] NN__hidden_layer_sizes=(10,), pca__n_components=5 ...............\n",
      "[CV]  NN__hidden_layer_sizes=(10,), pca__n_components=5, score=0.6184466019417476, total=   0.1s\n",
      "[CV] NN__hidden_layer_sizes=(10,), pca__n_components=5 ...............\n",
      "[CV]  NN__hidden_layer_sizes=(10,), pca__n_components=5, score=0.652089407191448, total=   0.1s\n",
      "[CV] NN__hidden_layer_sizes=(10,), pca__n_components=5 ...............\n",
      "[CV]  NN__hidden_layer_sizes=(10,), pca__n_components=5, score=0.6054421768707483, total=   0.0s\n",
      "[CV] NN__hidden_layer_sizes=(10,), pca__n_components=5 ...............\n",
      "[CV]  NN__hidden_layer_sizes=(10,), pca__n_components=5, score=0.6293774319066148, total=   0.0s\n",
      "[CV] NN__hidden_layer_sizes=(10,), pca__n_components=10 ..............\n"
     ]
    },
    {
     "name": "stdout",
     "output_type": "stream",
     "text": [
      "[CV]  NN__hidden_layer_sizes=(10,), pca__n_components=10, score=0.8155339805825242, total=   0.3s\n",
      "[CV] NN__hidden_layer_sizes=(10,), pca__n_components=10 ..............\n",
      "[CV]  NN__hidden_layer_sizes=(10,), pca__n_components=10, score=0.6466019417475728, total=   0.0s\n",
      "[CV] NN__hidden_layer_sizes=(10,), pca__n_components=10 ..............\n",
      "[CV]  NN__hidden_layer_sizes=(10,), pca__n_components=10, score=0.7793974732750243, total=   0.2s\n",
      "[CV] NN__hidden_layer_sizes=(10,), pca__n_components=10 ..............\n",
      "[CV]  NN__hidden_layer_sizes=(10,), pca__n_components=10, score=0.630709426627794, total=   0.0s\n",
      "[CV] NN__hidden_layer_sizes=(10,), pca__n_components=10 ..............\n",
      "[CV]  NN__hidden_layer_sizes=(10,), pca__n_components=10, score=0.769455252918288, total=   0.2s\n",
      "[CV] NN__hidden_layer_sizes=(10,), pca__n_components=15 ..............\n",
      "[CV]  NN__hidden_layer_sizes=(10,), pca__n_components=15, score=0.8815533980582524, total=   0.2s\n",
      "[CV] NN__hidden_layer_sizes=(10,), pca__n_components=15 ..............\n",
      "[CV]  NN__hidden_layer_sizes=(10,), pca__n_components=15, score=0.8854368932038835, total=   0.2s\n",
      "[CV] NN__hidden_layer_sizes=(10,), pca__n_components=15 ..............\n",
      "[CV]  NN__hidden_layer_sizes=(10,), pca__n_components=15, score=0.5840621963070942, total=   0.0s\n",
      "[CV] NN__hidden_layer_sizes=(10,), pca__n_components=15 ..............\n",
      "[CV]  NN__hidden_layer_sizes=(10,), pca__n_components=15, score=0.8794946550048591, total=   0.4s\n",
      "[CV] NN__hidden_layer_sizes=(10,), pca__n_components=15 ..............\n",
      "[CV]  NN__hidden_layer_sizes=(10,), pca__n_components=15, score=0.8618677042801557, total=   0.3s\n",
      "[CV] NN__hidden_layer_sizes=(10,), pca__n_components=20 ..............\n",
      "[CV]  NN__hidden_layer_sizes=(10,), pca__n_components=20, score=0.9087378640776699, total=   0.4s\n",
      "[CV] NN__hidden_layer_sizes=(10,), pca__n_components=20 ..............\n",
      "[CV]  NN__hidden_layer_sizes=(10,), pca__n_components=20, score=0.9194174757281554, total=   0.5s\n",
      "[CV] NN__hidden_layer_sizes=(10,), pca__n_components=20 ..............\n",
      "[CV]  NN__hidden_layer_sizes=(10,), pca__n_components=20, score=0.8493683187560739, total=   0.2s\n",
      "[CV] NN__hidden_layer_sizes=(10,), pca__n_components=20 ..............\n",
      "[CV]  NN__hidden_layer_sizes=(10,), pca__n_components=20, score=0.8367346938775511, total=   0.2s\n",
      "[CV] NN__hidden_layer_sizes=(10,), pca__n_components=20 ..............\n",
      "[CV]  NN__hidden_layer_sizes=(10,), pca__n_components=20, score=0.896887159533074, total=   0.4s\n",
      "[CV] NN__hidden_layer_sizes=(10,), pca__n_components=25 ..............\n",
      "[CV]  NN__hidden_layer_sizes=(10,), pca__n_components=25, score=0.9116504854368932, total=   0.4s\n",
      "[CV] NN__hidden_layer_sizes=(10,), pca__n_components=25 ..............\n",
      "[CV]  NN__hidden_layer_sizes=(10,), pca__n_components=25, score=0.925242718446602, total=   0.4s\n",
      "[CV] NN__hidden_layer_sizes=(10,), pca__n_components=25 ..............\n",
      "[CV]  NN__hidden_layer_sizes=(10,), pca__n_components=25, score=0.54421768707483, total=   0.0s\n",
      "[CV] NN__hidden_layer_sizes=(10,), pca__n_components=25 ..............\n",
      "[CV]  NN__hidden_layer_sizes=(10,), pca__n_components=25, score=0.9251700680272109, total=   0.6s\n",
      "[CV] NN__hidden_layer_sizes=(10,), pca__n_components=25 ..............\n",
      "[CV]  NN__hidden_layer_sizes=(10,), pca__n_components=25, score=0.5768482490272373, total=   0.0s\n",
      "[CV] NN__hidden_layer_sizes=(10,), pca__n_components=30 ..............\n",
      "[CV]  NN__hidden_layer_sizes=(10,), pca__n_components=30, score=0.912621359223301, total=   0.4s\n",
      "[CV] NN__hidden_layer_sizes=(10,), pca__n_components=30 ..............\n",
      "[CV]  NN__hidden_layer_sizes=(10,), pca__n_components=30, score=0.9359223300970874, total=   0.3s\n",
      "[CV] NN__hidden_layer_sizes=(10,), pca__n_components=30 ..............\n",
      "[CV]  NN__hidden_layer_sizes=(10,), pca__n_components=30, score=0.4839650145772595, total=   0.0s\n",
      "[CV] NN__hidden_layer_sizes=(10,), pca__n_components=30 ..............\n",
      "[CV]  NN__hidden_layer_sizes=(10,), pca__n_components=30, score=0.9076773566569485, total=   0.3s\n",
      "[CV] NN__hidden_layer_sizes=(10,), pca__n_components=30 ..............\n",
      "[CV]  NN__hidden_layer_sizes=(10,), pca__n_components=30, score=0.9085603112840467, total=   0.3s\n",
      "[CV] NN__hidden_layer_sizes=(10,), pca__n_components=35 ..............\n",
      "[CV]  NN__hidden_layer_sizes=(10,), pca__n_components=35, score=0.920388349514563, total=   0.4s\n",
      "[CV] NN__hidden_layer_sizes=(10,), pca__n_components=35 ..............\n",
      "[CV]  NN__hidden_layer_sizes=(10,), pca__n_components=35, score=0.9058252427184466, total=   0.2s\n",
      "[CV] NN__hidden_layer_sizes=(10,), pca__n_components=35 ..............\n",
      "[CV]  NN__hidden_layer_sizes=(10,), pca__n_components=35, score=0.9358600583090378, total=   0.4s\n",
      "[CV] NN__hidden_layer_sizes=(10,), pca__n_components=35 ..............\n",
      "[CV]  NN__hidden_layer_sizes=(10,), pca__n_components=35, score=0.9203109815354713, total=   0.3s\n",
      "[CV] NN__hidden_layer_sizes=(10,), pca__n_components=35 ..............\n",
      "[CV]  NN__hidden_layer_sizes=(10,), pca__n_components=35, score=0.9319066147859922, total=   0.4s\n",
      "[CV] NN__hidden_layer_sizes=(20,), pca__n_components=2 ...............\n",
      "[CV]  NN__hidden_layer_sizes=(20,), pca__n_components=2, score=0.596116504854369, total=   0.0s\n",
      "[CV] NN__hidden_layer_sizes=(20,), pca__n_components=2 ...............\n",
      "[CV]  NN__hidden_layer_sizes=(20,), pca__n_components=2, score=0.5932038834951456, total=   0.0s\n",
      "[CV] NN__hidden_layer_sizes=(20,), pca__n_components=2 ...............\n",
      "[CV]  NN__hidden_layer_sizes=(20,), pca__n_components=2, score=0.5957240038872692, total=   0.0s\n",
      "[CV] NN__hidden_layer_sizes=(20,), pca__n_components=2 ...............\n",
      "[CV]  NN__hidden_layer_sizes=(20,), pca__n_components=2, score=0.5928085519922255, total=   0.0s\n",
      "[CV] NN__hidden_layer_sizes=(20,), pca__n_components=2 ...............\n",
      "[CV]  NN__hidden_layer_sizes=(20,), pca__n_components=2, score=0.5739299610894941, total=   0.0s\n",
      "[CV] NN__hidden_layer_sizes=(20,), pca__n_components=5 ...............\n",
      "[CV]  NN__hidden_layer_sizes=(20,), pca__n_components=5, score=0.641747572815534, total=   0.1s\n",
      "[CV] NN__hidden_layer_sizes=(20,), pca__n_components=5 ...............\n",
      "[CV]  NN__hidden_layer_sizes=(20,), pca__n_components=5, score=0.6320388349514563, total=   0.1s\n",
      "[CV] NN__hidden_layer_sizes=(20,), pca__n_components=5 ...............\n",
      "[CV]  NN__hidden_layer_sizes=(20,), pca__n_components=5, score=0.6365403304178814, total=   0.1s\n",
      "[CV] NN__hidden_layer_sizes=(20,), pca__n_components=5 ...............\n",
      "[CV]  NN__hidden_layer_sizes=(20,), pca__n_components=5, score=0.6248785228377065, total=   0.1s\n",
      "[CV] NN__hidden_layer_sizes=(20,), pca__n_components=5 ...............\n",
      "[CV]  NN__hidden_layer_sizes=(20,), pca__n_components=5, score=0.6264591439688716, total=   0.1s\n",
      "[CV] NN__hidden_layer_sizes=(20,), pca__n_components=10 ..............\n",
      "[CV]  NN__hidden_layer_sizes=(20,), pca__n_components=10, score=0.8106796116504854, total=   0.2s\n",
      "[CV] NN__hidden_layer_sizes=(20,), pca__n_components=10 ..............\n",
      "[CV]  NN__hidden_layer_sizes=(20,), pca__n_components=10, score=0.8650485436893204, total=   0.2s\n",
      "[CV] NN__hidden_layer_sizes=(20,), pca__n_components=10 ..............\n",
      "[CV]  NN__hidden_layer_sizes=(20,), pca__n_components=10, score=0.814382896015549, total=   0.3s\n",
      "[CV] NN__hidden_layer_sizes=(20,), pca__n_components=10 ..............\n",
      "[CV]  NN__hidden_layer_sizes=(20,), pca__n_components=10, score=0.7842565597667639, total=   0.4s\n",
      "[CV] NN__hidden_layer_sizes=(20,), pca__n_components=10 ..............\n",
      "[CV]  NN__hidden_layer_sizes=(20,), pca__n_components=10, score=0.7928015564202334, total=   0.2s\n",
      "[CV] NN__hidden_layer_sizes=(20,), pca__n_components=15 ..............\n",
      "[CV]  NN__hidden_layer_sizes=(20,), pca__n_components=15, score=0.8980582524271845, total=   0.3s\n",
      "[CV] NN__hidden_layer_sizes=(20,), pca__n_components=15 ..............\n",
      "[CV]  NN__hidden_layer_sizes=(20,), pca__n_components=15, score=0.9300970873786408, total=   0.2s\n",
      "[CV] NN__hidden_layer_sizes=(20,), pca__n_components=15 ..............\n",
      "[CV]  NN__hidden_layer_sizes=(20,), pca__n_components=15, score=0.9086491739552964, total=   0.3s\n",
      "[CV] NN__hidden_layer_sizes=(20,), pca__n_components=15 ..............\n",
      "[CV]  NN__hidden_layer_sizes=(20,), pca__n_components=15, score=0.859086491739553, total=   0.1s\n",
      "[CV] NN__hidden_layer_sizes=(20,), pca__n_components=15 ..............\n"
     ]
    },
    {
     "name": "stdout",
     "output_type": "stream",
     "text": [
      "[CV]  NN__hidden_layer_sizes=(20,), pca__n_components=15, score=0.8735408560311284, total=   0.2s\n",
      "[CV] NN__hidden_layer_sizes=(20,), pca__n_components=20 ..............\n",
      "[CV]  NN__hidden_layer_sizes=(20,), pca__n_components=20, score=0.8660194174757282, total=   0.1s\n",
      "[CV] NN__hidden_layer_sizes=(20,), pca__n_components=20 ..............\n",
      "[CV]  NN__hidden_layer_sizes=(20,), pca__n_components=20, score=0.920388349514563, total=   0.3s\n",
      "[CV] NN__hidden_layer_sizes=(20,), pca__n_components=20 ..............\n",
      "[CV]  NN__hidden_layer_sizes=(20,), pca__n_components=20, score=0.9067055393586005, total=   0.3s\n",
      "[CV] NN__hidden_layer_sizes=(20,), pca__n_components=20 ..............\n",
      "[CV]  NN__hidden_layer_sizes=(20,), pca__n_components=20, score=0.8843537414965986, total=   0.3s\n",
      "[CV] NN__hidden_layer_sizes=(20,), pca__n_components=20 ..............\n",
      "[CV]  NN__hidden_layer_sizes=(20,), pca__n_components=20, score=0.8929961089494164, total=   0.3s\n",
      "[CV] NN__hidden_layer_sizes=(20,), pca__n_components=25 ..............\n",
      "[CV]  NN__hidden_layer_sizes=(20,), pca__n_components=25, score=0.9359223300970874, total=   0.4s\n",
      "[CV] NN__hidden_layer_sizes=(20,), pca__n_components=25 ..............\n",
      "[CV]  NN__hidden_layer_sizes=(20,), pca__n_components=25, score=0.9368932038834952, total=   0.3s\n",
      "[CV] NN__hidden_layer_sizes=(20,), pca__n_components=25 ..............\n",
      "[CV]  NN__hidden_layer_sizes=(20,), pca__n_components=25, score=0.9115646258503401, total=   0.3s\n",
      "[CV] NN__hidden_layer_sizes=(20,), pca__n_components=25 ..............\n",
      "[CV]  NN__hidden_layer_sizes=(20,), pca__n_components=25, score=0.8960155490767736, total=   0.3s\n",
      "[CV] NN__hidden_layer_sizes=(20,), pca__n_components=25 ..............\n",
      "[CV]  NN__hidden_layer_sizes=(20,), pca__n_components=25, score=0.9202334630350194, total=   0.4s\n",
      "[CV] NN__hidden_layer_sizes=(20,), pca__n_components=30 ..............\n",
      "[CV]  NN__hidden_layer_sizes=(20,), pca__n_components=30, score=0.9398058252427185, total=   0.4s\n",
      "[CV] NN__hidden_layer_sizes=(20,), pca__n_components=30 ..............\n",
      "[CV]  NN__hidden_layer_sizes=(20,), pca__n_components=30, score=0.9058252427184466, total=   0.2s\n",
      "[CV] NN__hidden_layer_sizes=(20,), pca__n_components=30 ..............\n",
      "[CV]  NN__hidden_layer_sizes=(20,), pca__n_components=30, score=0.9290573372206026, total=   0.4s\n",
      "[CV] NN__hidden_layer_sizes=(20,), pca__n_components=30 ..............\n",
      "[CV]  NN__hidden_layer_sizes=(20,), pca__n_components=30, score=0.8960155490767736, total=   0.2s\n",
      "[CV] NN__hidden_layer_sizes=(20,), pca__n_components=30 ..............\n",
      "[CV]  NN__hidden_layer_sizes=(20,), pca__n_components=30, score=0.9231517509727627, total=   0.3s\n",
      "[CV] NN__hidden_layer_sizes=(20,), pca__n_components=35 ..............\n",
      "[CV]  NN__hidden_layer_sizes=(20,), pca__n_components=35, score=0.9427184466019417, total=   0.3s\n",
      "[CV] NN__hidden_layer_sizes=(20,), pca__n_components=35 ..............\n",
      "[CV]  NN__hidden_layer_sizes=(20,), pca__n_components=35, score=0.9524271844660194, total=   0.3s\n",
      "[CV] NN__hidden_layer_sizes=(20,), pca__n_components=35 ..............\n",
      "[CV]  NN__hidden_layer_sizes=(20,), pca__n_components=35, score=0.902818270165209, total=   0.1s\n",
      "[CV] NN__hidden_layer_sizes=(20,), pca__n_components=35 ..............\n",
      "[CV]  NN__hidden_layer_sizes=(20,), pca__n_components=35, score=0.9164237123420796, total=   0.3s\n",
      "[CV] NN__hidden_layer_sizes=(20,), pca__n_components=35 ..............\n",
      "[CV]  NN__hidden_layer_sizes=(20,), pca__n_components=35, score=0.9241245136186771, total=   0.3s\n",
      "[CV] NN__hidden_layer_sizes=(30,), pca__n_components=2 ...............\n",
      "[CV]  NN__hidden_layer_sizes=(30,), pca__n_components=2, score=0.5689320388349515, total=   0.0s\n",
      "[CV] NN__hidden_layer_sizes=(30,), pca__n_components=2 ...............\n",
      "[CV]  NN__hidden_layer_sizes=(30,), pca__n_components=2, score=0.579611650485437, total=   0.0s\n",
      "[CV] NN__hidden_layer_sizes=(30,), pca__n_components=2 ...............\n",
      "[CV]  NN__hidden_layer_sizes=(30,), pca__n_components=2, score=0.5801749271137027, total=   0.0s\n",
      "[CV] NN__hidden_layer_sizes=(30,), pca__n_components=2 ...............\n",
      "[CV]  NN__hidden_layer_sizes=(30,), pca__n_components=2, score=0.5947521865889213, total=   0.0s\n",
      "[CV] NN__hidden_layer_sizes=(30,), pca__n_components=2 ...............\n",
      "[CV]  NN__hidden_layer_sizes=(30,), pca__n_components=2, score=0.5914396887159533, total=   0.1s\n",
      "[CV] NN__hidden_layer_sizes=(30,), pca__n_components=5 ...............\n",
      "[CV]  NN__hidden_layer_sizes=(30,), pca__n_components=5, score=0.6242718446601941, total=   0.0s\n",
      "[CV] NN__hidden_layer_sizes=(30,), pca__n_components=5 ...............\n",
      "[CV]  NN__hidden_layer_sizes=(30,), pca__n_components=5, score=0.6368932038834951, total=   0.1s\n",
      "[CV] NN__hidden_layer_sizes=(30,), pca__n_components=5 ...............\n",
      "[CV]  NN__hidden_layer_sizes=(30,), pca__n_components=5, score=0.6345966958211856, total=   0.1s\n",
      "[CV] NN__hidden_layer_sizes=(30,), pca__n_components=5 ...............\n",
      "[CV]  NN__hidden_layer_sizes=(30,), pca__n_components=5, score=0.67444120505345, total=   0.2s\n",
      "[CV] NN__hidden_layer_sizes=(30,), pca__n_components=5 ...............\n",
      "[CV]  NN__hidden_layer_sizes=(30,), pca__n_components=5, score=0.6663424124513618, total=   0.3s\n",
      "[CV] NN__hidden_layer_sizes=(30,), pca__n_components=10 ..............\n",
      "[CV]  NN__hidden_layer_sizes=(30,), pca__n_components=10, score=0.8155339805825242, total=   0.2s\n",
      "[CV] NN__hidden_layer_sizes=(30,), pca__n_components=10 ..............\n",
      "[CV]  NN__hidden_layer_sizes=(30,), pca__n_components=10, score=0.8640776699029126, total=   0.1s\n",
      "[CV] NN__hidden_layer_sizes=(30,), pca__n_components=10 ..............\n",
      "[CV]  NN__hidden_layer_sizes=(30,), pca__n_components=10, score=0.8172983479105929, total=   0.2s\n",
      "[CV] NN__hidden_layer_sizes=(30,), pca__n_components=10 ..............\n",
      "[CV]  NN__hidden_layer_sizes=(30,), pca__n_components=10, score=0.7910592808551993, total=   0.3s\n",
      "[CV] NN__hidden_layer_sizes=(30,), pca__n_components=10 ..............\n",
      "[CV]  NN__hidden_layer_sizes=(30,), pca__n_components=10, score=0.8054474708171206, total=   0.2s\n",
      "[CV] NN__hidden_layer_sizes=(30,), pca__n_components=15 ..............\n",
      "[CV]  NN__hidden_layer_sizes=(30,), pca__n_components=15, score=0.8883495145631068, total=   0.2s\n",
      "[CV] NN__hidden_layer_sizes=(30,), pca__n_components=15 ..............\n",
      "[CV]  NN__hidden_layer_sizes=(30,), pca__n_components=15, score=0.9233009708737864, total=   0.2s\n",
      "[CV] NN__hidden_layer_sizes=(30,), pca__n_components=15 ..............\n",
      "[CV]  NN__hidden_layer_sizes=(30,), pca__n_components=15, score=0.8814382896015549, total=   0.2s\n",
      "[CV] NN__hidden_layer_sizes=(30,), pca__n_components=15 ..............\n",
      "[CV]  NN__hidden_layer_sizes=(30,), pca__n_components=15, score=0.8892128279883382, total=   0.2s\n",
      "[CV] NN__hidden_layer_sizes=(30,), pca__n_components=15 ..............\n",
      "[CV]  NN__hidden_layer_sizes=(30,), pca__n_components=15, score=0.8861867704280155, total=   0.3s\n",
      "[CV] NN__hidden_layer_sizes=(30,), pca__n_components=20 ..............\n",
      "[CV]  NN__hidden_layer_sizes=(30,), pca__n_components=20, score=0.9155339805825242, total=   0.4s\n",
      "[CV] NN__hidden_layer_sizes=(30,), pca__n_components=20 ..............\n",
      "[CV]  NN__hidden_layer_sizes=(30,), pca__n_components=20, score=0.9194174757281554, total=   0.4s\n",
      "[CV] NN__hidden_layer_sizes=(30,), pca__n_components=20 ..............\n",
      "[CV]  NN__hidden_layer_sizes=(30,), pca__n_components=20, score=0.9067055393586005, total=   0.2s\n",
      "[CV] NN__hidden_layer_sizes=(30,), pca__n_components=20 ..............\n",
      "[CV]  NN__hidden_layer_sizes=(30,), pca__n_components=20, score=0.8931000971817298, total=   0.3s\n",
      "[CV] NN__hidden_layer_sizes=(30,), pca__n_components=20 ..............\n",
      "[CV]  NN__hidden_layer_sizes=(30,), pca__n_components=20, score=0.882295719844358, total=   0.3s\n",
      "[CV] NN__hidden_layer_sizes=(30,), pca__n_components=25 ..............\n",
      "[CV]  NN__hidden_layer_sizes=(30,), pca__n_components=25, score=0.933009708737864, total=   0.4s\n",
      "[CV] NN__hidden_layer_sizes=(30,), pca__n_components=25 ..............\n",
      "[CV]  NN__hidden_layer_sizes=(30,), pca__n_components=25, score=0.9359223300970874, total=   0.6s\n",
      "[CV] NN__hidden_layer_sizes=(30,), pca__n_components=25 ..............\n",
      "[CV]  NN__hidden_layer_sizes=(30,), pca__n_components=25, score=0.9436345966958212, total=   0.4s\n",
      "[CV] NN__hidden_layer_sizes=(30,), pca__n_components=25 ..............\n"
     ]
    },
    {
     "name": "stdout",
     "output_type": "stream",
     "text": [
      "[CV]  NN__hidden_layer_sizes=(30,), pca__n_components=25, score=0.9144800777453839, total=   0.3s\n",
      "[CV] NN__hidden_layer_sizes=(30,), pca__n_components=25 ..............\n",
      "[CV]  NN__hidden_layer_sizes=(30,), pca__n_components=25, score=0.8881322957198443, total=   0.2s\n",
      "[CV] NN__hidden_layer_sizes=(30,), pca__n_components=30 ..............\n",
      "[CV]  NN__hidden_layer_sizes=(30,), pca__n_components=30, score=0.9194174757281554, total=   0.2s\n",
      "[CV] NN__hidden_layer_sizes=(30,), pca__n_components=30 ..............\n",
      "[CV]  NN__hidden_layer_sizes=(30,), pca__n_components=30, score=0.9436893203883495, total=   0.2s\n",
      "[CV] NN__hidden_layer_sizes=(30,), pca__n_components=30 ..............\n",
      "[CV]  NN__hidden_layer_sizes=(30,), pca__n_components=30, score=0.9465500485908649, total=   0.4s\n",
      "[CV] NN__hidden_layer_sizes=(30,), pca__n_components=30 ..............\n",
      "[CV]  NN__hidden_layer_sizes=(30,), pca__n_components=30, score=0.9271137026239067, total=   0.3s\n",
      "[CV] NN__hidden_layer_sizes=(30,), pca__n_components=30 ..............\n",
      "[CV]  NN__hidden_layer_sizes=(30,), pca__n_components=30, score=0.933852140077821, total=   0.3s\n",
      "[CV] NN__hidden_layer_sizes=(30,), pca__n_components=35 ..............\n",
      "[CV]  NN__hidden_layer_sizes=(30,), pca__n_components=35, score=0.954368932038835, total=   0.2s\n",
      "[CV] NN__hidden_layer_sizes=(30,), pca__n_components=35 ..............\n",
      "[CV]  NN__hidden_layer_sizes=(30,), pca__n_components=35, score=0.970873786407767, total=   0.7s\n",
      "[CV] NN__hidden_layer_sizes=(30,), pca__n_components=35 ..............\n",
      "[CV]  NN__hidden_layer_sizes=(30,), pca__n_components=35, score=0.9416909620991254, total=   0.2s\n",
      "[CV] NN__hidden_layer_sizes=(30,), pca__n_components=35 ..............\n",
      "[CV]  NN__hidden_layer_sizes=(30,), pca__n_components=35, score=0.9319727891156463, total=   0.2s\n",
      "[CV] NN__hidden_layer_sizes=(30,), pca__n_components=35 ..............\n",
      "[CV]  NN__hidden_layer_sizes=(30,), pca__n_components=35, score=0.9260700389105059, total=   0.2s\n",
      "[CV] NN__hidden_layer_sizes=(30, 10), pca__n_components=2 ............\n",
      "[CV]  NN__hidden_layer_sizes=(30, 10), pca__n_components=2, score=0.6048543689320388, total=   0.1s\n",
      "[CV] NN__hidden_layer_sizes=(30, 10), pca__n_components=2 ............\n",
      "[CV]  NN__hidden_layer_sizes=(30, 10), pca__n_components=2, score=0.6446601941747573, total=   0.2s\n",
      "[CV] NN__hidden_layer_sizes=(30, 10), pca__n_components=2 ............\n",
      "[CV]  NN__hidden_layer_sizes=(30, 10), pca__n_components=2, score=0.6345966958211856, total=   0.1s\n",
      "[CV] NN__hidden_layer_sizes=(30, 10), pca__n_components=2 ............\n",
      "[CV]  NN__hidden_layer_sizes=(30, 10), pca__n_components=2, score=0.5986394557823129, total=   0.0s\n",
      "[CV] NN__hidden_layer_sizes=(30, 10), pca__n_components=2 ............\n",
      "[CV]  NN__hidden_layer_sizes=(30, 10), pca__n_components=2, score=0.6342412451361867, total=   0.1s\n",
      "[CV] NN__hidden_layer_sizes=(30, 10), pca__n_components=5 ............\n",
      "[CV]  NN__hidden_layer_sizes=(30, 10), pca__n_components=5, score=0.6728155339805825, total=   0.2s\n",
      "[CV] NN__hidden_layer_sizes=(30, 10), pca__n_components=5 ............\n",
      "[CV]  NN__hidden_layer_sizes=(30, 10), pca__n_components=5, score=0.6689320388349514, total=   0.1s\n",
      "[CV] NN__hidden_layer_sizes=(30, 10), pca__n_components=5 ............\n",
      "[CV]  NN__hidden_layer_sizes=(30, 10), pca__n_components=5, score=0.6511175898931001, total=   0.0s\n",
      "[CV] NN__hidden_layer_sizes=(30, 10), pca__n_components=5 ............\n",
      "[CV]  NN__hidden_layer_sizes=(30, 10), pca__n_components=5, score=0.6686103012633625, total=   0.2s\n",
      "[CV] NN__hidden_layer_sizes=(30, 10), pca__n_components=5 ............\n",
      "[CV]  NN__hidden_layer_sizes=(30, 10), pca__n_components=5, score=0.6536964980544747, total=   0.1s\n",
      "[CV] NN__hidden_layer_sizes=(30, 10), pca__n_components=10 ...........\n",
      "[CV]  NN__hidden_layer_sizes=(30, 10), pca__n_components=10, score=0.8194174757281554, total=   0.3s\n",
      "[CV] NN__hidden_layer_sizes=(30, 10), pca__n_components=10 ...........\n",
      "[CV]  NN__hidden_layer_sizes=(30, 10), pca__n_components=10, score=0.8436893203883495, total=   0.2s\n",
      "[CV] NN__hidden_layer_sizes=(30, 10), pca__n_components=10 ...........\n",
      "[CV]  NN__hidden_layer_sizes=(30, 10), pca__n_components=10, score=0.8221574344023324, total=   0.3s\n",
      "[CV] NN__hidden_layer_sizes=(30, 10), pca__n_components=10 ...........\n",
      "[CV]  NN__hidden_layer_sizes=(30, 10), pca__n_components=10, score=0.7755102040816326, total=   0.3s\n",
      "[CV] NN__hidden_layer_sizes=(30, 10), pca__n_components=10 ...........\n",
      "[CV]  NN__hidden_layer_sizes=(30, 10), pca__n_components=10, score=0.7869649805447471, total=   0.3s\n",
      "[CV] NN__hidden_layer_sizes=(30, 10), pca__n_components=15 ...........\n",
      "[CV]  NN__hidden_layer_sizes=(30, 10), pca__n_components=15, score=0.9, total=   0.4s\n",
      "[CV] NN__hidden_layer_sizes=(30, 10), pca__n_components=15 ...........\n",
      "[CV]  NN__hidden_layer_sizes=(30, 10), pca__n_components=15, score=0.9233009708737864, total=   0.5s\n",
      "[CV] NN__hidden_layer_sizes=(30, 10), pca__n_components=15 ...........\n",
      "[CV]  NN__hidden_layer_sizes=(30, 10), pca__n_components=15, score=0.8862973760932945, total=   0.2s\n",
      "[CV] NN__hidden_layer_sizes=(30, 10), pca__n_components=15 ...........\n",
      "[CV]  NN__hidden_layer_sizes=(30, 10), pca__n_components=15, score=0.8658892128279884, total=   0.3s\n",
      "[CV] NN__hidden_layer_sizes=(30, 10), pca__n_components=15 ...........\n",
      "[CV]  NN__hidden_layer_sizes=(30, 10), pca__n_components=15, score=0.8754863813229572, total=   0.3s\n",
      "[CV] NN__hidden_layer_sizes=(30, 10), pca__n_components=20 ...........\n",
      "[CV]  NN__hidden_layer_sizes=(30, 10), pca__n_components=20, score=0.9048543689320389, total=   0.5s\n",
      "[CV] NN__hidden_layer_sizes=(30, 10), pca__n_components=20 ...........\n",
      "[CV]  NN__hidden_layer_sizes=(30, 10), pca__n_components=20, score=0.9281553398058252, total=   0.5s\n",
      "[CV] NN__hidden_layer_sizes=(30, 10), pca__n_components=20 ...........\n",
      "[CV]  NN__hidden_layer_sizes=(30, 10), pca__n_components=20, score=0.8794946550048591, total=   0.2s\n",
      "[CV] NN__hidden_layer_sizes=(30, 10), pca__n_components=20 ...........\n",
      "[CV]  NN__hidden_layer_sizes=(30, 10), pca__n_components=20, score=0.8882410106899903, total=   0.5s\n",
      "[CV] NN__hidden_layer_sizes=(30, 10), pca__n_components=20 ...........\n",
      "[CV]  NN__hidden_layer_sizes=(30, 10), pca__n_components=20, score=0.9017509727626459, total=   0.6s\n",
      "[CV] NN__hidden_layer_sizes=(30, 10), pca__n_components=25 ...........\n",
      "[CV]  NN__hidden_layer_sizes=(30, 10), pca__n_components=25, score=0.925242718446602, total=   0.4s\n",
      "[CV] NN__hidden_layer_sizes=(30, 10), pca__n_components=25 ...........\n",
      "[CV]  NN__hidden_layer_sizes=(30, 10), pca__n_components=25, score=0.9407766990291262, total=   0.5s\n",
      "[CV] NN__hidden_layer_sizes=(30, 10), pca__n_components=25 ...........\n",
      "[CV]  NN__hidden_layer_sizes=(30, 10), pca__n_components=25, score=0.9446064139941691, total=   0.6s\n",
      "[CV] NN__hidden_layer_sizes=(30, 10), pca__n_components=25 ...........\n",
      "[CV]  NN__hidden_layer_sizes=(30, 10), pca__n_components=25, score=0.9144800777453839, total=   0.4s\n",
      "[CV] NN__hidden_layer_sizes=(30, 10), pca__n_components=25 ...........\n",
      "[CV]  NN__hidden_layer_sizes=(30, 10), pca__n_components=25, score=0.8929961089494164, total=   0.4s\n",
      "[CV] NN__hidden_layer_sizes=(30, 10), pca__n_components=30 ...........\n",
      "[CV]  NN__hidden_layer_sizes=(30, 10), pca__n_components=30, score=0.9106796116504854, total=   0.3s\n",
      "[CV] NN__hidden_layer_sizes=(30, 10), pca__n_components=30 ...........\n",
      "[CV]  NN__hidden_layer_sizes=(30, 10), pca__n_components=30, score=0.9504854368932039, total=   0.3s\n",
      "[CV] NN__hidden_layer_sizes=(30, 10), pca__n_components=30 ...........\n",
      "[CV]  NN__hidden_layer_sizes=(30, 10), pca__n_components=30, score=0.9319727891156463, total=   0.4s\n",
      "[CV] NN__hidden_layer_sizes=(30, 10), pca__n_components=30 ...........\n",
      "[CV]  NN__hidden_layer_sizes=(30, 10), pca__n_components=30, score=0.9319727891156463, total=   0.5s\n",
      "[CV] NN__hidden_layer_sizes=(30, 10), pca__n_components=30 ...........\n",
      "[CV]  NN__hidden_layer_sizes=(30, 10), pca__n_components=30, score=0.9260700389105059, total=   0.5s\n",
      "[CV] NN__hidden_layer_sizes=(30, 10), pca__n_components=35 ...........\n",
      "[CV]  NN__hidden_layer_sizes=(30, 10), pca__n_components=35, score=0.9407766990291262, total=   0.5s\n",
      "[CV] NN__hidden_layer_sizes=(30, 10), pca__n_components=35 ...........\n",
      "[CV]  NN__hidden_layer_sizes=(30, 10), pca__n_components=35, score=0.9378640776699029, total=   0.4s\n",
      "[CV] NN__hidden_layer_sizes=(30, 10), pca__n_components=35 ...........\n"
     ]
    },
    {
     "name": "stdout",
     "output_type": "stream",
     "text": [
      "[CV]  NN__hidden_layer_sizes=(30, 10), pca__n_components=35, score=0.9620991253644315, total=   0.7s\n",
      "[CV] NN__hidden_layer_sizes=(30, 10), pca__n_components=35 ...........\n",
      "[CV]  NN__hidden_layer_sizes=(30, 10), pca__n_components=35, score=0.9183673469387755, total=   0.4s\n",
      "[CV] NN__hidden_layer_sizes=(30, 10), pca__n_components=35 ...........\n",
      "[CV]  NN__hidden_layer_sizes=(30, 10), pca__n_components=35, score=0.9299610894941635, total=   0.6s\n",
      "[CV] NN__hidden_layer_sizes=(30, 20), pca__n_components=2 ............\n",
      "[CV]  NN__hidden_layer_sizes=(30, 20), pca__n_components=2, score=0.5970873786407767, total=   0.0s\n",
      "[CV] NN__hidden_layer_sizes=(30, 20), pca__n_components=2 ............\n",
      "[CV]  NN__hidden_layer_sizes=(30, 20), pca__n_components=2, score=0.6349514563106796, total=   0.1s\n",
      "[CV] NN__hidden_layer_sizes=(30, 20), pca__n_components=2 ............\n",
      "[CV]  NN__hidden_layer_sizes=(30, 20), pca__n_components=2, score=0.6443148688046647, total=   0.2s\n",
      "[CV] NN__hidden_layer_sizes=(30, 20), pca__n_components=2 ............\n",
      "[CV]  NN__hidden_layer_sizes=(30, 20), pca__n_components=2, score=0.6015549076773566, total=   0.0s\n",
      "[CV] NN__hidden_layer_sizes=(30, 20), pca__n_components=2 ............\n",
      "[CV]  NN__hidden_layer_sizes=(30, 20), pca__n_components=2, score=0.6147859922178989, total=   0.0s\n",
      "[CV] NN__hidden_layer_sizes=(30, 20), pca__n_components=5 ............\n",
      "[CV]  NN__hidden_layer_sizes=(30, 20), pca__n_components=5, score=0.6368932038834951, total=   0.1s\n",
      "[CV] NN__hidden_layer_sizes=(30, 20), pca__n_components=5 ............\n",
      "[CV]  NN__hidden_layer_sizes=(30, 20), pca__n_components=5, score=0.6300970873786408, total=   0.1s\n",
      "[CV] NN__hidden_layer_sizes=(30, 20), pca__n_components=5 ............\n",
      "[CV]  NN__hidden_layer_sizes=(30, 20), pca__n_components=5, score=0.6005830903790087, total=   0.0s\n",
      "[CV] NN__hidden_layer_sizes=(30, 20), pca__n_components=5 ............\n",
      "[CV]  NN__hidden_layer_sizes=(30, 20), pca__n_components=5, score=0.6598639455782312, total=   0.1s\n",
      "[CV] NN__hidden_layer_sizes=(30, 20), pca__n_components=5 ............\n",
      "[CV]  NN__hidden_layer_sizes=(30, 20), pca__n_components=5, score=0.6371595330739299, total=   0.1s\n",
      "[CV] NN__hidden_layer_sizes=(30, 20), pca__n_components=10 ...........\n",
      "[CV]  NN__hidden_layer_sizes=(30, 20), pca__n_components=10, score=0.8233009708737864, total=   0.3s\n",
      "[CV] NN__hidden_layer_sizes=(30, 20), pca__n_components=10 ...........\n",
      "[CV]  NN__hidden_layer_sizes=(30, 20), pca__n_components=10, score=0.887378640776699, total=   0.6s\n",
      "[CV] NN__hidden_layer_sizes=(30, 20), pca__n_components=10 ...........\n",
      "[CV]  NN__hidden_layer_sizes=(30, 20), pca__n_components=10, score=0.7862001943634597, total=   0.2s\n",
      "[CV] NN__hidden_layer_sizes=(30, 20), pca__n_components=10 ...........\n",
      "[CV]  NN__hidden_layer_sizes=(30, 20), pca__n_components=10, score=0.7657920310981535, total=   0.3s\n",
      "[CV] NN__hidden_layer_sizes=(30, 20), pca__n_components=10 ...........\n",
      "[CV]  NN__hidden_layer_sizes=(30, 20), pca__n_components=10, score=0.8083657587548638, total=   0.5s\n",
      "[CV] NN__hidden_layer_sizes=(30, 20), pca__n_components=15 ...........\n",
      "[CV]  NN__hidden_layer_sizes=(30, 20), pca__n_components=15, score=0.8970873786407767, total=   0.4s\n",
      "[CV] NN__hidden_layer_sizes=(30, 20), pca__n_components=15 ...........\n",
      "[CV]  NN__hidden_layer_sizes=(30, 20), pca__n_components=15, score=0.9135922330097087, total=   0.4s\n",
      "[CV] NN__hidden_layer_sizes=(30, 20), pca__n_components=15 ...........\n",
      "[CV]  NN__hidden_layer_sizes=(30, 20), pca__n_components=15, score=0.8989310009718173, total=   0.4s\n",
      "[CV] NN__hidden_layer_sizes=(30, 20), pca__n_components=15 ...........\n",
      "[CV]  NN__hidden_layer_sizes=(30, 20), pca__n_components=15, score=0.8736637512147716, total=   0.4s\n",
      "[CV] NN__hidden_layer_sizes=(30, 20), pca__n_components=15 ...........\n",
      "[CV]  NN__hidden_layer_sizes=(30, 20), pca__n_components=15, score=0.8842412451361867, total=   0.4s\n",
      "[CV] NN__hidden_layer_sizes=(30, 20), pca__n_components=20 ...........\n",
      "[CV]  NN__hidden_layer_sizes=(30, 20), pca__n_components=20, score=0.8951456310679612, total=   0.3s\n",
      "[CV] NN__hidden_layer_sizes=(30, 20), pca__n_components=20 ...........\n",
      "[CV]  NN__hidden_layer_sizes=(30, 20), pca__n_components=20, score=0.9194174757281554, total=   0.4s\n",
      "[CV] NN__hidden_layer_sizes=(30, 20), pca__n_components=20 ...........\n",
      "[CV]  NN__hidden_layer_sizes=(30, 20), pca__n_components=20, score=0.8785228377065112, total=   0.4s\n",
      "[CV] NN__hidden_layer_sizes=(30, 20), pca__n_components=20 ...........\n",
      "[CV]  NN__hidden_layer_sizes=(30, 20), pca__n_components=20, score=0.8872691933916423, total=   0.4s\n",
      "[CV] NN__hidden_layer_sizes=(30, 20), pca__n_components=20 ...........\n",
      "[CV]  NN__hidden_layer_sizes=(30, 20), pca__n_components=20, score=0.8949416342412452, total=   0.5s\n",
      "[CV] NN__hidden_layer_sizes=(30, 20), pca__n_components=25 ...........\n",
      "[CV]  NN__hidden_layer_sizes=(30, 20), pca__n_components=25, score=0.8990291262135922, total=   0.3s\n",
      "[CV] NN__hidden_layer_sizes=(30, 20), pca__n_components=25 ...........\n",
      "[CV]  NN__hidden_layer_sizes=(30, 20), pca__n_components=25, score=0.9398058252427185, total=   0.5s\n",
      "[CV] NN__hidden_layer_sizes=(30, 20), pca__n_components=25 ...........\n",
      "[CV]  NN__hidden_layer_sizes=(30, 20), pca__n_components=25, score=0.9086491739552964, total=   0.4s\n",
      "[CV] NN__hidden_layer_sizes=(30, 20), pca__n_components=25 ...........\n",
      "[CV]  NN__hidden_layer_sizes=(30, 20), pca__n_components=25, score=0.9193391642371235, total=   0.7s\n",
      "[CV] NN__hidden_layer_sizes=(30, 20), pca__n_components=25 ...........\n",
      "[CV]  NN__hidden_layer_sizes=(30, 20), pca__n_components=25, score=0.9075875486381323, total=   0.5s\n",
      "[CV] NN__hidden_layer_sizes=(30, 20), pca__n_components=30 ...........\n",
      "[CV]  NN__hidden_layer_sizes=(30, 20), pca__n_components=30, score=0.9058252427184466, total=   0.4s\n",
      "[CV] NN__hidden_layer_sizes=(30, 20), pca__n_components=30 ...........\n",
      "[CV]  NN__hidden_layer_sizes=(30, 20), pca__n_components=30, score=0.920388349514563, total=   0.5s\n",
      "[CV] NN__hidden_layer_sizes=(30, 20), pca__n_components=30 ...........\n",
      "[CV]  NN__hidden_layer_sizes=(30, 20), pca__n_components=30, score=0.9436345966958212, total=   0.6s\n",
      "[CV] NN__hidden_layer_sizes=(30, 20), pca__n_components=30 ...........\n",
      "[CV]  NN__hidden_layer_sizes=(30, 20), pca__n_components=30, score=0.9251700680272109, total=   0.5s\n",
      "[CV] NN__hidden_layer_sizes=(30, 20), pca__n_components=30 ...........\n",
      "[CV]  NN__hidden_layer_sizes=(30, 20), pca__n_components=30, score=0.9017509727626459, total=   0.3s\n",
      "[CV] NN__hidden_layer_sizes=(30, 20), pca__n_components=35 ...........\n",
      "[CV]  NN__hidden_layer_sizes=(30, 20), pca__n_components=35, score=0.9495145631067962, total=   0.5s\n",
      "[CV] NN__hidden_layer_sizes=(30, 20), pca__n_components=35 ...........\n",
      "[CV]  NN__hidden_layer_sizes=(30, 20), pca__n_components=35, score=0.9718446601941747, total=   0.5s\n",
      "[CV] NN__hidden_layer_sizes=(30, 20), pca__n_components=35 ...........\n",
      "[CV]  NN__hidden_layer_sizes=(30, 20), pca__n_components=35, score=0.9436345966958212, total=   0.4s\n",
      "[CV] NN__hidden_layer_sizes=(30, 20), pca__n_components=35 ...........\n",
      "[CV]  NN__hidden_layer_sizes=(30, 20), pca__n_components=35, score=0.9533527696793003, total=   0.5s\n",
      "[CV] NN__hidden_layer_sizes=(30, 20), pca__n_components=35 ...........\n",
      "[CV]  NN__hidden_layer_sizes=(30, 20), pca__n_components=35, score=0.9348249027237354, total=   0.4s\n",
      "[CV] NN__hidden_layer_sizes=(30, 30), pca__n_components=2 ............\n",
      "[CV]  NN__hidden_layer_sizes=(30, 30), pca__n_components=2, score=0.6135922330097088, total=   0.1s\n",
      "[CV] NN__hidden_layer_sizes=(30, 30), pca__n_components=2 ............\n",
      "[CV]  NN__hidden_layer_sizes=(30, 30), pca__n_components=2, score=0.6145631067961165, total=   0.1s\n",
      "[CV] NN__hidden_layer_sizes=(30, 30), pca__n_components=2 ............\n",
      "[CV]  NN__hidden_layer_sizes=(30, 30), pca__n_components=2, score=0.640427599611273, total=   0.2s\n",
      "[CV] NN__hidden_layer_sizes=(30, 30), pca__n_components=2 ............\n",
      "[CV]  NN__hidden_layer_sizes=(30, 30), pca__n_components=2, score=0.6287657920310982, total=   0.1s\n",
      "[CV] NN__hidden_layer_sizes=(30, 30), pca__n_components=2 ............\n",
      "[CV]  NN__hidden_layer_sizes=(30, 30), pca__n_components=2, score=0.6478599221789884, total=   0.2s\n",
      "[CV] NN__hidden_layer_sizes=(30, 30), pca__n_components=5 ............\n",
      "[CV]  NN__hidden_layer_sizes=(30, 30), pca__n_components=5, score=0.654368932038835, total=   0.1s\n",
      "[CV] NN__hidden_layer_sizes=(30, 30), pca__n_components=5 ............\n"
     ]
    },
    {
     "name": "stdout",
     "output_type": "stream",
     "text": [
      "[CV]  NN__hidden_layer_sizes=(30, 30), pca__n_components=5, score=0.6699029126213593, total=   0.1s\n",
      "[CV] NN__hidden_layer_sizes=(30, 30), pca__n_components=5 ............\n",
      "[CV]  NN__hidden_layer_sizes=(30, 30), pca__n_components=5, score=0.6977648202137998, total=   0.2s\n",
      "[CV] NN__hidden_layer_sizes=(30, 30), pca__n_components=5 ............\n",
      "[CV]  NN__hidden_layer_sizes=(30, 30), pca__n_components=5, score=0.6336248785228377, total=   0.0s\n",
      "[CV] NN__hidden_layer_sizes=(30, 30), pca__n_components=5 ............\n",
      "[CV]  NN__hidden_layer_sizes=(30, 30), pca__n_components=5, score=0.6712062256809338, total=   0.1s\n",
      "[CV] NN__hidden_layer_sizes=(30, 30), pca__n_components=10 ...........\n",
      "[CV]  NN__hidden_layer_sizes=(30, 30), pca__n_components=10, score=0.8446601941747572, total=   0.3s\n",
      "[CV] NN__hidden_layer_sizes=(30, 30), pca__n_components=10 ...........\n",
      "[CV]  NN__hidden_layer_sizes=(30, 30), pca__n_components=10, score=0.8174757281553398, total=   0.2s\n",
      "[CV] NN__hidden_layer_sizes=(30, 30), pca__n_components=10 ...........\n",
      "[CV]  NN__hidden_layer_sizes=(30, 30), pca__n_components=10, score=0.8279883381924198, total=   0.5s\n",
      "[CV] NN__hidden_layer_sizes=(30, 30), pca__n_components=10 ...........\n",
      "[CV]  NN__hidden_layer_sizes=(30, 30), pca__n_components=10, score=0.7774538386783285, total=   0.4s\n",
      "[CV] NN__hidden_layer_sizes=(30, 30), pca__n_components=10 ...........\n",
      "[CV]  NN__hidden_layer_sizes=(30, 30), pca__n_components=10, score=0.8132295719844358, total=   0.3s\n",
      "[CV] NN__hidden_layer_sizes=(30, 30), pca__n_components=15 ...........\n",
      "[CV]  NN__hidden_layer_sizes=(30, 30), pca__n_components=15, score=0.9019417475728155, total=   0.3s\n",
      "[CV] NN__hidden_layer_sizes=(30, 30), pca__n_components=15 ...........\n",
      "[CV]  NN__hidden_layer_sizes=(30, 30), pca__n_components=15, score=0.912621359223301, total=   0.8s\n",
      "[CV] NN__hidden_layer_sizes=(30, 30), pca__n_components=15 ...........\n",
      "[CV]  NN__hidden_layer_sizes=(30, 30), pca__n_components=15, score=0.923226433430515, total=   0.6s\n",
      "[CV] NN__hidden_layer_sizes=(30, 30), pca__n_components=15 ...........\n",
      "[CV]  NN__hidden_layer_sizes=(30, 30), pca__n_components=15, score=0.880466472303207, total=   0.4s\n",
      "[CV] NN__hidden_layer_sizes=(30, 30), pca__n_components=15 ...........\n",
      "[CV]  NN__hidden_layer_sizes=(30, 30), pca__n_components=15, score=0.8764591439688716, total=   0.4s\n",
      "[CV] NN__hidden_layer_sizes=(30, 30), pca__n_components=20 ...........\n",
      "[CV]  NN__hidden_layer_sizes=(30, 30), pca__n_components=20, score=0.8815533980582524, total=   0.5s\n",
      "[CV] NN__hidden_layer_sizes=(30, 30), pca__n_components=20 ...........\n",
      "[CV]  NN__hidden_layer_sizes=(30, 30), pca__n_components=20, score=0.9097087378640777, total=   0.8s\n",
      "[CV] NN__hidden_layer_sizes=(30, 30), pca__n_components=20 ...........\n",
      "[CV]  NN__hidden_layer_sizes=(30, 30), pca__n_components=20, score=0.8736637512147716, total=   0.4s\n",
      "[CV] NN__hidden_layer_sizes=(30, 30), pca__n_components=20 ...........\n",
      "[CV]  NN__hidden_layer_sizes=(30, 30), pca__n_components=20, score=0.8717201166180758, total=   0.3s\n",
      "[CV] NN__hidden_layer_sizes=(30, 30), pca__n_components=20 ...........\n",
      "[CV]  NN__hidden_layer_sizes=(30, 30), pca__n_components=20, score=0.8696498054474708, total=   0.4s\n",
      "[CV] NN__hidden_layer_sizes=(30, 30), pca__n_components=25 ...........\n",
      "[CV]  NN__hidden_layer_sizes=(30, 30), pca__n_components=25, score=0.9262135922330097, total=   0.5s\n",
      "[CV] NN__hidden_layer_sizes=(30, 30), pca__n_components=25 ...........\n",
      "[CV]  NN__hidden_layer_sizes=(30, 30), pca__n_components=25, score=0.9436893203883495, total=   0.5s\n",
      "[CV] NN__hidden_layer_sizes=(30, 30), pca__n_components=25 ...........\n",
      "[CV]  NN__hidden_layer_sizes=(30, 30), pca__n_components=25, score=0.9203109815354713, total=   0.3s\n",
      "[CV] NN__hidden_layer_sizes=(30, 30), pca__n_components=25 ...........\n",
      "[CV]  NN__hidden_layer_sizes=(30, 30), pca__n_components=25, score=0.8989310009718173, total=   0.3s\n",
      "[CV] NN__hidden_layer_sizes=(30, 30), pca__n_components=25 ...........\n",
      "[CV]  NN__hidden_layer_sizes=(30, 30), pca__n_components=25, score=0.9153696498054474, total=   0.4s\n",
      "[CV] NN__hidden_layer_sizes=(30, 30), pca__n_components=30 ...........\n",
      "[CV]  NN__hidden_layer_sizes=(30, 30), pca__n_components=30, score=0.925242718446602, total=   0.5s\n",
      "[CV] NN__hidden_layer_sizes=(30, 30), pca__n_components=30 ...........\n",
      "[CV]  NN__hidden_layer_sizes=(30, 30), pca__n_components=30, score=0.9524271844660194, total=   0.6s\n",
      "[CV] NN__hidden_layer_sizes=(30, 30), pca__n_components=30 ...........\n",
      "[CV]  NN__hidden_layer_sizes=(30, 30), pca__n_components=30, score=0.9193391642371235, total=   0.4s\n",
      "[CV] NN__hidden_layer_sizes=(30, 30), pca__n_components=30 ...........\n",
      "[CV]  NN__hidden_layer_sizes=(30, 30), pca__n_components=30, score=0.9183673469387755, total=   0.4s\n",
      "[CV] NN__hidden_layer_sizes=(30, 30), pca__n_components=30 ...........\n",
      "[CV]  NN__hidden_layer_sizes=(30, 30), pca__n_components=30, score=0.9095330739299611, total=   0.5s\n",
      "[CV] NN__hidden_layer_sizes=(30, 30), pca__n_components=35 ...........\n",
      "[CV]  NN__hidden_layer_sizes=(30, 30), pca__n_components=35, score=0.941747572815534, total=   0.4s\n",
      "[CV] NN__hidden_layer_sizes=(30, 30), pca__n_components=35 ...........\n",
      "[CV]  NN__hidden_layer_sizes=(30, 30), pca__n_components=35, score=0.9097087378640777, total=   0.3s\n",
      "[CV] NN__hidden_layer_sizes=(30, 30), pca__n_components=35 ...........\n",
      "[CV]  NN__hidden_layer_sizes=(30, 30), pca__n_components=35, score=0.9300291545189504, total=   0.6s\n",
      "[CV] NN__hidden_layer_sizes=(30, 30), pca__n_components=35 ...........\n",
      "[CV]  NN__hidden_layer_sizes=(30, 30), pca__n_components=35, score=0.9212827988338192, total=   0.5s\n",
      "[CV] NN__hidden_layer_sizes=(30, 30), pca__n_components=35 ...........\n",
      "[CV]  NN__hidden_layer_sizes=(30, 30), pca__n_components=35, score=0.914396887159533, total=   0.4s\n"
     ]
    },
    {
     "name": "stderr",
     "output_type": "stream",
     "text": [
      "[Parallel(n_jobs=1)]: Done 480 out of 480 | elapsed:  3.4min finished\n"
     ]
    },
    {
     "name": "stdout",
     "output_type": "stream",
     "text": [
      "{'mean_fit_time': array([0.09354954, 0.24314981, 0.13264556, 0.12865624, 0.46236472,\n",
      "       0.43972712, 0.55790939, 0.64886551, 0.09674144, 0.14760494,\n",
      "       0.49846754, 0.54753628, 0.301793  , 0.67020798, 0.55232329,\n",
      "       1.01488805, 0.21861463, 0.2210094 , 0.43583426, 0.10013223,\n",
      "       0.55731006, 0.62492847, 0.45278955, 0.67334485, 0.26449289,\n",
      "       0.26855493, 0.35644698, 0.57067451, 0.50844135, 0.54105635,\n",
      "       0.60179033, 0.63769393, 0.19228663, 0.11589084, 0.35245824,\n",
      "       0.66982861, 0.46655345, 0.48709784, 0.47732406, 0.55471673,\n",
      "       0.14281812, 0.44181895, 0.26296062, 0.38955865, 0.42386642,\n",
      "       0.4849041 , 0.44860134, 0.56728311, 0.14959965, 0.13882856,\n",
      "       0.22539744, 0.31376085, 0.42326717, 0.37180662, 0.36562262,\n",
      "       0.44840097, 0.08956003, 0.18091602, 0.35345511, 0.3255302 ,\n",
      "       0.35624814, 0.43723068, 0.40531635, 0.35744481, 0.10751243,\n",
      "       0.25950656, 0.29182086, 0.31774855, 0.4067121 , 0.4591712 ,\n",
      "       0.36522408, 0.41249733, 0.19926639, 0.23058467, 0.38497081,\n",
      "       0.41708465, 0.55192437, 0.54036765, 0.48550196, 0.6177485 ,\n",
      "       0.18610239, 0.18829727, 0.48430543, 0.4781219 , 0.49567475,\n",
      "       0.58184438, 0.5708735 , 0.55332098, 0.22499905, 0.22320337,\n",
      "       0.44660606, 0.61076751, 0.56070151, 0.52260299, 0.57745638,\n",
      "       0.53696513]), 'std_fit_time': array([0.00415558, 0.10097926, 0.03981908, 0.02071978, 0.29626717,\n",
      "       0.25279505, 0.33563083, 0.07891806, 0.00571225, 0.04691901,\n",
      "       0.08253267, 0.28004089, 0.23778726, 0.15584203, 0.09173394,\n",
      "       0.29573175, 0.08108581, 0.07276988, 0.08951188, 0.00195427,\n",
      "       0.05589507, 0.08977961, 0.13970543, 0.14548943, 0.08614176,\n",
      "       0.0715398 , 0.05368044, 0.1069175 , 0.06953495, 0.07121875,\n",
      "       0.02400834, 0.13344569, 0.06933449, 0.03870582, 0.07616539,\n",
      "       0.07685856, 0.05519172, 0.10061632, 0.05468298, 0.11169524,\n",
      "       0.05663387, 0.1301427 , 0.15451812, 0.24005117, 0.02899486,\n",
      "       0.06767039, 0.05881314, 0.14460336, 0.03479534, 0.05547705,\n",
      "       0.11949843, 0.12411841, 0.12220913, 0.21511195, 0.1479184 ,\n",
      "       0.06269296, 0.02144055, 0.03199939, 0.07833111, 0.07026141,\n",
      "       0.06149105, 0.06081837, 0.0791857 , 0.07245207, 0.06045651,\n",
      "       0.08958342, 0.06608615, 0.04982604, 0.06745511, 0.13949007,\n",
      "       0.0526356 , 0.16946666, 0.03887574, 0.05196396, 0.03759296,\n",
      "       0.0922721 , 0.12238968, 0.07649948, 0.07574335, 0.13780306,\n",
      "       0.09040632, 0.0413741 , 0.15109631, 0.016052  , 0.08117388,\n",
      "       0.12706667, 0.10792822, 0.07235908, 0.0309692 , 0.06815666,\n",
      "       0.12242676, 0.16943112, 0.16122528, 0.0980195 , 0.08388461,\n",
      "       0.10266279]), 'mean_score_time': array([0.00319195, 0.00299182, 0.00299206, 0.00299168, 0.00358944,\n",
      "       0.00378995, 0.00438685, 0.00359063, 0.00319166, 0.00319257,\n",
      "       0.00339122, 0.00378995, 0.00359068, 0.00319176, 0.00438838,\n",
      "       0.00358877, 0.00359087, 0.00319114, 0.00299234, 0.0035913 ,\n",
      "       0.00418944, 0.00478811, 0.00418887, 0.00359063, 0.00378976,\n",
      "       0.00379038, 0.00398936, 0.00379043, 0.00438824, 0.00418863,\n",
      "       0.00419021, 0.00319161, 0.00359039, 0.00299168, 0.00339108,\n",
      "       0.00359025, 0.00418763, 0.00379019, 0.00418863, 0.00359039,\n",
      "       0.00319118, 0.00319114, 0.00259333, 0.00279269, 0.0031918 ,\n",
      "       0.00319157, 0.00398932, 0.00379028, 0.00299311, 0.00279217,\n",
      "       0.00259304, 0.00319138, 0.00339007, 0.00359044, 0.00398951,\n",
      "       0.00299258, 0.00319195, 0.00299301, 0.00299225, 0.00279236,\n",
      "       0.00339112, 0.00319157, 0.00399036, 0.00299177, 0.00299215,\n",
      "       0.00299163, 0.00319128, 0.00339088, 0.00438914, 0.00418887,\n",
      "       0.00398936, 0.00378976, 0.00339108, 0.00358896, 0.00339122,\n",
      "       0.0039897 , 0.00398936, 0.00498676, 0.00398951, 0.00399027,\n",
      "       0.00339093, 0.00458789, 0.00398927, 0.00398917, 0.00478735,\n",
      "       0.00538597, 0.00498729, 0.00438786, 0.00359011, 0.00398912,\n",
      "       0.00418878, 0.00518675, 0.00518579, 0.00458794, 0.00438905,\n",
      "       0.00518632]), 'std_score_time': array([3.99233943e-04, 6.31128081e-04, 8.20381667e-07, 6.39744180e-07,\n",
      "       4.87978486e-04, 7.46429614e-04, 4.90218363e-04, 4.88655694e-04,\n",
      "       3.98898192e-04, 3.98925187e-04, 4.88753282e-04, 1.59559253e-03,\n",
      "       4.89084288e-04, 3.99327289e-04, 1.35316174e-03, 7.99470000e-04,\n",
      "       1.19751302e-03, 3.98802939e-04, 6.46813391e-07, 4.86869139e-04,\n",
      "       9.76805189e-04, 1.16257314e-03, 3.99184494e-04, 7.98547323e-04,\n",
      "       1.16366080e-03, 9.77817268e-04, 1.09231885e-03, 7.46238291e-04,\n",
      "       1.01655060e-03, 3.99065060e-04, 3.99113670e-04, 3.98684047e-04,\n",
      "       4.88266963e-04, 1.01152436e-06, 4.88869943e-04, 4.88733631e-04,\n",
      "       3.99336456e-04, 3.98898848e-04, 3.97634549e-04, 4.88752840e-04,\n",
      "       7.46748310e-04, 1.46625206e-03, 4.88266335e-04, 3.99041813e-04,\n",
      "       3.98469068e-04, 3.99303522e-04, 1.86271906e-06, 3.98945933e-04,\n",
      "       1.62404884e-06, 7.47386147e-04, 4.89395563e-04, 3.99160513e-04,\n",
      "       4.89006282e-04, 4.88110895e-04, 6.30675746e-04, 6.30826643e-04,\n",
      "       3.98755426e-04, 6.30977400e-04, 6.30449823e-04, 3.98874696e-04,\n",
      "       4.88636178e-04, 3.98469467e-04, 6.29847403e-04, 6.31580574e-04,\n",
      "       7.83523403e-07, 8.31393994e-07, 7.46214403e-04, 4.88344683e-04,\n",
      "       4.88928198e-04, 9.77116347e-04, 6.29546605e-04, 3.99041899e-04,\n",
      "       4.88383322e-04, 4.87495079e-04, 4.88363884e-04, 8.92283219e-04,\n",
      "       6.30600269e-04, 8.91964010e-04, 8.71451706e-07, 1.09205774e-03,\n",
      "       7.98154239e-04, 7.97867852e-04, 6.30675638e-04, 6.30826499e-04,\n",
      "       3.99065431e-04, 7.98356873e-04, 6.30525011e-04, 4.89201879e-04,\n",
      "       4.88227626e-04, 8.92123477e-04, 3.98636064e-04, 7.46110979e-04,\n",
      "       9.77292203e-04, 4.88168882e-04, 4.89103498e-04, 1.46591498e-03]), 'param_NN__hidden_layer_sizes': masked_array(data=[(5, 10), (5, 10), (5, 10), (5, 10), (5, 10), (5, 10),\n",
      "                   (5, 10), (5, 10), (10, 10), (10, 10), (10, 10),\n",
      "                   (10, 10), (10, 10), (10, 10), (10, 10), (10, 10),\n",
      "                   (10, 20), (10, 20), (10, 20), (10, 20), (10, 20),\n",
      "                   (10, 20), (10, 20), (10, 20), (20, 20), (20, 20),\n",
      "                   (20, 20), (20, 20), (20, 20), (20, 20), (20, 20),\n",
      "                   (20, 20), (20, 10), (20, 10), (20, 10), (20, 10),\n",
      "                   (20, 10), (20, 10), (20, 10), (20, 10), (5,), (5,),\n",
      "                   (5,), (5,), (5,), (5,), (5,), (5,), (10,), (10,),\n",
      "                   (10,), (10,), (10,), (10,), (10,), (10,), (20,), (20,),\n",
      "                   (20,), (20,), (20,), (20,), (20,), (20,), (30,), (30,),\n",
      "                   (30,), (30,), (30,), (30,), (30,), (30,), (30, 10),\n",
      "                   (30, 10), (30, 10), (30, 10), (30, 10), (30, 10),\n",
      "                   (30, 10), (30, 10), (30, 20), (30, 20), (30, 20),\n",
      "                   (30, 20), (30, 20), (30, 20), (30, 20), (30, 20),\n",
      "                   (30, 30), (30, 30), (30, 30), (30, 30), (30, 30),\n",
      "                   (30, 30), (30, 30), (30, 30)],\n",
      "             mask=[False, False, False, False, False, False, False, False,\n",
      "                   False, False, False, False, False, False, False, False,\n",
      "                   False, False, False, False, False, False, False, False,\n",
      "                   False, False, False, False, False, False, False, False,\n",
      "                   False, False, False, False, False, False, False, False,\n",
      "                   False, False, False, False, False, False, False, False,\n",
      "                   False, False, False, False, False, False, False, False,\n",
      "                   False, False, False, False, False, False, False, False,\n",
      "                   False, False, False, False, False, False, False, False,\n",
      "                   False, False, False, False, False, False, False, False,\n",
      "                   False, False, False, False, False, False, False, False,\n",
      "                   False, False, False, False, False, False, False, False],\n",
      "       fill_value='?',\n",
      "            dtype=object), 'param_pca__n_components': masked_array(data=[2, 5, 10, 15, 20, 25, 30, 35, 2, 5, 10, 15, 20, 25, 30,\n",
      "                   35, 2, 5, 10, 15, 20, 25, 30, 35, 2, 5, 10, 15, 20, 25,\n",
      "                   30, 35, 2, 5, 10, 15, 20, 25, 30, 35, 2, 5, 10, 15, 20,\n",
      "                   25, 30, 35, 2, 5, 10, 15, 20, 25, 30, 35, 2, 5, 10, 15,\n",
      "                   20, 25, 30, 35, 2, 5, 10, 15, 20, 25, 30, 35, 2, 5, 10,\n",
      "                   15, 20, 25, 30, 35, 2, 5, 10, 15, 20, 25, 30, 35, 2, 5,\n",
      "                   10, 15, 20, 25, 30, 35],\n",
      "             mask=[False, False, False, False, False, False, False, False,\n",
      "                   False, False, False, False, False, False, False, False,\n",
      "                   False, False, False, False, False, False, False, False,\n",
      "                   False, False, False, False, False, False, False, False,\n",
      "                   False, False, False, False, False, False, False, False,\n",
      "                   False, False, False, False, False, False, False, False,\n",
      "                   False, False, False, False, False, False, False, False,\n",
      "                   False, False, False, False, False, False, False, False,\n",
      "                   False, False, False, False, False, False, False, False,\n",
      "                   False, False, False, False, False, False, False, False,\n",
      "                   False, False, False, False, False, False, False, False,\n",
      "                   False, False, False, False, False, False, False, False],\n",
      "       fill_value='?',\n",
      "            dtype=object), 'params': [{'NN__hidden_layer_sizes': (5, 10), 'pca__n_components': 2}, {'NN__hidden_layer_sizes': (5, 10), 'pca__n_components': 5}, {'NN__hidden_layer_sizes': (5, 10), 'pca__n_components': 10}, {'NN__hidden_layer_sizes': (5, 10), 'pca__n_components': 15}, {'NN__hidden_layer_sizes': (5, 10), 'pca__n_components': 20}, {'NN__hidden_layer_sizes': (5, 10), 'pca__n_components': 25}, {'NN__hidden_layer_sizes': (5, 10), 'pca__n_components': 30}, {'NN__hidden_layer_sizes': (5, 10), 'pca__n_components': 35}, {'NN__hidden_layer_sizes': (10, 10), 'pca__n_components': 2}, {'NN__hidden_layer_sizes': (10, 10), 'pca__n_components': 5}, {'NN__hidden_layer_sizes': (10, 10), 'pca__n_components': 10}, {'NN__hidden_layer_sizes': (10, 10), 'pca__n_components': 15}, {'NN__hidden_layer_sizes': (10, 10), 'pca__n_components': 20}, {'NN__hidden_layer_sizes': (10, 10), 'pca__n_components': 25}, {'NN__hidden_layer_sizes': (10, 10), 'pca__n_components': 30}, {'NN__hidden_layer_sizes': (10, 10), 'pca__n_components': 35}, {'NN__hidden_layer_sizes': (10, 20), 'pca__n_components': 2}, {'NN__hidden_layer_sizes': (10, 20), 'pca__n_components': 5}, {'NN__hidden_layer_sizes': (10, 20), 'pca__n_components': 10}, {'NN__hidden_layer_sizes': (10, 20), 'pca__n_components': 15}, {'NN__hidden_layer_sizes': (10, 20), 'pca__n_components': 20}, {'NN__hidden_layer_sizes': (10, 20), 'pca__n_components': 25}, {'NN__hidden_layer_sizes': (10, 20), 'pca__n_components': 30}, {'NN__hidden_layer_sizes': (10, 20), 'pca__n_components': 35}, {'NN__hidden_layer_sizes': (20, 20), 'pca__n_components': 2}, {'NN__hidden_layer_sizes': (20, 20), 'pca__n_components': 5}, {'NN__hidden_layer_sizes': (20, 20), 'pca__n_components': 10}, {'NN__hidden_layer_sizes': (20, 20), 'pca__n_components': 15}, {'NN__hidden_layer_sizes': (20, 20), 'pca__n_components': 20}, {'NN__hidden_layer_sizes': (20, 20), 'pca__n_components': 25}, {'NN__hidden_layer_sizes': (20, 20), 'pca__n_components': 30}, {'NN__hidden_layer_sizes': (20, 20), 'pca__n_components': 35}, {'NN__hidden_layer_sizes': (20, 10), 'pca__n_components': 2}, {'NN__hidden_layer_sizes': (20, 10), 'pca__n_components': 5}, {'NN__hidden_layer_sizes': (20, 10), 'pca__n_components': 10}, {'NN__hidden_layer_sizes': (20, 10), 'pca__n_components': 15}, {'NN__hidden_layer_sizes': (20, 10), 'pca__n_components': 20}, {'NN__hidden_layer_sizes': (20, 10), 'pca__n_components': 25}, {'NN__hidden_layer_sizes': (20, 10), 'pca__n_components': 30}, {'NN__hidden_layer_sizes': (20, 10), 'pca__n_components': 35}, {'NN__hidden_layer_sizes': (5,), 'pca__n_components': 2}, {'NN__hidden_layer_sizes': (5,), 'pca__n_components': 5}, {'NN__hidden_layer_sizes': (5,), 'pca__n_components': 10}, {'NN__hidden_layer_sizes': (5,), 'pca__n_components': 15}, {'NN__hidden_layer_sizes': (5,), 'pca__n_components': 20}, {'NN__hidden_layer_sizes': (5,), 'pca__n_components': 25}, {'NN__hidden_layer_sizes': (5,), 'pca__n_components': 30}, {'NN__hidden_layer_sizes': (5,), 'pca__n_components': 35}, {'NN__hidden_layer_sizes': (10,), 'pca__n_components': 2}, {'NN__hidden_layer_sizes': (10,), 'pca__n_components': 5}, {'NN__hidden_layer_sizes': (10,), 'pca__n_components': 10}, {'NN__hidden_layer_sizes': (10,), 'pca__n_components': 15}, {'NN__hidden_layer_sizes': (10,), 'pca__n_components': 20}, {'NN__hidden_layer_sizes': (10,), 'pca__n_components': 25}, {'NN__hidden_layer_sizes': (10,), 'pca__n_components': 30}, {'NN__hidden_layer_sizes': (10,), 'pca__n_components': 35}, {'NN__hidden_layer_sizes': (20,), 'pca__n_components': 2}, {'NN__hidden_layer_sizes': (20,), 'pca__n_components': 5}, {'NN__hidden_layer_sizes': (20,), 'pca__n_components': 10}, {'NN__hidden_layer_sizes': (20,), 'pca__n_components': 15}, {'NN__hidden_layer_sizes': (20,), 'pca__n_components': 20}, {'NN__hidden_layer_sizes': (20,), 'pca__n_components': 25}, {'NN__hidden_layer_sizes': (20,), 'pca__n_components': 30}, {'NN__hidden_layer_sizes': (20,), 'pca__n_components': 35}, {'NN__hidden_layer_sizes': (30,), 'pca__n_components': 2}, {'NN__hidden_layer_sizes': (30,), 'pca__n_components': 5}, {'NN__hidden_layer_sizes': (30,), 'pca__n_components': 10}, {'NN__hidden_layer_sizes': (30,), 'pca__n_components': 15}, {'NN__hidden_layer_sizes': (30,), 'pca__n_components': 20}, {'NN__hidden_layer_sizes': (30,), 'pca__n_components': 25}, {'NN__hidden_layer_sizes': (30,), 'pca__n_components': 30}, {'NN__hidden_layer_sizes': (30,), 'pca__n_components': 35}, {'NN__hidden_layer_sizes': (30, 10), 'pca__n_components': 2}, {'NN__hidden_layer_sizes': (30, 10), 'pca__n_components': 5}, {'NN__hidden_layer_sizes': (30, 10), 'pca__n_components': 10}, {'NN__hidden_layer_sizes': (30, 10), 'pca__n_components': 15}, {'NN__hidden_layer_sizes': (30, 10), 'pca__n_components': 20}, {'NN__hidden_layer_sizes': (30, 10), 'pca__n_components': 25}, {'NN__hidden_layer_sizes': (30, 10), 'pca__n_components': 30}, {'NN__hidden_layer_sizes': (30, 10), 'pca__n_components': 35}, {'NN__hidden_layer_sizes': (30, 20), 'pca__n_components': 2}, {'NN__hidden_layer_sizes': (30, 20), 'pca__n_components': 5}, {'NN__hidden_layer_sizes': (30, 20), 'pca__n_components': 10}, {'NN__hidden_layer_sizes': (30, 20), 'pca__n_components': 15}, {'NN__hidden_layer_sizes': (30, 20), 'pca__n_components': 20}, {'NN__hidden_layer_sizes': (30, 20), 'pca__n_components': 25}, {'NN__hidden_layer_sizes': (30, 20), 'pca__n_components': 30}, {'NN__hidden_layer_sizes': (30, 20), 'pca__n_components': 35}, {'NN__hidden_layer_sizes': (30, 30), 'pca__n_components': 2}, {'NN__hidden_layer_sizes': (30, 30), 'pca__n_components': 5}, {'NN__hidden_layer_sizes': (30, 30), 'pca__n_components': 10}, {'NN__hidden_layer_sizes': (30, 30), 'pca__n_components': 15}, {'NN__hidden_layer_sizes': (30, 30), 'pca__n_components': 20}, {'NN__hidden_layer_sizes': (30, 30), 'pca__n_components': 25}, {'NN__hidden_layer_sizes': (30, 30), 'pca__n_components': 30}, {'NN__hidden_layer_sizes': (30, 30), 'pca__n_components': 35}], 'split0_test_score': array([0.64757282, 0.64951456, 0.59320388, 0.64466019, 0.90097087,\n",
      "       0.63203883, 0.7776699 , 0.93300971, 0.64854369, 0.53592233,\n",
      "       0.80097087, 0.55533981, 0.59708738, 0.93300971, 0.94563107,\n",
      "       0.9592233 , 0.59805825, 0.55145631, 0.82912621, 0.65048544,\n",
      "       0.90097087, 0.93592233, 0.92038835, 0.94466019, 0.64951456,\n",
      "       0.63398058, 0.83203883, 0.89514563, 0.88252427, 0.88446602,\n",
      "       0.92815534, 0.95242718, 0.61067961, 0.5592233 , 0.82718447,\n",
      "       0.90097087, 0.89320388, 0.92427184, 0.93495146, 0.95339806,\n",
      "       0.46990291, 0.56213592, 0.79805825, 0.47087379, 0.9038835 ,\n",
      "       0.89417476, 0.9368932 , 0.81456311, 0.5368932 , 0.58349515,\n",
      "       0.81553398, 0.8815534 , 0.90873786, 0.91165049, 0.91262136,\n",
      "       0.92038835, 0.5961165 , 0.64174757, 0.81067961, 0.89805825,\n",
      "       0.86601942, 0.93592233, 0.93980583, 0.94271845, 0.56893204,\n",
      "       0.62427184, 0.81553398, 0.88834951, 0.91553398, 0.93300971,\n",
      "       0.91941748, 0.95436893, 0.60485437, 0.67281553, 0.81941748,\n",
      "       0.9       , 0.90485437, 0.92524272, 0.91067961, 0.9407767 ,\n",
      "       0.59708738, 0.6368932 , 0.82330097, 0.89708738, 0.89514563,\n",
      "       0.89902913, 0.90582524, 0.94951456, 0.61359223, 0.65436893,\n",
      "       0.84466019, 0.90194175, 0.8815534 , 0.92621359, 0.92524272,\n",
      "       0.94174757]), 'split1_test_score': array([0.64660194, 0.63495146, 0.59126214, 0.64854369, 0.60970874,\n",
      "       0.95533981, 0.92815534, 0.93980583, 0.64854369, 0.59514563,\n",
      "       0.82815534, 0.90679612, 0.57961165, 0.90679612, 0.90097087,\n",
      "       0.95728155, 0.63300971, 0.52815534, 0.79805825, 0.65145631,\n",
      "       0.91067961, 0.9407767 , 0.71262136, 0.94660194, 0.64854369,\n",
      "       0.67572816, 0.86990291, 0.91067961, 0.91747573, 0.93883495,\n",
      "       0.93883495, 0.92912621, 0.64174757, 0.53883495, 0.86407767,\n",
      "       0.91165049, 0.92621359, 0.93786408, 0.94271845, 0.94174757,\n",
      "       0.47184466, 0.64563107, 0.62815534, 0.90873786, 0.91359223,\n",
      "       0.90970874, 0.92427184, 0.96213592, 0.5592233 , 0.6184466 ,\n",
      "       0.64660194, 0.88543689, 0.91941748, 0.92524272, 0.93592233,\n",
      "       0.90582524, 0.59320388, 0.63203883, 0.86504854, 0.93009709,\n",
      "       0.92038835, 0.9368932 , 0.90582524, 0.95242718, 0.57961165,\n",
      "       0.6368932 , 0.86407767, 0.92330097, 0.91941748, 0.93592233,\n",
      "       0.94368932, 0.97087379, 0.64466019, 0.66893204, 0.84368932,\n",
      "       0.92330097, 0.92815534, 0.9407767 , 0.95048544, 0.93786408,\n",
      "       0.63495146, 0.63009709, 0.88737864, 0.91359223, 0.91941748,\n",
      "       0.93980583, 0.92038835, 0.97184466, 0.61456311, 0.66990291,\n",
      "       0.81747573, 0.91262136, 0.90970874, 0.94368932, 0.95242718,\n",
      "       0.90970874]), 'split2_test_score': array([0.64334305, 0.65014577, 0.60932945, 0.64917396, 0.60155491,\n",
      "       0.5898931 , 0.5840622 , 0.92517007, 0.64820214, 0.52478134,\n",
      "       0.80174927, 0.89698737, 0.90281827, 0.92225462, 0.89795918,\n",
      "       0.95821186, 0.53547133, 0.65792031, 0.74052478, 0.61030126,\n",
      "       0.87755102, 0.92614189, 0.9212828 , 0.9494655 , 0.58309038,\n",
      "       0.66083576, 0.77065112, 0.88726919, 0.90864917, 0.8931001 ,\n",
      "       0.93780369, 0.94655005, 0.6122449 , 0.62196307, 0.78911565,\n",
      "       0.91059281, 0.90962099, 0.8765792 , 0.95335277, 0.96112731,\n",
      "       0.62779397, 0.68221574, 0.5675413 , 0.88241011, 0.89795918,\n",
      "       0.88726919, 0.89795918, 0.9552964 , 0.49854227, 0.65208941,\n",
      "       0.77939747, 0.5840622 , 0.84936832, 0.54421769, 0.48396501,\n",
      "       0.93586006, 0.595724  , 0.63654033, 0.8143829 , 0.90864917,\n",
      "       0.90670554, 0.91156463, 0.92905734, 0.90281827, 0.58017493,\n",
      "       0.6345967 , 0.81729835, 0.88143829, 0.90670554, 0.9436346 ,\n",
      "       0.94655005, 0.94169096, 0.6345967 , 0.65111759, 0.82215743,\n",
      "       0.88629738, 0.87949466, 0.94460641, 0.93197279, 0.96209913,\n",
      "       0.64431487, 0.60058309, 0.78620019, 0.898931  , 0.87852284,\n",
      "       0.90864917, 0.9436346 , 0.9436346 , 0.6404276 , 0.69776482,\n",
      "       0.82798834, 0.92322643, 0.87366375, 0.92031098, 0.91933916,\n",
      "       0.93002915]), 'split3_test_score': array([0.64528669, 0.61321672, 0.60932945, 0.65306122, 0.85325559,\n",
      "       0.94460641, 0.53838678, 0.93780369, 0.64820214, 0.60544218,\n",
      "       0.76676385, 0.90379009, 0.60641399, 0.92031098, 0.90864917,\n",
      "       0.92614189, 0.60641399, 0.50923226, 0.76287658, 0.63362488,\n",
      "       0.89698737, 0.86297376, 0.93197279, 0.93391642, 0.6404276 ,\n",
      "       0.64528669, 0.76579203, 0.88532556, 0.8931001 , 0.90864917,\n",
      "       0.93002915, 0.94266278, 0.63751215, 0.59378037, 0.75024295,\n",
      "       0.86686103, 0.88046647, 0.8931001 , 0.93100097, 0.95918367,\n",
      "       0.45286686, 0.65014577, 0.7191448 , 0.44217687, 0.8765792 ,\n",
      "       0.85908649, 0.91253644, 0.82215743, 0.48396501, 0.60544218,\n",
      "       0.63070943, 0.87949466, 0.83673469, 0.92517007, 0.90767736,\n",
      "       0.92031098, 0.59280855, 0.62487852, 0.78425656, 0.85908649,\n",
      "       0.88435374, 0.89601555, 0.89601555, 0.91642371, 0.59475219,\n",
      "       0.67444121, 0.79105928, 0.88921283, 0.8931001 , 0.91448008,\n",
      "       0.9271137 , 0.93197279, 0.59863946, 0.6686103 , 0.7755102 ,\n",
      "       0.86588921, 0.88824101, 0.91448008, 0.93197279, 0.91836735,\n",
      "       0.60155491, 0.65986395, 0.76579203, 0.87366375, 0.88726919,\n",
      "       0.91933916, 0.92517007, 0.95335277, 0.62876579, 0.63362488,\n",
      "       0.77745384, 0.88046647, 0.87172012, 0.898931  , 0.91836735,\n",
      "       0.9212828 ]), 'split4_test_score': array([0.64785992, 0.60603113, 0.59533074, 0.64883268, 0.91050584,\n",
      "       0.9192607 , 0.88035019, 0.91634241, 0.64883268, 0.5311284 ,\n",
      "       0.73735409, 0.88910506, 0.90077821, 0.90564202, 0.9270428 ,\n",
      "       0.94552529, 0.63132296, 0.63618677, 0.79474708, 0.63132296,\n",
      "       0.89396887, 0.93190661, 0.93677043, 0.95330739, 0.64494163,\n",
      "       0.64202335, 0.78404669, 0.89688716, 0.88618677, 0.92217899,\n",
      "       0.9348249 , 0.91828794, 0.63035019, 0.66342412, 0.77529183,\n",
      "       0.87548638, 0.89785992, 0.93190661, 0.93093385, 0.94747082,\n",
      "       0.46206226, 0.63424125, 0.5807393 , 0.82587549, 0.88618677,\n",
      "       0.8959144 , 0.91828794, 0.92315175, 0.55642023, 0.62937743,\n",
      "       0.76945525, 0.8618677 , 0.89688716, 0.57684825, 0.90856031,\n",
      "       0.93190661, 0.57392996, 0.62645914, 0.79280156, 0.87354086,\n",
      "       0.89299611, 0.92023346, 0.92315175, 0.92412451, 0.59143969,\n",
      "       0.66634241, 0.80544747, 0.88618677, 0.88229572, 0.8881323 ,\n",
      "       0.93385214, 0.92607004, 0.63424125, 0.6536965 , 0.78696498,\n",
      "       0.87548638, 0.90175097, 0.89299611, 0.92607004, 0.92996109,\n",
      "       0.61478599, 0.63715953, 0.80836576, 0.88424125, 0.89494163,\n",
      "       0.90758755, 0.90175097, 0.9348249 , 0.64785992, 0.67120623,\n",
      "       0.81322957, 0.87645914, 0.86964981, 0.91536965, 0.90953307,\n",
      "       0.91439689]), 'mean_test_score': array([0.64613292, 0.63078119, 0.59968908, 0.64885348, 0.77516518,\n",
      "       0.80820054, 0.74174116, 0.9304314 , 0.64846483, 0.55849203,\n",
      "       0.78701904, 0.83035367, 0.71725612, 0.91760591, 0.9160513 ,\n",
      "       0.94928099, 0.60085503, 0.57656432, 0.78507579, 0.63544501,\n",
      "       0.89603576, 0.91954916, 0.88457054, 0.94558881, 0.63330742,\n",
      "       0.65157404, 0.80450836, 0.89506413, 0.89759036, 0.90944423,\n",
      "       0.93392927, 0.93781578, 0.62650602, 0.59541391, 0.80120482,\n",
      "       0.89312087, 0.90147688, 0.91274777, 0.93859308, 0.95258453,\n",
      "       0.49689079, 0.63486203, 0.65876409, 0.70598523, 0.8956471 ,\n",
      "       0.88923436, 0.91799456, 0.89545278, 0.52701127, 0.61776137,\n",
      "       0.72833269, 0.81849981, 0.88223863, 0.77671978, 0.8297707 ,\n",
      "       0.9228527 , 0.59036145, 0.63233579, 0.81344734, 0.89389817,\n",
      "       0.8940925 , 0.92013214, 0.91877186, 0.92771084, 0.58297707,\n",
      "       0.64729887, 0.81869413, 0.89370385, 0.90342013, 0.92304703,\n",
      "       0.93412359, 0.94500583, 0.62339681, 0.66303925, 0.80956082,\n",
      "       0.89020599, 0.90050525, 0.92363   , 0.93023708, 0.93781578,\n",
      "       0.61853867, 0.63291877, 0.81422464, 0.89350952, 0.89506413,\n",
      "       0.91488535, 0.91935484, 0.95064127, 0.62903226, 0.66537116,\n",
      "       0.8161679 , 0.89895064, 0.881267  , 0.92090944, 0.92499028,\n",
      "       0.92343568]), 'std_test_score': array([0.00165964, 0.01824189, 0.00797458, 0.00266451, 0.1398312 ,\n",
      "       0.1620467 , 0.15586019, 0.00865893, 0.000239  , 0.03447402,\n",
      "       0.03155686, 0.1377085 , 0.15084016, 0.01025957, 0.01792179,\n",
      "       0.01258676, 0.03542559, 0.05945937, 0.03059792, 0.01506864,\n",
      "       0.01082382, 0.02868932, 0.08624283, 0.00652137, 0.02530749,\n",
      "       0.01489994, 0.04025229, 0.00897697, 0.01338074, 0.01958866,\n",
      "       0.00420633, 0.01240871, 0.01282472, 0.04436627, 0.04011225,\n",
      "       0.01849622, 0.01550231, 0.02376858, 0.00853621, 0.00722244,\n",
      "       0.06578505, 0.03971179, 0.08763725, 0.20567881, 0.01302629,\n",
      "       0.01673978, 0.01286919, 0.0643683 , 0.03053842, 0.02297934,\n",
      "       0.07499298, 0.11748314, 0.03301781, 0.17679289, 0.17318987,\n",
      "       0.01052362, 0.00831444, 0.0062691 , 0.02811043, 0.02518652,\n",
      "       0.01863225, 0.01539851, 0.0158316 , 0.01786906, 0.00923862,\n",
      "       0.01948912, 0.0245439 , 0.01504914, 0.01389941, 0.01989973,\n",
      "       0.01011535, 0.01610197, 0.01817833, 0.00883987, 0.02486254,\n",
      "       0.02007489, 0.01659725, 0.01874999, 0.01277869, 0.01440927,\n",
      "       0.01842198, 0.01904224, 0.04147982, 0.01360445, 0.01362262,\n",
      "       0.01403595, 0.01494656, 0.01230857, 0.01365332, 0.02113045,\n",
      "       0.0221854 , 0.01806689, 0.01478762, 0.01457019, 0.01461412,\n",
      "       0.01143561]), 'rank_test_score': array([76, 82, 89, 73, 64, 58, 65, 11, 74, 94, 61, 50, 67, 25, 26,  3, 88,\n",
      "       93, 62, 77, 35, 21, 47,  4, 79, 72, 59, 38, 34, 29, 10,  7, 84, 90,\n",
      "       60, 44, 31, 28,  6,  1, 96, 78, 71, 68, 36, 46, 24, 37, 95, 87, 66,\n",
      "       53, 48, 63, 51, 18, 91, 81, 56, 41, 40, 20, 23, 13, 92, 75, 52, 42,\n",
      "       30, 17,  9,  5, 85, 70, 57, 45, 32, 15, 12,  7, 86, 80, 55, 43, 38,\n",
      "       27, 22,  2, 83, 69, 54, 33, 49, 19, 14, 16]), 'split0_train_score': array([0.64844509, 0.64504373, 0.59475219, 0.64917396, 0.91180758,\n",
      "       0.62998056, 0.80587949, 0.94412051, 0.64844509, 0.53790087,\n",
      "       0.8202138 , 0.55928086, 0.60131195, 0.92517007, 0.95043732,\n",
      "       0.96963071, 0.60179786, 0.57896016, 0.85179786, 0.64285714,\n",
      "       0.91715258, 0.946793  , 0.92857143, 0.96817298, 0.64552964,\n",
      "       0.65937804, 0.84183673, 0.92274052, 0.89674441, 0.90937804,\n",
      "       0.95262391, 0.96379981, 0.6207483 , 0.57191448, 0.83940719,\n",
      "       0.91132167, 0.89771623, 0.92638484, 0.95408163, 0.97084548,\n",
      "       0.47546161, 0.54810496, 0.81025267, 0.44922255, 0.90184645,\n",
      "       0.904276  , 0.94387755, 0.82847425, 0.53474247, 0.59329446,\n",
      "       0.83236152, 0.88532556, 0.90573372, 0.91472303, 0.92857143,\n",
      "       0.93926142, 0.57993197, 0.63702624, 0.83892128, 0.91642371,\n",
      "       0.86054422, 0.94193392, 0.94995141, 0.952138  , 0.57968902,\n",
      "       0.64965986, 0.84232264, 0.88702624, 0.91690962, 0.94047619,\n",
      "       0.93294461, 0.95456754, 0.59159378, 0.67055394, 0.84888241,\n",
      "       0.91569485, 0.92419825, 0.93634597, 0.93367347, 0.95772595,\n",
      "       0.58527697, 0.64747328, 0.84961127, 0.92492711, 0.91205053,\n",
      "       0.92371234, 0.92589893, 0.97133139, 0.62001944, 0.65549077,\n",
      "       0.8595724 , 0.91375121, 0.90621963, 0.94266278, 0.94460641,\n",
      "       0.95748299]), 'split1_train_score': array([0.64747328, 0.62609329, 0.58843537, 0.64844509, 0.60155491,\n",
      "       0.94727891, 0.94217687, 0.94290573, 0.64844509, 0.57750243,\n",
      "       0.80077745, 0.9154519 , 0.60034014, 0.89941691, 0.9101069 ,\n",
      "       0.96112731, 0.63605442, 0.54057337, 0.78960155, 0.64795918,\n",
      "       0.90986395, 0.94557823, 0.69995141, 0.95286686, 0.64868805,\n",
      "       0.66836735, 0.81073858, 0.89358601, 0.91132167, 0.94436346,\n",
      "       0.94266278, 0.92468416, 0.63046647, 0.56268222, 0.83479106,\n",
      "       0.91302235, 0.91909621, 0.92832847, 0.9382896 , 0.94655005,\n",
      "       0.47035957, 0.61904762, 0.62366375, 0.898931  , 0.90913508,\n",
      "       0.91788144, 0.91375121, 0.96501458, 0.57215743, 0.62293489,\n",
      "       0.6319242 , 0.86248785, 0.91156463, 0.91836735, 0.93999028,\n",
      "       0.90767736, 0.61103013, 0.62585034, 0.82896016, 0.90500486,\n",
      "       0.91423712, 0.92735666, 0.9186103 , 0.95602527, 0.57312925,\n",
      "       0.64771623, 0.81802721, 0.90670554, 0.8931001 , 0.9409621 ,\n",
      "       0.94412051, 0.98396501, 0.63726919, 0.66302235, 0.8260447 ,\n",
      "       0.91909621, 0.92468416, 0.94557823, 0.94144801, 0.94193392,\n",
      "       0.6350826 , 0.65330418, 0.84620991, 0.91958212, 0.9101069 ,\n",
      "       0.94290573, 0.93221574, 0.97230321, 0.60398445, 0.67444121,\n",
      "       0.80247813, 0.90816327, 0.92152575, 0.94995141, 0.95699708,\n",
      "       0.90816327]), 'split2_train_score': array([0.64561574, 0.64561574, 0.61112461, 0.64853048, 0.60723828,\n",
      "       0.59703668, 0.6167112 , 0.92373087, 0.64853048, 0.52052465,\n",
      "       0.81078455, 0.89166869, 0.91887297, 0.93077484, 0.91863007,\n",
      "       0.95895069, 0.54141365, 0.65168812, 0.75078941, 0.63177071,\n",
      "       0.88511052, 0.92810299, 0.92081613, 0.96040806, 0.56400291,\n",
      "       0.65873209, 0.79596794, 0.87903813, 0.91863007, 0.91231479,\n",
      "       0.95069225, 0.96089385, 0.62448385, 0.6167112 , 0.80106874,\n",
      "       0.90599951, 0.90940005, 0.9013845 , 0.95919359, 0.97012388,\n",
      "       0.62351227, 0.68836531, 0.58877824, 0.89531212, 0.88875395,\n",
      "       0.88729658, 0.91814428, 0.95603595, 0.49574933, 0.64148652,\n",
      "       0.80034005, 0.58756376, 0.86057809, 0.54651445, 0.48433325,\n",
      "       0.94146223, 0.59727957, 0.62496964, 0.81151324, 0.91158611,\n",
      "       0.90842847, 0.90940005, 0.94389118, 0.91255769, 0.58149138,\n",
      "       0.65168812, 0.82122905, 0.89458343, 0.91571533, 0.93951907,\n",
      "       0.96113675, 0.96259412, 0.63857178, 0.6631042 , 0.81977168,\n",
      "       0.89798397, 0.88243867, 0.95530726, 0.94923488, 0.97741074,\n",
      "       0.64707311, 0.58829245, 0.79839689, 0.91911586, 0.90867136,\n",
      "       0.92057323, 0.96040806, 0.96137965, 0.64488705, 0.68302162,\n",
      "       0.83701725, 0.92688851, 0.89604081, 0.92907457, 0.94146223,\n",
      "       0.97352441]), 'split3_train_score': array([0.64901627, 0.62909886, 0.59023561, 0.65023075, 0.88851105,\n",
      "       0.95482147, 0.53777022, 0.95579305, 0.64853048, 0.60942434,\n",
      "       0.82292932, 0.92834588, 0.60553801, 0.95093515, 0.93077484,\n",
      "       0.9480204 , 0.63079913, 0.52951178, 0.79936847, 0.63954336,\n",
      "       0.92373087, 0.91887297, 0.95555016, 0.96307991, 0.64537284,\n",
      "       0.63152781, 0.83094486, 0.92178771, 0.92275929, 0.93223221,\n",
      "       0.95384989, 0.96429439, 0.64512995, 0.5649745 , 0.82292932,\n",
      "       0.92373087, 0.90842847, 0.93077484, 0.95457858, 0.98008258,\n",
      "       0.47000243, 0.68302162, 0.77677921, 0.4505708 , 0.90818557,\n",
      "       0.89094   , 0.93563274, 0.83313092, 0.51445227, 0.59023561,\n",
      "       0.62424095, 0.91522954, 0.8498907 , 0.94559145, 0.94121933,\n",
      "       0.93223221, 0.59800826, 0.65095944, 0.84503279, 0.89239738,\n",
      "       0.91377216, 0.92373087, 0.91911586, 0.94486276, 0.58416323,\n",
      "       0.67816371, 0.83580277, 0.91498664, 0.90745689, 0.94097644,\n",
      "       0.94972067, 0.95749332, 0.60699538, 0.6735487 , 0.82973039,\n",
      "       0.91110032, 0.91984455, 0.94704882, 0.9531212 , 0.94923488,\n",
      "       0.59387904, 0.68715084, 0.83167355, 0.9120719 , 0.92154481,\n",
      "       0.95943648, 0.95239252, 0.97765363, 0.63881467, 0.64731601,\n",
      "       0.84940491, 0.91960165, 0.90381346, 0.93198931, 0.94510566,\n",
      "       0.96089385]), 'split4_train_score': array([0.64764449, 0.63161729, 0.59179213, 0.648373  , 0.91622147,\n",
      "       0.93176299, 0.91694998, 0.93297717, 0.648373  , 0.52622632,\n",
      "       0.79723167, 0.90456532, 0.92690627, 0.92423507, 0.95774648,\n",
      "       0.96697426, 0.63525983, 0.66027198, 0.80888781, 0.63647402,\n",
      "       0.92423507, 0.95750364, 0.96090335, 0.97523069, 0.64740165,\n",
      "       0.66415736, 0.82977173, 0.92860612, 0.91962118, 0.94511899,\n",
      "       0.95434677, 0.94244779, 0.63064594, 0.64861583, 0.79577465,\n",
      "       0.91864983, 0.91962118, 0.9511899 , 0.96090335, 0.97085964,\n",
      "       0.46915979, 0.6597863 , 0.59519184, 0.864983  , 0.90286547,\n",
      "       0.91864983, 0.93904808, 0.94681884, 0.54759592, 0.64594463,\n",
      "       0.79966003, 0.89412336, 0.92010685, 0.57673628, 0.93734823,\n",
      "       0.94730452, 0.58960661, 0.65201554, 0.82175814, 0.90116561,\n",
      "       0.91622147, 0.94949004, 0.95191841, 0.95458961, 0.60004857,\n",
      "       0.69524041, 0.82054395, 0.9077222 , 0.92010685, 0.92156387,\n",
      "       0.94900437, 0.95337542, 0.62797475, 0.67168528, 0.81908694,\n",
      "       0.90917921, 0.93661972, 0.93661972, 0.95774648, 0.97037397,\n",
      "       0.61121904, 0.67095678, 0.8489558 , 0.92034968, 0.93079165,\n",
      "       0.94099077, 0.93224866, 0.96745993, 0.64643031, 0.69111219,\n",
      "       0.83729966, 0.91039339, 0.90942205, 0.94730452, 0.93807674,\n",
      "       0.94390481]), 'mean_train_score': array([0.64763897, 0.63549378, 0.59526798, 0.64895066, 0.78506666,\n",
      "       0.81217612, 0.76389755, 0.93990547, 0.64846483, 0.55431572,\n",
      "       0.81038736, 0.83986253, 0.73059387, 0.92610641, 0.93353912,\n",
      "       0.96094067, 0.60906498, 0.59220108, 0.80008902, 0.63972088,\n",
      "       0.9120186 , 0.93937017, 0.89315849, 0.9639517 , 0.63019902,\n",
      "       0.65643253, 0.82185197, 0.9091517 , 0.91381532, 0.9286815 ,\n",
      "       0.95083512, 0.951224  , 0.6302949 , 0.59297964, 0.81879419,\n",
      "       0.91454485, 0.91085243, 0.92761251, 0.95340935, 0.96769233,\n",
      "       0.50169913, 0.63966516, 0.67893314, 0.71180389, 0.9021573 ,\n",
      "       0.90380877, 0.93009077, 0.90589491, 0.53293949, 0.61877922,\n",
      "       0.73770535, 0.82894601, 0.8895748 , 0.78038651, 0.8462925 ,\n",
      "       0.93358755, 0.59517131, 0.63816424, 0.82923712, 0.90531553,\n",
      "       0.90264069, 0.93038231, 0.93669743, 0.94403466, 0.58370429,\n",
      "       0.66449367, 0.82758513, 0.90220481, 0.91065776, 0.93669953,\n",
      "       0.94738538, 0.96239908, 0.62048098, 0.66838289, 0.82870322,\n",
      "       0.91061091, 0.91755707, 0.94418   , 0.94704481, 0.95933589,\n",
      "       0.61450615, 0.6494355 , 0.83496949, 0.91920933, 0.91663305,\n",
      "       0.93752371, 0.94063278, 0.97002556, 0.63082718, 0.67027636,\n",
      "       0.83715447, 0.91575961, 0.90740434, 0.94019652, 0.94524962,\n",
      "       0.94879387]), 'std_train_score': array([1.15479400e-03, 8.22127692e-03, 8.19499107e-03, 7.00618967e-04,\n",
      "       1.47827658e-01, 1.62715507e-01, 1.61101481e-01, 1.08517493e-02,\n",
      "       5.97214416e-05, 3.39849402e-02, 1.01925459e-02, 1.40811549e-01,\n",
      "       1.57039098e-01, 1.64618861e-02, 1.81688485e-02, 7.52129144e-03,\n",
      "       3.61012100e-02, 5.46681731e-02, 3.25336156e-02, 5.50426530e-03,\n",
      "       1.44323560e-02, 1.39251289e-02, 9.78060159e-02, 7.49967966e-03,\n",
      "       3.31209053e-02, 1.29330723e-02, 1.63602244e-02, 1.93489896e-02,\n",
      "       9.32221617e-03, 1.52919277e-02, 4.27616300e-03, 1.55169394e-02,\n",
      "       8.30827616e-03, 3.40720876e-02, 1.75612406e-02, 6.11495715e-03,\n",
      "       8.06716278e-03, 1.58481649e-02, 8.00054130e-03, 1.11928647e-02,\n",
      "       6.09467063e-02, 5.18935484e-02, 9.48829698e-02, 2.14171592e-01,\n",
      "       7.28392082e-03, 1.30902487e-02, 1.19224319e-02, 6.15996500e-02,\n",
      "       2.63855792e-02, 2.33882937e-02, 9.03162220e-02, 1.21870450e-01,\n",
      "       2.86094611e-02, 1.79191094e-01, 1.81033612e-01, 1.38241355e-02,\n",
      "       1.02683829e-02, 1.16841799e-02, 1.19451593e-02, 8.32957194e-03,\n",
      "       2.12058286e-02, 1.40868492e-02, 1.48010268e-02, 1.62008098e-02,\n",
      "       8.94647243e-03, 1.89617420e-02, 9.65459089e-03, 1.00254444e-02,\n",
      "       9.72077289e-03, 7.58633941e-03, 9.12546152e-03, 1.12423610e-02,\n",
      "       1.83390789e-02, 4.44757824e-03, 1.08403677e-02, 7.20521574e-03,\n",
      "       1.84218343e-02, 7.10677276e-03, 8.55992571e-03, 1.30842671e-02,\n",
      "       2.35568478e-02, 3.35943509e-02, 1.94152729e-02, 4.12514523e-03,\n",
      "       8.38534232e-03, 1.41366819e-02, 1.33235095e-02, 5.41136998e-03,\n",
      "       1.63846088e-02, 1.64906696e-02, 1.92620091e-02, 6.76975763e-03,\n",
      "       8.32962590e-03, 8.28033774e-03, 6.39111802e-03, 2.23975852e-02])}\n",
      "dict_keys(['mean_fit_time', 'std_fit_time', 'mean_score_time', 'std_score_time', 'param_NN__hidden_layer_sizes', 'param_pca__n_components', 'params', 'split0_test_score', 'split1_test_score', 'split2_test_score', 'split3_test_score', 'split4_test_score', 'mean_test_score', 'std_test_score', 'rank_test_score', 'split0_train_score', 'split1_train_score', 'split2_train_score', 'split3_train_score', 'split4_train_score', 'mean_train_score', 'std_train_score'])\n"
     ]
    },
    {
     "name": "stderr",
     "output_type": "stream",
     "text": [
      "C:\\Users\\ajmot\\Anaconda3\\lib\\site-packages\\sklearn\\utils\\deprecation.py:122: FutureWarning: You are accessing a training score ('mean_train_score'), which will not be available by default any more in 0.21. If you need training scores, please set return_train_score=True\n",
      "  warnings.warn(*warn_args, **warn_kwargs)\n",
      "C:\\Users\\ajmot\\Anaconda3\\lib\\site-packages\\sklearn\\utils\\deprecation.py:122: FutureWarning: You are accessing a training score ('split0_train_score'), which will not be available by default any more in 0.21. If you need training scores, please set return_train_score=True\n",
      "  warnings.warn(*warn_args, **warn_kwargs)\n",
      "C:\\Users\\ajmot\\Anaconda3\\lib\\site-packages\\sklearn\\utils\\deprecation.py:122: FutureWarning: You are accessing a training score ('split1_train_score'), which will not be available by default any more in 0.21. If you need training scores, please set return_train_score=True\n",
      "  warnings.warn(*warn_args, **warn_kwargs)\n",
      "C:\\Users\\ajmot\\Anaconda3\\lib\\site-packages\\sklearn\\utils\\deprecation.py:122: FutureWarning: You are accessing a training score ('split2_train_score'), which will not be available by default any more in 0.21. If you need training scores, please set return_train_score=True\n",
      "  warnings.warn(*warn_args, **warn_kwargs)\n",
      "C:\\Users\\ajmot\\Anaconda3\\lib\\site-packages\\sklearn\\utils\\deprecation.py:122: FutureWarning: You are accessing a training score ('split3_train_score'), which will not be available by default any more in 0.21. If you need training scores, please set return_train_score=True\n",
      "  warnings.warn(*warn_args, **warn_kwargs)\n",
      "C:\\Users\\ajmot\\Anaconda3\\lib\\site-packages\\sklearn\\utils\\deprecation.py:122: FutureWarning: You are accessing a training score ('split4_train_score'), which will not be available by default any more in 0.21. If you need training scores, please set return_train_score=True\n",
      "  warnings.warn(*warn_args, **warn_kwargs)\n",
      "C:\\Users\\ajmot\\Anaconda3\\lib\\site-packages\\sklearn\\utils\\deprecation.py:122: FutureWarning: You are accessing a training score ('std_train_score'), which will not be available by default any more in 0.21. If you need training scores, please set return_train_score=True\n",
      "  warnings.warn(*warn_args, **warn_kwargs)\n"
     ]
    }
   ],
   "source": [
    "from sklearn.decomposition import PCA\n",
    "\n",
    "dims_bb = [2,5,10,15,20,25,30,35]\n",
    "nn_arch= [(5,10),(10,10),(10,20),(20,20),(20,10),(5,),(10,),(20,),(30,),(30,10),(30,20),(30,30)]\n",
    "\n",
    "grid ={'pca__n_components':dims_bb, 'NN__hidden_layer_sizes':nn_arch}\n",
    "pca = PCA(random_state=5)       \n",
    "mlp = MLPClassifier(activation='relu',max_iter=2000,early_stopping=True,random_state=5,alpha=0.1)\n",
    "pipe = Pipeline([('pca',pca),('NN',mlp)])\n",
    "gs = GridSearchCV(pipe,grid,verbose=10,cv=5)\n",
    "\n",
    "gs.fit(basketball[\"data\"],basketball[\"target\"])\n",
    "tmp = pd.DataFrame(gs.cv_results_)\n",
    "tmp.to_csv('bball_pca_nn.csv')\n",
    "print(gs.cv_results_)\n",
    "print(gs.cv_results_.keys())"
   ]
  },
  {
   "cell_type": "code",
   "execution_count": 24,
   "metadata": {},
   "outputs": [
    {
     "name": "stdout",
     "output_type": "stream",
     "text": [
      "Fitting 5 folds for each of 12 candidates, totalling 60 fits\n",
      "[CV] NN__hidden_layer_sizes=(5, 10) ..................................\n",
      "[CV]  NN__hidden_layer_sizes=(5, 10), score=0.6485436893203883, total=   0.0s\n",
      "[CV] NN__hidden_layer_sizes=(5, 10) ..................................\n",
      "[CV]  NN__hidden_layer_sizes=(5, 10), score=0.6485436893203883, total=   0.0s\n",
      "[CV] NN__hidden_layer_sizes=(5, 10) ..................................\n"
     ]
    },
    {
     "name": "stderr",
     "output_type": "stream",
     "text": [
      "[Parallel(n_jobs=1)]: Done   1 out of   1 | elapsed:    0.0s remaining:    0.0s\n",
      "[Parallel(n_jobs=1)]: Done   2 out of   2 | elapsed:    0.0s remaining:    0.0s\n",
      "[Parallel(n_jobs=1)]: Done   3 out of   3 | elapsed:    0.1s remaining:    0.0s\n",
      "[Parallel(n_jobs=1)]: Done   4 out of   4 | elapsed:    0.2s remaining:    0.0s\n"
     ]
    },
    {
     "name": "stdout",
     "output_type": "stream",
     "text": [
      "[CV]  NN__hidden_layer_sizes=(5, 10), score=0.6482021379980564, total=   0.0s\n",
      "[CV] NN__hidden_layer_sizes=(5, 10) ..................................\n",
      "[CV]  NN__hidden_layer_sizes=(5, 10), score=0.6482021379980564, total=   0.0s\n",
      "[CV] NN__hidden_layer_sizes=(5, 10) ..................................\n",
      "[CV]  NN__hidden_layer_sizes=(5, 10), score=0.5992217898832685, total=   0.0s\n",
      "[CV] NN__hidden_layer_sizes=(10, 10) .................................\n"
     ]
    },
    {
     "name": "stderr",
     "output_type": "stream",
     "text": [
      "[Parallel(n_jobs=1)]: Done   5 out of   5 | elapsed:    0.3s remaining:    0.0s\n",
      "[Parallel(n_jobs=1)]: Done   6 out of   6 | elapsed:    0.4s remaining:    0.0s\n",
      "[Parallel(n_jobs=1)]: Done   7 out of   7 | elapsed:    0.5s remaining:    0.0s\n"
     ]
    },
    {
     "name": "stdout",
     "output_type": "stream",
     "text": [
      "[CV]  NN__hidden_layer_sizes=(10, 10), score=0.525242718446602, total=   0.0s\n",
      "[CV] NN__hidden_layer_sizes=(10, 10) .................................\n",
      "[CV]  NN__hidden_layer_sizes=(10, 10), score=0.5233009708737864, total=   0.0s\n",
      "[CV] NN__hidden_layer_sizes=(10, 10) .................................\n",
      "[CV]  NN__hidden_layer_sizes=(10, 10), score=0.5471331389698737, total=   0.1s\n",
      "[CV] NN__hidden_layer_sizes=(10, 10) .................................\n",
      "[CV]  NN__hidden_layer_sizes=(10, 10), score=0.5121477162293488, total=   0.0s\n",
      "[CV] NN__hidden_layer_sizes=(10, 10) .................................\n"
     ]
    },
    {
     "name": "stderr",
     "output_type": "stream",
     "text": [
      "[Parallel(n_jobs=1)]: Done   8 out of   8 | elapsed:    0.6s remaining:    0.0s\n",
      "[Parallel(n_jobs=1)]: Done   9 out of   9 | elapsed:    0.7s remaining:    0.0s\n"
     ]
    },
    {
     "name": "stdout",
     "output_type": "stream",
     "text": [
      "[CV]  NN__hidden_layer_sizes=(10, 10), score=0.5719844357976653, total=   0.0s\n",
      "[CV] NN__hidden_layer_sizes=(10, 20) .................................\n",
      "[CV]  NN__hidden_layer_sizes=(10, 20), score=0.6446601941747573, total=   0.0s\n",
      "[CV] NN__hidden_layer_sizes=(10, 20) .................................\n",
      "[CV]  NN__hidden_layer_sizes=(10, 20), score=0.6446601941747573, total=   0.0s\n",
      "[CV] NN__hidden_layer_sizes=(10, 20) .................................\n",
      "[CV]  NN__hidden_layer_sizes=(10, 20), score=0.6433430515063168, total=   0.0s\n",
      "[CV] NN__hidden_layer_sizes=(10, 20) .................................\n",
      "[CV]  NN__hidden_layer_sizes=(10, 20), score=0.6326530612244898, total=   0.0s\n",
      "[CV] NN__hidden_layer_sizes=(10, 20) .................................\n",
      "[CV]  NN__hidden_layer_sizes=(10, 20), score=0.6167315175097277, total=   0.0s\n",
      "[CV] NN__hidden_layer_sizes=(20, 20) .................................\n",
      "[CV]  NN__hidden_layer_sizes=(20, 20), score=0.6339805825242718, total=   0.1s\n",
      "[CV] NN__hidden_layer_sizes=(20, 20) .................................\n",
      "[CV]  NN__hidden_layer_sizes=(20, 20), score=0.5466019417475728, total=   0.0s\n",
      "[CV] NN__hidden_layer_sizes=(20, 20) .................................\n",
      "[CV]  NN__hidden_layer_sizes=(20, 20), score=0.5490767735665695, total=   0.0s\n",
      "[CV] NN__hidden_layer_sizes=(20, 20) .................................\n",
      "[CV]  NN__hidden_layer_sizes=(20, 20), score=0.5714285714285714, total=   0.0s\n",
      "[CV] NN__hidden_layer_sizes=(20, 20) .................................\n",
      "[CV]  NN__hidden_layer_sizes=(20, 20), score=0.646887159533074, total=   0.1s\n",
      "[CV] NN__hidden_layer_sizes=(20, 10) .................................\n",
      "[CV]  NN__hidden_layer_sizes=(20, 10), score=0.6194174757281553, total=   0.0s\n",
      "[CV] NN__hidden_layer_sizes=(20, 10) .................................\n",
      "[CV]  NN__hidden_layer_sizes=(20, 10), score=0.6097087378640776, total=   0.0s\n",
      "[CV] NN__hidden_layer_sizes=(20, 10) .................................\n",
      "[CV]  NN__hidden_layer_sizes=(20, 10), score=0.6219630709426628, total=   0.0s\n",
      "[CV] NN__hidden_layer_sizes=(20, 10) .................................\n",
      "[CV]  NN__hidden_layer_sizes=(20, 10), score=0.6239067055393586, total=   0.0s\n",
      "[CV] NN__hidden_layer_sizes=(20, 10) .................................\n",
      "[CV]  NN__hidden_layer_sizes=(20, 10), score=0.6400778210116731, total=   0.0s\n",
      "[CV] NN__hidden_layer_sizes=(5,) .....................................\n",
      "[CV]  NN__hidden_layer_sizes=(5,), score=0.6485436893203883, total=   0.0s\n",
      "[CV] NN__hidden_layer_sizes=(5,) .....................................\n",
      "[CV]  NN__hidden_layer_sizes=(5,), score=0.6485436893203883, total=   0.0s\n",
      "[CV] NN__hidden_layer_sizes=(5,) .....................................\n",
      "[CV]  NN__hidden_layer_sizes=(5,), score=0.6482021379980564, total=   0.0s\n",
      "[CV] NN__hidden_layer_sizes=(5,) .....................................\n",
      "[CV]  NN__hidden_layer_sizes=(5,), score=0.6482021379980564, total=   0.0s\n",
      "[CV] NN__hidden_layer_sizes=(5,) .....................................\n",
      "[CV]  NN__hidden_layer_sizes=(5,), score=0.6488326848249028, total=   0.0s\n",
      "[CV] NN__hidden_layer_sizes=(10,) ....................................\n",
      "[CV]  NN__hidden_layer_sizes=(10,), score=0.5184466019417475, total=   0.0s\n",
      "[CV] NN__hidden_layer_sizes=(10,) ....................................\n",
      "[CV]  NN__hidden_layer_sizes=(10,), score=0.5349514563106796, total=   0.0s\n",
      "[CV] NN__hidden_layer_sizes=(10,) ....................................\n",
      "[CV]  NN__hidden_layer_sizes=(10,), score=0.5665694849368319, total=   0.0s\n",
      "[CV] NN__hidden_layer_sizes=(10,) ....................................\n",
      "[CV]  NN__hidden_layer_sizes=(10,), score=0.5587949465500486, total=   0.0s\n",
      "[CV] NN__hidden_layer_sizes=(10,) ....................................\n",
      "[CV]  NN__hidden_layer_sizes=(10,), score=0.5505836575875487, total=   0.0s\n",
      "[CV] NN__hidden_layer_sizes=(20,) ....................................\n",
      "[CV]  NN__hidden_layer_sizes=(20,), score=0.5446601941747573, total=   0.0s\n",
      "[CV] NN__hidden_layer_sizes=(20,) ....................................\n",
      "[CV]  NN__hidden_layer_sizes=(20,), score=0.5728155339805825, total=   0.0s\n",
      "[CV] NN__hidden_layer_sizes=(20,) ....................................\n",
      "[CV]  NN__hidden_layer_sizes=(20,), score=0.5481049562682215, total=   0.0s\n",
      "[CV] NN__hidden_layer_sizes=(20,) ....................................\n",
      "[CV]  NN__hidden_layer_sizes=(20,), score=0.531584062196307, total=   0.0s\n",
      "[CV] NN__hidden_layer_sizes=(20,) ....................................\n",
      "[CV]  NN__hidden_layer_sizes=(20,), score=0.5603112840466926, total=   0.0s\n",
      "[CV] NN__hidden_layer_sizes=(30,) ....................................\n",
      "[CV]  NN__hidden_layer_sizes=(30,), score=0.6485436893203883, total=   0.0s\n",
      "[CV] NN__hidden_layer_sizes=(30,) ....................................\n",
      "[CV]  NN__hidden_layer_sizes=(30,), score=0.6485436893203883, total=   0.0s\n",
      "[CV] NN__hidden_layer_sizes=(30,) ....................................\n",
      "[CV]  NN__hidden_layer_sizes=(30,), score=0.6482021379980564, total=   0.0s\n",
      "[CV] NN__hidden_layer_sizes=(30,) ....................................\n",
      "[CV]  NN__hidden_layer_sizes=(30,), score=0.6482021379980564, total=   0.0s\n",
      "[CV] NN__hidden_layer_sizes=(30,) ....................................\n",
      "[CV]  NN__hidden_layer_sizes=(30,), score=0.6488326848249028, total=   0.0s\n",
      "[CV] NN__hidden_layer_sizes=(30, 10) .................................\n",
      "[CV]  NN__hidden_layer_sizes=(30, 10), score=0.5359223300970873, total=   0.0s\n",
      "[CV] NN__hidden_layer_sizes=(30, 10) .................................\n",
      "[CV]  NN__hidden_layer_sizes=(30, 10), score=0.5689320388349515, total=   0.1s\n",
      "[CV] NN__hidden_layer_sizes=(30, 10) .................................\n",
      "[CV]  NN__hidden_layer_sizes=(30, 10), score=0.6054421768707483, total=   0.2s\n",
      "[CV] NN__hidden_layer_sizes=(30, 10) .................................\n",
      "[CV]  NN__hidden_layer_sizes=(30, 10), score=0.6268221574344023, total=   0.2s\n",
      "[CV] NN__hidden_layer_sizes=(30, 10) .................................\n",
      "[CV]  NN__hidden_layer_sizes=(30, 10), score=0.6157587548638133, total=   0.2s\n",
      "[CV] NN__hidden_layer_sizes=(30, 20) .................................\n",
      "[CV]  NN__hidden_layer_sizes=(30, 20), score=0.6398058252427185, total=   0.0s\n",
      "[CV] NN__hidden_layer_sizes=(30, 20) .................................\n",
      "[CV]  NN__hidden_layer_sizes=(30, 20), score=0.6262135922330098, total=   0.0s\n",
      "[CV] NN__hidden_layer_sizes=(30, 20) .................................\n",
      "[CV]  NN__hidden_layer_sizes=(30, 20), score=0.6355685131195336, total=   0.0s\n",
      "[CV] NN__hidden_layer_sizes=(30, 20) .................................\n",
      "[CV]  NN__hidden_layer_sizes=(30, 20), score=0.6452866861030127, total=   0.0s\n",
      "[CV] NN__hidden_layer_sizes=(30, 20) .................................\n",
      "[CV]  NN__hidden_layer_sizes=(30, 20), score=0.6371595330739299, total=   0.0s\n",
      "[CV] NN__hidden_layer_sizes=(30, 30) .................................\n",
      "[CV]  NN__hidden_layer_sizes=(30, 30), score=0.6048543689320388, total=   0.1s\n",
      "[CV] NN__hidden_layer_sizes=(30, 30) .................................\n",
      "[CV]  NN__hidden_layer_sizes=(30, 30), score=0.5766990291262136, total=   0.0s\n",
      "[CV] NN__hidden_layer_sizes=(30, 30) .................................\n",
      "[CV]  NN__hidden_layer_sizes=(30, 30), score=0.6005830903790087, total=   0.0s\n",
      "[CV] NN__hidden_layer_sizes=(30, 30) .................................\n",
      "[CV]  NN__hidden_layer_sizes=(30, 30), score=0.5986394557823129, total=   0.1s\n",
      "[CV] NN__hidden_layer_sizes=(30, 30) .................................\n",
      "[CV]  NN__hidden_layer_sizes=(30, 30), score=0.6186770428015564, total=   0.1s\n"
     ]
    },
    {
     "name": "stderr",
     "output_type": "stream",
     "text": [
      "[Parallel(n_jobs=1)]: Done  60 out of  60 | elapsed:    6.4s finished\n",
      "C:\\Users\\ajmot\\Anaconda3\\lib\\site-packages\\sklearn\\utils\\deprecation.py:122: FutureWarning: You are accessing a training score ('mean_train_score'), which will not be available by default any more in 0.21. If you need training scores, please set return_train_score=True\n",
      "  warnings.warn(*warn_args, **warn_kwargs)\n",
      "C:\\Users\\ajmot\\Anaconda3\\lib\\site-packages\\sklearn\\utils\\deprecation.py:122: FutureWarning: You are accessing a training score ('split0_train_score'), which will not be available by default any more in 0.21. If you need training scores, please set return_train_score=True\n",
      "  warnings.warn(*warn_args, **warn_kwargs)\n",
      "C:\\Users\\ajmot\\Anaconda3\\lib\\site-packages\\sklearn\\utils\\deprecation.py:122: FutureWarning: You are accessing a training score ('split1_train_score'), which will not be available by default any more in 0.21. If you need training scores, please set return_train_score=True\n",
      "  warnings.warn(*warn_args, **warn_kwargs)\n",
      "C:\\Users\\ajmot\\Anaconda3\\lib\\site-packages\\sklearn\\utils\\deprecation.py:122: FutureWarning: You are accessing a training score ('split2_train_score'), which will not be available by default any more in 0.21. If you need training scores, please set return_train_score=True\n",
      "  warnings.warn(*warn_args, **warn_kwargs)\n",
      "C:\\Users\\ajmot\\Anaconda3\\lib\\site-packages\\sklearn\\utils\\deprecation.py:122: FutureWarning: You are accessing a training score ('split3_train_score'), which will not be available by default any more in 0.21. If you need training scores, please set return_train_score=True\n",
      "  warnings.warn(*warn_args, **warn_kwargs)\n",
      "C:\\Users\\ajmot\\Anaconda3\\lib\\site-packages\\sklearn\\utils\\deprecation.py:122: FutureWarning: You are accessing a training score ('split4_train_score'), which will not be available by default any more in 0.21. If you need training scores, please set return_train_score=True\n",
      "  warnings.warn(*warn_args, **warn_kwargs)\n",
      "C:\\Users\\ajmot\\Anaconda3\\lib\\site-packages\\sklearn\\utils\\deprecation.py:122: FutureWarning: You are accessing a training score ('std_train_score'), which will not be available by default any more in 0.21. If you need training scores, please set return_train_score=True\n",
      "  warnings.warn(*warn_args, **warn_kwargs)\n"
     ]
    }
   ],
   "source": [
    "nn_arch= [(5,10),(10,10),(10,20),(20,20),(20,10),(5,),(10,),(20,),(30,),(30,10),(30,20),(30,30)]\n",
    "\n",
    "\n",
    "pca = PCA(n_components=10)\n",
    "pca.fit(basketball[\"data\"])\n",
    "pcaBasketballData = pca.fit_transform(basketball[\"data\"])\n",
    "\n",
    "kmeans = KMeans(n_clusters=10)\n",
    "kmeans.fit(pcaBasketballData)\n",
    "clusteredBasketballData = kmeans.transform(pcaBasketballData)\n",
    "\n",
    "\n",
    "\n",
    "grid ={'NN__hidden_layer_sizes':nn_arch}      \n",
    "mlp = MLPClassifier(activation='relu',max_iter=2000,early_stopping=True,random_state=5,alpha=0.1)\n",
    "pipe = Pipeline([('NN',mlp)])\n",
    "gs = GridSearchCV(pipe,grid,verbose=10,cv=5)\n",
    "\n",
    "gs.fit(clusteredBasketballData,basketball[\"target\"])\n",
    "tmp = pd.DataFrame(gs.cv_results_)\n",
    "tmp.to_csv('bball_pca_nn_from_clusters.csv')"
   ]
  },
  {
   "cell_type": "markdown",
   "metadata": {},
   "source": [
    "# Clustering ICA NN"
   ]
  },
  {
   "cell_type": "code",
   "execution_count": 21,
   "metadata": {
    "collapsed": true
   },
   "outputs": [
    {
     "name": "stdout",
     "output_type": "stream",
     "text": [
      "Fitting 5 folds for each of 96 candidates, totalling 480 fits\n",
      "[CV] NN__hidden_layer_sizes=(5, 10), ica__n_components=2 .............\n",
      "[CV]  NN__hidden_layer_sizes=(5, 10), ica__n_components=2, score=0.6485436893203883, total=   0.0s\n",
      "[CV] NN__hidden_layer_sizes=(5, 10), ica__n_components=2 .............\n"
     ]
    },
    {
     "name": "stderr",
     "output_type": "stream",
     "text": [
      "[Parallel(n_jobs=1)]: Done   1 out of   1 | elapsed:    0.0s remaining:    0.0s\n",
      "[Parallel(n_jobs=1)]: Done   2 out of   2 | elapsed:    0.1s remaining:    0.0s\n"
     ]
    },
    {
     "name": "stdout",
     "output_type": "stream",
     "text": [
      "[CV]  NN__hidden_layer_sizes=(5, 10), ica__n_components=2, score=0.6485436893203883, total=   0.0s\n",
      "[CV] NN__hidden_layer_sizes=(5, 10), ica__n_components=2 .............\n",
      "[CV]  NN__hidden_layer_sizes=(5, 10), ica__n_components=2, score=0.6482021379980564, total=   0.0s\n",
      "[CV] NN__hidden_layer_sizes=(5, 10), ica__n_components=2 .............\n"
     ]
    },
    {
     "name": "stderr",
     "output_type": "stream",
     "text": [
      "[Parallel(n_jobs=1)]: Done   3 out of   3 | elapsed:    0.3s remaining:    0.0s\n",
      "[Parallel(n_jobs=1)]: Done   4 out of   4 | elapsed:    0.4s remaining:    0.0s\n"
     ]
    },
    {
     "name": "stdout",
     "output_type": "stream",
     "text": [
      "[CV]  NN__hidden_layer_sizes=(5, 10), ica__n_components=2, score=0.6482021379980564, total=   0.0s\n",
      "[CV] NN__hidden_layer_sizes=(5, 10), ica__n_components=2 .............\n",
      "[CV]  NN__hidden_layer_sizes=(5, 10), ica__n_components=2, score=0.6488326848249028, total=   0.0s\n",
      "[CV] NN__hidden_layer_sizes=(5, 10), ica__n_components=5 .............\n"
     ]
    },
    {
     "name": "stderr",
     "output_type": "stream",
     "text": [
      "[Parallel(n_jobs=1)]: Done   5 out of   5 | elapsed:    0.5s remaining:    0.0s\n",
      "[Parallel(n_jobs=1)]: Done   6 out of   6 | elapsed:    0.6s remaining:    0.0s\n"
     ]
    },
    {
     "name": "stdout",
     "output_type": "stream",
     "text": [
      "[CV]  NN__hidden_layer_sizes=(5, 10), ica__n_components=5, score=0.6485436893203883, total=   0.0s\n",
      "[CV] NN__hidden_layer_sizes=(5, 10), ica__n_components=5 .............\n",
      "[CV]  NN__hidden_layer_sizes=(5, 10), ica__n_components=5, score=0.6485436893203883, total=   0.0s\n",
      "[CV] NN__hidden_layer_sizes=(5, 10), ica__n_components=5 .............\n"
     ]
    },
    {
     "name": "stderr",
     "output_type": "stream",
     "text": [
      "[Parallel(n_jobs=1)]: Done   7 out of   7 | elapsed:    0.7s remaining:    0.0s\n",
      "[Parallel(n_jobs=1)]: Done   8 out of   8 | elapsed:    0.9s remaining:    0.0s\n"
     ]
    },
    {
     "name": "stdout",
     "output_type": "stream",
     "text": [
      "[CV]  NN__hidden_layer_sizes=(5, 10), ica__n_components=5, score=0.6482021379980564, total=   0.0s\n",
      "[CV] NN__hidden_layer_sizes=(5, 10), ica__n_components=5 .............\n",
      "[CV]  NN__hidden_layer_sizes=(5, 10), ica__n_components=5, score=0.6482021379980564, total=   0.0s\n",
      "[CV] NN__hidden_layer_sizes=(5, 10), ica__n_components=5 .............\n"
     ]
    },
    {
     "name": "stderr",
     "output_type": "stream",
     "text": [
      "[Parallel(n_jobs=1)]: Done   9 out of   9 | elapsed:    1.0s remaining:    0.0s\n"
     ]
    },
    {
     "name": "stdout",
     "output_type": "stream",
     "text": [
      "[CV]  NN__hidden_layer_sizes=(5, 10), ica__n_components=5, score=0.6488326848249028, total=   0.0s\n",
      "[CV] NN__hidden_layer_sizes=(5, 10), ica__n_components=10 ............\n",
      "[CV]  NN__hidden_layer_sizes=(5, 10), ica__n_components=10, score=0.6485436893203883, total=   0.4s\n",
      "[CV] NN__hidden_layer_sizes=(5, 10), ica__n_components=10 ............\n"
     ]
    },
    {
     "name": "stderr",
     "output_type": "stream",
     "text": [
      "C:\\Users\\ajmot\\Anaconda3\\lib\\site-packages\\sklearn\\decomposition\\fastica_.py:118: UserWarning: FastICA did not converge. Consider increasing tolerance or the maximum number of iterations.\n",
      "  warnings.warn('FastICA did not converge. Consider increasing '\n"
     ]
    },
    {
     "name": "stdout",
     "output_type": "stream",
     "text": [
      "[CV]  NN__hidden_layer_sizes=(5, 10), ica__n_components=10, score=0.6485436893203883, total=   0.5s\n",
      "[CV] NN__hidden_layer_sizes=(5, 10), ica__n_components=10 ............\n"
     ]
    },
    {
     "name": "stderr",
     "output_type": "stream",
     "text": [
      "C:\\Users\\ajmot\\Anaconda3\\lib\\site-packages\\sklearn\\decomposition\\fastica_.py:118: UserWarning: FastICA did not converge. Consider increasing tolerance or the maximum number of iterations.\n",
      "  warnings.warn('FastICA did not converge. Consider increasing '\n"
     ]
    },
    {
     "name": "stdout",
     "output_type": "stream",
     "text": [
      "[CV]  NN__hidden_layer_sizes=(5, 10), ica__n_components=10, score=0.6482021379980564, total=   0.5s\n",
      "[CV] NN__hidden_layer_sizes=(5, 10), ica__n_components=10 ............\n"
     ]
    },
    {
     "name": "stderr",
     "output_type": "stream",
     "text": [
      "C:\\Users\\ajmot\\Anaconda3\\lib\\site-packages\\sklearn\\decomposition\\fastica_.py:118: UserWarning: FastICA did not converge. Consider increasing tolerance or the maximum number of iterations.\n",
      "  warnings.warn('FastICA did not converge. Consider increasing '\n"
     ]
    },
    {
     "name": "stdout",
     "output_type": "stream",
     "text": [
      "[CV]  NN__hidden_layer_sizes=(5, 10), ica__n_components=10, score=0.6482021379980564, total=   0.5s\n",
      "[CV] NN__hidden_layer_sizes=(5, 10), ica__n_components=10 ............\n"
     ]
    },
    {
     "name": "stderr",
     "output_type": "stream",
     "text": [
      "C:\\Users\\ajmot\\Anaconda3\\lib\\site-packages\\sklearn\\decomposition\\fastica_.py:118: UserWarning: FastICA did not converge. Consider increasing tolerance or the maximum number of iterations.\n",
      "  warnings.warn('FastICA did not converge. Consider increasing '\n"
     ]
    },
    {
     "name": "stdout",
     "output_type": "stream",
     "text": [
      "[CV]  NN__hidden_layer_sizes=(5, 10), ica__n_components=10, score=0.6488326848249028, total=   0.4s\n",
      "[CV] NN__hidden_layer_sizes=(5, 10), ica__n_components=15 ............\n"
     ]
    },
    {
     "name": "stderr",
     "output_type": "stream",
     "text": [
      "C:\\Users\\ajmot\\Anaconda3\\lib\\site-packages\\sklearn\\decomposition\\fastica_.py:118: UserWarning: FastICA did not converge. Consider increasing tolerance or the maximum number of iterations.\n",
      "  warnings.warn('FastICA did not converge. Consider increasing '\n"
     ]
    },
    {
     "name": "stdout",
     "output_type": "stream",
     "text": [
      "[CV]  NN__hidden_layer_sizes=(5, 10), ica__n_components=15, score=0.6485436893203883, total=   0.6s\n",
      "[CV] NN__hidden_layer_sizes=(5, 10), ica__n_components=15 ............\n"
     ]
    },
    {
     "name": "stderr",
     "output_type": "stream",
     "text": [
      "C:\\Users\\ajmot\\Anaconda3\\lib\\site-packages\\sklearn\\decomposition\\fastica_.py:118: UserWarning: FastICA did not converge. Consider increasing tolerance or the maximum number of iterations.\n",
      "  warnings.warn('FastICA did not converge. Consider increasing '\n"
     ]
    },
    {
     "name": "stdout",
     "output_type": "stream",
     "text": [
      "[CV]  NN__hidden_layer_sizes=(5, 10), ica__n_components=15, score=0.6485436893203883, total=   0.7s\n",
      "[CV] NN__hidden_layer_sizes=(5, 10), ica__n_components=15 ............\n",
      "[CV]  NN__hidden_layer_sizes=(5, 10), ica__n_components=15, score=0.6482021379980564, total=   0.5s\n",
      "[CV] NN__hidden_layer_sizes=(5, 10), ica__n_components=15 ............\n"
     ]
    },
    {
     "name": "stderr",
     "output_type": "stream",
     "text": [
      "C:\\Users\\ajmot\\Anaconda3\\lib\\site-packages\\sklearn\\decomposition\\fastica_.py:118: UserWarning: FastICA did not converge. Consider increasing tolerance or the maximum number of iterations.\n",
      "  warnings.warn('FastICA did not converge. Consider increasing '\n"
     ]
    },
    {
     "name": "stdout",
     "output_type": "stream",
     "text": [
      "[CV]  NN__hidden_layer_sizes=(5, 10), ica__n_components=15, score=0.6482021379980564, total=   0.8s\n",
      "[CV] NN__hidden_layer_sizes=(5, 10), ica__n_components=15 ............\n"
     ]
    },
    {
     "name": "stderr",
     "output_type": "stream",
     "text": [
      "C:\\Users\\ajmot\\Anaconda3\\lib\\site-packages\\sklearn\\decomposition\\fastica_.py:118: UserWarning: FastICA did not converge. Consider increasing tolerance or the maximum number of iterations.\n",
      "  warnings.warn('FastICA did not converge. Consider increasing '\n"
     ]
    },
    {
     "name": "stdout",
     "output_type": "stream",
     "text": [
      "[CV]  NN__hidden_layer_sizes=(5, 10), ica__n_components=15, score=0.6488326848249028, total=   0.8s\n",
      "[CV] NN__hidden_layer_sizes=(5, 10), ica__n_components=20 ............\n"
     ]
    },
    {
     "name": "stderr",
     "output_type": "stream",
     "text": [
      "C:\\Users\\ajmot\\Anaconda3\\lib\\site-packages\\sklearn\\decomposition\\fastica_.py:118: UserWarning: FastICA did not converge. Consider increasing tolerance or the maximum number of iterations.\n",
      "  warnings.warn('FastICA did not converge. Consider increasing '\n"
     ]
    },
    {
     "name": "stdout",
     "output_type": "stream",
     "text": [
      "[CV]  NN__hidden_layer_sizes=(5, 10), ica__n_components=20, score=0.6485436893203883, total=   1.2s\n",
      "[CV] NN__hidden_layer_sizes=(5, 10), ica__n_components=20 ............\n"
     ]
    },
    {
     "name": "stderr",
     "output_type": "stream",
     "text": [
      "C:\\Users\\ajmot\\Anaconda3\\lib\\site-packages\\sklearn\\decomposition\\fastica_.py:118: UserWarning: FastICA did not converge. Consider increasing tolerance or the maximum number of iterations.\n",
      "  warnings.warn('FastICA did not converge. Consider increasing '\n"
     ]
    },
    {
     "name": "stdout",
     "output_type": "stream",
     "text": [
      "[CV]  NN__hidden_layer_sizes=(5, 10), ica__n_components=20, score=0.6485436893203883, total=   1.0s\n",
      "[CV] NN__hidden_layer_sizes=(5, 10), ica__n_components=20 ............\n"
     ]
    },
    {
     "name": "stderr",
     "output_type": "stream",
     "text": [
      "C:\\Users\\ajmot\\Anaconda3\\lib\\site-packages\\sklearn\\decomposition\\fastica_.py:118: UserWarning: FastICA did not converge. Consider increasing tolerance or the maximum number of iterations.\n",
      "  warnings.warn('FastICA did not converge. Consider increasing '\n"
     ]
    },
    {
     "name": "stdout",
     "output_type": "stream",
     "text": [
      "[CV]  NN__hidden_layer_sizes=(5, 10), ica__n_components=20, score=0.6482021379980564, total=   1.0s\n",
      "[CV] NN__hidden_layer_sizes=(5, 10), ica__n_components=20 ............\n"
     ]
    },
    {
     "name": "stderr",
     "output_type": "stream",
     "text": [
      "C:\\Users\\ajmot\\Anaconda3\\lib\\site-packages\\sklearn\\decomposition\\fastica_.py:118: UserWarning: FastICA did not converge. Consider increasing tolerance or the maximum number of iterations.\n",
      "  warnings.warn('FastICA did not converge. Consider increasing '\n"
     ]
    },
    {
     "name": "stdout",
     "output_type": "stream",
     "text": [
      "[CV]  NN__hidden_layer_sizes=(5, 10), ica__n_components=20, score=0.6482021379980564, total=   0.9s\n",
      "[CV] NN__hidden_layer_sizes=(5, 10), ica__n_components=20 ............\n"
     ]
    },
    {
     "name": "stderr",
     "output_type": "stream",
     "text": [
      "C:\\Users\\ajmot\\Anaconda3\\lib\\site-packages\\sklearn\\decomposition\\fastica_.py:118: UserWarning: FastICA did not converge. Consider increasing tolerance or the maximum number of iterations.\n",
      "  warnings.warn('FastICA did not converge. Consider increasing '\n"
     ]
    },
    {
     "name": "stdout",
     "output_type": "stream",
     "text": [
      "[CV]  NN__hidden_layer_sizes=(5, 10), ica__n_components=20, score=0.6488326848249028, total=   0.9s\n",
      "[CV] NN__hidden_layer_sizes=(5, 10), ica__n_components=25 ............\n"
     ]
    },
    {
     "name": "stderr",
     "output_type": "stream",
     "text": [
      "C:\\Users\\ajmot\\Anaconda3\\lib\\site-packages\\sklearn\\decomposition\\fastica_.py:118: UserWarning: FastICA did not converge. Consider increasing tolerance or the maximum number of iterations.\n",
      "  warnings.warn('FastICA did not converge. Consider increasing '\n"
     ]
    },
    {
     "name": "stdout",
     "output_type": "stream",
     "text": [
      "[CV]  NN__hidden_layer_sizes=(5, 10), ica__n_components=25, score=0.6485436893203883, total=   1.2s\n",
      "[CV] NN__hidden_layer_sizes=(5, 10), ica__n_components=25 ............\n"
     ]
    },
    {
     "name": "stderr",
     "output_type": "stream",
     "text": [
      "C:\\Users\\ajmot\\Anaconda3\\lib\\site-packages\\sklearn\\decomposition\\fastica_.py:118: UserWarning: FastICA did not converge. Consider increasing tolerance or the maximum number of iterations.\n",
      "  warnings.warn('FastICA did not converge. Consider increasing '\n"
     ]
    },
    {
     "name": "stdout",
     "output_type": "stream",
     "text": [
      "[CV]  NN__hidden_layer_sizes=(5, 10), ica__n_components=25, score=0.6485436893203883, total=   1.1s\n",
      "[CV] NN__hidden_layer_sizes=(5, 10), ica__n_components=25 ............\n"
     ]
    },
    {
     "name": "stderr",
     "output_type": "stream",
     "text": [
      "C:\\Users\\ajmot\\Anaconda3\\lib\\site-packages\\sklearn\\decomposition\\fastica_.py:118: UserWarning: FastICA did not converge. Consider increasing tolerance or the maximum number of iterations.\n",
      "  warnings.warn('FastICA did not converge. Consider increasing '\n"
     ]
    },
    {
     "name": "stdout",
     "output_type": "stream",
     "text": [
      "[CV]  NN__hidden_layer_sizes=(5, 10), ica__n_components=25, score=0.6482021379980564, total=   1.2s\n",
      "[CV] NN__hidden_layer_sizes=(5, 10), ica__n_components=25 ............\n"
     ]
    },
    {
     "name": "stderr",
     "output_type": "stream",
     "text": [
      "C:\\Users\\ajmot\\Anaconda3\\lib\\site-packages\\sklearn\\decomposition\\fastica_.py:118: UserWarning: FastICA did not converge. Consider increasing tolerance or the maximum number of iterations.\n",
      "  warnings.warn('FastICA did not converge. Consider increasing '\n"
     ]
    },
    {
     "name": "stdout",
     "output_type": "stream",
     "text": [
      "[CV]  NN__hidden_layer_sizes=(5, 10), ica__n_components=25, score=0.6482021379980564, total=   1.2s\n",
      "[CV] NN__hidden_layer_sizes=(5, 10), ica__n_components=25 ............\n"
     ]
    },
    {
     "name": "stderr",
     "output_type": "stream",
     "text": [
      "C:\\Users\\ajmot\\Anaconda3\\lib\\site-packages\\sklearn\\decomposition\\fastica_.py:118: UserWarning: FastICA did not converge. Consider increasing tolerance or the maximum number of iterations.\n",
      "  warnings.warn('FastICA did not converge. Consider increasing '\n"
     ]
    },
    {
     "name": "stdout",
     "output_type": "stream",
     "text": [
      "[CV]  NN__hidden_layer_sizes=(5, 10), ica__n_components=25, score=0.6488326848249028, total=   1.2s\n",
      "[CV] NN__hidden_layer_sizes=(5, 10), ica__n_components=30 ............\n"
     ]
    },
    {
     "name": "stderr",
     "output_type": "stream",
     "text": [
      "C:\\Users\\ajmot\\Anaconda3\\lib\\site-packages\\sklearn\\decomposition\\fastica_.py:118: UserWarning: FastICA did not converge. Consider increasing tolerance or the maximum number of iterations.\n",
      "  warnings.warn('FastICA did not converge. Consider increasing '\n"
     ]
    },
    {
     "name": "stdout",
     "output_type": "stream",
     "text": [
      "[CV]  NN__hidden_layer_sizes=(5, 10), ica__n_components=30, score=0.6524271844660194, total=   1.4s\n",
      "[CV] NN__hidden_layer_sizes=(5, 10), ica__n_components=30 ............\n"
     ]
    },
    {
     "name": "stderr",
     "output_type": "stream",
     "text": [
      "C:\\Users\\ajmot\\Anaconda3\\lib\\site-packages\\sklearn\\decomposition\\fastica_.py:118: UserWarning: FastICA did not converge. Consider increasing tolerance or the maximum number of iterations.\n",
      "  warnings.warn('FastICA did not converge. Consider increasing '\n"
     ]
    },
    {
     "name": "stdout",
     "output_type": "stream",
     "text": [
      "[CV]  NN__hidden_layer_sizes=(5, 10), ica__n_components=30, score=0.6485436893203883, total=   1.3s\n",
      "[CV] NN__hidden_layer_sizes=(5, 10), ica__n_components=30 ............\n"
     ]
    },
    {
     "name": "stderr",
     "output_type": "stream",
     "text": [
      "C:\\Users\\ajmot\\Anaconda3\\lib\\site-packages\\sklearn\\decomposition\\fastica_.py:118: UserWarning: FastICA did not converge. Consider increasing tolerance or the maximum number of iterations.\n",
      "  warnings.warn('FastICA did not converge. Consider increasing '\n"
     ]
    },
    {
     "name": "stdout",
     "output_type": "stream",
     "text": [
      "[CV]  NN__hidden_layer_sizes=(5, 10), ica__n_components=30, score=0.6491739552964043, total=   1.2s\n",
      "[CV] NN__hidden_layer_sizes=(5, 10), ica__n_components=30 ............\n"
     ]
    },
    {
     "name": "stderr",
     "output_type": "stream",
     "text": [
      "C:\\Users\\ajmot\\Anaconda3\\lib\\site-packages\\sklearn\\decomposition\\fastica_.py:118: UserWarning: FastICA did not converge. Consider increasing tolerance or the maximum number of iterations.\n",
      "  warnings.warn('FastICA did not converge. Consider increasing '\n"
     ]
    },
    {
     "name": "stdout",
     "output_type": "stream",
     "text": [
      "[CV]  NN__hidden_layer_sizes=(5, 10), ica__n_components=30, score=0.6482021379980564, total=   1.3s\n",
      "[CV] NN__hidden_layer_sizes=(5, 10), ica__n_components=30 ............\n"
     ]
    },
    {
     "name": "stderr",
     "output_type": "stream",
     "text": [
      "C:\\Users\\ajmot\\Anaconda3\\lib\\site-packages\\sklearn\\decomposition\\fastica_.py:118: UserWarning: FastICA did not converge. Consider increasing tolerance or the maximum number of iterations.\n",
      "  warnings.warn('FastICA did not converge. Consider increasing '\n"
     ]
    },
    {
     "name": "stdout",
     "output_type": "stream",
     "text": [
      "[CV]  NN__hidden_layer_sizes=(5, 10), ica__n_components=30, score=0.6498054474708171, total=   1.4s\n",
      "[CV] NN__hidden_layer_sizes=(5, 10), ica__n_components=35 ............\n"
     ]
    },
    {
     "name": "stderr",
     "output_type": "stream",
     "text": [
      "C:\\Users\\ajmot\\Anaconda3\\lib\\site-packages\\sklearn\\decomposition\\fastica_.py:118: UserWarning: FastICA did not converge. Consider increasing tolerance or the maximum number of iterations.\n",
      "  warnings.warn('FastICA did not converge. Consider increasing '\n"
     ]
    },
    {
     "name": "stdout",
     "output_type": "stream",
     "text": [
      "[CV]  NN__hidden_layer_sizes=(5, 10), ica__n_components=35, score=0.35145631067961164, total=   1.8s\n",
      "[CV] NN__hidden_layer_sizes=(5, 10), ica__n_components=35 ............\n"
     ]
    },
    {
     "name": "stderr",
     "output_type": "stream",
     "text": [
      "C:\\Users\\ajmot\\Anaconda3\\lib\\site-packages\\sklearn\\decomposition\\fastica_.py:118: UserWarning: FastICA did not converge. Consider increasing tolerance or the maximum number of iterations.\n",
      "  warnings.warn('FastICA did not converge. Consider increasing '\n"
     ]
    },
    {
     "name": "stdout",
     "output_type": "stream",
     "text": [
      "[CV]  NN__hidden_layer_sizes=(5, 10), ica__n_components=35, score=0.35145631067961164, total=   1.7s\n",
      "[CV] NN__hidden_layer_sizes=(5, 10), ica__n_components=35 ............\n"
     ]
    },
    {
     "name": "stderr",
     "output_type": "stream",
     "text": [
      "C:\\Users\\ajmot\\Anaconda3\\lib\\site-packages\\sklearn\\decomposition\\fastica_.py:118: UserWarning: FastICA did not converge. Consider increasing tolerance or the maximum number of iterations.\n",
      "  warnings.warn('FastICA did not converge. Consider increasing '\n"
     ]
    },
    {
     "name": "stdout",
     "output_type": "stream",
     "text": [
      "[CV]  NN__hidden_layer_sizes=(5, 10), ica__n_components=35, score=0.35179786200194363, total=   1.8s\n",
      "[CV] NN__hidden_layer_sizes=(5, 10), ica__n_components=35 ............\n"
     ]
    },
    {
     "name": "stderr",
     "output_type": "stream",
     "text": [
      "C:\\Users\\ajmot\\Anaconda3\\lib\\site-packages\\sklearn\\decomposition\\fastica_.py:118: UserWarning: FastICA did not converge. Consider increasing tolerance or the maximum number of iterations.\n",
      "  warnings.warn('FastICA did not converge. Consider increasing '\n"
     ]
    },
    {
     "name": "stdout",
     "output_type": "stream",
     "text": [
      "[CV]  NN__hidden_layer_sizes=(5, 10), ica__n_components=35, score=0.35179786200194363, total=   1.8s\n",
      "[CV] NN__hidden_layer_sizes=(5, 10), ica__n_components=35 ............\n"
     ]
    },
    {
     "name": "stderr",
     "output_type": "stream",
     "text": [
      "C:\\Users\\ajmot\\Anaconda3\\lib\\site-packages\\sklearn\\decomposition\\fastica_.py:118: UserWarning: FastICA did not converge. Consider increasing tolerance or the maximum number of iterations.\n",
      "  warnings.warn('FastICA did not converge. Consider increasing '\n"
     ]
    },
    {
     "name": "stdout",
     "output_type": "stream",
     "text": [
      "[CV]  NN__hidden_layer_sizes=(5, 10), ica__n_components=35, score=0.35116731517509725, total=   1.7s\n",
      "[CV] NN__hidden_layer_sizes=(10, 10), ica__n_components=2 ............\n",
      "[CV]  NN__hidden_layer_sizes=(10, 10), ica__n_components=2, score=0.6485436893203883, total=   0.0s\n",
      "[CV] NN__hidden_layer_sizes=(10, 10), ica__n_components=2 ............\n",
      "[CV]  NN__hidden_layer_sizes=(10, 10), ica__n_components=2, score=0.6485436893203883, total=   0.0s\n",
      "[CV] NN__hidden_layer_sizes=(10, 10), ica__n_components=2 ............\n",
      "[CV]  NN__hidden_layer_sizes=(10, 10), ica__n_components=2, score=0.6482021379980564, total=   0.0s\n",
      "[CV] NN__hidden_layer_sizes=(10, 10), ica__n_components=2 ............\n",
      "[CV]  NN__hidden_layer_sizes=(10, 10), ica__n_components=2, score=0.6482021379980564, total=   0.0s\n",
      "[CV] NN__hidden_layer_sizes=(10, 10), ica__n_components=2 ............\n",
      "[CV]  NN__hidden_layer_sizes=(10, 10), ica__n_components=2, score=0.6488326848249028, total=   0.0s\n",
      "[CV] NN__hidden_layer_sizes=(10, 10), ica__n_components=5 ............\n",
      "[CV]  NN__hidden_layer_sizes=(10, 10), ica__n_components=5, score=0.35145631067961164, total=   0.0s\n",
      "[CV] NN__hidden_layer_sizes=(10, 10), ica__n_components=5 ............\n",
      "[CV]  NN__hidden_layer_sizes=(10, 10), ica__n_components=5, score=0.35145631067961164, total=   0.0s\n",
      "[CV] NN__hidden_layer_sizes=(10, 10), ica__n_components=5 ............\n",
      "[CV]  NN__hidden_layer_sizes=(10, 10), ica__n_components=5, score=0.35179786200194363, total=   0.0s\n",
      "[CV] NN__hidden_layer_sizes=(10, 10), ica__n_components=5 ............\n",
      "[CV]  NN__hidden_layer_sizes=(10, 10), ica__n_components=5, score=0.35179786200194363, total=   0.0s\n",
      "[CV] NN__hidden_layer_sizes=(10, 10), ica__n_components=5 ............\n",
      "[CV]  NN__hidden_layer_sizes=(10, 10), ica__n_components=5, score=0.35116731517509725, total=   0.0s\n",
      "[CV] NN__hidden_layer_sizes=(10, 10), ica__n_components=10 ...........\n",
      "[CV]  NN__hidden_layer_sizes=(10, 10), ica__n_components=10, score=0.35145631067961164, total=   0.4s\n",
      "[CV] NN__hidden_layer_sizes=(10, 10), ica__n_components=10 ...........\n"
     ]
    },
    {
     "name": "stderr",
     "output_type": "stream",
     "text": [
      "C:\\Users\\ajmot\\Anaconda3\\lib\\site-packages\\sklearn\\decomposition\\fastica_.py:118: UserWarning: FastICA did not converge. Consider increasing tolerance or the maximum number of iterations.\n",
      "  warnings.warn('FastICA did not converge. Consider increasing '\n"
     ]
    },
    {
     "name": "stdout",
     "output_type": "stream",
     "text": [
      "[CV]  NN__hidden_layer_sizes=(10, 10), ica__n_components=10, score=0.35145631067961164, total=   0.5s\n",
      "[CV] NN__hidden_layer_sizes=(10, 10), ica__n_components=10 ...........\n"
     ]
    },
    {
     "name": "stderr",
     "output_type": "stream",
     "text": [
      "C:\\Users\\ajmot\\Anaconda3\\lib\\site-packages\\sklearn\\decomposition\\fastica_.py:118: UserWarning: FastICA did not converge. Consider increasing tolerance or the maximum number of iterations.\n",
      "  warnings.warn('FastICA did not converge. Consider increasing '\n"
     ]
    },
    {
     "name": "stdout",
     "output_type": "stream",
     "text": [
      "[CV]  NN__hidden_layer_sizes=(10, 10), ica__n_components=10, score=0.35179786200194363, total=   0.5s\n",
      "[CV] NN__hidden_layer_sizes=(10, 10), ica__n_components=10 ...........\n"
     ]
    },
    {
     "name": "stderr",
     "output_type": "stream",
     "text": [
      "C:\\Users\\ajmot\\Anaconda3\\lib\\site-packages\\sklearn\\decomposition\\fastica_.py:118: UserWarning: FastICA did not converge. Consider increasing tolerance or the maximum number of iterations.\n",
      "  warnings.warn('FastICA did not converge. Consider increasing '\n"
     ]
    },
    {
     "name": "stdout",
     "output_type": "stream",
     "text": [
      "[CV]  NN__hidden_layer_sizes=(10, 10), ica__n_components=10, score=0.35179786200194363, total=   0.5s\n",
      "[CV] NN__hidden_layer_sizes=(10, 10), ica__n_components=10 ...........\n"
     ]
    },
    {
     "name": "stderr",
     "output_type": "stream",
     "text": [
      "C:\\Users\\ajmot\\Anaconda3\\lib\\site-packages\\sklearn\\decomposition\\fastica_.py:118: UserWarning: FastICA did not converge. Consider increasing tolerance or the maximum number of iterations.\n",
      "  warnings.warn('FastICA did not converge. Consider increasing '\n"
     ]
    },
    {
     "name": "stdout",
     "output_type": "stream",
     "text": [
      "[CV]  NN__hidden_layer_sizes=(10, 10), ica__n_components=10, score=0.35116731517509725, total=   0.5s\n",
      "[CV] NN__hidden_layer_sizes=(10, 10), ica__n_components=15 ...........\n"
     ]
    },
    {
     "name": "stderr",
     "output_type": "stream",
     "text": [
      "C:\\Users\\ajmot\\Anaconda3\\lib\\site-packages\\sklearn\\decomposition\\fastica_.py:118: UserWarning: FastICA did not converge. Consider increasing tolerance or the maximum number of iterations.\n",
      "  warnings.warn('FastICA did not converge. Consider increasing '\n"
     ]
    },
    {
     "name": "stdout",
     "output_type": "stream",
     "text": [
      "[CV]  NN__hidden_layer_sizes=(10, 10), ica__n_components=15, score=0.6485436893203883, total=   0.7s\n",
      "[CV] NN__hidden_layer_sizes=(10, 10), ica__n_components=15 ...........\n"
     ]
    },
    {
     "name": "stderr",
     "output_type": "stream",
     "text": [
      "C:\\Users\\ajmot\\Anaconda3\\lib\\site-packages\\sklearn\\decomposition\\fastica_.py:118: UserWarning: FastICA did not converge. Consider increasing tolerance or the maximum number of iterations.\n",
      "  warnings.warn('FastICA did not converge. Consider increasing '\n"
     ]
    },
    {
     "name": "stdout",
     "output_type": "stream",
     "text": [
      "[CV]  NN__hidden_layer_sizes=(10, 10), ica__n_components=15, score=0.6485436893203883, total=   0.6s\n",
      "[CV] NN__hidden_layer_sizes=(10, 10), ica__n_components=15 ...........\n",
      "[CV]  NN__hidden_layer_sizes=(10, 10), ica__n_components=15, score=0.6482021379980564, total=   0.4s\n",
      "[CV] NN__hidden_layer_sizes=(10, 10), ica__n_components=15 ...........\n"
     ]
    },
    {
     "name": "stderr",
     "output_type": "stream",
     "text": [
      "C:\\Users\\ajmot\\Anaconda3\\lib\\site-packages\\sklearn\\decomposition\\fastica_.py:118: UserWarning: FastICA did not converge. Consider increasing tolerance or the maximum number of iterations.\n",
      "  warnings.warn('FastICA did not converge. Consider increasing '\n"
     ]
    },
    {
     "name": "stdout",
     "output_type": "stream",
     "text": [
      "[CV]  NN__hidden_layer_sizes=(10, 10), ica__n_components=15, score=0.6482021379980564, total=   0.6s\n",
      "[CV] NN__hidden_layer_sizes=(10, 10), ica__n_components=15 ...........\n"
     ]
    },
    {
     "name": "stderr",
     "output_type": "stream",
     "text": [
      "C:\\Users\\ajmot\\Anaconda3\\lib\\site-packages\\sklearn\\decomposition\\fastica_.py:118: UserWarning: FastICA did not converge. Consider increasing tolerance or the maximum number of iterations.\n",
      "  warnings.warn('FastICA did not converge. Consider increasing '\n"
     ]
    },
    {
     "name": "stdout",
     "output_type": "stream",
     "text": [
      "[CV]  NN__hidden_layer_sizes=(10, 10), ica__n_components=15, score=0.6488326848249028, total=   0.7s\n",
      "[CV] NN__hidden_layer_sizes=(10, 10), ica__n_components=20 ...........\n"
     ]
    },
    {
     "name": "stderr",
     "output_type": "stream",
     "text": [
      "C:\\Users\\ajmot\\Anaconda3\\lib\\site-packages\\sklearn\\decomposition\\fastica_.py:118: UserWarning: FastICA did not converge. Consider increasing tolerance or the maximum number of iterations.\n",
      "  warnings.warn('FastICA did not converge. Consider increasing '\n"
     ]
    },
    {
     "name": "stdout",
     "output_type": "stream",
     "text": [
      "[CV]  NN__hidden_layer_sizes=(10, 10), ica__n_components=20, score=0.6485436893203883, total=   0.8s\n",
      "[CV] NN__hidden_layer_sizes=(10, 10), ica__n_components=20 ...........\n"
     ]
    },
    {
     "name": "stderr",
     "output_type": "stream",
     "text": [
      "C:\\Users\\ajmot\\Anaconda3\\lib\\site-packages\\sklearn\\decomposition\\fastica_.py:118: UserWarning: FastICA did not converge. Consider increasing tolerance or the maximum number of iterations.\n",
      "  warnings.warn('FastICA did not converge. Consider increasing '\n"
     ]
    },
    {
     "name": "stdout",
     "output_type": "stream",
     "text": [
      "[CV]  NN__hidden_layer_sizes=(10, 10), ica__n_components=20, score=0.6485436893203883, total=   0.8s\n",
      "[CV] NN__hidden_layer_sizes=(10, 10), ica__n_components=20 ...........\n"
     ]
    },
    {
     "name": "stderr",
     "output_type": "stream",
     "text": [
      "C:\\Users\\ajmot\\Anaconda3\\lib\\site-packages\\sklearn\\decomposition\\fastica_.py:118: UserWarning: FastICA did not converge. Consider increasing tolerance or the maximum number of iterations.\n",
      "  warnings.warn('FastICA did not converge. Consider increasing '\n"
     ]
    },
    {
     "name": "stdout",
     "output_type": "stream",
     "text": [
      "[CV]  NN__hidden_layer_sizes=(10, 10), ica__n_components=20, score=0.6482021379980564, total=   0.8s\n",
      "[CV] NN__hidden_layer_sizes=(10, 10), ica__n_components=20 ...........\n"
     ]
    },
    {
     "name": "stderr",
     "output_type": "stream",
     "text": [
      "C:\\Users\\ajmot\\Anaconda3\\lib\\site-packages\\sklearn\\decomposition\\fastica_.py:118: UserWarning: FastICA did not converge. Consider increasing tolerance or the maximum number of iterations.\n",
      "  warnings.warn('FastICA did not converge. Consider increasing '\n"
     ]
    },
    {
     "name": "stdout",
     "output_type": "stream",
     "text": [
      "[CV]  NN__hidden_layer_sizes=(10, 10), ica__n_components=20, score=0.6482021379980564, total=   0.8s\n",
      "[CV] NN__hidden_layer_sizes=(10, 10), ica__n_components=20 ...........\n"
     ]
    },
    {
     "name": "stderr",
     "output_type": "stream",
     "text": [
      "C:\\Users\\ajmot\\Anaconda3\\lib\\site-packages\\sklearn\\decomposition\\fastica_.py:118: UserWarning: FastICA did not converge. Consider increasing tolerance or the maximum number of iterations.\n",
      "  warnings.warn('FastICA did not converge. Consider increasing '\n"
     ]
    },
    {
     "name": "stdout",
     "output_type": "stream",
     "text": [
      "[CV]  NN__hidden_layer_sizes=(10, 10), ica__n_components=20, score=0.6488326848249028, total=   0.9s\n",
      "[CV] NN__hidden_layer_sizes=(10, 10), ica__n_components=25 ...........\n"
     ]
    },
    {
     "name": "stderr",
     "output_type": "stream",
     "text": [
      "C:\\Users\\ajmot\\Anaconda3\\lib\\site-packages\\sklearn\\decomposition\\fastica_.py:118: UserWarning: FastICA did not converge. Consider increasing tolerance or the maximum number of iterations.\n",
      "  warnings.warn('FastICA did not converge. Consider increasing '\n"
     ]
    },
    {
     "name": "stdout",
     "output_type": "stream",
     "text": [
      "[CV]  NN__hidden_layer_sizes=(10, 10), ica__n_components=25, score=0.35145631067961164, total=   1.2s\n",
      "[CV] NN__hidden_layer_sizes=(10, 10), ica__n_components=25 ...........\n"
     ]
    },
    {
     "name": "stderr",
     "output_type": "stream",
     "text": [
      "C:\\Users\\ajmot\\Anaconda3\\lib\\site-packages\\sklearn\\decomposition\\fastica_.py:118: UserWarning: FastICA did not converge. Consider increasing tolerance or the maximum number of iterations.\n",
      "  warnings.warn('FastICA did not converge. Consider increasing '\n"
     ]
    },
    {
     "name": "stdout",
     "output_type": "stream",
     "text": [
      "[CV]  NN__hidden_layer_sizes=(10, 10), ica__n_components=25, score=0.35145631067961164, total=   1.2s\n",
      "[CV] NN__hidden_layer_sizes=(10, 10), ica__n_components=25 ...........\n"
     ]
    },
    {
     "name": "stderr",
     "output_type": "stream",
     "text": [
      "C:\\Users\\ajmot\\Anaconda3\\lib\\site-packages\\sklearn\\decomposition\\fastica_.py:118: UserWarning: FastICA did not converge. Consider increasing tolerance or the maximum number of iterations.\n",
      "  warnings.warn('FastICA did not converge. Consider increasing '\n"
     ]
    },
    {
     "name": "stdout",
     "output_type": "stream",
     "text": [
      "[CV]  NN__hidden_layer_sizes=(10, 10), ica__n_components=25, score=0.35179786200194363, total=   1.1s\n",
      "[CV] NN__hidden_layer_sizes=(10, 10), ica__n_components=25 ...........\n"
     ]
    },
    {
     "name": "stderr",
     "output_type": "stream",
     "text": [
      "C:\\Users\\ajmot\\Anaconda3\\lib\\site-packages\\sklearn\\decomposition\\fastica_.py:118: UserWarning: FastICA did not converge. Consider increasing tolerance or the maximum number of iterations.\n",
      "  warnings.warn('FastICA did not converge. Consider increasing '\n"
     ]
    },
    {
     "name": "stdout",
     "output_type": "stream",
     "text": [
      "[CV]  NN__hidden_layer_sizes=(10, 10), ica__n_components=25, score=0.35179786200194363, total=   1.2s\n",
      "[CV] NN__hidden_layer_sizes=(10, 10), ica__n_components=25 ...........\n"
     ]
    },
    {
     "name": "stderr",
     "output_type": "stream",
     "text": [
      "C:\\Users\\ajmot\\Anaconda3\\lib\\site-packages\\sklearn\\decomposition\\fastica_.py:118: UserWarning: FastICA did not converge. Consider increasing tolerance or the maximum number of iterations.\n",
      "  warnings.warn('FastICA did not converge. Consider increasing '\n"
     ]
    },
    {
     "name": "stdout",
     "output_type": "stream",
     "text": [
      "[CV]  NN__hidden_layer_sizes=(10, 10), ica__n_components=25, score=0.35116731517509725, total=   1.0s\n",
      "[CV] NN__hidden_layer_sizes=(10, 10), ica__n_components=30 ...........\n"
     ]
    },
    {
     "name": "stderr",
     "output_type": "stream",
     "text": [
      "C:\\Users\\ajmot\\Anaconda3\\lib\\site-packages\\sklearn\\decomposition\\fastica_.py:118: UserWarning: FastICA did not converge. Consider increasing tolerance or the maximum number of iterations.\n",
      "  warnings.warn('FastICA did not converge. Consider increasing '\n"
     ]
    },
    {
     "name": "stdout",
     "output_type": "stream",
     "text": [
      "[CV]  NN__hidden_layer_sizes=(10, 10), ica__n_components=30, score=0.6485436893203883, total=   1.3s\n",
      "[CV] NN__hidden_layer_sizes=(10, 10), ica__n_components=30 ...........\n"
     ]
    },
    {
     "name": "stderr",
     "output_type": "stream",
     "text": [
      "C:\\Users\\ajmot\\Anaconda3\\lib\\site-packages\\sklearn\\decomposition\\fastica_.py:118: UserWarning: FastICA did not converge. Consider increasing tolerance or the maximum number of iterations.\n",
      "  warnings.warn('FastICA did not converge. Consider increasing '\n"
     ]
    },
    {
     "name": "stdout",
     "output_type": "stream",
     "text": [
      "[CV]  NN__hidden_layer_sizes=(10, 10), ica__n_components=30, score=0.6485436893203883, total=   1.4s\n",
      "[CV] NN__hidden_layer_sizes=(10, 10), ica__n_components=30 ...........\n"
     ]
    },
    {
     "name": "stderr",
     "output_type": "stream",
     "text": [
      "C:\\Users\\ajmot\\Anaconda3\\lib\\site-packages\\sklearn\\decomposition\\fastica_.py:118: UserWarning: FastICA did not converge. Consider increasing tolerance or the maximum number of iterations.\n",
      "  warnings.warn('FastICA did not converge. Consider increasing '\n"
     ]
    },
    {
     "name": "stdout",
     "output_type": "stream",
     "text": [
      "[CV]  NN__hidden_layer_sizes=(10, 10), ica__n_components=30, score=0.6482021379980564, total=   1.5s\n",
      "[CV] NN__hidden_layer_sizes=(10, 10), ica__n_components=30 ...........\n"
     ]
    },
    {
     "name": "stderr",
     "output_type": "stream",
     "text": [
      "C:\\Users\\ajmot\\Anaconda3\\lib\\site-packages\\sklearn\\decomposition\\fastica_.py:118: UserWarning: FastICA did not converge. Consider increasing tolerance or the maximum number of iterations.\n",
      "  warnings.warn('FastICA did not converge. Consider increasing '\n"
     ]
    },
    {
     "name": "stdout",
     "output_type": "stream",
     "text": [
      "[CV]  NN__hidden_layer_sizes=(10, 10), ica__n_components=30, score=0.6482021379980564, total=   1.6s\n",
      "[CV] NN__hidden_layer_sizes=(10, 10), ica__n_components=30 ...........\n"
     ]
    },
    {
     "name": "stderr",
     "output_type": "stream",
     "text": [
      "C:\\Users\\ajmot\\Anaconda3\\lib\\site-packages\\sklearn\\decomposition\\fastica_.py:118: UserWarning: FastICA did not converge. Consider increasing tolerance or the maximum number of iterations.\n",
      "  warnings.warn('FastICA did not converge. Consider increasing '\n"
     ]
    },
    {
     "name": "stdout",
     "output_type": "stream",
     "text": [
      "[CV]  NN__hidden_layer_sizes=(10, 10), ica__n_components=30, score=0.6488326848249028, total=   1.4s\n",
      "[CV] NN__hidden_layer_sizes=(10, 10), ica__n_components=35 ...........\n"
     ]
    },
    {
     "name": "stderr",
     "output_type": "stream",
     "text": [
      "C:\\Users\\ajmot\\Anaconda3\\lib\\site-packages\\sklearn\\decomposition\\fastica_.py:118: UserWarning: FastICA did not converge. Consider increasing tolerance or the maximum number of iterations.\n",
      "  warnings.warn('FastICA did not converge. Consider increasing '\n"
     ]
    },
    {
     "name": "stdout",
     "output_type": "stream",
     "text": [
      "[CV]  NN__hidden_layer_sizes=(10, 10), ica__n_components=35, score=0.6485436893203883, total=   1.7s\n",
      "[CV] NN__hidden_layer_sizes=(10, 10), ica__n_components=35 ...........\n"
     ]
    },
    {
     "name": "stderr",
     "output_type": "stream",
     "text": [
      "C:\\Users\\ajmot\\Anaconda3\\lib\\site-packages\\sklearn\\decomposition\\fastica_.py:118: UserWarning: FastICA did not converge. Consider increasing tolerance or the maximum number of iterations.\n",
      "  warnings.warn('FastICA did not converge. Consider increasing '\n"
     ]
    },
    {
     "name": "stdout",
     "output_type": "stream",
     "text": [
      "[CV]  NN__hidden_layer_sizes=(10, 10), ica__n_components=35, score=0.6485436893203883, total=   1.6s\n",
      "[CV] NN__hidden_layer_sizes=(10, 10), ica__n_components=35 ...........\n"
     ]
    },
    {
     "name": "stderr",
     "output_type": "stream",
     "text": [
      "C:\\Users\\ajmot\\Anaconda3\\lib\\site-packages\\sklearn\\decomposition\\fastica_.py:118: UserWarning: FastICA did not converge. Consider increasing tolerance or the maximum number of iterations.\n",
      "  warnings.warn('FastICA did not converge. Consider increasing '\n"
     ]
    },
    {
     "name": "stdout",
     "output_type": "stream",
     "text": [
      "[CV]  NN__hidden_layer_sizes=(10, 10), ica__n_components=35, score=0.6482021379980564, total=   1.7s\n",
      "[CV] NN__hidden_layer_sizes=(10, 10), ica__n_components=35 ...........\n"
     ]
    },
    {
     "name": "stderr",
     "output_type": "stream",
     "text": [
      "C:\\Users\\ajmot\\Anaconda3\\lib\\site-packages\\sklearn\\decomposition\\fastica_.py:118: UserWarning: FastICA did not converge. Consider increasing tolerance or the maximum number of iterations.\n",
      "  warnings.warn('FastICA did not converge. Consider increasing '\n"
     ]
    },
    {
     "name": "stdout",
     "output_type": "stream",
     "text": [
      "[CV]  NN__hidden_layer_sizes=(10, 10), ica__n_components=35, score=0.6482021379980564, total=   2.0s\n",
      "[CV] NN__hidden_layer_sizes=(10, 10), ica__n_components=35 ...........\n"
     ]
    },
    {
     "name": "stderr",
     "output_type": "stream",
     "text": [
      "C:\\Users\\ajmot\\Anaconda3\\lib\\site-packages\\sklearn\\decomposition\\fastica_.py:118: UserWarning: FastICA did not converge. Consider increasing tolerance or the maximum number of iterations.\n",
      "  warnings.warn('FastICA did not converge. Consider increasing '\n"
     ]
    },
    {
     "name": "stdout",
     "output_type": "stream",
     "text": [
      "[CV]  NN__hidden_layer_sizes=(10, 10), ica__n_components=35, score=0.6488326848249028, total=   1.8s\n",
      "[CV] NN__hidden_layer_sizes=(10, 20), ica__n_components=2 ............\n",
      "[CV]  NN__hidden_layer_sizes=(10, 20), ica__n_components=2, score=0.6485436893203883, total=   0.0s\n",
      "[CV] NN__hidden_layer_sizes=(10, 20), ica__n_components=2 ............\n",
      "[CV]  NN__hidden_layer_sizes=(10, 20), ica__n_components=2, score=0.6485436893203883, total=   0.0s\n",
      "[CV] NN__hidden_layer_sizes=(10, 20), ica__n_components=2 ............\n",
      "[CV]  NN__hidden_layer_sizes=(10, 20), ica__n_components=2, score=0.6482021379980564, total=   0.0s\n",
      "[CV] NN__hidden_layer_sizes=(10, 20), ica__n_components=2 ............\n",
      "[CV]  NN__hidden_layer_sizes=(10, 20), ica__n_components=2, score=0.6482021379980564, total=   0.0s\n",
      "[CV] NN__hidden_layer_sizes=(10, 20), ica__n_components=2 ............\n",
      "[CV]  NN__hidden_layer_sizes=(10, 20), ica__n_components=2, score=0.6488326848249028, total=   0.0s\n",
      "[CV] NN__hidden_layer_sizes=(10, 20), ica__n_components=5 ............\n",
      "[CV]  NN__hidden_layer_sizes=(10, 20), ica__n_components=5, score=0.6485436893203883, total=   0.0s\n",
      "[CV] NN__hidden_layer_sizes=(10, 20), ica__n_components=5 ............\n",
      "[CV]  NN__hidden_layer_sizes=(10, 20), ica__n_components=5, score=0.6485436893203883, total=   0.0s\n",
      "[CV] NN__hidden_layer_sizes=(10, 20), ica__n_components=5 ............\n",
      "[CV]  NN__hidden_layer_sizes=(10, 20), ica__n_components=5, score=0.6482021379980564, total=   0.0s\n",
      "[CV] NN__hidden_layer_sizes=(10, 20), ica__n_components=5 ............\n",
      "[CV]  NN__hidden_layer_sizes=(10, 20), ica__n_components=5, score=0.6686103012633625, total=   0.0s\n",
      "[CV] NN__hidden_layer_sizes=(10, 20), ica__n_components=5 ............\n",
      "[CV]  NN__hidden_layer_sizes=(10, 20), ica__n_components=5, score=0.6264591439688716, total=   0.0s\n",
      "[CV] NN__hidden_layer_sizes=(10, 20), ica__n_components=10 ...........\n",
      "[CV]  NN__hidden_layer_sizes=(10, 20), ica__n_components=10, score=0.6485436893203883, total=   0.3s\n",
      "[CV] NN__hidden_layer_sizes=(10, 20), ica__n_components=10 ...........\n"
     ]
    },
    {
     "name": "stderr",
     "output_type": "stream",
     "text": [
      "C:\\Users\\ajmot\\Anaconda3\\lib\\site-packages\\sklearn\\decomposition\\fastica_.py:118: UserWarning: FastICA did not converge. Consider increasing tolerance or the maximum number of iterations.\n",
      "  warnings.warn('FastICA did not converge. Consider increasing '\n"
     ]
    },
    {
     "name": "stdout",
     "output_type": "stream",
     "text": [
      "[CV]  NN__hidden_layer_sizes=(10, 20), ica__n_components=10, score=0.6485436893203883, total=   0.5s\n",
      "[CV] NN__hidden_layer_sizes=(10, 20), ica__n_components=10 ...........\n"
     ]
    },
    {
     "name": "stderr",
     "output_type": "stream",
     "text": [
      "C:\\Users\\ajmot\\Anaconda3\\lib\\site-packages\\sklearn\\decomposition\\fastica_.py:118: UserWarning: FastICA did not converge. Consider increasing tolerance or the maximum number of iterations.\n",
      "  warnings.warn('FastICA did not converge. Consider increasing '\n"
     ]
    },
    {
     "name": "stdout",
     "output_type": "stream",
     "text": [
      "[CV]  NN__hidden_layer_sizes=(10, 20), ica__n_components=10, score=0.6482021379980564, total=   0.5s\n",
      "[CV] NN__hidden_layer_sizes=(10, 20), ica__n_components=10 ...........\n"
     ]
    },
    {
     "name": "stderr",
     "output_type": "stream",
     "text": [
      "C:\\Users\\ajmot\\Anaconda3\\lib\\site-packages\\sklearn\\decomposition\\fastica_.py:118: UserWarning: FastICA did not converge. Consider increasing tolerance or the maximum number of iterations.\n",
      "  warnings.warn('FastICA did not converge. Consider increasing '\n"
     ]
    },
    {
     "name": "stdout",
     "output_type": "stream",
     "text": [
      "[CV]  NN__hidden_layer_sizes=(10, 20), ica__n_components=10, score=0.6482021379980564, total=   0.4s\n",
      "[CV] NN__hidden_layer_sizes=(10, 20), ica__n_components=10 ...........\n"
     ]
    },
    {
     "name": "stderr",
     "output_type": "stream",
     "text": [
      "C:\\Users\\ajmot\\Anaconda3\\lib\\site-packages\\sklearn\\decomposition\\fastica_.py:118: UserWarning: FastICA did not converge. Consider increasing tolerance or the maximum number of iterations.\n",
      "  warnings.warn('FastICA did not converge. Consider increasing '\n"
     ]
    },
    {
     "name": "stdout",
     "output_type": "stream",
     "text": [
      "[CV]  NN__hidden_layer_sizes=(10, 20), ica__n_components=10, score=0.6488326848249028, total=   0.5s\n",
      "[CV] NN__hidden_layer_sizes=(10, 20), ica__n_components=15 ...........\n"
     ]
    },
    {
     "name": "stderr",
     "output_type": "stream",
     "text": [
      "C:\\Users\\ajmot\\Anaconda3\\lib\\site-packages\\sklearn\\decomposition\\fastica_.py:118: UserWarning: FastICA did not converge. Consider increasing tolerance or the maximum number of iterations.\n",
      "  warnings.warn('FastICA did not converge. Consider increasing '\n"
     ]
    },
    {
     "name": "stdout",
     "output_type": "stream",
     "text": [
      "[CV]  NN__hidden_layer_sizes=(10, 20), ica__n_components=15, score=0.6485436893203883, total=   0.7s\n",
      "[CV] NN__hidden_layer_sizes=(10, 20), ica__n_components=15 ...........\n"
     ]
    },
    {
     "name": "stderr",
     "output_type": "stream",
     "text": [
      "C:\\Users\\ajmot\\Anaconda3\\lib\\site-packages\\sklearn\\decomposition\\fastica_.py:118: UserWarning: FastICA did not converge. Consider increasing tolerance or the maximum number of iterations.\n",
      "  warnings.warn('FastICA did not converge. Consider increasing '\n"
     ]
    },
    {
     "name": "stdout",
     "output_type": "stream",
     "text": [
      "[CV]  NN__hidden_layer_sizes=(10, 20), ica__n_components=15, score=0.6485436893203883, total=   0.6s\n",
      "[CV] NN__hidden_layer_sizes=(10, 20), ica__n_components=15 ...........\n",
      "[CV]  NN__hidden_layer_sizes=(10, 20), ica__n_components=15, score=0.6482021379980564, total=   0.4s\n",
      "[CV] NN__hidden_layer_sizes=(10, 20), ica__n_components=15 ...........\n"
     ]
    },
    {
     "name": "stderr",
     "output_type": "stream",
     "text": [
      "C:\\Users\\ajmot\\Anaconda3\\lib\\site-packages\\sklearn\\decomposition\\fastica_.py:118: UserWarning: FastICA did not converge. Consider increasing tolerance or the maximum number of iterations.\n",
      "  warnings.warn('FastICA did not converge. Consider increasing '\n"
     ]
    },
    {
     "name": "stdout",
     "output_type": "stream",
     "text": [
      "[CV]  NN__hidden_layer_sizes=(10, 20), ica__n_components=15, score=0.6482021379980564, total=   0.6s\n",
      "[CV] NN__hidden_layer_sizes=(10, 20), ica__n_components=15 ...........\n"
     ]
    },
    {
     "name": "stderr",
     "output_type": "stream",
     "text": [
      "C:\\Users\\ajmot\\Anaconda3\\lib\\site-packages\\sklearn\\decomposition\\fastica_.py:118: UserWarning: FastICA did not converge. Consider increasing tolerance or the maximum number of iterations.\n",
      "  warnings.warn('FastICA did not converge. Consider increasing '\n"
     ]
    },
    {
     "name": "stdout",
     "output_type": "stream",
     "text": [
      "[CV]  NN__hidden_layer_sizes=(10, 20), ica__n_components=15, score=0.6488326848249028, total=   0.6s\n",
      "[CV] NN__hidden_layer_sizes=(10, 20), ica__n_components=20 ...........\n"
     ]
    },
    {
     "name": "stderr",
     "output_type": "stream",
     "text": [
      "C:\\Users\\ajmot\\Anaconda3\\lib\\site-packages\\sklearn\\decomposition\\fastica_.py:118: UserWarning: FastICA did not converge. Consider increasing tolerance or the maximum number of iterations.\n",
      "  warnings.warn('FastICA did not converge. Consider increasing '\n"
     ]
    },
    {
     "name": "stdout",
     "output_type": "stream",
     "text": [
      "[CV]  NN__hidden_layer_sizes=(10, 20), ica__n_components=20, score=0.6485436893203883, total=   0.9s\n",
      "[CV] NN__hidden_layer_sizes=(10, 20), ica__n_components=20 ...........\n"
     ]
    },
    {
     "name": "stderr",
     "output_type": "stream",
     "text": [
      "C:\\Users\\ajmot\\Anaconda3\\lib\\site-packages\\sklearn\\decomposition\\fastica_.py:118: UserWarning: FastICA did not converge. Consider increasing tolerance or the maximum number of iterations.\n",
      "  warnings.warn('FastICA did not converge. Consider increasing '\n"
     ]
    },
    {
     "name": "stdout",
     "output_type": "stream",
     "text": [
      "[CV]  NN__hidden_layer_sizes=(10, 20), ica__n_components=20, score=0.6485436893203883, total=   1.0s\n",
      "[CV] NN__hidden_layer_sizes=(10, 20), ica__n_components=20 ...........\n"
     ]
    },
    {
     "name": "stderr",
     "output_type": "stream",
     "text": [
      "C:\\Users\\ajmot\\Anaconda3\\lib\\site-packages\\sklearn\\decomposition\\fastica_.py:118: UserWarning: FastICA did not converge. Consider increasing tolerance or the maximum number of iterations.\n",
      "  warnings.warn('FastICA did not converge. Consider increasing '\n"
     ]
    },
    {
     "name": "stdout",
     "output_type": "stream",
     "text": [
      "[CV]  NN__hidden_layer_sizes=(10, 20), ica__n_components=20, score=0.6482021379980564, total=   0.8s\n",
      "[CV] NN__hidden_layer_sizes=(10, 20), ica__n_components=20 ...........\n"
     ]
    },
    {
     "name": "stderr",
     "output_type": "stream",
     "text": [
      "C:\\Users\\ajmot\\Anaconda3\\lib\\site-packages\\sklearn\\decomposition\\fastica_.py:118: UserWarning: FastICA did not converge. Consider increasing tolerance or the maximum number of iterations.\n",
      "  warnings.warn('FastICA did not converge. Consider increasing '\n"
     ]
    },
    {
     "name": "stdout",
     "output_type": "stream",
     "text": [
      "[CV]  NN__hidden_layer_sizes=(10, 20), ica__n_components=20, score=0.6482021379980564, total=   0.9s\n",
      "[CV] NN__hidden_layer_sizes=(10, 20), ica__n_components=20 ...........\n"
     ]
    },
    {
     "name": "stderr",
     "output_type": "stream",
     "text": [
      "C:\\Users\\ajmot\\Anaconda3\\lib\\site-packages\\sklearn\\decomposition\\fastica_.py:118: UserWarning: FastICA did not converge. Consider increasing tolerance or the maximum number of iterations.\n",
      "  warnings.warn('FastICA did not converge. Consider increasing '\n"
     ]
    },
    {
     "name": "stdout",
     "output_type": "stream",
     "text": [
      "[CV]  NN__hidden_layer_sizes=(10, 20), ica__n_components=20, score=0.6488326848249028, total=   0.9s\n",
      "[CV] NN__hidden_layer_sizes=(10, 20), ica__n_components=25 ...........\n"
     ]
    },
    {
     "name": "stderr",
     "output_type": "stream",
     "text": [
      "C:\\Users\\ajmot\\Anaconda3\\lib\\site-packages\\sklearn\\decomposition\\fastica_.py:118: UserWarning: FastICA did not converge. Consider increasing tolerance or the maximum number of iterations.\n",
      "  warnings.warn('FastICA did not converge. Consider increasing '\n"
     ]
    },
    {
     "name": "stdout",
     "output_type": "stream",
     "text": [
      "[CV]  NN__hidden_layer_sizes=(10, 20), ica__n_components=25, score=0.6485436893203883, total=   1.1s\n",
      "[CV] NN__hidden_layer_sizes=(10, 20), ica__n_components=25 ...........\n"
     ]
    },
    {
     "name": "stderr",
     "output_type": "stream",
     "text": [
      "C:\\Users\\ajmot\\Anaconda3\\lib\\site-packages\\sklearn\\decomposition\\fastica_.py:118: UserWarning: FastICA did not converge. Consider increasing tolerance or the maximum number of iterations.\n",
      "  warnings.warn('FastICA did not converge. Consider increasing '\n"
     ]
    },
    {
     "name": "stdout",
     "output_type": "stream",
     "text": [
      "[CV]  NN__hidden_layer_sizes=(10, 20), ica__n_components=25, score=0.6485436893203883, total=   1.2s\n",
      "[CV] NN__hidden_layer_sizes=(10, 20), ica__n_components=25 ...........\n"
     ]
    },
    {
     "name": "stderr",
     "output_type": "stream",
     "text": [
      "C:\\Users\\ajmot\\Anaconda3\\lib\\site-packages\\sklearn\\decomposition\\fastica_.py:118: UserWarning: FastICA did not converge. Consider increasing tolerance or the maximum number of iterations.\n",
      "  warnings.warn('FastICA did not converge. Consider increasing '\n"
     ]
    },
    {
     "name": "stdout",
     "output_type": "stream",
     "text": [
      "[CV]  NN__hidden_layer_sizes=(10, 20), ica__n_components=25, score=0.6482021379980564, total=   1.2s\n",
      "[CV] NN__hidden_layer_sizes=(10, 20), ica__n_components=25 ...........\n"
     ]
    },
    {
     "name": "stderr",
     "output_type": "stream",
     "text": [
      "C:\\Users\\ajmot\\Anaconda3\\lib\\site-packages\\sklearn\\decomposition\\fastica_.py:118: UserWarning: FastICA did not converge. Consider increasing tolerance or the maximum number of iterations.\n",
      "  warnings.warn('FastICA did not converge. Consider increasing '\n"
     ]
    },
    {
     "name": "stdout",
     "output_type": "stream",
     "text": [
      "[CV]  NN__hidden_layer_sizes=(10, 20), ica__n_components=25, score=0.6482021379980564, total=   1.1s\n",
      "[CV] NN__hidden_layer_sizes=(10, 20), ica__n_components=25 ...........\n"
     ]
    },
    {
     "name": "stderr",
     "output_type": "stream",
     "text": [
      "C:\\Users\\ajmot\\Anaconda3\\lib\\site-packages\\sklearn\\decomposition\\fastica_.py:118: UserWarning: FastICA did not converge. Consider increasing tolerance or the maximum number of iterations.\n",
      "  warnings.warn('FastICA did not converge. Consider increasing '\n"
     ]
    },
    {
     "name": "stdout",
     "output_type": "stream",
     "text": [
      "[CV]  NN__hidden_layer_sizes=(10, 20), ica__n_components=25, score=0.6488326848249028, total=   1.2s\n",
      "[CV] NN__hidden_layer_sizes=(10, 20), ica__n_components=30 ...........\n"
     ]
    },
    {
     "name": "stderr",
     "output_type": "stream",
     "text": [
      "C:\\Users\\ajmot\\Anaconda3\\lib\\site-packages\\sklearn\\decomposition\\fastica_.py:118: UserWarning: FastICA did not converge. Consider increasing tolerance or the maximum number of iterations.\n",
      "  warnings.warn('FastICA did not converge. Consider increasing '\n"
     ]
    },
    {
     "name": "stdout",
     "output_type": "stream",
     "text": [
      "[CV]  NN__hidden_layer_sizes=(10, 20), ica__n_components=30, score=0.6485436893203883, total=   1.4s\n",
      "[CV] NN__hidden_layer_sizes=(10, 20), ica__n_components=30 ...........\n"
     ]
    },
    {
     "name": "stderr",
     "output_type": "stream",
     "text": [
      "C:\\Users\\ajmot\\Anaconda3\\lib\\site-packages\\sklearn\\decomposition\\fastica_.py:118: UserWarning: FastICA did not converge. Consider increasing tolerance or the maximum number of iterations.\n",
      "  warnings.warn('FastICA did not converge. Consider increasing '\n"
     ]
    },
    {
     "name": "stdout",
     "output_type": "stream",
     "text": [
      "[CV]  NN__hidden_layer_sizes=(10, 20), ica__n_components=30, score=0.6485436893203883, total=   1.3s\n",
      "[CV] NN__hidden_layer_sizes=(10, 20), ica__n_components=30 ...........\n"
     ]
    },
    {
     "name": "stderr",
     "output_type": "stream",
     "text": [
      "C:\\Users\\ajmot\\Anaconda3\\lib\\site-packages\\sklearn\\decomposition\\fastica_.py:118: UserWarning: FastICA did not converge. Consider increasing tolerance or the maximum number of iterations.\n",
      "  warnings.warn('FastICA did not converge. Consider increasing '\n"
     ]
    },
    {
     "name": "stdout",
     "output_type": "stream",
     "text": [
      "[CV]  NN__hidden_layer_sizes=(10, 20), ica__n_components=30, score=0.6482021379980564, total=   1.3s\n",
      "[CV] NN__hidden_layer_sizes=(10, 20), ica__n_components=30 ...........\n"
     ]
    },
    {
     "name": "stderr",
     "output_type": "stream",
     "text": [
      "C:\\Users\\ajmot\\Anaconda3\\lib\\site-packages\\sklearn\\decomposition\\fastica_.py:118: UserWarning: FastICA did not converge. Consider increasing tolerance or the maximum number of iterations.\n",
      "  warnings.warn('FastICA did not converge. Consider increasing '\n"
     ]
    },
    {
     "name": "stdout",
     "output_type": "stream",
     "text": [
      "[CV]  NN__hidden_layer_sizes=(10, 20), ica__n_components=30, score=0.6482021379980564, total=   1.4s\n",
      "[CV] NN__hidden_layer_sizes=(10, 20), ica__n_components=30 ...........\n"
     ]
    },
    {
     "name": "stderr",
     "output_type": "stream",
     "text": [
      "C:\\Users\\ajmot\\Anaconda3\\lib\\site-packages\\sklearn\\decomposition\\fastica_.py:118: UserWarning: FastICA did not converge. Consider increasing tolerance or the maximum number of iterations.\n",
      "  warnings.warn('FastICA did not converge. Consider increasing '\n"
     ]
    },
    {
     "name": "stdout",
     "output_type": "stream",
     "text": [
      "[CV]  NN__hidden_layer_sizes=(10, 20), ica__n_components=30, score=0.6488326848249028, total=   1.3s\n",
      "[CV] NN__hidden_layer_sizes=(10, 20), ica__n_components=35 ...........\n"
     ]
    },
    {
     "name": "stderr",
     "output_type": "stream",
     "text": [
      "C:\\Users\\ajmot\\Anaconda3\\lib\\site-packages\\sklearn\\decomposition\\fastica_.py:118: UserWarning: FastICA did not converge. Consider increasing tolerance or the maximum number of iterations.\n",
      "  warnings.warn('FastICA did not converge. Consider increasing '\n"
     ]
    },
    {
     "name": "stdout",
     "output_type": "stream",
     "text": [
      "[CV]  NN__hidden_layer_sizes=(10, 20), ica__n_components=35, score=0.6485436893203883, total=   1.7s\n",
      "[CV] NN__hidden_layer_sizes=(10, 20), ica__n_components=35 ...........\n"
     ]
    },
    {
     "name": "stderr",
     "output_type": "stream",
     "text": [
      "C:\\Users\\ajmot\\Anaconda3\\lib\\site-packages\\sklearn\\decomposition\\fastica_.py:118: UserWarning: FastICA did not converge. Consider increasing tolerance or the maximum number of iterations.\n",
      "  warnings.warn('FastICA did not converge. Consider increasing '\n"
     ]
    },
    {
     "name": "stdout",
     "output_type": "stream",
     "text": [
      "[CV]  NN__hidden_layer_sizes=(10, 20), ica__n_components=35, score=0.6485436893203883, total=   2.4s\n",
      "[CV] NN__hidden_layer_sizes=(10, 20), ica__n_components=35 ...........\n"
     ]
    },
    {
     "name": "stderr",
     "output_type": "stream",
     "text": [
      "C:\\Users\\ajmot\\Anaconda3\\lib\\site-packages\\sklearn\\decomposition\\fastica_.py:118: UserWarning: FastICA did not converge. Consider increasing tolerance or the maximum number of iterations.\n",
      "  warnings.warn('FastICA did not converge. Consider increasing '\n"
     ]
    },
    {
     "name": "stdout",
     "output_type": "stream",
     "text": [
      "[CV]  NN__hidden_layer_sizes=(10, 20), ica__n_components=35, score=0.6482021379980564, total=   2.7s\n",
      "[CV] NN__hidden_layer_sizes=(10, 20), ica__n_components=35 ...........\n"
     ]
    },
    {
     "name": "stderr",
     "output_type": "stream",
     "text": [
      "C:\\Users\\ajmot\\Anaconda3\\lib\\site-packages\\sklearn\\decomposition\\fastica_.py:118: UserWarning: FastICA did not converge. Consider increasing tolerance or the maximum number of iterations.\n",
      "  warnings.warn('FastICA did not converge. Consider increasing '\n"
     ]
    },
    {
     "name": "stdout",
     "output_type": "stream",
     "text": [
      "[CV]  NN__hidden_layer_sizes=(10, 20), ica__n_components=35, score=0.6482021379980564, total=   2.3s\n",
      "[CV] NN__hidden_layer_sizes=(10, 20), ica__n_components=35 ...........\n"
     ]
    },
    {
     "name": "stderr",
     "output_type": "stream",
     "text": [
      "C:\\Users\\ajmot\\Anaconda3\\lib\\site-packages\\sklearn\\decomposition\\fastica_.py:118: UserWarning: FastICA did not converge. Consider increasing tolerance or the maximum number of iterations.\n",
      "  warnings.warn('FastICA did not converge. Consider increasing '\n"
     ]
    },
    {
     "name": "stdout",
     "output_type": "stream",
     "text": [
      "[CV]  NN__hidden_layer_sizes=(10, 20), ica__n_components=35, score=0.6488326848249028, total=   1.9s\n",
      "[CV] NN__hidden_layer_sizes=(20, 20), ica__n_components=2 ............\n",
      "[CV]  NN__hidden_layer_sizes=(20, 20), ica__n_components=2, score=0.6485436893203883, total=   0.0s\n",
      "[CV] NN__hidden_layer_sizes=(20, 20), ica__n_components=2 ............\n",
      "[CV]  NN__hidden_layer_sizes=(20, 20), ica__n_components=2, score=0.6485436893203883, total=   0.0s\n",
      "[CV] NN__hidden_layer_sizes=(20, 20), ica__n_components=2 ............\n",
      "[CV]  NN__hidden_layer_sizes=(20, 20), ica__n_components=2, score=0.6482021379980564, total=   0.0s\n",
      "[CV] NN__hidden_layer_sizes=(20, 20), ica__n_components=2 ............\n",
      "[CV]  NN__hidden_layer_sizes=(20, 20), ica__n_components=2, score=0.6482021379980564, total=   0.0s\n",
      "[CV] NN__hidden_layer_sizes=(20, 20), ica__n_components=2 ............\n",
      "[CV]  NN__hidden_layer_sizes=(20, 20), ica__n_components=2, score=0.6488326848249028, total=   0.0s\n",
      "[CV] NN__hidden_layer_sizes=(20, 20), ica__n_components=5 ............\n",
      "[CV]  NN__hidden_layer_sizes=(20, 20), ica__n_components=5, score=0.6485436893203883, total=   0.0s\n",
      "[CV] NN__hidden_layer_sizes=(20, 20), ica__n_components=5 ............\n",
      "[CV]  NN__hidden_layer_sizes=(20, 20), ica__n_components=5, score=0.6485436893203883, total=   0.0s\n",
      "[CV] NN__hidden_layer_sizes=(20, 20), ica__n_components=5 ............\n",
      "[CV]  NN__hidden_layer_sizes=(20, 20), ica__n_components=5, score=0.6482021379980564, total=   0.0s\n",
      "[CV] NN__hidden_layer_sizes=(20, 20), ica__n_components=5 ............\n",
      "[CV]  NN__hidden_layer_sizes=(20, 20), ica__n_components=5, score=0.6482021379980564, total=   0.0s\n",
      "[CV] NN__hidden_layer_sizes=(20, 20), ica__n_components=5 ............\n",
      "[CV]  NN__hidden_layer_sizes=(20, 20), ica__n_components=5, score=0.6488326848249028, total=   0.0s\n",
      "[CV] NN__hidden_layer_sizes=(20, 20), ica__n_components=10 ...........\n",
      "[CV]  NN__hidden_layer_sizes=(20, 20), ica__n_components=10, score=0.6485436893203883, total=   0.3s\n",
      "[CV] NN__hidden_layer_sizes=(20, 20), ica__n_components=10 ...........\n"
     ]
    },
    {
     "name": "stderr",
     "output_type": "stream",
     "text": [
      "C:\\Users\\ajmot\\Anaconda3\\lib\\site-packages\\sklearn\\decomposition\\fastica_.py:118: UserWarning: FastICA did not converge. Consider increasing tolerance or the maximum number of iterations.\n",
      "  warnings.warn('FastICA did not converge. Consider increasing '\n"
     ]
    },
    {
     "name": "stdout",
     "output_type": "stream",
     "text": [
      "[CV]  NN__hidden_layer_sizes=(20, 20), ica__n_components=10, score=0.6485436893203883, total=   0.5s\n",
      "[CV] NN__hidden_layer_sizes=(20, 20), ica__n_components=10 ...........\n"
     ]
    },
    {
     "name": "stderr",
     "output_type": "stream",
     "text": [
      "C:\\Users\\ajmot\\Anaconda3\\lib\\site-packages\\sklearn\\decomposition\\fastica_.py:118: UserWarning: FastICA did not converge. Consider increasing tolerance or the maximum number of iterations.\n",
      "  warnings.warn('FastICA did not converge. Consider increasing '\n"
     ]
    },
    {
     "name": "stdout",
     "output_type": "stream",
     "text": [
      "[CV]  NN__hidden_layer_sizes=(20, 20), ica__n_components=10, score=0.6482021379980564, total=   0.4s\n",
      "[CV] NN__hidden_layer_sizes=(20, 20), ica__n_components=10 ...........\n"
     ]
    },
    {
     "name": "stderr",
     "output_type": "stream",
     "text": [
      "C:\\Users\\ajmot\\Anaconda3\\lib\\site-packages\\sklearn\\decomposition\\fastica_.py:118: UserWarning: FastICA did not converge. Consider increasing tolerance or the maximum number of iterations.\n",
      "  warnings.warn('FastICA did not converge. Consider increasing '\n"
     ]
    },
    {
     "name": "stdout",
     "output_type": "stream",
     "text": [
      "[CV]  NN__hidden_layer_sizes=(20, 20), ica__n_components=10, score=0.6482021379980564, total=   0.5s\n",
      "[CV] NN__hidden_layer_sizes=(20, 20), ica__n_components=10 ...........\n"
     ]
    },
    {
     "name": "stderr",
     "output_type": "stream",
     "text": [
      "C:\\Users\\ajmot\\Anaconda3\\lib\\site-packages\\sklearn\\decomposition\\fastica_.py:118: UserWarning: FastICA did not converge. Consider increasing tolerance or the maximum number of iterations.\n",
      "  warnings.warn('FastICA did not converge. Consider increasing '\n"
     ]
    },
    {
     "name": "stdout",
     "output_type": "stream",
     "text": [
      "[CV]  NN__hidden_layer_sizes=(20, 20), ica__n_components=10, score=0.6488326848249028, total=   0.4s\n",
      "[CV] NN__hidden_layer_sizes=(20, 20), ica__n_components=15 ...........\n"
     ]
    },
    {
     "name": "stderr",
     "output_type": "stream",
     "text": [
      "C:\\Users\\ajmot\\Anaconda3\\lib\\site-packages\\sklearn\\decomposition\\fastica_.py:118: UserWarning: FastICA did not converge. Consider increasing tolerance or the maximum number of iterations.\n",
      "  warnings.warn('FastICA did not converge. Consider increasing '\n"
     ]
    },
    {
     "name": "stdout",
     "output_type": "stream",
     "text": [
      "[CV]  NN__hidden_layer_sizes=(20, 20), ica__n_components=15, score=0.6485436893203883, total=   0.7s\n",
      "[CV] NN__hidden_layer_sizes=(20, 20), ica__n_components=15 ...........\n"
     ]
    },
    {
     "name": "stderr",
     "output_type": "stream",
     "text": [
      "C:\\Users\\ajmot\\Anaconda3\\lib\\site-packages\\sklearn\\decomposition\\fastica_.py:118: UserWarning: FastICA did not converge. Consider increasing tolerance or the maximum number of iterations.\n",
      "  warnings.warn('FastICA did not converge. Consider increasing '\n"
     ]
    },
    {
     "name": "stdout",
     "output_type": "stream",
     "text": [
      "[CV]  NN__hidden_layer_sizes=(20, 20), ica__n_components=15, score=0.6485436893203883, total=   0.9s\n",
      "[CV] NN__hidden_layer_sizes=(20, 20), ica__n_components=15 ...........\n",
      "[CV]  NN__hidden_layer_sizes=(20, 20), ica__n_components=15, score=0.6482021379980564, total=   0.5s\n",
      "[CV] NN__hidden_layer_sizes=(20, 20), ica__n_components=15 ...........\n"
     ]
    },
    {
     "name": "stderr",
     "output_type": "stream",
     "text": [
      "C:\\Users\\ajmot\\Anaconda3\\lib\\site-packages\\sklearn\\decomposition\\fastica_.py:118: UserWarning: FastICA did not converge. Consider increasing tolerance or the maximum number of iterations.\n",
      "  warnings.warn('FastICA did not converge. Consider increasing '\n"
     ]
    },
    {
     "name": "stdout",
     "output_type": "stream",
     "text": [
      "[CV]  NN__hidden_layer_sizes=(20, 20), ica__n_components=15, score=0.6482021379980564, total=   0.6s\n",
      "[CV] NN__hidden_layer_sizes=(20, 20), ica__n_components=15 ...........\n"
     ]
    },
    {
     "name": "stderr",
     "output_type": "stream",
     "text": [
      "C:\\Users\\ajmot\\Anaconda3\\lib\\site-packages\\sklearn\\decomposition\\fastica_.py:118: UserWarning: FastICA did not converge. Consider increasing tolerance or the maximum number of iterations.\n",
      "  warnings.warn('FastICA did not converge. Consider increasing '\n"
     ]
    },
    {
     "name": "stdout",
     "output_type": "stream",
     "text": [
      "[CV]  NN__hidden_layer_sizes=(20, 20), ica__n_components=15, score=0.6488326848249028, total=   0.8s\n",
      "[CV] NN__hidden_layer_sizes=(20, 20), ica__n_components=20 ...........\n"
     ]
    },
    {
     "name": "stderr",
     "output_type": "stream",
     "text": [
      "C:\\Users\\ajmot\\Anaconda3\\lib\\site-packages\\sklearn\\decomposition\\fastica_.py:118: UserWarning: FastICA did not converge. Consider increasing tolerance or the maximum number of iterations.\n",
      "  warnings.warn('FastICA did not converge. Consider increasing '\n"
     ]
    },
    {
     "name": "stdout",
     "output_type": "stream",
     "text": [
      "[CV]  NN__hidden_layer_sizes=(20, 20), ica__n_components=20, score=0.6485436893203883, total=   0.9s\n",
      "[CV] NN__hidden_layer_sizes=(20, 20), ica__n_components=20 ...........\n"
     ]
    },
    {
     "name": "stderr",
     "output_type": "stream",
     "text": [
      "C:\\Users\\ajmot\\Anaconda3\\lib\\site-packages\\sklearn\\decomposition\\fastica_.py:118: UserWarning: FastICA did not converge. Consider increasing tolerance or the maximum number of iterations.\n",
      "  warnings.warn('FastICA did not converge. Consider increasing '\n"
     ]
    },
    {
     "name": "stdout",
     "output_type": "stream",
     "text": [
      "[CV]  NN__hidden_layer_sizes=(20, 20), ica__n_components=20, score=0.6485436893203883, total=   0.8s\n",
      "[CV] NN__hidden_layer_sizes=(20, 20), ica__n_components=20 ...........\n"
     ]
    },
    {
     "name": "stderr",
     "output_type": "stream",
     "text": [
      "C:\\Users\\ajmot\\Anaconda3\\lib\\site-packages\\sklearn\\decomposition\\fastica_.py:118: UserWarning: FastICA did not converge. Consider increasing tolerance or the maximum number of iterations.\n",
      "  warnings.warn('FastICA did not converge. Consider increasing '\n"
     ]
    },
    {
     "name": "stdout",
     "output_type": "stream",
     "text": [
      "[CV]  NN__hidden_layer_sizes=(20, 20), ica__n_components=20, score=0.6482021379980564, total=   0.9s\n",
      "[CV] NN__hidden_layer_sizes=(20, 20), ica__n_components=20 ...........\n"
     ]
    },
    {
     "name": "stderr",
     "output_type": "stream",
     "text": [
      "C:\\Users\\ajmot\\Anaconda3\\lib\\site-packages\\sklearn\\decomposition\\fastica_.py:118: UserWarning: FastICA did not converge. Consider increasing tolerance or the maximum number of iterations.\n",
      "  warnings.warn('FastICA did not converge. Consider increasing '\n"
     ]
    },
    {
     "name": "stdout",
     "output_type": "stream",
     "text": [
      "[CV]  NN__hidden_layer_sizes=(20, 20), ica__n_components=20, score=0.6482021379980564, total=   0.9s\n",
      "[CV] NN__hidden_layer_sizes=(20, 20), ica__n_components=20 ...........\n"
     ]
    },
    {
     "name": "stderr",
     "output_type": "stream",
     "text": [
      "C:\\Users\\ajmot\\Anaconda3\\lib\\site-packages\\sklearn\\decomposition\\fastica_.py:118: UserWarning: FastICA did not converge. Consider increasing tolerance or the maximum number of iterations.\n",
      "  warnings.warn('FastICA did not converge. Consider increasing '\n"
     ]
    },
    {
     "name": "stdout",
     "output_type": "stream",
     "text": [
      "[CV]  NN__hidden_layer_sizes=(20, 20), ica__n_components=20, score=0.6488326848249028, total=   1.0s\n",
      "[CV] NN__hidden_layer_sizes=(20, 20), ica__n_components=25 ...........\n"
     ]
    },
    {
     "name": "stderr",
     "output_type": "stream",
     "text": [
      "C:\\Users\\ajmot\\Anaconda3\\lib\\site-packages\\sklearn\\decomposition\\fastica_.py:118: UserWarning: FastICA did not converge. Consider increasing tolerance or the maximum number of iterations.\n",
      "  warnings.warn('FastICA did not converge. Consider increasing '\n"
     ]
    },
    {
     "name": "stdout",
     "output_type": "stream",
     "text": [
      "[CV]  NN__hidden_layer_sizes=(20, 20), ica__n_components=25, score=0.6485436893203883, total=   1.2s\n",
      "[CV] NN__hidden_layer_sizes=(20, 20), ica__n_components=25 ...........\n"
     ]
    },
    {
     "name": "stderr",
     "output_type": "stream",
     "text": [
      "C:\\Users\\ajmot\\Anaconda3\\lib\\site-packages\\sklearn\\decomposition\\fastica_.py:118: UserWarning: FastICA did not converge. Consider increasing tolerance or the maximum number of iterations.\n",
      "  warnings.warn('FastICA did not converge. Consider increasing '\n"
     ]
    },
    {
     "name": "stdout",
     "output_type": "stream",
     "text": [
      "[CV]  NN__hidden_layer_sizes=(20, 20), ica__n_components=25, score=0.6495145631067961, total=   1.1s\n",
      "[CV] NN__hidden_layer_sizes=(20, 20), ica__n_components=25 ...........\n"
     ]
    },
    {
     "name": "stderr",
     "output_type": "stream",
     "text": [
      "C:\\Users\\ajmot\\Anaconda3\\lib\\site-packages\\sklearn\\decomposition\\fastica_.py:118: UserWarning: FastICA did not converge. Consider increasing tolerance or the maximum number of iterations.\n",
      "  warnings.warn('FastICA did not converge. Consider increasing '\n"
     ]
    },
    {
     "name": "stdout",
     "output_type": "stream",
     "text": [
      "[CV]  NN__hidden_layer_sizes=(20, 20), ica__n_components=25, score=0.6482021379980564, total=   1.2s\n",
      "[CV] NN__hidden_layer_sizes=(20, 20), ica__n_components=25 ...........\n"
     ]
    },
    {
     "name": "stderr",
     "output_type": "stream",
     "text": [
      "C:\\Users\\ajmot\\Anaconda3\\lib\\site-packages\\sklearn\\decomposition\\fastica_.py:118: UserWarning: FastICA did not converge. Consider increasing tolerance or the maximum number of iterations.\n",
      "  warnings.warn('FastICA did not converge. Consider increasing '\n"
     ]
    },
    {
     "name": "stdout",
     "output_type": "stream",
     "text": [
      "[CV]  NN__hidden_layer_sizes=(20, 20), ica__n_components=25, score=0.6482021379980564, total=   1.1s\n",
      "[CV] NN__hidden_layer_sizes=(20, 20), ica__n_components=25 ...........\n"
     ]
    },
    {
     "name": "stderr",
     "output_type": "stream",
     "text": [
      "C:\\Users\\ajmot\\Anaconda3\\lib\\site-packages\\sklearn\\decomposition\\fastica_.py:118: UserWarning: FastICA did not converge. Consider increasing tolerance or the maximum number of iterations.\n",
      "  warnings.warn('FastICA did not converge. Consider increasing '\n"
     ]
    },
    {
     "name": "stdout",
     "output_type": "stream",
     "text": [
      "[CV]  NN__hidden_layer_sizes=(20, 20), ica__n_components=25, score=0.6488326848249028, total=   1.3s\n",
      "[CV] NN__hidden_layer_sizes=(20, 20), ica__n_components=30 ...........\n"
     ]
    },
    {
     "name": "stderr",
     "output_type": "stream",
     "text": [
      "C:\\Users\\ajmot\\Anaconda3\\lib\\site-packages\\sklearn\\decomposition\\fastica_.py:118: UserWarning: FastICA did not converge. Consider increasing tolerance or the maximum number of iterations.\n",
      "  warnings.warn('FastICA did not converge. Consider increasing '\n"
     ]
    },
    {
     "name": "stdout",
     "output_type": "stream",
     "text": [
      "[CV]  NN__hidden_layer_sizes=(20, 20), ica__n_components=30, score=0.6485436893203883, total=   1.4s\n",
      "[CV] NN__hidden_layer_sizes=(20, 20), ica__n_components=30 ...........\n"
     ]
    },
    {
     "name": "stderr",
     "output_type": "stream",
     "text": [
      "C:\\Users\\ajmot\\Anaconda3\\lib\\site-packages\\sklearn\\decomposition\\fastica_.py:118: UserWarning: FastICA did not converge. Consider increasing tolerance or the maximum number of iterations.\n",
      "  warnings.warn('FastICA did not converge. Consider increasing '\n"
     ]
    },
    {
     "name": "stdout",
     "output_type": "stream",
     "text": [
      "[CV]  NN__hidden_layer_sizes=(20, 20), ica__n_components=30, score=0.6485436893203883, total=   1.6s\n",
      "[CV] NN__hidden_layer_sizes=(20, 20), ica__n_components=30 ...........\n"
     ]
    },
    {
     "name": "stderr",
     "output_type": "stream",
     "text": [
      "C:\\Users\\ajmot\\Anaconda3\\lib\\site-packages\\sklearn\\decomposition\\fastica_.py:118: UserWarning: FastICA did not converge. Consider increasing tolerance or the maximum number of iterations.\n",
      "  warnings.warn('FastICA did not converge. Consider increasing '\n"
     ]
    },
    {
     "name": "stdout",
     "output_type": "stream",
     "text": [
      "[CV]  NN__hidden_layer_sizes=(20, 20), ica__n_components=30, score=0.6482021379980564, total=   1.4s\n",
      "[CV] NN__hidden_layer_sizes=(20, 20), ica__n_components=30 ...........\n"
     ]
    },
    {
     "name": "stderr",
     "output_type": "stream",
     "text": [
      "C:\\Users\\ajmot\\Anaconda3\\lib\\site-packages\\sklearn\\decomposition\\fastica_.py:118: UserWarning: FastICA did not converge. Consider increasing tolerance or the maximum number of iterations.\n",
      "  warnings.warn('FastICA did not converge. Consider increasing '\n"
     ]
    },
    {
     "name": "stdout",
     "output_type": "stream",
     "text": [
      "[CV]  NN__hidden_layer_sizes=(20, 20), ica__n_components=30, score=0.6482021379980564, total=   1.3s\n",
      "[CV] NN__hidden_layer_sizes=(20, 20), ica__n_components=30 ...........\n"
     ]
    },
    {
     "name": "stderr",
     "output_type": "stream",
     "text": [
      "C:\\Users\\ajmot\\Anaconda3\\lib\\site-packages\\sklearn\\decomposition\\fastica_.py:118: UserWarning: FastICA did not converge. Consider increasing tolerance or the maximum number of iterations.\n",
      "  warnings.warn('FastICA did not converge. Consider increasing '\n"
     ]
    },
    {
     "name": "stdout",
     "output_type": "stream",
     "text": [
      "[CV]  NN__hidden_layer_sizes=(20, 20), ica__n_components=30, score=0.6488326848249028, total=   1.4s\n",
      "[CV] NN__hidden_layer_sizes=(20, 20), ica__n_components=35 ...........\n"
     ]
    },
    {
     "name": "stderr",
     "output_type": "stream",
     "text": [
      "C:\\Users\\ajmot\\Anaconda3\\lib\\site-packages\\sklearn\\decomposition\\fastica_.py:118: UserWarning: FastICA did not converge. Consider increasing tolerance or the maximum number of iterations.\n",
      "  warnings.warn('FastICA did not converge. Consider increasing '\n"
     ]
    },
    {
     "name": "stdout",
     "output_type": "stream",
     "text": [
      "[CV]  NN__hidden_layer_sizes=(20, 20), ica__n_components=35, score=0.6485436893203883, total=   1.8s\n",
      "[CV] NN__hidden_layer_sizes=(20, 20), ica__n_components=35 ...........\n"
     ]
    },
    {
     "name": "stderr",
     "output_type": "stream",
     "text": [
      "C:\\Users\\ajmot\\Anaconda3\\lib\\site-packages\\sklearn\\decomposition\\fastica_.py:118: UserWarning: FastICA did not converge. Consider increasing tolerance or the maximum number of iterations.\n",
      "  warnings.warn('FastICA did not converge. Consider increasing '\n"
     ]
    },
    {
     "name": "stdout",
     "output_type": "stream",
     "text": [
      "[CV]  NN__hidden_layer_sizes=(20, 20), ica__n_components=35, score=0.35145631067961164, total=   1.6s\n",
      "[CV] NN__hidden_layer_sizes=(20, 20), ica__n_components=35 ...........\n"
     ]
    },
    {
     "name": "stderr",
     "output_type": "stream",
     "text": [
      "C:\\Users\\ajmot\\Anaconda3\\lib\\site-packages\\sklearn\\decomposition\\fastica_.py:118: UserWarning: FastICA did not converge. Consider increasing tolerance or the maximum number of iterations.\n",
      "  warnings.warn('FastICA did not converge. Consider increasing '\n"
     ]
    },
    {
     "name": "stdout",
     "output_type": "stream",
     "text": [
      "[CV]  NN__hidden_layer_sizes=(20, 20), ica__n_components=35, score=0.6482021379980564, total=   1.8s\n",
      "[CV] NN__hidden_layer_sizes=(20, 20), ica__n_components=35 ...........\n"
     ]
    },
    {
     "name": "stderr",
     "output_type": "stream",
     "text": [
      "C:\\Users\\ajmot\\Anaconda3\\lib\\site-packages\\sklearn\\decomposition\\fastica_.py:118: UserWarning: FastICA did not converge. Consider increasing tolerance or the maximum number of iterations.\n",
      "  warnings.warn('FastICA did not converge. Consider increasing '\n"
     ]
    },
    {
     "name": "stdout",
     "output_type": "stream",
     "text": [
      "[CV]  NN__hidden_layer_sizes=(20, 20), ica__n_components=35, score=0.35179786200194363, total=   1.8s\n",
      "[CV] NN__hidden_layer_sizes=(20, 20), ica__n_components=35 ...........\n"
     ]
    },
    {
     "name": "stderr",
     "output_type": "stream",
     "text": [
      "C:\\Users\\ajmot\\Anaconda3\\lib\\site-packages\\sklearn\\decomposition\\fastica_.py:118: UserWarning: FastICA did not converge. Consider increasing tolerance or the maximum number of iterations.\n",
      "  warnings.warn('FastICA did not converge. Consider increasing '\n"
     ]
    },
    {
     "name": "stdout",
     "output_type": "stream",
     "text": [
      "[CV]  NN__hidden_layer_sizes=(20, 20), ica__n_components=35, score=0.35116731517509725, total=   1.8s\n",
      "[CV] NN__hidden_layer_sizes=(20, 10), ica__n_components=2 ............\n",
      "[CV]  NN__hidden_layer_sizes=(20, 10), ica__n_components=2, score=0.6485436893203883, total=   0.0s\n",
      "[CV] NN__hidden_layer_sizes=(20, 10), ica__n_components=2 ............\n",
      "[CV]  NN__hidden_layer_sizes=(20, 10), ica__n_components=2, score=0.6485436893203883, total=   0.0s\n",
      "[CV] NN__hidden_layer_sizes=(20, 10), ica__n_components=2 ............\n",
      "[CV]  NN__hidden_layer_sizes=(20, 10), ica__n_components=2, score=0.6482021379980564, total=   0.0s\n",
      "[CV] NN__hidden_layer_sizes=(20, 10), ica__n_components=2 ............\n",
      "[CV]  NN__hidden_layer_sizes=(20, 10), ica__n_components=2, score=0.6482021379980564, total=   0.0s\n",
      "[CV] NN__hidden_layer_sizes=(20, 10), ica__n_components=2 ............\n",
      "[CV]  NN__hidden_layer_sizes=(20, 10), ica__n_components=2, score=0.6488326848249028, total=   0.0s\n",
      "[CV] NN__hidden_layer_sizes=(20, 10), ica__n_components=5 ............\n",
      "[CV]  NN__hidden_layer_sizes=(20, 10), ica__n_components=5, score=0.6485436893203883, total=   0.0s\n",
      "[CV] NN__hidden_layer_sizes=(20, 10), ica__n_components=5 ............\n",
      "[CV]  NN__hidden_layer_sizes=(20, 10), ica__n_components=5, score=0.6485436893203883, total=   0.0s\n",
      "[CV] NN__hidden_layer_sizes=(20, 10), ica__n_components=5 ............\n",
      "[CV]  NN__hidden_layer_sizes=(20, 10), ica__n_components=5, score=0.6482021379980564, total=   0.0s\n",
      "[CV] NN__hidden_layer_sizes=(20, 10), ica__n_components=5 ............\n",
      "[CV]  NN__hidden_layer_sizes=(20, 10), ica__n_components=5, score=0.6482021379980564, total=   0.0s\n",
      "[CV] NN__hidden_layer_sizes=(20, 10), ica__n_components=5 ............\n",
      "[CV]  NN__hidden_layer_sizes=(20, 10), ica__n_components=5, score=0.6488326848249028, total=   0.0s\n",
      "[CV] NN__hidden_layer_sizes=(20, 10), ica__n_components=10 ...........\n",
      "[CV]  NN__hidden_layer_sizes=(20, 10), ica__n_components=10, score=0.6485436893203883, total=   0.4s\n",
      "[CV] NN__hidden_layer_sizes=(20, 10), ica__n_components=10 ...........\n"
     ]
    },
    {
     "name": "stderr",
     "output_type": "stream",
     "text": [
      "C:\\Users\\ajmot\\Anaconda3\\lib\\site-packages\\sklearn\\decomposition\\fastica_.py:118: UserWarning: FastICA did not converge. Consider increasing tolerance or the maximum number of iterations.\n",
      "  warnings.warn('FastICA did not converge. Consider increasing '\n"
     ]
    },
    {
     "name": "stdout",
     "output_type": "stream",
     "text": [
      "[CV]  NN__hidden_layer_sizes=(20, 10), ica__n_components=10, score=0.6485436893203883, total=   0.5s\n",
      "[CV] NN__hidden_layer_sizes=(20, 10), ica__n_components=10 ...........\n"
     ]
    },
    {
     "name": "stderr",
     "output_type": "stream",
     "text": [
      "C:\\Users\\ajmot\\Anaconda3\\lib\\site-packages\\sklearn\\decomposition\\fastica_.py:118: UserWarning: FastICA did not converge. Consider increasing tolerance or the maximum number of iterations.\n",
      "  warnings.warn('FastICA did not converge. Consider increasing '\n"
     ]
    },
    {
     "name": "stdout",
     "output_type": "stream",
     "text": [
      "[CV]  NN__hidden_layer_sizes=(20, 10), ica__n_components=10, score=0.6482021379980564, total=   0.5s\n",
      "[CV] NN__hidden_layer_sizes=(20, 10), ica__n_components=10 ...........\n"
     ]
    },
    {
     "name": "stderr",
     "output_type": "stream",
     "text": [
      "C:\\Users\\ajmot\\Anaconda3\\lib\\site-packages\\sklearn\\decomposition\\fastica_.py:118: UserWarning: FastICA did not converge. Consider increasing tolerance or the maximum number of iterations.\n",
      "  warnings.warn('FastICA did not converge. Consider increasing '\n"
     ]
    },
    {
     "name": "stdout",
     "output_type": "stream",
     "text": [
      "[CV]  NN__hidden_layer_sizes=(20, 10), ica__n_components=10, score=0.6482021379980564, total=   0.5s\n",
      "[CV] NN__hidden_layer_sizes=(20, 10), ica__n_components=10 ...........\n"
     ]
    },
    {
     "name": "stderr",
     "output_type": "stream",
     "text": [
      "C:\\Users\\ajmot\\Anaconda3\\lib\\site-packages\\sklearn\\decomposition\\fastica_.py:118: UserWarning: FastICA did not converge. Consider increasing tolerance or the maximum number of iterations.\n",
      "  warnings.warn('FastICA did not converge. Consider increasing '\n"
     ]
    },
    {
     "name": "stdout",
     "output_type": "stream",
     "text": [
      "[CV]  NN__hidden_layer_sizes=(20, 10), ica__n_components=10, score=0.6488326848249028, total=   0.5s\n",
      "[CV] NN__hidden_layer_sizes=(20, 10), ica__n_components=15 ...........\n"
     ]
    },
    {
     "name": "stderr",
     "output_type": "stream",
     "text": [
      "C:\\Users\\ajmot\\Anaconda3\\lib\\site-packages\\sklearn\\decomposition\\fastica_.py:118: UserWarning: FastICA did not converge. Consider increasing tolerance or the maximum number of iterations.\n",
      "  warnings.warn('FastICA did not converge. Consider increasing '\n"
     ]
    },
    {
     "name": "stdout",
     "output_type": "stream",
     "text": [
      "[CV]  NN__hidden_layer_sizes=(20, 10), ica__n_components=15, score=0.6485436893203883, total=   0.7s\n",
      "[CV] NN__hidden_layer_sizes=(20, 10), ica__n_components=15 ...........\n"
     ]
    },
    {
     "name": "stderr",
     "output_type": "stream",
     "text": [
      "C:\\Users\\ajmot\\Anaconda3\\lib\\site-packages\\sklearn\\decomposition\\fastica_.py:118: UserWarning: FastICA did not converge. Consider increasing tolerance or the maximum number of iterations.\n",
      "  warnings.warn('FastICA did not converge. Consider increasing '\n"
     ]
    },
    {
     "name": "stdout",
     "output_type": "stream",
     "text": [
      "[CV]  NN__hidden_layer_sizes=(20, 10), ica__n_components=15, score=0.6485436893203883, total=   0.7s\n",
      "[CV] NN__hidden_layer_sizes=(20, 10), ica__n_components=15 ...........\n",
      "[CV]  NN__hidden_layer_sizes=(20, 10), ica__n_components=15, score=0.6482021379980564, total=   0.5s\n",
      "[CV] NN__hidden_layer_sizes=(20, 10), ica__n_components=15 ...........\n"
     ]
    },
    {
     "name": "stderr",
     "output_type": "stream",
     "text": [
      "C:\\Users\\ajmot\\Anaconda3\\lib\\site-packages\\sklearn\\decomposition\\fastica_.py:118: UserWarning: FastICA did not converge. Consider increasing tolerance or the maximum number of iterations.\n",
      "  warnings.warn('FastICA did not converge. Consider increasing '\n"
     ]
    },
    {
     "name": "stdout",
     "output_type": "stream",
     "text": [
      "[CV]  NN__hidden_layer_sizes=(20, 10), ica__n_components=15, score=0.6482021379980564, total=   0.7s\n",
      "[CV] NN__hidden_layer_sizes=(20, 10), ica__n_components=15 ...........\n"
     ]
    },
    {
     "name": "stderr",
     "output_type": "stream",
     "text": [
      "C:\\Users\\ajmot\\Anaconda3\\lib\\site-packages\\sklearn\\decomposition\\fastica_.py:118: UserWarning: FastICA did not converge. Consider increasing tolerance or the maximum number of iterations.\n",
      "  warnings.warn('FastICA did not converge. Consider increasing '\n"
     ]
    },
    {
     "name": "stdout",
     "output_type": "stream",
     "text": [
      "[CV]  NN__hidden_layer_sizes=(20, 10), ica__n_components=15, score=0.6488326848249028, total=   0.8s\n",
      "[CV] NN__hidden_layer_sizes=(20, 10), ica__n_components=20 ...........\n"
     ]
    },
    {
     "name": "stderr",
     "output_type": "stream",
     "text": [
      "C:\\Users\\ajmot\\Anaconda3\\lib\\site-packages\\sklearn\\decomposition\\fastica_.py:118: UserWarning: FastICA did not converge. Consider increasing tolerance or the maximum number of iterations.\n",
      "  warnings.warn('FastICA did not converge. Consider increasing '\n"
     ]
    },
    {
     "name": "stdout",
     "output_type": "stream",
     "text": [
      "[CV]  NN__hidden_layer_sizes=(20, 10), ica__n_components=20, score=0.35145631067961164, total=   0.9s\n",
      "[CV] NN__hidden_layer_sizes=(20, 10), ica__n_components=20 ...........\n"
     ]
    },
    {
     "name": "stderr",
     "output_type": "stream",
     "text": [
      "C:\\Users\\ajmot\\Anaconda3\\lib\\site-packages\\sklearn\\decomposition\\fastica_.py:118: UserWarning: FastICA did not converge. Consider increasing tolerance or the maximum number of iterations.\n",
      "  warnings.warn('FastICA did not converge. Consider increasing '\n"
     ]
    },
    {
     "name": "stdout",
     "output_type": "stream",
     "text": [
      "[CV]  NN__hidden_layer_sizes=(20, 10), ica__n_components=20, score=0.35145631067961164, total=   0.9s\n",
      "[CV] NN__hidden_layer_sizes=(20, 10), ica__n_components=20 ...........\n"
     ]
    },
    {
     "name": "stderr",
     "output_type": "stream",
     "text": [
      "C:\\Users\\ajmot\\Anaconda3\\lib\\site-packages\\sklearn\\decomposition\\fastica_.py:118: UserWarning: FastICA did not converge. Consider increasing tolerance or the maximum number of iterations.\n",
      "  warnings.warn('FastICA did not converge. Consider increasing '\n"
     ]
    },
    {
     "name": "stdout",
     "output_type": "stream",
     "text": [
      "[CV]  NN__hidden_layer_sizes=(20, 10), ica__n_components=20, score=0.35179786200194363, total=   1.0s\n",
      "[CV] NN__hidden_layer_sizes=(20, 10), ica__n_components=20 ...........\n"
     ]
    },
    {
     "name": "stderr",
     "output_type": "stream",
     "text": [
      "C:\\Users\\ajmot\\Anaconda3\\lib\\site-packages\\sklearn\\decomposition\\fastica_.py:118: UserWarning: FastICA did not converge. Consider increasing tolerance or the maximum number of iterations.\n",
      "  warnings.warn('FastICA did not converge. Consider increasing '\n"
     ]
    },
    {
     "name": "stdout",
     "output_type": "stream",
     "text": [
      "[CV]  NN__hidden_layer_sizes=(20, 10), ica__n_components=20, score=0.35179786200194363, total=   1.0s\n",
      "[CV] NN__hidden_layer_sizes=(20, 10), ica__n_components=20 ...........\n"
     ]
    },
    {
     "name": "stderr",
     "output_type": "stream",
     "text": [
      "C:\\Users\\ajmot\\Anaconda3\\lib\\site-packages\\sklearn\\decomposition\\fastica_.py:118: UserWarning: FastICA did not converge. Consider increasing tolerance or the maximum number of iterations.\n",
      "  warnings.warn('FastICA did not converge. Consider increasing '\n"
     ]
    },
    {
     "name": "stdout",
     "output_type": "stream",
     "text": [
      "[CV]  NN__hidden_layer_sizes=(20, 10), ica__n_components=20, score=0.35116731517509725, total=   0.9s\n",
      "[CV] NN__hidden_layer_sizes=(20, 10), ica__n_components=25 ...........\n"
     ]
    },
    {
     "name": "stderr",
     "output_type": "stream",
     "text": [
      "C:\\Users\\ajmot\\Anaconda3\\lib\\site-packages\\sklearn\\decomposition\\fastica_.py:118: UserWarning: FastICA did not converge. Consider increasing tolerance or the maximum number of iterations.\n",
      "  warnings.warn('FastICA did not converge. Consider increasing '\n"
     ]
    },
    {
     "name": "stdout",
     "output_type": "stream",
     "text": [
      "[CV]  NN__hidden_layer_sizes=(20, 10), ica__n_components=25, score=0.6485436893203883, total=   1.2s\n",
      "[CV] NN__hidden_layer_sizes=(20, 10), ica__n_components=25 ...........\n"
     ]
    },
    {
     "name": "stderr",
     "output_type": "stream",
     "text": [
      "C:\\Users\\ajmot\\Anaconda3\\lib\\site-packages\\sklearn\\decomposition\\fastica_.py:118: UserWarning: FastICA did not converge. Consider increasing tolerance or the maximum number of iterations.\n",
      "  warnings.warn('FastICA did not converge. Consider increasing '\n"
     ]
    },
    {
     "name": "stdout",
     "output_type": "stream",
     "text": [
      "[CV]  NN__hidden_layer_sizes=(20, 10), ica__n_components=25, score=0.6485436893203883, total=   1.2s\n",
      "[CV] NN__hidden_layer_sizes=(20, 10), ica__n_components=25 ...........\n"
     ]
    },
    {
     "name": "stderr",
     "output_type": "stream",
     "text": [
      "C:\\Users\\ajmot\\Anaconda3\\lib\\site-packages\\sklearn\\decomposition\\fastica_.py:118: UserWarning: FastICA did not converge. Consider increasing tolerance or the maximum number of iterations.\n",
      "  warnings.warn('FastICA did not converge. Consider increasing '\n"
     ]
    },
    {
     "name": "stdout",
     "output_type": "stream",
     "text": [
      "[CV]  NN__hidden_layer_sizes=(20, 10), ica__n_components=25, score=0.6482021379980564, total=   1.2s\n",
      "[CV] NN__hidden_layer_sizes=(20, 10), ica__n_components=25 ...........\n"
     ]
    },
    {
     "name": "stderr",
     "output_type": "stream",
     "text": [
      "C:\\Users\\ajmot\\Anaconda3\\lib\\site-packages\\sklearn\\decomposition\\fastica_.py:118: UserWarning: FastICA did not converge. Consider increasing tolerance or the maximum number of iterations.\n",
      "  warnings.warn('FastICA did not converge. Consider increasing '\n"
     ]
    },
    {
     "name": "stdout",
     "output_type": "stream",
     "text": [
      "[CV]  NN__hidden_layer_sizes=(20, 10), ica__n_components=25, score=0.6482021379980564, total=   1.2s\n",
      "[CV] NN__hidden_layer_sizes=(20, 10), ica__n_components=25 ...........\n"
     ]
    },
    {
     "name": "stderr",
     "output_type": "stream",
     "text": [
      "C:\\Users\\ajmot\\Anaconda3\\lib\\site-packages\\sklearn\\decomposition\\fastica_.py:118: UserWarning: FastICA did not converge. Consider increasing tolerance or the maximum number of iterations.\n",
      "  warnings.warn('FastICA did not converge. Consider increasing '\n"
     ]
    },
    {
     "name": "stdout",
     "output_type": "stream",
     "text": [
      "[CV]  NN__hidden_layer_sizes=(20, 10), ica__n_components=25, score=0.6488326848249028, total=   1.2s\n",
      "[CV] NN__hidden_layer_sizes=(20, 10), ica__n_components=30 ...........\n"
     ]
    },
    {
     "name": "stderr",
     "output_type": "stream",
     "text": [
      "C:\\Users\\ajmot\\Anaconda3\\lib\\site-packages\\sklearn\\decomposition\\fastica_.py:118: UserWarning: FastICA did not converge. Consider increasing tolerance or the maximum number of iterations.\n",
      "  warnings.warn('FastICA did not converge. Consider increasing '\n"
     ]
    },
    {
     "name": "stdout",
     "output_type": "stream",
     "text": [
      "[CV]  NN__hidden_layer_sizes=(20, 10), ica__n_components=30, score=0.6485436893203883, total=   1.3s\n",
      "[CV] NN__hidden_layer_sizes=(20, 10), ica__n_components=30 ...........\n"
     ]
    },
    {
     "name": "stderr",
     "output_type": "stream",
     "text": [
      "C:\\Users\\ajmot\\Anaconda3\\lib\\site-packages\\sklearn\\decomposition\\fastica_.py:118: UserWarning: FastICA did not converge. Consider increasing tolerance or the maximum number of iterations.\n",
      "  warnings.warn('FastICA did not converge. Consider increasing '\n"
     ]
    },
    {
     "name": "stdout",
     "output_type": "stream",
     "text": [
      "[CV]  NN__hidden_layer_sizes=(20, 10), ica__n_components=30, score=0.6485436893203883, total=   1.4s\n",
      "[CV] NN__hidden_layer_sizes=(20, 10), ica__n_components=30 ...........\n"
     ]
    },
    {
     "name": "stderr",
     "output_type": "stream",
     "text": [
      "C:\\Users\\ajmot\\Anaconda3\\lib\\site-packages\\sklearn\\decomposition\\fastica_.py:118: UserWarning: FastICA did not converge. Consider increasing tolerance or the maximum number of iterations.\n",
      "  warnings.warn('FastICA did not converge. Consider increasing '\n"
     ]
    },
    {
     "name": "stdout",
     "output_type": "stream",
     "text": [
      "[CV]  NN__hidden_layer_sizes=(20, 10), ica__n_components=30, score=0.6482021379980564, total=   1.3s\n",
      "[CV] NN__hidden_layer_sizes=(20, 10), ica__n_components=30 ...........\n"
     ]
    },
    {
     "name": "stderr",
     "output_type": "stream",
     "text": [
      "C:\\Users\\ajmot\\Anaconda3\\lib\\site-packages\\sklearn\\decomposition\\fastica_.py:118: UserWarning: FastICA did not converge. Consider increasing tolerance or the maximum number of iterations.\n",
      "  warnings.warn('FastICA did not converge. Consider increasing '\n"
     ]
    },
    {
     "name": "stdout",
     "output_type": "stream",
     "text": [
      "[CV]  NN__hidden_layer_sizes=(20, 10), ica__n_components=30, score=0.6482021379980564, total=   1.3s\n",
      "[CV] NN__hidden_layer_sizes=(20, 10), ica__n_components=30 ...........\n"
     ]
    },
    {
     "name": "stderr",
     "output_type": "stream",
     "text": [
      "C:\\Users\\ajmot\\Anaconda3\\lib\\site-packages\\sklearn\\decomposition\\fastica_.py:118: UserWarning: FastICA did not converge. Consider increasing tolerance or the maximum number of iterations.\n",
      "  warnings.warn('FastICA did not converge. Consider increasing '\n"
     ]
    },
    {
     "name": "stdout",
     "output_type": "stream",
     "text": [
      "[CV]  NN__hidden_layer_sizes=(20, 10), ica__n_components=30, score=0.6488326848249028, total=   1.3s\n",
      "[CV] NN__hidden_layer_sizes=(20, 10), ica__n_components=35 ...........\n"
     ]
    },
    {
     "name": "stderr",
     "output_type": "stream",
     "text": [
      "C:\\Users\\ajmot\\Anaconda3\\lib\\site-packages\\sklearn\\decomposition\\fastica_.py:118: UserWarning: FastICA did not converge. Consider increasing tolerance or the maximum number of iterations.\n",
      "  warnings.warn('FastICA did not converge. Consider increasing '\n"
     ]
    },
    {
     "name": "stdout",
     "output_type": "stream",
     "text": [
      "[CV]  NN__hidden_layer_sizes=(20, 10), ica__n_components=35, score=0.6485436893203883, total=   1.9s\n",
      "[CV] NN__hidden_layer_sizes=(20, 10), ica__n_components=35 ...........\n"
     ]
    },
    {
     "name": "stderr",
     "output_type": "stream",
     "text": [
      "C:\\Users\\ajmot\\Anaconda3\\lib\\site-packages\\sklearn\\decomposition\\fastica_.py:118: UserWarning: FastICA did not converge. Consider increasing tolerance or the maximum number of iterations.\n",
      "  warnings.warn('FastICA did not converge. Consider increasing '\n"
     ]
    },
    {
     "name": "stdout",
     "output_type": "stream",
     "text": [
      "[CV]  NN__hidden_layer_sizes=(20, 10), ica__n_components=35, score=0.6485436893203883, total=   1.9s\n",
      "[CV] NN__hidden_layer_sizes=(20, 10), ica__n_components=35 ...........\n"
     ]
    },
    {
     "name": "stderr",
     "output_type": "stream",
     "text": [
      "C:\\Users\\ajmot\\Anaconda3\\lib\\site-packages\\sklearn\\decomposition\\fastica_.py:118: UserWarning: FastICA did not converge. Consider increasing tolerance or the maximum number of iterations.\n",
      "  warnings.warn('FastICA did not converge. Consider increasing '\n"
     ]
    },
    {
     "name": "stdout",
     "output_type": "stream",
     "text": [
      "[CV]  NN__hidden_layer_sizes=(20, 10), ica__n_components=35, score=0.6482021379980564, total=   1.9s\n",
      "[CV] NN__hidden_layer_sizes=(20, 10), ica__n_components=35 ...........\n"
     ]
    },
    {
     "name": "stderr",
     "output_type": "stream",
     "text": [
      "C:\\Users\\ajmot\\Anaconda3\\lib\\site-packages\\sklearn\\decomposition\\fastica_.py:118: UserWarning: FastICA did not converge. Consider increasing tolerance or the maximum number of iterations.\n",
      "  warnings.warn('FastICA did not converge. Consider increasing '\n"
     ]
    },
    {
     "name": "stdout",
     "output_type": "stream",
     "text": [
      "[CV]  NN__hidden_layer_sizes=(20, 10), ica__n_components=35, score=0.6482021379980564, total=   1.8s\n",
      "[CV] NN__hidden_layer_sizes=(20, 10), ica__n_components=35 ...........\n"
     ]
    },
    {
     "name": "stderr",
     "output_type": "stream",
     "text": [
      "C:\\Users\\ajmot\\Anaconda3\\lib\\site-packages\\sklearn\\decomposition\\fastica_.py:118: UserWarning: FastICA did not converge. Consider increasing tolerance or the maximum number of iterations.\n",
      "  warnings.warn('FastICA did not converge. Consider increasing '\n"
     ]
    },
    {
     "name": "stdout",
     "output_type": "stream",
     "text": [
      "[CV]  NN__hidden_layer_sizes=(20, 10), ica__n_components=35, score=0.6488326848249028, total=   1.8s\n",
      "[CV] NN__hidden_layer_sizes=(5,), ica__n_components=2 ................\n",
      "[CV]  NN__hidden_layer_sizes=(5,), ica__n_components=2, score=0.6485436893203883, total=   0.0s\n",
      "[CV] NN__hidden_layer_sizes=(5,), ica__n_components=2 ................\n",
      "[CV]  NN__hidden_layer_sizes=(5,), ica__n_components=2, score=0.6485436893203883, total=   0.0s\n",
      "[CV] NN__hidden_layer_sizes=(5,), ica__n_components=2 ................\n",
      "[CV]  NN__hidden_layer_sizes=(5,), ica__n_components=2, score=0.6482021379980564, total=   0.0s\n",
      "[CV] NN__hidden_layer_sizes=(5,), ica__n_components=2 ................\n",
      "[CV]  NN__hidden_layer_sizes=(5,), ica__n_components=2, score=0.6482021379980564, total=   0.0s\n",
      "[CV] NN__hidden_layer_sizes=(5,), ica__n_components=2 ................\n",
      "[CV]  NN__hidden_layer_sizes=(5,), ica__n_components=2, score=0.6488326848249028, total=   0.0s\n",
      "[CV] NN__hidden_layer_sizes=(5,), ica__n_components=5 ................\n",
      "[CV]  NN__hidden_layer_sizes=(5,), ica__n_components=5, score=0.6485436893203883, total=   0.0s\n",
      "[CV] NN__hidden_layer_sizes=(5,), ica__n_components=5 ................\n",
      "[CV]  NN__hidden_layer_sizes=(5,), ica__n_components=5, score=0.6485436893203883, total=   0.0s\n",
      "[CV] NN__hidden_layer_sizes=(5,), ica__n_components=5 ................\n",
      "[CV]  NN__hidden_layer_sizes=(5,), ica__n_components=5, score=0.6482021379980564, total=   0.0s\n",
      "[CV] NN__hidden_layer_sizes=(5,), ica__n_components=5 ................\n",
      "[CV]  NN__hidden_layer_sizes=(5,), ica__n_components=5, score=0.6482021379980564, total=   0.0s\n",
      "[CV] NN__hidden_layer_sizes=(5,), ica__n_components=5 ................\n",
      "[CV]  NN__hidden_layer_sizes=(5,), ica__n_components=5, score=0.6488326848249028, total=   0.0s\n",
      "[CV] NN__hidden_layer_sizes=(5,), ica__n_components=10 ...............\n",
      "[CV]  NN__hidden_layer_sizes=(5,), ica__n_components=10, score=0.6485436893203883, total=   0.3s\n",
      "[CV] NN__hidden_layer_sizes=(5,), ica__n_components=10 ...............\n"
     ]
    },
    {
     "name": "stderr",
     "output_type": "stream",
     "text": [
      "C:\\Users\\ajmot\\Anaconda3\\lib\\site-packages\\sklearn\\decomposition\\fastica_.py:118: UserWarning: FastICA did not converge. Consider increasing tolerance or the maximum number of iterations.\n",
      "  warnings.warn('FastICA did not converge. Consider increasing '\n"
     ]
    },
    {
     "name": "stdout",
     "output_type": "stream",
     "text": [
      "[CV]  NN__hidden_layer_sizes=(5,), ica__n_components=10, score=0.6485436893203883, total=   0.4s\n",
      "[CV] NN__hidden_layer_sizes=(5,), ica__n_components=10 ...............\n"
     ]
    },
    {
     "name": "stderr",
     "output_type": "stream",
     "text": [
      "C:\\Users\\ajmot\\Anaconda3\\lib\\site-packages\\sklearn\\decomposition\\fastica_.py:118: UserWarning: FastICA did not converge. Consider increasing tolerance or the maximum number of iterations.\n",
      "  warnings.warn('FastICA did not converge. Consider increasing '\n"
     ]
    },
    {
     "name": "stdout",
     "output_type": "stream",
     "text": [
      "[CV]  NN__hidden_layer_sizes=(5,), ica__n_components=10, score=0.6482021379980564, total=   0.4s\n",
      "[CV] NN__hidden_layer_sizes=(5,), ica__n_components=10 ...............\n"
     ]
    },
    {
     "name": "stderr",
     "output_type": "stream",
     "text": [
      "C:\\Users\\ajmot\\Anaconda3\\lib\\site-packages\\sklearn\\decomposition\\fastica_.py:118: UserWarning: FastICA did not converge. Consider increasing tolerance or the maximum number of iterations.\n",
      "  warnings.warn('FastICA did not converge. Consider increasing '\n"
     ]
    },
    {
     "name": "stdout",
     "output_type": "stream",
     "text": [
      "[CV]  NN__hidden_layer_sizes=(5,), ica__n_components=10, score=0.6482021379980564, total=   0.5s\n",
      "[CV] NN__hidden_layer_sizes=(5,), ica__n_components=10 ...............\n"
     ]
    },
    {
     "name": "stderr",
     "output_type": "stream",
     "text": [
      "C:\\Users\\ajmot\\Anaconda3\\lib\\site-packages\\sklearn\\decomposition\\fastica_.py:118: UserWarning: FastICA did not converge. Consider increasing tolerance or the maximum number of iterations.\n",
      "  warnings.warn('FastICA did not converge. Consider increasing '\n"
     ]
    },
    {
     "name": "stdout",
     "output_type": "stream",
     "text": [
      "[CV]  NN__hidden_layer_sizes=(5,), ica__n_components=10, score=0.6488326848249028, total=   0.4s\n",
      "[CV] NN__hidden_layer_sizes=(5,), ica__n_components=15 ...............\n"
     ]
    },
    {
     "name": "stderr",
     "output_type": "stream",
     "text": [
      "C:\\Users\\ajmot\\Anaconda3\\lib\\site-packages\\sklearn\\decomposition\\fastica_.py:118: UserWarning: FastICA did not converge. Consider increasing tolerance or the maximum number of iterations.\n",
      "  warnings.warn('FastICA did not converge. Consider increasing '\n"
     ]
    },
    {
     "name": "stdout",
     "output_type": "stream",
     "text": [
      "[CV]  NN__hidden_layer_sizes=(5,), ica__n_components=15, score=0.35145631067961164, total=   0.6s\n",
      "[CV] NN__hidden_layer_sizes=(5,), ica__n_components=15 ...............\n"
     ]
    },
    {
     "name": "stderr",
     "output_type": "stream",
     "text": [
      "C:\\Users\\ajmot\\Anaconda3\\lib\\site-packages\\sklearn\\decomposition\\fastica_.py:118: UserWarning: FastICA did not converge. Consider increasing tolerance or the maximum number of iterations.\n",
      "  warnings.warn('FastICA did not converge. Consider increasing '\n"
     ]
    },
    {
     "name": "stdout",
     "output_type": "stream",
     "text": [
      "[CV]  NN__hidden_layer_sizes=(5,), ica__n_components=15, score=0.35145631067961164, total=   0.7s\n",
      "[CV] NN__hidden_layer_sizes=(5,), ica__n_components=15 ...............\n",
      "[CV]  NN__hidden_layer_sizes=(5,), ica__n_components=15, score=0.35179786200194363, total=   0.6s\n",
      "[CV] NN__hidden_layer_sizes=(5,), ica__n_components=15 ...............\n"
     ]
    },
    {
     "name": "stderr",
     "output_type": "stream",
     "text": [
      "C:\\Users\\ajmot\\Anaconda3\\lib\\site-packages\\sklearn\\decomposition\\fastica_.py:118: UserWarning: FastICA did not converge. Consider increasing tolerance or the maximum number of iterations.\n",
      "  warnings.warn('FastICA did not converge. Consider increasing '\n"
     ]
    },
    {
     "name": "stdout",
     "output_type": "stream",
     "text": [
      "[CV]  NN__hidden_layer_sizes=(5,), ica__n_components=15, score=0.35179786200194363, total=   0.8s\n",
      "[CV] NN__hidden_layer_sizes=(5,), ica__n_components=15 ...............\n"
     ]
    },
    {
     "name": "stderr",
     "output_type": "stream",
     "text": [
      "C:\\Users\\ajmot\\Anaconda3\\lib\\site-packages\\sklearn\\decomposition\\fastica_.py:118: UserWarning: FastICA did not converge. Consider increasing tolerance or the maximum number of iterations.\n",
      "  warnings.warn('FastICA did not converge. Consider increasing '\n"
     ]
    },
    {
     "name": "stdout",
     "output_type": "stream",
     "text": [
      "[CV]  NN__hidden_layer_sizes=(5,), ica__n_components=15, score=0.35116731517509725, total=   0.7s\n",
      "[CV] NN__hidden_layer_sizes=(5,), ica__n_components=20 ...............\n"
     ]
    },
    {
     "name": "stderr",
     "output_type": "stream",
     "text": [
      "C:\\Users\\ajmot\\Anaconda3\\lib\\site-packages\\sklearn\\decomposition\\fastica_.py:118: UserWarning: FastICA did not converge. Consider increasing tolerance or the maximum number of iterations.\n",
      "  warnings.warn('FastICA did not converge. Consider increasing '\n"
     ]
    },
    {
     "name": "stdout",
     "output_type": "stream",
     "text": [
      "[CV]  NN__hidden_layer_sizes=(5,), ica__n_components=20, score=0.6485436893203883, total=   0.9s\n",
      "[CV] NN__hidden_layer_sizes=(5,), ica__n_components=20 ...............\n"
     ]
    },
    {
     "name": "stderr",
     "output_type": "stream",
     "text": [
      "C:\\Users\\ajmot\\Anaconda3\\lib\\site-packages\\sklearn\\decomposition\\fastica_.py:118: UserWarning: FastICA did not converge. Consider increasing tolerance or the maximum number of iterations.\n",
      "  warnings.warn('FastICA did not converge. Consider increasing '\n"
     ]
    },
    {
     "name": "stdout",
     "output_type": "stream",
     "text": [
      "[CV]  NN__hidden_layer_sizes=(5,), ica__n_components=20, score=0.6485436893203883, total=   0.9s\n",
      "[CV] NN__hidden_layer_sizes=(5,), ica__n_components=20 ...............\n"
     ]
    },
    {
     "name": "stderr",
     "output_type": "stream",
     "text": [
      "C:\\Users\\ajmot\\Anaconda3\\lib\\site-packages\\sklearn\\decomposition\\fastica_.py:118: UserWarning: FastICA did not converge. Consider increasing tolerance or the maximum number of iterations.\n",
      "  warnings.warn('FastICA did not converge. Consider increasing '\n"
     ]
    },
    {
     "name": "stdout",
     "output_type": "stream",
     "text": [
      "[CV]  NN__hidden_layer_sizes=(5,), ica__n_components=20, score=0.6482021379980564, total=   1.0s\n",
      "[CV] NN__hidden_layer_sizes=(5,), ica__n_components=20 ...............\n"
     ]
    },
    {
     "name": "stderr",
     "output_type": "stream",
     "text": [
      "C:\\Users\\ajmot\\Anaconda3\\lib\\site-packages\\sklearn\\decomposition\\fastica_.py:118: UserWarning: FastICA did not converge. Consider increasing tolerance or the maximum number of iterations.\n",
      "  warnings.warn('FastICA did not converge. Consider increasing '\n"
     ]
    },
    {
     "name": "stdout",
     "output_type": "stream",
     "text": [
      "[CV]  NN__hidden_layer_sizes=(5,), ica__n_components=20, score=0.6482021379980564, total=   0.9s\n",
      "[CV] NN__hidden_layer_sizes=(5,), ica__n_components=20 ...............\n"
     ]
    },
    {
     "name": "stderr",
     "output_type": "stream",
     "text": [
      "C:\\Users\\ajmot\\Anaconda3\\lib\\site-packages\\sklearn\\decomposition\\fastica_.py:118: UserWarning: FastICA did not converge. Consider increasing tolerance or the maximum number of iterations.\n",
      "  warnings.warn('FastICA did not converge. Consider increasing '\n"
     ]
    },
    {
     "name": "stdout",
     "output_type": "stream",
     "text": [
      "[CV]  NN__hidden_layer_sizes=(5,), ica__n_components=20, score=0.6488326848249028, total=   1.0s\n",
      "[CV] NN__hidden_layer_sizes=(5,), ica__n_components=25 ...............\n"
     ]
    },
    {
     "name": "stderr",
     "output_type": "stream",
     "text": [
      "C:\\Users\\ajmot\\Anaconda3\\lib\\site-packages\\sklearn\\decomposition\\fastica_.py:118: UserWarning: FastICA did not converge. Consider increasing tolerance or the maximum number of iterations.\n",
      "  warnings.warn('FastICA did not converge. Consider increasing '\n"
     ]
    },
    {
     "name": "stdout",
     "output_type": "stream",
     "text": [
      "[CV]  NN__hidden_layer_sizes=(5,), ica__n_components=25, score=0.35145631067961164, total=   1.2s\n",
      "[CV] NN__hidden_layer_sizes=(5,), ica__n_components=25 ...............\n"
     ]
    },
    {
     "name": "stderr",
     "output_type": "stream",
     "text": [
      "C:\\Users\\ajmot\\Anaconda3\\lib\\site-packages\\sklearn\\decomposition\\fastica_.py:118: UserWarning: FastICA did not converge. Consider increasing tolerance or the maximum number of iterations.\n",
      "  warnings.warn('FastICA did not converge. Consider increasing '\n"
     ]
    },
    {
     "name": "stdout",
     "output_type": "stream",
     "text": [
      "[CV]  NN__hidden_layer_sizes=(5,), ica__n_components=25, score=0.35145631067961164, total=   1.1s\n",
      "[CV] NN__hidden_layer_sizes=(5,), ica__n_components=25 ...............\n"
     ]
    },
    {
     "name": "stderr",
     "output_type": "stream",
     "text": [
      "C:\\Users\\ajmot\\Anaconda3\\lib\\site-packages\\sklearn\\decomposition\\fastica_.py:118: UserWarning: FastICA did not converge. Consider increasing tolerance or the maximum number of iterations.\n",
      "  warnings.warn('FastICA did not converge. Consider increasing '\n"
     ]
    },
    {
     "name": "stdout",
     "output_type": "stream",
     "text": [
      "[CV]  NN__hidden_layer_sizes=(5,), ica__n_components=25, score=0.35179786200194363, total=   1.1s\n",
      "[CV] NN__hidden_layer_sizes=(5,), ica__n_components=25 ...............\n"
     ]
    },
    {
     "name": "stderr",
     "output_type": "stream",
     "text": [
      "C:\\Users\\ajmot\\Anaconda3\\lib\\site-packages\\sklearn\\decomposition\\fastica_.py:118: UserWarning: FastICA did not converge. Consider increasing tolerance or the maximum number of iterations.\n",
      "  warnings.warn('FastICA did not converge. Consider increasing '\n"
     ]
    },
    {
     "name": "stdout",
     "output_type": "stream",
     "text": [
      "[CV]  NN__hidden_layer_sizes=(5,), ica__n_components=25, score=0.35179786200194363, total=   1.2s\n",
      "[CV] NN__hidden_layer_sizes=(5,), ica__n_components=25 ...............\n"
     ]
    },
    {
     "name": "stderr",
     "output_type": "stream",
     "text": [
      "C:\\Users\\ajmot\\Anaconda3\\lib\\site-packages\\sklearn\\decomposition\\fastica_.py:118: UserWarning: FastICA did not converge. Consider increasing tolerance or the maximum number of iterations.\n",
      "  warnings.warn('FastICA did not converge. Consider increasing '\n"
     ]
    },
    {
     "name": "stdout",
     "output_type": "stream",
     "text": [
      "[CV]  NN__hidden_layer_sizes=(5,), ica__n_components=25, score=0.35116731517509725, total=   1.1s\n",
      "[CV] NN__hidden_layer_sizes=(5,), ica__n_components=30 ...............\n"
     ]
    },
    {
     "name": "stderr",
     "output_type": "stream",
     "text": [
      "C:\\Users\\ajmot\\Anaconda3\\lib\\site-packages\\sklearn\\decomposition\\fastica_.py:118: UserWarning: FastICA did not converge. Consider increasing tolerance or the maximum number of iterations.\n",
      "  warnings.warn('FastICA did not converge. Consider increasing '\n"
     ]
    },
    {
     "name": "stdout",
     "output_type": "stream",
     "text": [
      "[CV]  NN__hidden_layer_sizes=(5,), ica__n_components=30, score=0.6485436893203883, total=   1.4s\n",
      "[CV] NN__hidden_layer_sizes=(5,), ica__n_components=30 ...............\n"
     ]
    },
    {
     "name": "stderr",
     "output_type": "stream",
     "text": [
      "C:\\Users\\ajmot\\Anaconda3\\lib\\site-packages\\sklearn\\decomposition\\fastica_.py:118: UserWarning: FastICA did not converge. Consider increasing tolerance or the maximum number of iterations.\n",
      "  warnings.warn('FastICA did not converge. Consider increasing '\n"
     ]
    },
    {
     "name": "stdout",
     "output_type": "stream",
     "text": [
      "[CV]  NN__hidden_layer_sizes=(5,), ica__n_components=30, score=0.6786407766990291, total=   1.3s\n",
      "[CV] NN__hidden_layer_sizes=(5,), ica__n_components=30 ...............\n"
     ]
    },
    {
     "name": "stderr",
     "output_type": "stream",
     "text": [
      "C:\\Users\\ajmot\\Anaconda3\\lib\\site-packages\\sklearn\\decomposition\\fastica_.py:118: UserWarning: FastICA did not converge. Consider increasing tolerance or the maximum number of iterations.\n",
      "  warnings.warn('FastICA did not converge. Consider increasing '\n"
     ]
    },
    {
     "name": "stdout",
     "output_type": "stream",
     "text": [
      "[CV]  NN__hidden_layer_sizes=(5,), ica__n_components=30, score=0.6316812439261419, total=   1.4s\n",
      "[CV] NN__hidden_layer_sizes=(5,), ica__n_components=30 ...............\n"
     ]
    },
    {
     "name": "stderr",
     "output_type": "stream",
     "text": [
      "C:\\Users\\ajmot\\Anaconda3\\lib\\site-packages\\sklearn\\decomposition\\fastica_.py:118: UserWarning: FastICA did not converge. Consider increasing tolerance or the maximum number of iterations.\n",
      "  warnings.warn('FastICA did not converge. Consider increasing '\n"
     ]
    },
    {
     "name": "stdout",
     "output_type": "stream",
     "text": [
      "[CV]  NN__hidden_layer_sizes=(5,), ica__n_components=30, score=0.673469387755102, total=   1.4s\n",
      "[CV] NN__hidden_layer_sizes=(5,), ica__n_components=30 ...............\n"
     ]
    },
    {
     "name": "stderr",
     "output_type": "stream",
     "text": [
      "C:\\Users\\ajmot\\Anaconda3\\lib\\site-packages\\sklearn\\decomposition\\fastica_.py:118: UserWarning: FastICA did not converge. Consider increasing tolerance or the maximum number of iterations.\n",
      "  warnings.warn('FastICA did not converge. Consider increasing '\n"
     ]
    },
    {
     "name": "stdout",
     "output_type": "stream",
     "text": [
      "[CV]  NN__hidden_layer_sizes=(5,), ica__n_components=30, score=0.6575875486381323, total=   1.4s\n",
      "[CV] NN__hidden_layer_sizes=(5,), ica__n_components=35 ...............\n"
     ]
    },
    {
     "name": "stderr",
     "output_type": "stream",
     "text": [
      "C:\\Users\\ajmot\\Anaconda3\\lib\\site-packages\\sklearn\\decomposition\\fastica_.py:118: UserWarning: FastICA did not converge. Consider increasing tolerance or the maximum number of iterations.\n",
      "  warnings.warn('FastICA did not converge. Consider increasing '\n"
     ]
    },
    {
     "name": "stdout",
     "output_type": "stream",
     "text": [
      "[CV]  NN__hidden_layer_sizes=(5,), ica__n_components=35, score=0.6485436893203883, total=   1.8s\n",
      "[CV] NN__hidden_layer_sizes=(5,), ica__n_components=35 ...............\n"
     ]
    },
    {
     "name": "stderr",
     "output_type": "stream",
     "text": [
      "C:\\Users\\ajmot\\Anaconda3\\lib\\site-packages\\sklearn\\decomposition\\fastica_.py:118: UserWarning: FastICA did not converge. Consider increasing tolerance or the maximum number of iterations.\n",
      "  warnings.warn('FastICA did not converge. Consider increasing '\n"
     ]
    },
    {
     "name": "stdout",
     "output_type": "stream",
     "text": [
      "[CV]  NN__hidden_layer_sizes=(5,), ica__n_components=35, score=0.6485436893203883, total=   1.7s\n",
      "[CV] NN__hidden_layer_sizes=(5,), ica__n_components=35 ...............\n"
     ]
    },
    {
     "name": "stderr",
     "output_type": "stream",
     "text": [
      "C:\\Users\\ajmot\\Anaconda3\\lib\\site-packages\\sklearn\\decomposition\\fastica_.py:118: UserWarning: FastICA did not converge. Consider increasing tolerance or the maximum number of iterations.\n",
      "  warnings.warn('FastICA did not converge. Consider increasing '\n"
     ]
    },
    {
     "name": "stdout",
     "output_type": "stream",
     "text": [
      "[CV]  NN__hidden_layer_sizes=(5,), ica__n_components=35, score=0.6482021379980564, total=   1.8s\n",
      "[CV] NN__hidden_layer_sizes=(5,), ica__n_components=35 ...............\n"
     ]
    },
    {
     "name": "stderr",
     "output_type": "stream",
     "text": [
      "C:\\Users\\ajmot\\Anaconda3\\lib\\site-packages\\sklearn\\decomposition\\fastica_.py:118: UserWarning: FastICA did not converge. Consider increasing tolerance or the maximum number of iterations.\n",
      "  warnings.warn('FastICA did not converge. Consider increasing '\n"
     ]
    },
    {
     "name": "stdout",
     "output_type": "stream",
     "text": [
      "[CV]  NN__hidden_layer_sizes=(5,), ica__n_components=35, score=0.6482021379980564, total=   1.7s\n",
      "[CV] NN__hidden_layer_sizes=(5,), ica__n_components=35 ...............\n"
     ]
    },
    {
     "name": "stderr",
     "output_type": "stream",
     "text": [
      "C:\\Users\\ajmot\\Anaconda3\\lib\\site-packages\\sklearn\\decomposition\\fastica_.py:118: UserWarning: FastICA did not converge. Consider increasing tolerance or the maximum number of iterations.\n",
      "  warnings.warn('FastICA did not converge. Consider increasing '\n"
     ]
    },
    {
     "name": "stdout",
     "output_type": "stream",
     "text": [
      "[CV]  NN__hidden_layer_sizes=(5,), ica__n_components=35, score=0.6488326848249028, total=   1.7s\n",
      "[CV] NN__hidden_layer_sizes=(10,), ica__n_components=2 ...............\n",
      "[CV]  NN__hidden_layer_sizes=(10,), ica__n_components=2, score=0.35145631067961164, total=   0.0s\n",
      "[CV] NN__hidden_layer_sizes=(10,), ica__n_components=2 ...............\n",
      "[CV]  NN__hidden_layer_sizes=(10,), ica__n_components=2, score=0.35145631067961164, total=   0.0s\n",
      "[CV] NN__hidden_layer_sizes=(10,), ica__n_components=2 ...............\n",
      "[CV]  NN__hidden_layer_sizes=(10,), ica__n_components=2, score=0.35179786200194363, total=   0.0s\n",
      "[CV] NN__hidden_layer_sizes=(10,), ica__n_components=2 ...............\n",
      "[CV]  NN__hidden_layer_sizes=(10,), ica__n_components=2, score=0.35179786200194363, total=   0.0s\n",
      "[CV] NN__hidden_layer_sizes=(10,), ica__n_components=2 ...............\n",
      "[CV]  NN__hidden_layer_sizes=(10,), ica__n_components=2, score=0.35116731517509725, total=   0.0s\n",
      "[CV] NN__hidden_layer_sizes=(10,), ica__n_components=5 ...............\n",
      "[CV]  NN__hidden_layer_sizes=(10,), ica__n_components=5, score=0.35145631067961164, total=   0.0s\n",
      "[CV] NN__hidden_layer_sizes=(10,), ica__n_components=5 ...............\n",
      "[CV]  NN__hidden_layer_sizes=(10,), ica__n_components=5, score=0.35145631067961164, total=   0.0s\n",
      "[CV] NN__hidden_layer_sizes=(10,), ica__n_components=5 ...............\n",
      "[CV]  NN__hidden_layer_sizes=(10,), ica__n_components=5, score=0.35179786200194363, total=   0.0s\n",
      "[CV] NN__hidden_layer_sizes=(10,), ica__n_components=5 ...............\n",
      "[CV]  NN__hidden_layer_sizes=(10,), ica__n_components=5, score=0.35179786200194363, total=   0.0s\n",
      "[CV] NN__hidden_layer_sizes=(10,), ica__n_components=5 ...............\n",
      "[CV]  NN__hidden_layer_sizes=(10,), ica__n_components=5, score=0.35116731517509725, total=   0.0s\n",
      "[CV] NN__hidden_layer_sizes=(10,), ica__n_components=10 ..............\n",
      "[CV]  NN__hidden_layer_sizes=(10,), ica__n_components=10, score=0.6485436893203883, total=   0.3s\n",
      "[CV] NN__hidden_layer_sizes=(10,), ica__n_components=10 ..............\n"
     ]
    },
    {
     "name": "stderr",
     "output_type": "stream",
     "text": [
      "C:\\Users\\ajmot\\Anaconda3\\lib\\site-packages\\sklearn\\decomposition\\fastica_.py:118: UserWarning: FastICA did not converge. Consider increasing tolerance or the maximum number of iterations.\n",
      "  warnings.warn('FastICA did not converge. Consider increasing '\n"
     ]
    },
    {
     "name": "stdout",
     "output_type": "stream",
     "text": [
      "[CV]  NN__hidden_layer_sizes=(10,), ica__n_components=10, score=0.6485436893203883, total=   0.4s\n",
      "[CV] NN__hidden_layer_sizes=(10,), ica__n_components=10 ..............\n"
     ]
    },
    {
     "name": "stderr",
     "output_type": "stream",
     "text": [
      "C:\\Users\\ajmot\\Anaconda3\\lib\\site-packages\\sklearn\\decomposition\\fastica_.py:118: UserWarning: FastICA did not converge. Consider increasing tolerance or the maximum number of iterations.\n",
      "  warnings.warn('FastICA did not converge. Consider increasing '\n"
     ]
    },
    {
     "name": "stdout",
     "output_type": "stream",
     "text": [
      "[CV]  NN__hidden_layer_sizes=(10,), ica__n_components=10, score=0.6482021379980564, total=   0.4s\n",
      "[CV] NN__hidden_layer_sizes=(10,), ica__n_components=10 ..............\n"
     ]
    },
    {
     "name": "stderr",
     "output_type": "stream",
     "text": [
      "C:\\Users\\ajmot\\Anaconda3\\lib\\site-packages\\sklearn\\decomposition\\fastica_.py:118: UserWarning: FastICA did not converge. Consider increasing tolerance or the maximum number of iterations.\n",
      "  warnings.warn('FastICA did not converge. Consider increasing '\n"
     ]
    },
    {
     "name": "stdout",
     "output_type": "stream",
     "text": [
      "[CV]  NN__hidden_layer_sizes=(10,), ica__n_components=10, score=0.6482021379980564, total=   0.4s\n",
      "[CV] NN__hidden_layer_sizes=(10,), ica__n_components=10 ..............\n"
     ]
    },
    {
     "name": "stderr",
     "output_type": "stream",
     "text": [
      "C:\\Users\\ajmot\\Anaconda3\\lib\\site-packages\\sklearn\\decomposition\\fastica_.py:118: UserWarning: FastICA did not converge. Consider increasing tolerance or the maximum number of iterations.\n",
      "  warnings.warn('FastICA did not converge. Consider increasing '\n"
     ]
    },
    {
     "name": "stdout",
     "output_type": "stream",
     "text": [
      "[CV]  NN__hidden_layer_sizes=(10,), ica__n_components=10, score=0.6488326848249028, total=   0.4s\n",
      "[CV] NN__hidden_layer_sizes=(10,), ica__n_components=15 ..............\n"
     ]
    },
    {
     "name": "stderr",
     "output_type": "stream",
     "text": [
      "C:\\Users\\ajmot\\Anaconda3\\lib\\site-packages\\sklearn\\decomposition\\fastica_.py:118: UserWarning: FastICA did not converge. Consider increasing tolerance or the maximum number of iterations.\n",
      "  warnings.warn('FastICA did not converge. Consider increasing '\n"
     ]
    },
    {
     "name": "stdout",
     "output_type": "stream",
     "text": [
      "[CV]  NN__hidden_layer_sizes=(10,), ica__n_components=15, score=0.6485436893203883, total=   0.6s\n",
      "[CV] NN__hidden_layer_sizes=(10,), ica__n_components=15 ..............\n"
     ]
    },
    {
     "name": "stderr",
     "output_type": "stream",
     "text": [
      "C:\\Users\\ajmot\\Anaconda3\\lib\\site-packages\\sklearn\\decomposition\\fastica_.py:118: UserWarning: FastICA did not converge. Consider increasing tolerance or the maximum number of iterations.\n",
      "  warnings.warn('FastICA did not converge. Consider increasing '\n"
     ]
    },
    {
     "name": "stdout",
     "output_type": "stream",
     "text": [
      "[CV]  NN__hidden_layer_sizes=(10,), ica__n_components=15, score=0.6485436893203883, total=   0.6s\n",
      "[CV] NN__hidden_layer_sizes=(10,), ica__n_components=15 ..............\n",
      "[CV]  NN__hidden_layer_sizes=(10,), ica__n_components=15, score=0.6482021379980564, total=   0.4s\n",
      "[CV] NN__hidden_layer_sizes=(10,), ica__n_components=15 ..............\n"
     ]
    },
    {
     "name": "stderr",
     "output_type": "stream",
     "text": [
      "C:\\Users\\ajmot\\Anaconda3\\lib\\site-packages\\sklearn\\decomposition\\fastica_.py:118: UserWarning: FastICA did not converge. Consider increasing tolerance or the maximum number of iterations.\n",
      "  warnings.warn('FastICA did not converge. Consider increasing '\n"
     ]
    },
    {
     "name": "stdout",
     "output_type": "stream",
     "text": [
      "[CV]  NN__hidden_layer_sizes=(10,), ica__n_components=15, score=0.6482021379980564, total=   0.6s\n",
      "[CV] NN__hidden_layer_sizes=(10,), ica__n_components=15 ..............\n"
     ]
    },
    {
     "name": "stderr",
     "output_type": "stream",
     "text": [
      "C:\\Users\\ajmot\\Anaconda3\\lib\\site-packages\\sklearn\\decomposition\\fastica_.py:118: UserWarning: FastICA did not converge. Consider increasing tolerance or the maximum number of iterations.\n",
      "  warnings.warn('FastICA did not converge. Consider increasing '\n"
     ]
    },
    {
     "name": "stdout",
     "output_type": "stream",
     "text": [
      "[CV]  NN__hidden_layer_sizes=(10,), ica__n_components=15, score=0.6488326848249028, total=   0.7s\n",
      "[CV] NN__hidden_layer_sizes=(10,), ica__n_components=20 ..............\n"
     ]
    },
    {
     "name": "stderr",
     "output_type": "stream",
     "text": [
      "C:\\Users\\ajmot\\Anaconda3\\lib\\site-packages\\sklearn\\decomposition\\fastica_.py:118: UserWarning: FastICA did not converge. Consider increasing tolerance or the maximum number of iterations.\n",
      "  warnings.warn('FastICA did not converge. Consider increasing '\n"
     ]
    },
    {
     "name": "stdout",
     "output_type": "stream",
     "text": [
      "[CV]  NN__hidden_layer_sizes=(10,), ica__n_components=20, score=0.35145631067961164, total=   0.9s\n",
      "[CV] NN__hidden_layer_sizes=(10,), ica__n_components=20 ..............\n"
     ]
    },
    {
     "name": "stderr",
     "output_type": "stream",
     "text": [
      "C:\\Users\\ajmot\\Anaconda3\\lib\\site-packages\\sklearn\\decomposition\\fastica_.py:118: UserWarning: FastICA did not converge. Consider increasing tolerance or the maximum number of iterations.\n",
      "  warnings.warn('FastICA did not converge. Consider increasing '\n"
     ]
    },
    {
     "name": "stdout",
     "output_type": "stream",
     "text": [
      "[CV]  NN__hidden_layer_sizes=(10,), ica__n_components=20, score=0.35145631067961164, total=   0.8s\n",
      "[CV] NN__hidden_layer_sizes=(10,), ica__n_components=20 ..............\n"
     ]
    },
    {
     "name": "stderr",
     "output_type": "stream",
     "text": [
      "C:\\Users\\ajmot\\Anaconda3\\lib\\site-packages\\sklearn\\decomposition\\fastica_.py:118: UserWarning: FastICA did not converge. Consider increasing tolerance or the maximum number of iterations.\n",
      "  warnings.warn('FastICA did not converge. Consider increasing '\n"
     ]
    },
    {
     "name": "stdout",
     "output_type": "stream",
     "text": [
      "[CV]  NN__hidden_layer_sizes=(10,), ica__n_components=20, score=0.35179786200194363, total=   0.9s\n",
      "[CV] NN__hidden_layer_sizes=(10,), ica__n_components=20 ..............\n"
     ]
    },
    {
     "name": "stderr",
     "output_type": "stream",
     "text": [
      "C:\\Users\\ajmot\\Anaconda3\\lib\\site-packages\\sklearn\\decomposition\\fastica_.py:118: UserWarning: FastICA did not converge. Consider increasing tolerance or the maximum number of iterations.\n",
      "  warnings.warn('FastICA did not converge. Consider increasing '\n"
     ]
    },
    {
     "name": "stdout",
     "output_type": "stream",
     "text": [
      "[CV]  NN__hidden_layer_sizes=(10,), ica__n_components=20, score=0.35179786200194363, total=   0.9s\n",
      "[CV] NN__hidden_layer_sizes=(10,), ica__n_components=20 ..............\n"
     ]
    },
    {
     "name": "stderr",
     "output_type": "stream",
     "text": [
      "C:\\Users\\ajmot\\Anaconda3\\lib\\site-packages\\sklearn\\decomposition\\fastica_.py:118: UserWarning: FastICA did not converge. Consider increasing tolerance or the maximum number of iterations.\n",
      "  warnings.warn('FastICA did not converge. Consider increasing '\n"
     ]
    },
    {
     "name": "stdout",
     "output_type": "stream",
     "text": [
      "[CV]  NN__hidden_layer_sizes=(10,), ica__n_components=20, score=0.35116731517509725, total=   0.9s\n",
      "[CV] NN__hidden_layer_sizes=(10,), ica__n_components=25 ..............\n"
     ]
    },
    {
     "name": "stderr",
     "output_type": "stream",
     "text": [
      "C:\\Users\\ajmot\\Anaconda3\\lib\\site-packages\\sklearn\\decomposition\\fastica_.py:118: UserWarning: FastICA did not converge. Consider increasing tolerance or the maximum number of iterations.\n",
      "  warnings.warn('FastICA did not converge. Consider increasing '\n"
     ]
    },
    {
     "name": "stdout",
     "output_type": "stream",
     "text": [
      "[CV]  NN__hidden_layer_sizes=(10,), ica__n_components=25, score=0.6485436893203883, total=   1.1s\n",
      "[CV] NN__hidden_layer_sizes=(10,), ica__n_components=25 ..............\n"
     ]
    },
    {
     "name": "stderr",
     "output_type": "stream",
     "text": [
      "C:\\Users\\ajmot\\Anaconda3\\lib\\site-packages\\sklearn\\decomposition\\fastica_.py:118: UserWarning: FastICA did not converge. Consider increasing tolerance or the maximum number of iterations.\n",
      "  warnings.warn('FastICA did not converge. Consider increasing '\n"
     ]
    },
    {
     "name": "stdout",
     "output_type": "stream",
     "text": [
      "[CV]  NN__hidden_layer_sizes=(10,), ica__n_components=25, score=0.6485436893203883, total=   1.0s\n",
      "[CV] NN__hidden_layer_sizes=(10,), ica__n_components=25 ..............\n"
     ]
    },
    {
     "name": "stderr",
     "output_type": "stream",
     "text": [
      "C:\\Users\\ajmot\\Anaconda3\\lib\\site-packages\\sklearn\\decomposition\\fastica_.py:118: UserWarning: FastICA did not converge. Consider increasing tolerance or the maximum number of iterations.\n",
      "  warnings.warn('FastICA did not converge. Consider increasing '\n"
     ]
    },
    {
     "name": "stdout",
     "output_type": "stream",
     "text": [
      "[CV]  NN__hidden_layer_sizes=(10,), ica__n_components=25, score=0.6579203109815355, total=   1.1s\n",
      "[CV] NN__hidden_layer_sizes=(10,), ica__n_components=25 ..............\n"
     ]
    },
    {
     "name": "stderr",
     "output_type": "stream",
     "text": [
      "C:\\Users\\ajmot\\Anaconda3\\lib\\site-packages\\sklearn\\decomposition\\fastica_.py:118: UserWarning: FastICA did not converge. Consider increasing tolerance or the maximum number of iterations.\n",
      "  warnings.warn('FastICA did not converge. Consider increasing '\n"
     ]
    },
    {
     "name": "stdout",
     "output_type": "stream",
     "text": [
      "[CV]  NN__hidden_layer_sizes=(10,), ica__n_components=25, score=0.6462585034013606, total=   1.1s\n",
      "[CV] NN__hidden_layer_sizes=(10,), ica__n_components=25 ..............\n"
     ]
    },
    {
     "name": "stderr",
     "output_type": "stream",
     "text": [
      "C:\\Users\\ajmot\\Anaconda3\\lib\\site-packages\\sklearn\\decomposition\\fastica_.py:118: UserWarning: FastICA did not converge. Consider increasing tolerance or the maximum number of iterations.\n",
      "  warnings.warn('FastICA did not converge. Consider increasing '\n"
     ]
    },
    {
     "name": "stdout",
     "output_type": "stream",
     "text": [
      "[CV]  NN__hidden_layer_sizes=(10,), ica__n_components=25, score=0.6624513618677043, total=   1.1s\n",
      "[CV] NN__hidden_layer_sizes=(10,), ica__n_components=30 ..............\n"
     ]
    },
    {
     "name": "stderr",
     "output_type": "stream",
     "text": [
      "C:\\Users\\ajmot\\Anaconda3\\lib\\site-packages\\sklearn\\decomposition\\fastica_.py:118: UserWarning: FastICA did not converge. Consider increasing tolerance or the maximum number of iterations.\n",
      "  warnings.warn('FastICA did not converge. Consider increasing '\n"
     ]
    },
    {
     "name": "stdout",
     "output_type": "stream",
     "text": [
      "[CV]  NN__hidden_layer_sizes=(10,), ica__n_components=30, score=0.6485436893203883, total=   1.3s\n",
      "[CV] NN__hidden_layer_sizes=(10,), ica__n_components=30 ..............\n"
     ]
    },
    {
     "name": "stderr",
     "output_type": "stream",
     "text": [
      "C:\\Users\\ajmot\\Anaconda3\\lib\\site-packages\\sklearn\\decomposition\\fastica_.py:118: UserWarning: FastICA did not converge. Consider increasing tolerance or the maximum number of iterations.\n",
      "  warnings.warn('FastICA did not converge. Consider increasing '\n"
     ]
    },
    {
     "name": "stdout",
     "output_type": "stream",
     "text": [
      "[CV]  NN__hidden_layer_sizes=(10,), ica__n_components=30, score=0.6485436893203883, total=   1.3s\n",
      "[CV] NN__hidden_layer_sizes=(10,), ica__n_components=30 ..............\n"
     ]
    },
    {
     "name": "stderr",
     "output_type": "stream",
     "text": [
      "C:\\Users\\ajmot\\Anaconda3\\lib\\site-packages\\sklearn\\decomposition\\fastica_.py:118: UserWarning: FastICA did not converge. Consider increasing tolerance or the maximum number of iterations.\n",
      "  warnings.warn('FastICA did not converge. Consider increasing '\n"
     ]
    },
    {
     "name": "stdout",
     "output_type": "stream",
     "text": [
      "[CV]  NN__hidden_layer_sizes=(10,), ica__n_components=30, score=0.6482021379980564, total=   1.3s\n",
      "[CV] NN__hidden_layer_sizes=(10,), ica__n_components=30 ..............\n"
     ]
    },
    {
     "name": "stderr",
     "output_type": "stream",
     "text": [
      "C:\\Users\\ajmot\\Anaconda3\\lib\\site-packages\\sklearn\\decomposition\\fastica_.py:118: UserWarning: FastICA did not converge. Consider increasing tolerance or the maximum number of iterations.\n",
      "  warnings.warn('FastICA did not converge. Consider increasing '\n"
     ]
    },
    {
     "name": "stdout",
     "output_type": "stream",
     "text": [
      "[CV]  NN__hidden_layer_sizes=(10,), ica__n_components=30, score=0.6482021379980564, total=   1.2s\n",
      "[CV] NN__hidden_layer_sizes=(10,), ica__n_components=30 ..............\n"
     ]
    },
    {
     "name": "stderr",
     "output_type": "stream",
     "text": [
      "C:\\Users\\ajmot\\Anaconda3\\lib\\site-packages\\sklearn\\decomposition\\fastica_.py:118: UserWarning: FastICA did not converge. Consider increasing tolerance or the maximum number of iterations.\n",
      "  warnings.warn('FastICA did not converge. Consider increasing '\n"
     ]
    },
    {
     "name": "stdout",
     "output_type": "stream",
     "text": [
      "[CV]  NN__hidden_layer_sizes=(10,), ica__n_components=30, score=0.6488326848249028, total=   1.2s\n",
      "[CV] NN__hidden_layer_sizes=(10,), ica__n_components=35 ..............\n"
     ]
    },
    {
     "name": "stderr",
     "output_type": "stream",
     "text": [
      "C:\\Users\\ajmot\\Anaconda3\\lib\\site-packages\\sklearn\\decomposition\\fastica_.py:118: UserWarning: FastICA did not converge. Consider increasing tolerance or the maximum number of iterations.\n",
      "  warnings.warn('FastICA did not converge. Consider increasing '\n"
     ]
    },
    {
     "name": "stdout",
     "output_type": "stream",
     "text": [
      "[CV]  NN__hidden_layer_sizes=(10,), ica__n_components=35, score=0.35145631067961164, total=   1.8s\n",
      "[CV] NN__hidden_layer_sizes=(10,), ica__n_components=35 ..............\n"
     ]
    },
    {
     "name": "stderr",
     "output_type": "stream",
     "text": [
      "C:\\Users\\ajmot\\Anaconda3\\lib\\site-packages\\sklearn\\decomposition\\fastica_.py:118: UserWarning: FastICA did not converge. Consider increasing tolerance or the maximum number of iterations.\n",
      "  warnings.warn('FastICA did not converge. Consider increasing '\n"
     ]
    },
    {
     "name": "stdout",
     "output_type": "stream",
     "text": [
      "[CV]  NN__hidden_layer_sizes=(10,), ica__n_components=35, score=0.35145631067961164, total=   1.8s\n",
      "[CV] NN__hidden_layer_sizes=(10,), ica__n_components=35 ..............\n"
     ]
    },
    {
     "name": "stderr",
     "output_type": "stream",
     "text": [
      "C:\\Users\\ajmot\\Anaconda3\\lib\\site-packages\\sklearn\\decomposition\\fastica_.py:118: UserWarning: FastICA did not converge. Consider increasing tolerance or the maximum number of iterations.\n",
      "  warnings.warn('FastICA did not converge. Consider increasing '\n"
     ]
    },
    {
     "name": "stdout",
     "output_type": "stream",
     "text": [
      "[CV]  NN__hidden_layer_sizes=(10,), ica__n_components=35, score=0.35179786200194363, total=   1.9s\n",
      "[CV] NN__hidden_layer_sizes=(10,), ica__n_components=35 ..............\n"
     ]
    },
    {
     "name": "stderr",
     "output_type": "stream",
     "text": [
      "C:\\Users\\ajmot\\Anaconda3\\lib\\site-packages\\sklearn\\decomposition\\fastica_.py:118: UserWarning: FastICA did not converge. Consider increasing tolerance or the maximum number of iterations.\n",
      "  warnings.warn('FastICA did not converge. Consider increasing '\n"
     ]
    },
    {
     "name": "stdout",
     "output_type": "stream",
     "text": [
      "[CV]  NN__hidden_layer_sizes=(10,), ica__n_components=35, score=0.35179786200194363, total=   1.7s\n",
      "[CV] NN__hidden_layer_sizes=(10,), ica__n_components=35 ..............\n"
     ]
    },
    {
     "name": "stderr",
     "output_type": "stream",
     "text": [
      "C:\\Users\\ajmot\\Anaconda3\\lib\\site-packages\\sklearn\\decomposition\\fastica_.py:118: UserWarning: FastICA did not converge. Consider increasing tolerance or the maximum number of iterations.\n",
      "  warnings.warn('FastICA did not converge. Consider increasing '\n"
     ]
    },
    {
     "name": "stdout",
     "output_type": "stream",
     "text": [
      "[CV]  NN__hidden_layer_sizes=(10,), ica__n_components=35, score=0.35116731517509725, total=   1.7s\n",
      "[CV] NN__hidden_layer_sizes=(20,), ica__n_components=2 ...............\n",
      "[CV]  NN__hidden_layer_sizes=(20,), ica__n_components=2, score=0.6485436893203883, total=   0.0s\n",
      "[CV] NN__hidden_layer_sizes=(20,), ica__n_components=2 ...............\n",
      "[CV]  NN__hidden_layer_sizes=(20,), ica__n_components=2, score=0.6485436893203883, total=   0.0s\n",
      "[CV] NN__hidden_layer_sizes=(20,), ica__n_components=2 ...............\n",
      "[CV]  NN__hidden_layer_sizes=(20,), ica__n_components=2, score=0.6482021379980564, total=   0.0s\n",
      "[CV] NN__hidden_layer_sizes=(20,), ica__n_components=2 ...............\n",
      "[CV]  NN__hidden_layer_sizes=(20,), ica__n_components=2, score=0.6482021379980564, total=   0.0s\n",
      "[CV] NN__hidden_layer_sizes=(20,), ica__n_components=2 ...............\n",
      "[CV]  NN__hidden_layer_sizes=(20,), ica__n_components=2, score=0.6488326848249028, total=   0.0s\n",
      "[CV] NN__hidden_layer_sizes=(20,), ica__n_components=5 ...............\n",
      "[CV]  NN__hidden_layer_sizes=(20,), ica__n_components=5, score=0.6485436893203883, total=   0.0s\n",
      "[CV] NN__hidden_layer_sizes=(20,), ica__n_components=5 ...............\n",
      "[CV]  NN__hidden_layer_sizes=(20,), ica__n_components=5, score=0.6485436893203883, total=   0.0s\n",
      "[CV] NN__hidden_layer_sizes=(20,), ica__n_components=5 ...............\n",
      "[CV]  NN__hidden_layer_sizes=(20,), ica__n_components=5, score=0.6482021379980564, total=   0.0s\n",
      "[CV] NN__hidden_layer_sizes=(20,), ica__n_components=5 ...............\n",
      "[CV]  NN__hidden_layer_sizes=(20,), ica__n_components=5, score=0.6482021379980564, total=   0.0s\n",
      "[CV] NN__hidden_layer_sizes=(20,), ica__n_components=5 ...............\n",
      "[CV]  NN__hidden_layer_sizes=(20,), ica__n_components=5, score=0.6488326848249028, total=   0.0s\n",
      "[CV] NN__hidden_layer_sizes=(20,), ica__n_components=10 ..............\n",
      "[CV]  NN__hidden_layer_sizes=(20,), ica__n_components=10, score=0.6485436893203883, total=   0.3s\n",
      "[CV] NN__hidden_layer_sizes=(20,), ica__n_components=10 ..............\n"
     ]
    },
    {
     "name": "stderr",
     "output_type": "stream",
     "text": [
      "C:\\Users\\ajmot\\Anaconda3\\lib\\site-packages\\sklearn\\decomposition\\fastica_.py:118: UserWarning: FastICA did not converge. Consider increasing tolerance or the maximum number of iterations.\n",
      "  warnings.warn('FastICA did not converge. Consider increasing '\n"
     ]
    },
    {
     "name": "stdout",
     "output_type": "stream",
     "text": [
      "[CV]  NN__hidden_layer_sizes=(20,), ica__n_components=10, score=0.6485436893203883, total=   0.4s\n",
      "[CV] NN__hidden_layer_sizes=(20,), ica__n_components=10 ..............\n"
     ]
    },
    {
     "name": "stderr",
     "output_type": "stream",
     "text": [
      "C:\\Users\\ajmot\\Anaconda3\\lib\\site-packages\\sklearn\\decomposition\\fastica_.py:118: UserWarning: FastICA did not converge. Consider increasing tolerance or the maximum number of iterations.\n",
      "  warnings.warn('FastICA did not converge. Consider increasing '\n"
     ]
    },
    {
     "name": "stdout",
     "output_type": "stream",
     "text": [
      "[CV]  NN__hidden_layer_sizes=(20,), ica__n_components=10, score=0.6482021379980564, total=   0.5s\n",
      "[CV] NN__hidden_layer_sizes=(20,), ica__n_components=10 ..............\n"
     ]
    },
    {
     "name": "stderr",
     "output_type": "stream",
     "text": [
      "C:\\Users\\ajmot\\Anaconda3\\lib\\site-packages\\sklearn\\decomposition\\fastica_.py:118: UserWarning: FastICA did not converge. Consider increasing tolerance or the maximum number of iterations.\n",
      "  warnings.warn('FastICA did not converge. Consider increasing '\n"
     ]
    },
    {
     "name": "stdout",
     "output_type": "stream",
     "text": [
      "[CV]  NN__hidden_layer_sizes=(20,), ica__n_components=10, score=0.6482021379980564, total=   0.5s\n",
      "[CV] NN__hidden_layer_sizes=(20,), ica__n_components=10 ..............\n"
     ]
    },
    {
     "name": "stderr",
     "output_type": "stream",
     "text": [
      "C:\\Users\\ajmot\\Anaconda3\\lib\\site-packages\\sklearn\\decomposition\\fastica_.py:118: UserWarning: FastICA did not converge. Consider increasing tolerance or the maximum number of iterations.\n",
      "  warnings.warn('FastICA did not converge. Consider increasing '\n"
     ]
    },
    {
     "name": "stdout",
     "output_type": "stream",
     "text": [
      "[CV]  NN__hidden_layer_sizes=(20,), ica__n_components=10, score=0.6488326848249028, total=   0.4s\n",
      "[CV] NN__hidden_layer_sizes=(20,), ica__n_components=15 ..............\n"
     ]
    },
    {
     "name": "stderr",
     "output_type": "stream",
     "text": [
      "C:\\Users\\ajmot\\Anaconda3\\lib\\site-packages\\sklearn\\decomposition\\fastica_.py:118: UserWarning: FastICA did not converge. Consider increasing tolerance or the maximum number of iterations.\n",
      "  warnings.warn('FastICA did not converge. Consider increasing '\n"
     ]
    },
    {
     "name": "stdout",
     "output_type": "stream",
     "text": [
      "[CV]  NN__hidden_layer_sizes=(20,), ica__n_components=15, score=0.6485436893203883, total=   0.6s\n",
      "[CV] NN__hidden_layer_sizes=(20,), ica__n_components=15 ..............\n"
     ]
    },
    {
     "name": "stderr",
     "output_type": "stream",
     "text": [
      "C:\\Users\\ajmot\\Anaconda3\\lib\\site-packages\\sklearn\\decomposition\\fastica_.py:118: UserWarning: FastICA did not converge. Consider increasing tolerance or the maximum number of iterations.\n",
      "  warnings.warn('FastICA did not converge. Consider increasing '\n"
     ]
    },
    {
     "name": "stdout",
     "output_type": "stream",
     "text": [
      "[CV]  NN__hidden_layer_sizes=(20,), ica__n_components=15, score=0.6485436893203883, total=   0.6s\n",
      "[CV] NN__hidden_layer_sizes=(20,), ica__n_components=15 ..............\n",
      "[CV]  NN__hidden_layer_sizes=(20,), ica__n_components=15, score=0.6482021379980564, total=   0.4s\n",
      "[CV] NN__hidden_layer_sizes=(20,), ica__n_components=15 ..............\n"
     ]
    },
    {
     "name": "stderr",
     "output_type": "stream",
     "text": [
      "C:\\Users\\ajmot\\Anaconda3\\lib\\site-packages\\sklearn\\decomposition\\fastica_.py:118: UserWarning: FastICA did not converge. Consider increasing tolerance or the maximum number of iterations.\n",
      "  warnings.warn('FastICA did not converge. Consider increasing '\n"
     ]
    },
    {
     "name": "stdout",
     "output_type": "stream",
     "text": [
      "[CV]  NN__hidden_layer_sizes=(20,), ica__n_components=15, score=0.6482021379980564, total=   0.6s\n",
      "[CV] NN__hidden_layer_sizes=(20,), ica__n_components=15 ..............\n"
     ]
    },
    {
     "name": "stderr",
     "output_type": "stream",
     "text": [
      "C:\\Users\\ajmot\\Anaconda3\\lib\\site-packages\\sklearn\\decomposition\\fastica_.py:118: UserWarning: FastICA did not converge. Consider increasing tolerance or the maximum number of iterations.\n",
      "  warnings.warn('FastICA did not converge. Consider increasing '\n"
     ]
    },
    {
     "name": "stdout",
     "output_type": "stream",
     "text": [
      "[CV]  NN__hidden_layer_sizes=(20,), ica__n_components=15, score=0.6488326848249028, total=   0.7s\n",
      "[CV] NN__hidden_layer_sizes=(20,), ica__n_components=20 ..............\n"
     ]
    },
    {
     "name": "stderr",
     "output_type": "stream",
     "text": [
      "C:\\Users\\ajmot\\Anaconda3\\lib\\site-packages\\sklearn\\decomposition\\fastica_.py:118: UserWarning: FastICA did not converge. Consider increasing tolerance or the maximum number of iterations.\n",
      "  warnings.warn('FastICA did not converge. Consider increasing '\n"
     ]
    },
    {
     "name": "stdout",
     "output_type": "stream",
     "text": [
      "[CV]  NN__hidden_layer_sizes=(20,), ica__n_components=20, score=0.6485436893203883, total=   0.9s\n",
      "[CV] NN__hidden_layer_sizes=(20,), ica__n_components=20 ..............\n"
     ]
    },
    {
     "name": "stderr",
     "output_type": "stream",
     "text": [
      "C:\\Users\\ajmot\\Anaconda3\\lib\\site-packages\\sklearn\\decomposition\\fastica_.py:118: UserWarning: FastICA did not converge. Consider increasing tolerance or the maximum number of iterations.\n",
      "  warnings.warn('FastICA did not converge. Consider increasing '\n"
     ]
    },
    {
     "name": "stdout",
     "output_type": "stream",
     "text": [
      "[CV]  NN__hidden_layer_sizes=(20,), ica__n_components=20, score=0.6485436893203883, total=   0.9s\n",
      "[CV] NN__hidden_layer_sizes=(20,), ica__n_components=20 ..............\n"
     ]
    },
    {
     "name": "stderr",
     "output_type": "stream",
     "text": [
      "C:\\Users\\ajmot\\Anaconda3\\lib\\site-packages\\sklearn\\decomposition\\fastica_.py:118: UserWarning: FastICA did not converge. Consider increasing tolerance or the maximum number of iterations.\n",
      "  warnings.warn('FastICA did not converge. Consider increasing '\n"
     ]
    },
    {
     "name": "stdout",
     "output_type": "stream",
     "text": [
      "[CV]  NN__hidden_layer_sizes=(20,), ica__n_components=20, score=0.6482021379980564, total=   0.8s\n",
      "[CV] NN__hidden_layer_sizes=(20,), ica__n_components=20 ..............\n"
     ]
    },
    {
     "name": "stderr",
     "output_type": "stream",
     "text": [
      "C:\\Users\\ajmot\\Anaconda3\\lib\\site-packages\\sklearn\\decomposition\\fastica_.py:118: UserWarning: FastICA did not converge. Consider increasing tolerance or the maximum number of iterations.\n",
      "  warnings.warn('FastICA did not converge. Consider increasing '\n"
     ]
    },
    {
     "name": "stdout",
     "output_type": "stream",
     "text": [
      "[CV]  NN__hidden_layer_sizes=(20,), ica__n_components=20, score=0.6482021379980564, total=   0.8s\n",
      "[CV] NN__hidden_layer_sizes=(20,), ica__n_components=20 ..............\n"
     ]
    },
    {
     "name": "stderr",
     "output_type": "stream",
     "text": [
      "C:\\Users\\ajmot\\Anaconda3\\lib\\site-packages\\sklearn\\decomposition\\fastica_.py:118: UserWarning: FastICA did not converge. Consider increasing tolerance or the maximum number of iterations.\n",
      "  warnings.warn('FastICA did not converge. Consider increasing '\n"
     ]
    },
    {
     "name": "stdout",
     "output_type": "stream",
     "text": [
      "[CV]  NN__hidden_layer_sizes=(20,), ica__n_components=20, score=0.6488326848249028, total=   0.8s\n",
      "[CV] NN__hidden_layer_sizes=(20,), ica__n_components=25 ..............\n"
     ]
    },
    {
     "name": "stderr",
     "output_type": "stream",
     "text": [
      "C:\\Users\\ajmot\\Anaconda3\\lib\\site-packages\\sklearn\\decomposition\\fastica_.py:118: UserWarning: FastICA did not converge. Consider increasing tolerance or the maximum number of iterations.\n",
      "  warnings.warn('FastICA did not converge. Consider increasing '\n"
     ]
    },
    {
     "name": "stdout",
     "output_type": "stream",
     "text": [
      "[CV]  NN__hidden_layer_sizes=(20,), ica__n_components=25, score=0.6485436893203883, total=   1.1s\n",
      "[CV] NN__hidden_layer_sizes=(20,), ica__n_components=25 ..............\n"
     ]
    },
    {
     "name": "stderr",
     "output_type": "stream",
     "text": [
      "C:\\Users\\ajmot\\Anaconda3\\lib\\site-packages\\sklearn\\decomposition\\fastica_.py:118: UserWarning: FastICA did not converge. Consider increasing tolerance or the maximum number of iterations.\n",
      "  warnings.warn('FastICA did not converge. Consider increasing '\n"
     ]
    },
    {
     "name": "stdout",
     "output_type": "stream",
     "text": [
      "[CV]  NN__hidden_layer_sizes=(20,), ica__n_components=25, score=0.6485436893203883, total=   1.0s\n",
      "[CV] NN__hidden_layer_sizes=(20,), ica__n_components=25 ..............\n"
     ]
    },
    {
     "name": "stderr",
     "output_type": "stream",
     "text": [
      "C:\\Users\\ajmot\\Anaconda3\\lib\\site-packages\\sklearn\\decomposition\\fastica_.py:118: UserWarning: FastICA did not converge. Consider increasing tolerance or the maximum number of iterations.\n",
      "  warnings.warn('FastICA did not converge. Consider increasing '\n"
     ]
    },
    {
     "name": "stdout",
     "output_type": "stream",
     "text": [
      "[CV]  NN__hidden_layer_sizes=(20,), ica__n_components=25, score=0.6482021379980564, total=   1.0s\n",
      "[CV] NN__hidden_layer_sizes=(20,), ica__n_components=25 ..............\n"
     ]
    },
    {
     "name": "stderr",
     "output_type": "stream",
     "text": [
      "C:\\Users\\ajmot\\Anaconda3\\lib\\site-packages\\sklearn\\decomposition\\fastica_.py:118: UserWarning: FastICA did not converge. Consider increasing tolerance or the maximum number of iterations.\n",
      "  warnings.warn('FastICA did not converge. Consider increasing '\n"
     ]
    },
    {
     "name": "stdout",
     "output_type": "stream",
     "text": [
      "[CV]  NN__hidden_layer_sizes=(20,), ica__n_components=25, score=0.6482021379980564, total=   1.1s\n",
      "[CV] NN__hidden_layer_sizes=(20,), ica__n_components=25 ..............\n"
     ]
    },
    {
     "name": "stderr",
     "output_type": "stream",
     "text": [
      "C:\\Users\\ajmot\\Anaconda3\\lib\\site-packages\\sklearn\\decomposition\\fastica_.py:118: UserWarning: FastICA did not converge. Consider increasing tolerance or the maximum number of iterations.\n",
      "  warnings.warn('FastICA did not converge. Consider increasing '\n"
     ]
    },
    {
     "name": "stdout",
     "output_type": "stream",
     "text": [
      "[CV]  NN__hidden_layer_sizes=(20,), ica__n_components=25, score=0.6488326848249028, total=   1.1s\n",
      "[CV] NN__hidden_layer_sizes=(20,), ica__n_components=30 ..............\n"
     ]
    },
    {
     "name": "stderr",
     "output_type": "stream",
     "text": [
      "C:\\Users\\ajmot\\Anaconda3\\lib\\site-packages\\sklearn\\decomposition\\fastica_.py:118: UserWarning: FastICA did not converge. Consider increasing tolerance or the maximum number of iterations.\n",
      "  warnings.warn('FastICA did not converge. Consider increasing '\n"
     ]
    },
    {
     "name": "stdout",
     "output_type": "stream",
     "text": [
      "[CV]  NN__hidden_layer_sizes=(20,), ica__n_components=30, score=0.6485436893203883, total=   1.4s\n",
      "[CV] NN__hidden_layer_sizes=(20,), ica__n_components=30 ..............\n"
     ]
    },
    {
     "name": "stderr",
     "output_type": "stream",
     "text": [
      "C:\\Users\\ajmot\\Anaconda3\\lib\\site-packages\\sklearn\\decomposition\\fastica_.py:118: UserWarning: FastICA did not converge. Consider increasing tolerance or the maximum number of iterations.\n",
      "  warnings.warn('FastICA did not converge. Consider increasing '\n"
     ]
    },
    {
     "name": "stdout",
     "output_type": "stream",
     "text": [
      "[CV]  NN__hidden_layer_sizes=(20,), ica__n_components=30, score=0.6485436893203883, total=   1.4s\n",
      "[CV] NN__hidden_layer_sizes=(20,), ica__n_components=30 ..............\n"
     ]
    },
    {
     "name": "stderr",
     "output_type": "stream",
     "text": [
      "C:\\Users\\ajmot\\Anaconda3\\lib\\site-packages\\sklearn\\decomposition\\fastica_.py:118: UserWarning: FastICA did not converge. Consider increasing tolerance or the maximum number of iterations.\n",
      "  warnings.warn('FastICA did not converge. Consider increasing '\n"
     ]
    },
    {
     "name": "stdout",
     "output_type": "stream",
     "text": [
      "[CV]  NN__hidden_layer_sizes=(20,), ica__n_components=30, score=0.6482021379980564, total=   1.5s\n",
      "[CV] NN__hidden_layer_sizes=(20,), ica__n_components=30 ..............\n"
     ]
    },
    {
     "name": "stderr",
     "output_type": "stream",
     "text": [
      "C:\\Users\\ajmot\\Anaconda3\\lib\\site-packages\\sklearn\\decomposition\\fastica_.py:118: UserWarning: FastICA did not converge. Consider increasing tolerance or the maximum number of iterations.\n",
      "  warnings.warn('FastICA did not converge. Consider increasing '\n"
     ]
    },
    {
     "name": "stdout",
     "output_type": "stream",
     "text": [
      "[CV]  NN__hidden_layer_sizes=(20,), ica__n_components=30, score=0.6472303206997084, total=   1.4s\n",
      "[CV] NN__hidden_layer_sizes=(20,), ica__n_components=30 ..............\n"
     ]
    },
    {
     "name": "stderr",
     "output_type": "stream",
     "text": [
      "C:\\Users\\ajmot\\Anaconda3\\lib\\site-packages\\sklearn\\decomposition\\fastica_.py:118: UserWarning: FastICA did not converge. Consider increasing tolerance or the maximum number of iterations.\n",
      "  warnings.warn('FastICA did not converge. Consider increasing '\n"
     ]
    },
    {
     "name": "stdout",
     "output_type": "stream",
     "text": [
      "[CV]  NN__hidden_layer_sizes=(20,), ica__n_components=30, score=0.6498054474708171, total=   1.4s\n",
      "[CV] NN__hidden_layer_sizes=(20,), ica__n_components=35 ..............\n"
     ]
    },
    {
     "name": "stderr",
     "output_type": "stream",
     "text": [
      "C:\\Users\\ajmot\\Anaconda3\\lib\\site-packages\\sklearn\\decomposition\\fastica_.py:118: UserWarning: FastICA did not converge. Consider increasing tolerance or the maximum number of iterations.\n",
      "  warnings.warn('FastICA did not converge. Consider increasing '\n"
     ]
    },
    {
     "name": "stdout",
     "output_type": "stream",
     "text": [
      "[CV]  NN__hidden_layer_sizes=(20,), ica__n_components=35, score=0.6601941747572816, total=   2.0s\n",
      "[CV] NN__hidden_layer_sizes=(20,), ica__n_components=35 ..............\n"
     ]
    },
    {
     "name": "stderr",
     "output_type": "stream",
     "text": [
      "C:\\Users\\ajmot\\Anaconda3\\lib\\site-packages\\sklearn\\decomposition\\fastica_.py:118: UserWarning: FastICA did not converge. Consider increasing tolerance or the maximum number of iterations.\n",
      "  warnings.warn('FastICA did not converge. Consider increasing '\n"
     ]
    },
    {
     "name": "stdout",
     "output_type": "stream",
     "text": [
      "[CV]  NN__hidden_layer_sizes=(20,), ica__n_components=35, score=0.6611650485436893, total=   1.9s\n",
      "[CV] NN__hidden_layer_sizes=(20,), ica__n_components=35 ..............\n"
     ]
    },
    {
     "name": "stderr",
     "output_type": "stream",
     "text": [
      "C:\\Users\\ajmot\\Anaconda3\\lib\\site-packages\\sklearn\\decomposition\\fastica_.py:118: UserWarning: FastICA did not converge. Consider increasing tolerance or the maximum number of iterations.\n",
      "  warnings.warn('FastICA did not converge. Consider increasing '\n"
     ]
    },
    {
     "name": "stdout",
     "output_type": "stream",
     "text": [
      "[CV]  NN__hidden_layer_sizes=(20,), ica__n_components=35, score=0.6491739552964043, total=   1.8s\n",
      "[CV] NN__hidden_layer_sizes=(20,), ica__n_components=35 ..............\n"
     ]
    },
    {
     "name": "stderr",
     "output_type": "stream",
     "text": [
      "C:\\Users\\ajmot\\Anaconda3\\lib\\site-packages\\sklearn\\decomposition\\fastica_.py:118: UserWarning: FastICA did not converge. Consider increasing tolerance or the maximum number of iterations.\n",
      "  warnings.warn('FastICA did not converge. Consider increasing '\n"
     ]
    },
    {
     "name": "stdout",
     "output_type": "stream",
     "text": [
      "[CV]  NN__hidden_layer_sizes=(20,), ica__n_components=35, score=0.6482021379980564, total=   1.8s\n",
      "[CV] NN__hidden_layer_sizes=(20,), ica__n_components=35 ..............\n"
     ]
    },
    {
     "name": "stderr",
     "output_type": "stream",
     "text": [
      "C:\\Users\\ajmot\\Anaconda3\\lib\\site-packages\\sklearn\\decomposition\\fastica_.py:118: UserWarning: FastICA did not converge. Consider increasing tolerance or the maximum number of iterations.\n",
      "  warnings.warn('FastICA did not converge. Consider increasing '\n"
     ]
    },
    {
     "name": "stdout",
     "output_type": "stream",
     "text": [
      "[CV]  NN__hidden_layer_sizes=(20,), ica__n_components=35, score=0.6507782101167315, total=   1.7s\n",
      "[CV] NN__hidden_layer_sizes=(30,), ica__n_components=2 ...............\n",
      "[CV]  NN__hidden_layer_sizes=(30,), ica__n_components=2, score=0.6485436893203883, total=   0.0s\n",
      "[CV] NN__hidden_layer_sizes=(30,), ica__n_components=2 ...............\n",
      "[CV]  NN__hidden_layer_sizes=(30,), ica__n_components=2, score=0.6485436893203883, total=   0.0s\n",
      "[CV] NN__hidden_layer_sizes=(30,), ica__n_components=2 ...............\n",
      "[CV]  NN__hidden_layer_sizes=(30,), ica__n_components=2, score=0.6482021379980564, total=   0.0s\n",
      "[CV] NN__hidden_layer_sizes=(30,), ica__n_components=2 ...............\n",
      "[CV]  NN__hidden_layer_sizes=(30,), ica__n_components=2, score=0.6482021379980564, total=   0.0s\n",
      "[CV] NN__hidden_layer_sizes=(30,), ica__n_components=2 ...............\n",
      "[CV]  NN__hidden_layer_sizes=(30,), ica__n_components=2, score=0.6488326848249028, total=   0.0s\n",
      "[CV] NN__hidden_layer_sizes=(30,), ica__n_components=5 ...............\n",
      "[CV]  NN__hidden_layer_sizes=(30,), ica__n_components=5, score=0.6485436893203883, total=   0.0s\n",
      "[CV] NN__hidden_layer_sizes=(30,), ica__n_components=5 ...............\n",
      "[CV]  NN__hidden_layer_sizes=(30,), ica__n_components=5, score=0.6485436893203883, total=   0.0s\n",
      "[CV] NN__hidden_layer_sizes=(30,), ica__n_components=5 ...............\n",
      "[CV]  NN__hidden_layer_sizes=(30,), ica__n_components=5, score=0.6482021379980564, total=   0.0s\n",
      "[CV] NN__hidden_layer_sizes=(30,), ica__n_components=5 ...............\n",
      "[CV]  NN__hidden_layer_sizes=(30,), ica__n_components=5, score=0.6482021379980564, total=   0.0s\n",
      "[CV] NN__hidden_layer_sizes=(30,), ica__n_components=5 ...............\n",
      "[CV]  NN__hidden_layer_sizes=(30,), ica__n_components=5, score=0.6488326848249028, total=   0.0s\n",
      "[CV] NN__hidden_layer_sizes=(30,), ica__n_components=10 ..............\n",
      "[CV]  NN__hidden_layer_sizes=(30,), ica__n_components=10, score=0.6485436893203883, total=   0.3s\n",
      "[CV] NN__hidden_layer_sizes=(30,), ica__n_components=10 ..............\n"
     ]
    },
    {
     "name": "stderr",
     "output_type": "stream",
     "text": [
      "C:\\Users\\ajmot\\Anaconda3\\lib\\site-packages\\sklearn\\decomposition\\fastica_.py:118: UserWarning: FastICA did not converge. Consider increasing tolerance or the maximum number of iterations.\n",
      "  warnings.warn('FastICA did not converge. Consider increasing '\n"
     ]
    },
    {
     "name": "stdout",
     "output_type": "stream",
     "text": [
      "[CV]  NN__hidden_layer_sizes=(30,), ica__n_components=10, score=0.6485436893203883, total=   0.4s\n",
      "[CV] NN__hidden_layer_sizes=(30,), ica__n_components=10 ..............\n"
     ]
    },
    {
     "name": "stderr",
     "output_type": "stream",
     "text": [
      "C:\\Users\\ajmot\\Anaconda3\\lib\\site-packages\\sklearn\\decomposition\\fastica_.py:118: UserWarning: FastICA did not converge. Consider increasing tolerance or the maximum number of iterations.\n",
      "  warnings.warn('FastICA did not converge. Consider increasing '\n"
     ]
    },
    {
     "name": "stdout",
     "output_type": "stream",
     "text": [
      "[CV]  NN__hidden_layer_sizes=(30,), ica__n_components=10, score=0.6482021379980564, total=   0.4s\n",
      "[CV] NN__hidden_layer_sizes=(30,), ica__n_components=10 ..............\n"
     ]
    },
    {
     "name": "stderr",
     "output_type": "stream",
     "text": [
      "C:\\Users\\ajmot\\Anaconda3\\lib\\site-packages\\sklearn\\decomposition\\fastica_.py:118: UserWarning: FastICA did not converge. Consider increasing tolerance or the maximum number of iterations.\n",
      "  warnings.warn('FastICA did not converge. Consider increasing '\n"
     ]
    },
    {
     "name": "stdout",
     "output_type": "stream",
     "text": [
      "[CV]  NN__hidden_layer_sizes=(30,), ica__n_components=10, score=0.6482021379980564, total=   0.5s\n",
      "[CV] NN__hidden_layer_sizes=(30,), ica__n_components=10 ..............\n"
     ]
    },
    {
     "name": "stderr",
     "output_type": "stream",
     "text": [
      "C:\\Users\\ajmot\\Anaconda3\\lib\\site-packages\\sklearn\\decomposition\\fastica_.py:118: UserWarning: FastICA did not converge. Consider increasing tolerance or the maximum number of iterations.\n",
      "  warnings.warn('FastICA did not converge. Consider increasing '\n"
     ]
    },
    {
     "name": "stdout",
     "output_type": "stream",
     "text": [
      "[CV]  NN__hidden_layer_sizes=(30,), ica__n_components=10, score=0.6488326848249028, total=   0.4s\n",
      "[CV] NN__hidden_layer_sizes=(30,), ica__n_components=15 ..............\n"
     ]
    },
    {
     "name": "stderr",
     "output_type": "stream",
     "text": [
      "C:\\Users\\ajmot\\Anaconda3\\lib\\site-packages\\sklearn\\decomposition\\fastica_.py:118: UserWarning: FastICA did not converge. Consider increasing tolerance or the maximum number of iterations.\n",
      "  warnings.warn('FastICA did not converge. Consider increasing '\n"
     ]
    },
    {
     "name": "stdout",
     "output_type": "stream",
     "text": [
      "[CV]  NN__hidden_layer_sizes=(30,), ica__n_components=15, score=0.6485436893203883, total=   0.8s\n",
      "[CV] NN__hidden_layer_sizes=(30,), ica__n_components=15 ..............\n"
     ]
    },
    {
     "name": "stderr",
     "output_type": "stream",
     "text": [
      "C:\\Users\\ajmot\\Anaconda3\\lib\\site-packages\\sklearn\\decomposition\\fastica_.py:118: UserWarning: FastICA did not converge. Consider increasing tolerance or the maximum number of iterations.\n",
      "  warnings.warn('FastICA did not converge. Consider increasing '\n"
     ]
    },
    {
     "name": "stdout",
     "output_type": "stream",
     "text": [
      "[CV]  NN__hidden_layer_sizes=(30,), ica__n_components=15, score=0.7757281553398059, total=   0.7s\n",
      "[CV] NN__hidden_layer_sizes=(30,), ica__n_components=15 ..............\n",
      "[CV]  NN__hidden_layer_sizes=(30,), ica__n_components=15, score=0.6637512147716229, total=   0.5s\n",
      "[CV] NN__hidden_layer_sizes=(30,), ica__n_components=15 ..............\n"
     ]
    },
    {
     "name": "stderr",
     "output_type": "stream",
     "text": [
      "C:\\Users\\ajmot\\Anaconda3\\lib\\site-packages\\sklearn\\decomposition\\fastica_.py:118: UserWarning: FastICA did not converge. Consider increasing tolerance or the maximum number of iterations.\n",
      "  warnings.warn('FastICA did not converge. Consider increasing '\n"
     ]
    },
    {
     "name": "stdout",
     "output_type": "stream",
     "text": [
      "[CV]  NN__hidden_layer_sizes=(30,), ica__n_components=15, score=0.7152575315840622, total=   0.7s\n",
      "[CV] NN__hidden_layer_sizes=(30,), ica__n_components=15 ..............\n"
     ]
    },
    {
     "name": "stderr",
     "output_type": "stream",
     "text": [
      "C:\\Users\\ajmot\\Anaconda3\\lib\\site-packages\\sklearn\\decomposition\\fastica_.py:118: UserWarning: FastICA did not converge. Consider increasing tolerance or the maximum number of iterations.\n",
      "  warnings.warn('FastICA did not converge. Consider increasing '\n"
     ]
    },
    {
     "name": "stdout",
     "output_type": "stream",
     "text": [
      "[CV]  NN__hidden_layer_sizes=(30,), ica__n_components=15, score=0.6488326848249028, total=   0.7s\n",
      "[CV] NN__hidden_layer_sizes=(30,), ica__n_components=20 ..............\n"
     ]
    },
    {
     "name": "stderr",
     "output_type": "stream",
     "text": [
      "C:\\Users\\ajmot\\Anaconda3\\lib\\site-packages\\sklearn\\decomposition\\fastica_.py:118: UserWarning: FastICA did not converge. Consider increasing tolerance or the maximum number of iterations.\n",
      "  warnings.warn('FastICA did not converge. Consider increasing '\n"
     ]
    },
    {
     "name": "stdout",
     "output_type": "stream",
     "text": [
      "[CV]  NN__hidden_layer_sizes=(30,), ica__n_components=20, score=0.6485436893203883, total=   0.9s\n",
      "[CV] NN__hidden_layer_sizes=(30,), ica__n_components=20 ..............\n"
     ]
    },
    {
     "name": "stderr",
     "output_type": "stream",
     "text": [
      "C:\\Users\\ajmot\\Anaconda3\\lib\\site-packages\\sklearn\\decomposition\\fastica_.py:118: UserWarning: FastICA did not converge. Consider increasing tolerance or the maximum number of iterations.\n",
      "  warnings.warn('FastICA did not converge. Consider increasing '\n"
     ]
    },
    {
     "name": "stdout",
     "output_type": "stream",
     "text": [
      "[CV]  NN__hidden_layer_sizes=(30,), ica__n_components=20, score=0.6485436893203883, total=   0.8s\n",
      "[CV] NN__hidden_layer_sizes=(30,), ica__n_components=20 ..............\n"
     ]
    },
    {
     "name": "stderr",
     "output_type": "stream",
     "text": [
      "C:\\Users\\ajmot\\Anaconda3\\lib\\site-packages\\sklearn\\decomposition\\fastica_.py:118: UserWarning: FastICA did not converge. Consider increasing tolerance or the maximum number of iterations.\n",
      "  warnings.warn('FastICA did not converge. Consider increasing '\n"
     ]
    },
    {
     "name": "stdout",
     "output_type": "stream",
     "text": [
      "[CV]  NN__hidden_layer_sizes=(30,), ica__n_components=20, score=0.6482021379980564, total=   0.9s\n",
      "[CV] NN__hidden_layer_sizes=(30,), ica__n_components=20 ..............\n"
     ]
    },
    {
     "name": "stderr",
     "output_type": "stream",
     "text": [
      "C:\\Users\\ajmot\\Anaconda3\\lib\\site-packages\\sklearn\\decomposition\\fastica_.py:118: UserWarning: FastICA did not converge. Consider increasing tolerance or the maximum number of iterations.\n",
      "  warnings.warn('FastICA did not converge. Consider increasing '\n"
     ]
    },
    {
     "name": "stdout",
     "output_type": "stream",
     "text": [
      "[CV]  NN__hidden_layer_sizes=(30,), ica__n_components=20, score=0.6482021379980564, total=   0.9s\n",
      "[CV] NN__hidden_layer_sizes=(30,), ica__n_components=20 ..............\n"
     ]
    },
    {
     "name": "stderr",
     "output_type": "stream",
     "text": [
      "C:\\Users\\ajmot\\Anaconda3\\lib\\site-packages\\sklearn\\decomposition\\fastica_.py:118: UserWarning: FastICA did not converge. Consider increasing tolerance or the maximum number of iterations.\n",
      "  warnings.warn('FastICA did not converge. Consider increasing '\n"
     ]
    },
    {
     "name": "stdout",
     "output_type": "stream",
     "text": [
      "[CV]  NN__hidden_layer_sizes=(30,), ica__n_components=20, score=0.6488326848249028, total=   0.9s\n",
      "[CV] NN__hidden_layer_sizes=(30,), ica__n_components=25 ..............\n"
     ]
    },
    {
     "name": "stderr",
     "output_type": "stream",
     "text": [
      "C:\\Users\\ajmot\\Anaconda3\\lib\\site-packages\\sklearn\\decomposition\\fastica_.py:118: UserWarning: FastICA did not converge. Consider increasing tolerance or the maximum number of iterations.\n",
      "  warnings.warn('FastICA did not converge. Consider increasing '\n"
     ]
    },
    {
     "name": "stdout",
     "output_type": "stream",
     "text": [
      "[CV]  NN__hidden_layer_sizes=(30,), ica__n_components=25, score=0.6485436893203883, total=   1.2s\n",
      "[CV] NN__hidden_layer_sizes=(30,), ica__n_components=25 ..............\n"
     ]
    },
    {
     "name": "stderr",
     "output_type": "stream",
     "text": [
      "C:\\Users\\ajmot\\Anaconda3\\lib\\site-packages\\sklearn\\decomposition\\fastica_.py:118: UserWarning: FastICA did not converge. Consider increasing tolerance or the maximum number of iterations.\n",
      "  warnings.warn('FastICA did not converge. Consider increasing '\n"
     ]
    },
    {
     "name": "stdout",
     "output_type": "stream",
     "text": [
      "[CV]  NN__hidden_layer_sizes=(30,), ica__n_components=25, score=0.6485436893203883, total=   1.1s\n",
      "[CV] NN__hidden_layer_sizes=(30,), ica__n_components=25 ..............\n"
     ]
    },
    {
     "name": "stderr",
     "output_type": "stream",
     "text": [
      "C:\\Users\\ajmot\\Anaconda3\\lib\\site-packages\\sklearn\\decomposition\\fastica_.py:118: UserWarning: FastICA did not converge. Consider increasing tolerance or the maximum number of iterations.\n",
      "  warnings.warn('FastICA did not converge. Consider increasing '\n"
     ]
    },
    {
     "name": "stdout",
     "output_type": "stream",
     "text": [
      "[CV]  NN__hidden_layer_sizes=(30,), ica__n_components=25, score=0.6482021379980564, total=   1.1s\n",
      "[CV] NN__hidden_layer_sizes=(30,), ica__n_components=25 ..............\n"
     ]
    },
    {
     "name": "stderr",
     "output_type": "stream",
     "text": [
      "C:\\Users\\ajmot\\Anaconda3\\lib\\site-packages\\sklearn\\decomposition\\fastica_.py:118: UserWarning: FastICA did not converge. Consider increasing tolerance or the maximum number of iterations.\n",
      "  warnings.warn('FastICA did not converge. Consider increasing '\n"
     ]
    },
    {
     "name": "stdout",
     "output_type": "stream",
     "text": [
      "[CV]  NN__hidden_layer_sizes=(30,), ica__n_components=25, score=0.6482021379980564, total=   1.1s\n",
      "[CV] NN__hidden_layer_sizes=(30,), ica__n_components=25 ..............\n"
     ]
    },
    {
     "name": "stderr",
     "output_type": "stream",
     "text": [
      "C:\\Users\\ajmot\\Anaconda3\\lib\\site-packages\\sklearn\\decomposition\\fastica_.py:118: UserWarning: FastICA did not converge. Consider increasing tolerance or the maximum number of iterations.\n",
      "  warnings.warn('FastICA did not converge. Consider increasing '\n"
     ]
    },
    {
     "name": "stdout",
     "output_type": "stream",
     "text": [
      "[CV]  NN__hidden_layer_sizes=(30,), ica__n_components=25, score=0.6488326848249028, total=   1.0s\n",
      "[CV] NN__hidden_layer_sizes=(30,), ica__n_components=30 ..............\n"
     ]
    },
    {
     "name": "stderr",
     "output_type": "stream",
     "text": [
      "C:\\Users\\ajmot\\Anaconda3\\lib\\site-packages\\sklearn\\decomposition\\fastica_.py:118: UserWarning: FastICA did not converge. Consider increasing tolerance or the maximum number of iterations.\n",
      "  warnings.warn('FastICA did not converge. Consider increasing '\n"
     ]
    },
    {
     "name": "stdout",
     "output_type": "stream",
     "text": [
      "[CV]  NN__hidden_layer_sizes=(30,), ica__n_components=30, score=0.6504854368932039, total=   1.3s\n",
      "[CV] NN__hidden_layer_sizes=(30,), ica__n_components=30 ..............\n"
     ]
    },
    {
     "name": "stderr",
     "output_type": "stream",
     "text": [
      "C:\\Users\\ajmot\\Anaconda3\\lib\\site-packages\\sklearn\\decomposition\\fastica_.py:118: UserWarning: FastICA did not converge. Consider increasing tolerance or the maximum number of iterations.\n",
      "  warnings.warn('FastICA did not converge. Consider increasing '\n"
     ]
    },
    {
     "name": "stdout",
     "output_type": "stream",
     "text": [
      "[CV]  NN__hidden_layer_sizes=(30,), ica__n_components=30, score=0.6504854368932039, total=   1.4s\n",
      "[CV] NN__hidden_layer_sizes=(30,), ica__n_components=30 ..............\n"
     ]
    },
    {
     "name": "stderr",
     "output_type": "stream",
     "text": [
      "C:\\Users\\ajmot\\Anaconda3\\lib\\site-packages\\sklearn\\decomposition\\fastica_.py:118: UserWarning: FastICA did not converge. Consider increasing tolerance or the maximum number of iterations.\n",
      "  warnings.warn('FastICA did not converge. Consider increasing '\n"
     ]
    },
    {
     "name": "stdout",
     "output_type": "stream",
     "text": [
      "[CV]  NN__hidden_layer_sizes=(30,), ica__n_components=30, score=0.6491739552964043, total=   1.3s\n",
      "[CV] NN__hidden_layer_sizes=(30,), ica__n_components=30 ..............\n"
     ]
    },
    {
     "name": "stderr",
     "output_type": "stream",
     "text": [
      "C:\\Users\\ajmot\\Anaconda3\\lib\\site-packages\\sklearn\\decomposition\\fastica_.py:118: UserWarning: FastICA did not converge. Consider increasing tolerance or the maximum number of iterations.\n",
      "  warnings.warn('FastICA did not converge. Consider increasing '\n"
     ]
    },
    {
     "name": "stdout",
     "output_type": "stream",
     "text": [
      "[CV]  NN__hidden_layer_sizes=(30,), ica__n_components=30, score=0.652089407191448, total=   1.3s\n",
      "[CV] NN__hidden_layer_sizes=(30,), ica__n_components=30 ..............\n"
     ]
    },
    {
     "name": "stderr",
     "output_type": "stream",
     "text": [
      "C:\\Users\\ajmot\\Anaconda3\\lib\\site-packages\\sklearn\\decomposition\\fastica_.py:118: UserWarning: FastICA did not converge. Consider increasing tolerance or the maximum number of iterations.\n",
      "  warnings.warn('FastICA did not converge. Consider increasing '\n"
     ]
    },
    {
     "name": "stdout",
     "output_type": "stream",
     "text": [
      "[CV]  NN__hidden_layer_sizes=(30,), ica__n_components=30, score=0.6605058365758755, total=   1.3s\n",
      "[CV] NN__hidden_layer_sizes=(30,), ica__n_components=35 ..............\n"
     ]
    },
    {
     "name": "stderr",
     "output_type": "stream",
     "text": [
      "C:\\Users\\ajmot\\Anaconda3\\lib\\site-packages\\sklearn\\decomposition\\fastica_.py:118: UserWarning: FastICA did not converge. Consider increasing tolerance or the maximum number of iterations.\n",
      "  warnings.warn('FastICA did not converge. Consider increasing '\n"
     ]
    },
    {
     "name": "stdout",
     "output_type": "stream",
     "text": [
      "[CV]  NN__hidden_layer_sizes=(30,), ica__n_components=35, score=0.6485436893203883, total=   1.8s\n",
      "[CV] NN__hidden_layer_sizes=(30,), ica__n_components=35 ..............\n"
     ]
    },
    {
     "name": "stderr",
     "output_type": "stream",
     "text": [
      "C:\\Users\\ajmot\\Anaconda3\\lib\\site-packages\\sklearn\\decomposition\\fastica_.py:118: UserWarning: FastICA did not converge. Consider increasing tolerance or the maximum number of iterations.\n",
      "  warnings.warn('FastICA did not converge. Consider increasing '\n"
     ]
    },
    {
     "name": "stdout",
     "output_type": "stream",
     "text": [
      "[CV]  NN__hidden_layer_sizes=(30,), ica__n_components=35, score=0.6485436893203883, total=   1.8s\n",
      "[CV] NN__hidden_layer_sizes=(30,), ica__n_components=35 ..............\n"
     ]
    },
    {
     "name": "stderr",
     "output_type": "stream",
     "text": [
      "C:\\Users\\ajmot\\Anaconda3\\lib\\site-packages\\sklearn\\decomposition\\fastica_.py:118: UserWarning: FastICA did not converge. Consider increasing tolerance or the maximum number of iterations.\n",
      "  warnings.warn('FastICA did not converge. Consider increasing '\n"
     ]
    },
    {
     "name": "stdout",
     "output_type": "stream",
     "text": [
      "[CV]  NN__hidden_layer_sizes=(30,), ica__n_components=35, score=0.6948493683187561, total=   1.8s\n",
      "[CV] NN__hidden_layer_sizes=(30,), ica__n_components=35 ..............\n"
     ]
    },
    {
     "name": "stderr",
     "output_type": "stream",
     "text": [
      "C:\\Users\\ajmot\\Anaconda3\\lib\\site-packages\\sklearn\\decomposition\\fastica_.py:118: UserWarning: FastICA did not converge. Consider increasing tolerance or the maximum number of iterations.\n",
      "  warnings.warn('FastICA did not converge. Consider increasing '\n"
     ]
    },
    {
     "name": "stdout",
     "output_type": "stream",
     "text": [
      "[CV]  NN__hidden_layer_sizes=(30,), ica__n_components=35, score=0.652089407191448, total=   1.8s\n",
      "[CV] NN__hidden_layer_sizes=(30,), ica__n_components=35 ..............\n"
     ]
    },
    {
     "name": "stderr",
     "output_type": "stream",
     "text": [
      "C:\\Users\\ajmot\\Anaconda3\\lib\\site-packages\\sklearn\\decomposition\\fastica_.py:118: UserWarning: FastICA did not converge. Consider increasing tolerance or the maximum number of iterations.\n",
      "  warnings.warn('FastICA did not converge. Consider increasing '\n"
     ]
    },
    {
     "name": "stdout",
     "output_type": "stream",
     "text": [
      "[CV]  NN__hidden_layer_sizes=(30,), ica__n_components=35, score=0.6488326848249028, total=   1.9s\n",
      "[CV] NN__hidden_layer_sizes=(30, 10), ica__n_components=2 ............\n",
      "[CV]  NN__hidden_layer_sizes=(30, 10), ica__n_components=2, score=0.6485436893203883, total=   0.0s\n",
      "[CV] NN__hidden_layer_sizes=(30, 10), ica__n_components=2 ............\n",
      "[CV]  NN__hidden_layer_sizes=(30, 10), ica__n_components=2, score=0.6485436893203883, total=   0.0s\n",
      "[CV] NN__hidden_layer_sizes=(30, 10), ica__n_components=2 ............\n",
      "[CV]  NN__hidden_layer_sizes=(30, 10), ica__n_components=2, score=0.6482021379980564, total=   0.0s\n",
      "[CV] NN__hidden_layer_sizes=(30, 10), ica__n_components=2 ............\n",
      "[CV]  NN__hidden_layer_sizes=(30, 10), ica__n_components=2, score=0.6482021379980564, total=   0.0s\n",
      "[CV] NN__hidden_layer_sizes=(30, 10), ica__n_components=2 ............\n",
      "[CV]  NN__hidden_layer_sizes=(30, 10), ica__n_components=2, score=0.6488326848249028, total=   0.0s\n",
      "[CV] NN__hidden_layer_sizes=(30, 10), ica__n_components=5 ............\n",
      "[CV]  NN__hidden_layer_sizes=(30, 10), ica__n_components=5, score=0.6485436893203883, total=   0.0s\n",
      "[CV] NN__hidden_layer_sizes=(30, 10), ica__n_components=5 ............\n",
      "[CV]  NN__hidden_layer_sizes=(30, 10), ica__n_components=5, score=0.6485436893203883, total=   0.0s\n",
      "[CV] NN__hidden_layer_sizes=(30, 10), ica__n_components=5 ............\n",
      "[CV]  NN__hidden_layer_sizes=(30, 10), ica__n_components=5, score=0.6482021379980564, total=   0.0s\n",
      "[CV] NN__hidden_layer_sizes=(30, 10), ica__n_components=5 ............\n",
      "[CV]  NN__hidden_layer_sizes=(30, 10), ica__n_components=5, score=0.6482021379980564, total=   0.0s\n",
      "[CV] NN__hidden_layer_sizes=(30, 10), ica__n_components=5 ............\n",
      "[CV]  NN__hidden_layer_sizes=(30, 10), ica__n_components=5, score=0.6488326848249028, total=   0.0s\n",
      "[CV] NN__hidden_layer_sizes=(30, 10), ica__n_components=10 ...........\n",
      "[CV]  NN__hidden_layer_sizes=(30, 10), ica__n_components=10, score=0.6485436893203883, total=   0.4s\n",
      "[CV] NN__hidden_layer_sizes=(30, 10), ica__n_components=10 ...........\n"
     ]
    },
    {
     "name": "stderr",
     "output_type": "stream",
     "text": [
      "C:\\Users\\ajmot\\Anaconda3\\lib\\site-packages\\sklearn\\decomposition\\fastica_.py:118: UserWarning: FastICA did not converge. Consider increasing tolerance or the maximum number of iterations.\n",
      "  warnings.warn('FastICA did not converge. Consider increasing '\n"
     ]
    },
    {
     "name": "stdout",
     "output_type": "stream",
     "text": [
      "[CV]  NN__hidden_layer_sizes=(30, 10), ica__n_components=10, score=0.6485436893203883, total=   0.4s\n",
      "[CV] NN__hidden_layer_sizes=(30, 10), ica__n_components=10 ...........\n"
     ]
    },
    {
     "name": "stderr",
     "output_type": "stream",
     "text": [
      "C:\\Users\\ajmot\\Anaconda3\\lib\\site-packages\\sklearn\\decomposition\\fastica_.py:118: UserWarning: FastICA did not converge. Consider increasing tolerance or the maximum number of iterations.\n",
      "  warnings.warn('FastICA did not converge. Consider increasing '\n"
     ]
    },
    {
     "name": "stdout",
     "output_type": "stream",
     "text": [
      "[CV]  NN__hidden_layer_sizes=(30, 10), ica__n_components=10, score=0.6482021379980564, total=   0.5s\n",
      "[CV] NN__hidden_layer_sizes=(30, 10), ica__n_components=10 ...........\n"
     ]
    },
    {
     "name": "stderr",
     "output_type": "stream",
     "text": [
      "C:\\Users\\ajmot\\Anaconda3\\lib\\site-packages\\sklearn\\decomposition\\fastica_.py:118: UserWarning: FastICA did not converge. Consider increasing tolerance or the maximum number of iterations.\n",
      "  warnings.warn('FastICA did not converge. Consider increasing '\n"
     ]
    },
    {
     "name": "stdout",
     "output_type": "stream",
     "text": [
      "[CV]  NN__hidden_layer_sizes=(30, 10), ica__n_components=10, score=0.6482021379980564, total=   0.5s\n",
      "[CV] NN__hidden_layer_sizes=(30, 10), ica__n_components=10 ...........\n"
     ]
    },
    {
     "name": "stderr",
     "output_type": "stream",
     "text": [
      "C:\\Users\\ajmot\\Anaconda3\\lib\\site-packages\\sklearn\\decomposition\\fastica_.py:118: UserWarning: FastICA did not converge. Consider increasing tolerance or the maximum number of iterations.\n",
      "  warnings.warn('FastICA did not converge. Consider increasing '\n"
     ]
    },
    {
     "name": "stdout",
     "output_type": "stream",
     "text": [
      "[CV]  NN__hidden_layer_sizes=(30, 10), ica__n_components=10, score=0.6488326848249028, total=   0.4s\n",
      "[CV] NN__hidden_layer_sizes=(30, 10), ica__n_components=15 ...........\n"
     ]
    },
    {
     "name": "stderr",
     "output_type": "stream",
     "text": [
      "C:\\Users\\ajmot\\Anaconda3\\lib\\site-packages\\sklearn\\decomposition\\fastica_.py:118: UserWarning: FastICA did not converge. Consider increasing tolerance or the maximum number of iterations.\n",
      "  warnings.warn('FastICA did not converge. Consider increasing '\n"
     ]
    },
    {
     "name": "stdout",
     "output_type": "stream",
     "text": [
      "[CV]  NN__hidden_layer_sizes=(30, 10), ica__n_components=15, score=0.6485436893203883, total=   0.7s\n",
      "[CV] NN__hidden_layer_sizes=(30, 10), ica__n_components=15 ...........\n"
     ]
    },
    {
     "name": "stderr",
     "output_type": "stream",
     "text": [
      "C:\\Users\\ajmot\\Anaconda3\\lib\\site-packages\\sklearn\\decomposition\\fastica_.py:118: UserWarning: FastICA did not converge. Consider increasing tolerance or the maximum number of iterations.\n",
      "  warnings.warn('FastICA did not converge. Consider increasing '\n"
     ]
    },
    {
     "name": "stdout",
     "output_type": "stream",
     "text": [
      "[CV]  NN__hidden_layer_sizes=(30, 10), ica__n_components=15, score=0.6485436893203883, total=   0.7s\n",
      "[CV] NN__hidden_layer_sizes=(30, 10), ica__n_components=15 ...........\n",
      "[CV]  NN__hidden_layer_sizes=(30, 10), ica__n_components=15, score=0.6482021379980564, total=   0.4s\n",
      "[CV] NN__hidden_layer_sizes=(30, 10), ica__n_components=15 ...........\n"
     ]
    },
    {
     "name": "stderr",
     "output_type": "stream",
     "text": [
      "C:\\Users\\ajmot\\Anaconda3\\lib\\site-packages\\sklearn\\decomposition\\fastica_.py:118: UserWarning: FastICA did not converge. Consider increasing tolerance or the maximum number of iterations.\n",
      "  warnings.warn('FastICA did not converge. Consider increasing '\n"
     ]
    },
    {
     "name": "stdout",
     "output_type": "stream",
     "text": [
      "[CV]  NN__hidden_layer_sizes=(30, 10), ica__n_components=15, score=0.6482021379980564, total=   0.7s\n",
      "[CV] NN__hidden_layer_sizes=(30, 10), ica__n_components=15 ...........\n"
     ]
    },
    {
     "name": "stderr",
     "output_type": "stream",
     "text": [
      "C:\\Users\\ajmot\\Anaconda3\\lib\\site-packages\\sklearn\\decomposition\\fastica_.py:118: UserWarning: FastICA did not converge. Consider increasing tolerance or the maximum number of iterations.\n",
      "  warnings.warn('FastICA did not converge. Consider increasing '\n"
     ]
    },
    {
     "name": "stdout",
     "output_type": "stream",
     "text": [
      "[CV]  NN__hidden_layer_sizes=(30, 10), ica__n_components=15, score=0.6488326848249028, total=   0.7s\n",
      "[CV] NN__hidden_layer_sizes=(30, 10), ica__n_components=20 ...........\n"
     ]
    },
    {
     "name": "stderr",
     "output_type": "stream",
     "text": [
      "C:\\Users\\ajmot\\Anaconda3\\lib\\site-packages\\sklearn\\decomposition\\fastica_.py:118: UserWarning: FastICA did not converge. Consider increasing tolerance or the maximum number of iterations.\n",
      "  warnings.warn('FastICA did not converge. Consider increasing '\n"
     ]
    },
    {
     "name": "stdout",
     "output_type": "stream",
     "text": [
      "[CV]  NN__hidden_layer_sizes=(30, 10), ica__n_components=20, score=0.6485436893203883, total=   0.9s\n",
      "[CV] NN__hidden_layer_sizes=(30, 10), ica__n_components=20 ...........\n"
     ]
    },
    {
     "name": "stderr",
     "output_type": "stream",
     "text": [
      "C:\\Users\\ajmot\\Anaconda3\\lib\\site-packages\\sklearn\\decomposition\\fastica_.py:118: UserWarning: FastICA did not converge. Consider increasing tolerance or the maximum number of iterations.\n",
      "  warnings.warn('FastICA did not converge. Consider increasing '\n"
     ]
    },
    {
     "name": "stdout",
     "output_type": "stream",
     "text": [
      "[CV]  NN__hidden_layer_sizes=(30, 10), ica__n_components=20, score=0.6485436893203883, total=   0.9s\n",
      "[CV] NN__hidden_layer_sizes=(30, 10), ica__n_components=20 ...........\n"
     ]
    },
    {
     "name": "stderr",
     "output_type": "stream",
     "text": [
      "C:\\Users\\ajmot\\Anaconda3\\lib\\site-packages\\sklearn\\decomposition\\fastica_.py:118: UserWarning: FastICA did not converge. Consider increasing tolerance or the maximum number of iterations.\n",
      "  warnings.warn('FastICA did not converge. Consider increasing '\n"
     ]
    },
    {
     "name": "stdout",
     "output_type": "stream",
     "text": [
      "[CV]  NN__hidden_layer_sizes=(30, 10), ica__n_components=20, score=0.6482021379980564, total=   0.9s\n",
      "[CV] NN__hidden_layer_sizes=(30, 10), ica__n_components=20 ...........\n"
     ]
    },
    {
     "name": "stderr",
     "output_type": "stream",
     "text": [
      "C:\\Users\\ajmot\\Anaconda3\\lib\\site-packages\\sklearn\\decomposition\\fastica_.py:118: UserWarning: FastICA did not converge. Consider increasing tolerance or the maximum number of iterations.\n",
      "  warnings.warn('FastICA did not converge. Consider increasing '\n"
     ]
    },
    {
     "name": "stdout",
     "output_type": "stream",
     "text": [
      "[CV]  NN__hidden_layer_sizes=(30, 10), ica__n_components=20, score=0.6482021379980564, total=   0.9s\n",
      "[CV] NN__hidden_layer_sizes=(30, 10), ica__n_components=20 ...........\n"
     ]
    },
    {
     "name": "stderr",
     "output_type": "stream",
     "text": [
      "C:\\Users\\ajmot\\Anaconda3\\lib\\site-packages\\sklearn\\decomposition\\fastica_.py:118: UserWarning: FastICA did not converge. Consider increasing tolerance or the maximum number of iterations.\n",
      "  warnings.warn('FastICA did not converge. Consider increasing '\n"
     ]
    },
    {
     "name": "stdout",
     "output_type": "stream",
     "text": [
      "[CV]  NN__hidden_layer_sizes=(30, 10), ica__n_components=20, score=0.6488326848249028, total=   0.9s\n",
      "[CV] NN__hidden_layer_sizes=(30, 10), ica__n_components=25 ...........\n"
     ]
    },
    {
     "name": "stderr",
     "output_type": "stream",
     "text": [
      "C:\\Users\\ajmot\\Anaconda3\\lib\\site-packages\\sklearn\\decomposition\\fastica_.py:118: UserWarning: FastICA did not converge. Consider increasing tolerance or the maximum number of iterations.\n",
      "  warnings.warn('FastICA did not converge. Consider increasing '\n"
     ]
    },
    {
     "name": "stdout",
     "output_type": "stream",
     "text": [
      "[CV]  NN__hidden_layer_sizes=(30, 10), ica__n_components=25, score=0.6485436893203883, total=   1.1s\n",
      "[CV] NN__hidden_layer_sizes=(30, 10), ica__n_components=25 ...........\n"
     ]
    },
    {
     "name": "stderr",
     "output_type": "stream",
     "text": [
      "C:\\Users\\ajmot\\Anaconda3\\lib\\site-packages\\sklearn\\decomposition\\fastica_.py:118: UserWarning: FastICA did not converge. Consider increasing tolerance or the maximum number of iterations.\n",
      "  warnings.warn('FastICA did not converge. Consider increasing '\n"
     ]
    },
    {
     "name": "stdout",
     "output_type": "stream",
     "text": [
      "[CV]  NN__hidden_layer_sizes=(30, 10), ica__n_components=25, score=0.6485436893203883, total=   1.1s\n",
      "[CV] NN__hidden_layer_sizes=(30, 10), ica__n_components=25 ...........\n"
     ]
    },
    {
     "name": "stderr",
     "output_type": "stream",
     "text": [
      "C:\\Users\\ajmot\\Anaconda3\\lib\\site-packages\\sklearn\\decomposition\\fastica_.py:118: UserWarning: FastICA did not converge. Consider increasing tolerance or the maximum number of iterations.\n",
      "  warnings.warn('FastICA did not converge. Consider increasing '\n"
     ]
    },
    {
     "name": "stdout",
     "output_type": "stream",
     "text": [
      "[CV]  NN__hidden_layer_sizes=(30, 10), ica__n_components=25, score=0.6482021379980564, total=   1.2s\n",
      "[CV] NN__hidden_layer_sizes=(30, 10), ica__n_components=25 ...........\n"
     ]
    },
    {
     "name": "stderr",
     "output_type": "stream",
     "text": [
      "C:\\Users\\ajmot\\Anaconda3\\lib\\site-packages\\sklearn\\decomposition\\fastica_.py:118: UserWarning: FastICA did not converge. Consider increasing tolerance or the maximum number of iterations.\n",
      "  warnings.warn('FastICA did not converge. Consider increasing '\n"
     ]
    },
    {
     "name": "stdout",
     "output_type": "stream",
     "text": [
      "[CV]  NN__hidden_layer_sizes=(30, 10), ica__n_components=25, score=0.6482021379980564, total=   1.1s\n",
      "[CV] NN__hidden_layer_sizes=(30, 10), ica__n_components=25 ...........\n"
     ]
    },
    {
     "name": "stderr",
     "output_type": "stream",
     "text": [
      "C:\\Users\\ajmot\\Anaconda3\\lib\\site-packages\\sklearn\\decomposition\\fastica_.py:118: UserWarning: FastICA did not converge. Consider increasing tolerance or the maximum number of iterations.\n",
      "  warnings.warn('FastICA did not converge. Consider increasing '\n"
     ]
    },
    {
     "name": "stdout",
     "output_type": "stream",
     "text": [
      "[CV]  NN__hidden_layer_sizes=(30, 10), ica__n_components=25, score=0.6488326848249028, total=   1.1s\n",
      "[CV] NN__hidden_layer_sizes=(30, 10), ica__n_components=30 ...........\n"
     ]
    },
    {
     "name": "stderr",
     "output_type": "stream",
     "text": [
      "C:\\Users\\ajmot\\Anaconda3\\lib\\site-packages\\sklearn\\decomposition\\fastica_.py:118: UserWarning: FastICA did not converge. Consider increasing tolerance or the maximum number of iterations.\n",
      "  warnings.warn('FastICA did not converge. Consider increasing '\n"
     ]
    },
    {
     "name": "stdout",
     "output_type": "stream",
     "text": [
      "[CV]  NN__hidden_layer_sizes=(30, 10), ica__n_components=30, score=0.6485436893203883, total=   1.4s\n",
      "[CV] NN__hidden_layer_sizes=(30, 10), ica__n_components=30 ...........\n"
     ]
    },
    {
     "name": "stderr",
     "output_type": "stream",
     "text": [
      "C:\\Users\\ajmot\\Anaconda3\\lib\\site-packages\\sklearn\\decomposition\\fastica_.py:118: UserWarning: FastICA did not converge. Consider increasing tolerance or the maximum number of iterations.\n",
      "  warnings.warn('FastICA did not converge. Consider increasing '\n"
     ]
    },
    {
     "name": "stdout",
     "output_type": "stream",
     "text": [
      "[CV]  NN__hidden_layer_sizes=(30, 10), ica__n_components=30, score=0.6485436893203883, total=   1.4s\n",
      "[CV] NN__hidden_layer_sizes=(30, 10), ica__n_components=30 ...........\n"
     ]
    },
    {
     "name": "stderr",
     "output_type": "stream",
     "text": [
      "C:\\Users\\ajmot\\Anaconda3\\lib\\site-packages\\sklearn\\decomposition\\fastica_.py:118: UserWarning: FastICA did not converge. Consider increasing tolerance or the maximum number of iterations.\n",
      "  warnings.warn('FastICA did not converge. Consider increasing '\n"
     ]
    },
    {
     "name": "stdout",
     "output_type": "stream",
     "text": [
      "[CV]  NN__hidden_layer_sizes=(30, 10), ica__n_components=30, score=0.6482021379980564, total=   1.4s\n",
      "[CV] NN__hidden_layer_sizes=(30, 10), ica__n_components=30 ...........\n"
     ]
    },
    {
     "name": "stderr",
     "output_type": "stream",
     "text": [
      "C:\\Users\\ajmot\\Anaconda3\\lib\\site-packages\\sklearn\\decomposition\\fastica_.py:118: UserWarning: FastICA did not converge. Consider increasing tolerance or the maximum number of iterations.\n",
      "  warnings.warn('FastICA did not converge. Consider increasing '\n"
     ]
    },
    {
     "name": "stdout",
     "output_type": "stream",
     "text": [
      "[CV]  NN__hidden_layer_sizes=(30, 10), ica__n_components=30, score=0.6482021379980564, total=   1.3s\n",
      "[CV] NN__hidden_layer_sizes=(30, 10), ica__n_components=30 ...........\n"
     ]
    },
    {
     "name": "stderr",
     "output_type": "stream",
     "text": [
      "C:\\Users\\ajmot\\Anaconda3\\lib\\site-packages\\sklearn\\decomposition\\fastica_.py:118: UserWarning: FastICA did not converge. Consider increasing tolerance or the maximum number of iterations.\n",
      "  warnings.warn('FastICA did not converge. Consider increasing '\n"
     ]
    },
    {
     "name": "stdout",
     "output_type": "stream",
     "text": [
      "[CV]  NN__hidden_layer_sizes=(30, 10), ica__n_components=30, score=0.6488326848249028, total=   1.3s\n",
      "[CV] NN__hidden_layer_sizes=(30, 10), ica__n_components=35 ...........\n"
     ]
    },
    {
     "name": "stderr",
     "output_type": "stream",
     "text": [
      "C:\\Users\\ajmot\\Anaconda3\\lib\\site-packages\\sklearn\\decomposition\\fastica_.py:118: UserWarning: FastICA did not converge. Consider increasing tolerance or the maximum number of iterations.\n",
      "  warnings.warn('FastICA did not converge. Consider increasing '\n"
     ]
    },
    {
     "name": "stdout",
     "output_type": "stream",
     "text": [
      "[CV]  NN__hidden_layer_sizes=(30, 10), ica__n_components=35, score=0.6485436893203883, total=   1.8s\n",
      "[CV] NN__hidden_layer_sizes=(30, 10), ica__n_components=35 ...........\n"
     ]
    },
    {
     "name": "stderr",
     "output_type": "stream",
     "text": [
      "C:\\Users\\ajmot\\Anaconda3\\lib\\site-packages\\sklearn\\decomposition\\fastica_.py:118: UserWarning: FastICA did not converge. Consider increasing tolerance or the maximum number of iterations.\n",
      "  warnings.warn('FastICA did not converge. Consider increasing '\n"
     ]
    },
    {
     "name": "stdout",
     "output_type": "stream",
     "text": [
      "[CV]  NN__hidden_layer_sizes=(30, 10), ica__n_components=35, score=0.6485436893203883, total=   1.8s\n",
      "[CV] NN__hidden_layer_sizes=(30, 10), ica__n_components=35 ...........\n"
     ]
    },
    {
     "name": "stderr",
     "output_type": "stream",
     "text": [
      "C:\\Users\\ajmot\\Anaconda3\\lib\\site-packages\\sklearn\\decomposition\\fastica_.py:118: UserWarning: FastICA did not converge. Consider increasing tolerance or the maximum number of iterations.\n",
      "  warnings.warn('FastICA did not converge. Consider increasing '\n"
     ]
    },
    {
     "name": "stdout",
     "output_type": "stream",
     "text": [
      "[CV]  NN__hidden_layer_sizes=(30, 10), ica__n_components=35, score=0.6482021379980564, total=   1.9s\n",
      "[CV] NN__hidden_layer_sizes=(30, 10), ica__n_components=35 ...........\n"
     ]
    },
    {
     "name": "stderr",
     "output_type": "stream",
     "text": [
      "C:\\Users\\ajmot\\Anaconda3\\lib\\site-packages\\sklearn\\decomposition\\fastica_.py:118: UserWarning: FastICA did not converge. Consider increasing tolerance or the maximum number of iterations.\n",
      "  warnings.warn('FastICA did not converge. Consider increasing '\n"
     ]
    },
    {
     "name": "stdout",
     "output_type": "stream",
     "text": [
      "[CV]  NN__hidden_layer_sizes=(30, 10), ica__n_components=35, score=0.6482021379980564, total=   1.9s\n",
      "[CV] NN__hidden_layer_sizes=(30, 10), ica__n_components=35 ...........\n"
     ]
    },
    {
     "name": "stderr",
     "output_type": "stream",
     "text": [
      "C:\\Users\\ajmot\\Anaconda3\\lib\\site-packages\\sklearn\\decomposition\\fastica_.py:118: UserWarning: FastICA did not converge. Consider increasing tolerance or the maximum number of iterations.\n",
      "  warnings.warn('FastICA did not converge. Consider increasing '\n"
     ]
    },
    {
     "name": "stdout",
     "output_type": "stream",
     "text": [
      "[CV]  NN__hidden_layer_sizes=(30, 10), ica__n_components=35, score=0.6488326848249028, total=   1.9s\n",
      "[CV] NN__hidden_layer_sizes=(30, 20), ica__n_components=2 ............\n",
      "[CV]  NN__hidden_layer_sizes=(30, 20), ica__n_components=2, score=0.6485436893203883, total=   0.0s\n",
      "[CV] NN__hidden_layer_sizes=(30, 20), ica__n_components=2 ............\n",
      "[CV]  NN__hidden_layer_sizes=(30, 20), ica__n_components=2, score=0.6485436893203883, total=   0.0s\n",
      "[CV] NN__hidden_layer_sizes=(30, 20), ica__n_components=2 ............\n",
      "[CV]  NN__hidden_layer_sizes=(30, 20), ica__n_components=2, score=0.6482021379980564, total=   0.0s\n",
      "[CV] NN__hidden_layer_sizes=(30, 20), ica__n_components=2 ............\n",
      "[CV]  NN__hidden_layer_sizes=(30, 20), ica__n_components=2, score=0.6482021379980564, total=   0.0s\n",
      "[CV] NN__hidden_layer_sizes=(30, 20), ica__n_components=2 ............\n",
      "[CV]  NN__hidden_layer_sizes=(30, 20), ica__n_components=2, score=0.6488326848249028, total=   0.0s\n",
      "[CV] NN__hidden_layer_sizes=(30, 20), ica__n_components=5 ............\n",
      "[CV]  NN__hidden_layer_sizes=(30, 20), ica__n_components=5, score=0.6485436893203883, total=   0.0s\n",
      "[CV] NN__hidden_layer_sizes=(30, 20), ica__n_components=5 ............\n",
      "[CV]  NN__hidden_layer_sizes=(30, 20), ica__n_components=5, score=0.6485436893203883, total=   0.0s\n",
      "[CV] NN__hidden_layer_sizes=(30, 20), ica__n_components=5 ............\n",
      "[CV]  NN__hidden_layer_sizes=(30, 20), ica__n_components=5, score=0.6482021379980564, total=   0.0s\n",
      "[CV] NN__hidden_layer_sizes=(30, 20), ica__n_components=5 ............\n",
      "[CV]  NN__hidden_layer_sizes=(30, 20), ica__n_components=5, score=0.6482021379980564, total=   0.0s\n",
      "[CV] NN__hidden_layer_sizes=(30, 20), ica__n_components=5 ............\n",
      "[CV]  NN__hidden_layer_sizes=(30, 20), ica__n_components=5, score=0.6488326848249028, total=   0.0s\n",
      "[CV] NN__hidden_layer_sizes=(30, 20), ica__n_components=10 ...........\n",
      "[CV]  NN__hidden_layer_sizes=(30, 20), ica__n_components=10, score=0.6485436893203883, total=   0.3s\n",
      "[CV] NN__hidden_layer_sizes=(30, 20), ica__n_components=10 ...........\n"
     ]
    },
    {
     "name": "stderr",
     "output_type": "stream",
     "text": [
      "C:\\Users\\ajmot\\Anaconda3\\lib\\site-packages\\sklearn\\decomposition\\fastica_.py:118: UserWarning: FastICA did not converge. Consider increasing tolerance or the maximum number of iterations.\n",
      "  warnings.warn('FastICA did not converge. Consider increasing '\n"
     ]
    },
    {
     "name": "stdout",
     "output_type": "stream",
     "text": [
      "[CV]  NN__hidden_layer_sizes=(30, 20), ica__n_components=10, score=0.6485436893203883, total=   0.4s\n",
      "[CV] NN__hidden_layer_sizes=(30, 20), ica__n_components=10 ...........\n"
     ]
    },
    {
     "name": "stderr",
     "output_type": "stream",
     "text": [
      "C:\\Users\\ajmot\\Anaconda3\\lib\\site-packages\\sklearn\\decomposition\\fastica_.py:118: UserWarning: FastICA did not converge. Consider increasing tolerance or the maximum number of iterations.\n",
      "  warnings.warn('FastICA did not converge. Consider increasing '\n"
     ]
    },
    {
     "name": "stdout",
     "output_type": "stream",
     "text": [
      "[CV]  NN__hidden_layer_sizes=(30, 20), ica__n_components=10, score=0.6482021379980564, total=   0.5s\n",
      "[CV] NN__hidden_layer_sizes=(30, 20), ica__n_components=10 ...........\n"
     ]
    },
    {
     "name": "stderr",
     "output_type": "stream",
     "text": [
      "C:\\Users\\ajmot\\Anaconda3\\lib\\site-packages\\sklearn\\decomposition\\fastica_.py:118: UserWarning: FastICA did not converge. Consider increasing tolerance or the maximum number of iterations.\n",
      "  warnings.warn('FastICA did not converge. Consider increasing '\n"
     ]
    },
    {
     "name": "stdout",
     "output_type": "stream",
     "text": [
      "[CV]  NN__hidden_layer_sizes=(30, 20), ica__n_components=10, score=0.6482021379980564, total=   0.4s\n",
      "[CV] NN__hidden_layer_sizes=(30, 20), ica__n_components=10 ...........\n"
     ]
    },
    {
     "name": "stderr",
     "output_type": "stream",
     "text": [
      "C:\\Users\\ajmot\\Anaconda3\\lib\\site-packages\\sklearn\\decomposition\\fastica_.py:118: UserWarning: FastICA did not converge. Consider increasing tolerance or the maximum number of iterations.\n",
      "  warnings.warn('FastICA did not converge. Consider increasing '\n"
     ]
    },
    {
     "name": "stdout",
     "output_type": "stream",
     "text": [
      "[CV]  NN__hidden_layer_sizes=(30, 20), ica__n_components=10, score=0.6488326848249028, total=   0.5s\n",
      "[CV] NN__hidden_layer_sizes=(30, 20), ica__n_components=15 ...........\n"
     ]
    },
    {
     "name": "stderr",
     "output_type": "stream",
     "text": [
      "C:\\Users\\ajmot\\Anaconda3\\lib\\site-packages\\sklearn\\decomposition\\fastica_.py:118: UserWarning: FastICA did not converge. Consider increasing tolerance or the maximum number of iterations.\n",
      "  warnings.warn('FastICA did not converge. Consider increasing '\n"
     ]
    },
    {
     "name": "stdout",
     "output_type": "stream",
     "text": [
      "[CV]  NN__hidden_layer_sizes=(30, 20), ica__n_components=15, score=0.6485436893203883, total=   0.7s\n",
      "[CV] NN__hidden_layer_sizes=(30, 20), ica__n_components=15 ...........\n"
     ]
    },
    {
     "name": "stderr",
     "output_type": "stream",
     "text": [
      "C:\\Users\\ajmot\\Anaconda3\\lib\\site-packages\\sklearn\\decomposition\\fastica_.py:118: UserWarning: FastICA did not converge. Consider increasing tolerance or the maximum number of iterations.\n",
      "  warnings.warn('FastICA did not converge. Consider increasing '\n"
     ]
    },
    {
     "name": "stdout",
     "output_type": "stream",
     "text": [
      "[CV]  NN__hidden_layer_sizes=(30, 20), ica__n_components=15, score=0.6485436893203883, total=   0.8s\n",
      "[CV] NN__hidden_layer_sizes=(30, 20), ica__n_components=15 ...........\n",
      "[CV]  NN__hidden_layer_sizes=(30, 20), ica__n_components=15, score=0.6482021379980564, total=   0.5s\n",
      "[CV] NN__hidden_layer_sizes=(30, 20), ica__n_components=15 ...........\n"
     ]
    },
    {
     "name": "stderr",
     "output_type": "stream",
     "text": [
      "C:\\Users\\ajmot\\Anaconda3\\lib\\site-packages\\sklearn\\decomposition\\fastica_.py:118: UserWarning: FastICA did not converge. Consider increasing tolerance or the maximum number of iterations.\n",
      "  warnings.warn('FastICA did not converge. Consider increasing '\n"
     ]
    },
    {
     "name": "stdout",
     "output_type": "stream",
     "text": [
      "[CV]  NN__hidden_layer_sizes=(30, 20), ica__n_components=15, score=0.6482021379980564, total=   0.7s\n",
      "[CV] NN__hidden_layer_sizes=(30, 20), ica__n_components=15 ...........\n"
     ]
    },
    {
     "name": "stderr",
     "output_type": "stream",
     "text": [
      "C:\\Users\\ajmot\\Anaconda3\\lib\\site-packages\\sklearn\\decomposition\\fastica_.py:118: UserWarning: FastICA did not converge. Consider increasing tolerance or the maximum number of iterations.\n",
      "  warnings.warn('FastICA did not converge. Consider increasing '\n"
     ]
    },
    {
     "name": "stdout",
     "output_type": "stream",
     "text": [
      "[CV]  NN__hidden_layer_sizes=(30, 20), ica__n_components=15, score=0.6488326848249028, total=   0.7s\n",
      "[CV] NN__hidden_layer_sizes=(30, 20), ica__n_components=20 ...........\n"
     ]
    },
    {
     "name": "stderr",
     "output_type": "stream",
     "text": [
      "C:\\Users\\ajmot\\Anaconda3\\lib\\site-packages\\sklearn\\decomposition\\fastica_.py:118: UserWarning: FastICA did not converge. Consider increasing tolerance or the maximum number of iterations.\n",
      "  warnings.warn('FastICA did not converge. Consider increasing '\n"
     ]
    },
    {
     "name": "stdout",
     "output_type": "stream",
     "text": [
      "[CV]  NN__hidden_layer_sizes=(30, 20), ica__n_components=20, score=0.6485436893203883, total=   0.9s\n",
      "[CV] NN__hidden_layer_sizes=(30, 20), ica__n_components=20 ...........\n"
     ]
    },
    {
     "name": "stderr",
     "output_type": "stream",
     "text": [
      "C:\\Users\\ajmot\\Anaconda3\\lib\\site-packages\\sklearn\\decomposition\\fastica_.py:118: UserWarning: FastICA did not converge. Consider increasing tolerance or the maximum number of iterations.\n",
      "  warnings.warn('FastICA did not converge. Consider increasing '\n"
     ]
    },
    {
     "name": "stdout",
     "output_type": "stream",
     "text": [
      "[CV]  NN__hidden_layer_sizes=(30, 20), ica__n_components=20, score=0.6485436893203883, total=   1.1s\n",
      "[CV] NN__hidden_layer_sizes=(30, 20), ica__n_components=20 ...........\n"
     ]
    },
    {
     "name": "stderr",
     "output_type": "stream",
     "text": [
      "C:\\Users\\ajmot\\Anaconda3\\lib\\site-packages\\sklearn\\decomposition\\fastica_.py:118: UserWarning: FastICA did not converge. Consider increasing tolerance or the maximum number of iterations.\n",
      "  warnings.warn('FastICA did not converge. Consider increasing '\n"
     ]
    },
    {
     "name": "stdout",
     "output_type": "stream",
     "text": [
      "[CV]  NN__hidden_layer_sizes=(30, 20), ica__n_components=20, score=0.6482021379980564, total=   1.0s\n",
      "[CV] NN__hidden_layer_sizes=(30, 20), ica__n_components=20 ...........\n"
     ]
    },
    {
     "name": "stderr",
     "output_type": "stream",
     "text": [
      "C:\\Users\\ajmot\\Anaconda3\\lib\\site-packages\\sklearn\\decomposition\\fastica_.py:118: UserWarning: FastICA did not converge. Consider increasing tolerance or the maximum number of iterations.\n",
      "  warnings.warn('FastICA did not converge. Consider increasing '\n"
     ]
    },
    {
     "name": "stdout",
     "output_type": "stream",
     "text": [
      "[CV]  NN__hidden_layer_sizes=(30, 20), ica__n_components=20, score=0.6482021379980564, total=   0.9s\n",
      "[CV] NN__hidden_layer_sizes=(30, 20), ica__n_components=20 ...........\n"
     ]
    },
    {
     "name": "stderr",
     "output_type": "stream",
     "text": [
      "C:\\Users\\ajmot\\Anaconda3\\lib\\site-packages\\sklearn\\decomposition\\fastica_.py:118: UserWarning: FastICA did not converge. Consider increasing tolerance or the maximum number of iterations.\n",
      "  warnings.warn('FastICA did not converge. Consider increasing '\n"
     ]
    },
    {
     "name": "stdout",
     "output_type": "stream",
     "text": [
      "[CV]  NN__hidden_layer_sizes=(30, 20), ica__n_components=20, score=0.6488326848249028, total=   1.0s\n",
      "[CV] NN__hidden_layer_sizes=(30, 20), ica__n_components=25 ...........\n"
     ]
    },
    {
     "name": "stderr",
     "output_type": "stream",
     "text": [
      "C:\\Users\\ajmot\\Anaconda3\\lib\\site-packages\\sklearn\\decomposition\\fastica_.py:118: UserWarning: FastICA did not converge. Consider increasing tolerance or the maximum number of iterations.\n",
      "  warnings.warn('FastICA did not converge. Consider increasing '\n"
     ]
    },
    {
     "name": "stdout",
     "output_type": "stream",
     "text": [
      "[CV]  NN__hidden_layer_sizes=(30, 20), ica__n_components=25, score=0.6485436893203883, total=   1.1s\n",
      "[CV] NN__hidden_layer_sizes=(30, 20), ica__n_components=25 ...........\n"
     ]
    },
    {
     "name": "stderr",
     "output_type": "stream",
     "text": [
      "C:\\Users\\ajmot\\Anaconda3\\lib\\site-packages\\sklearn\\decomposition\\fastica_.py:118: UserWarning: FastICA did not converge. Consider increasing tolerance or the maximum number of iterations.\n",
      "  warnings.warn('FastICA did not converge. Consider increasing '\n"
     ]
    },
    {
     "name": "stdout",
     "output_type": "stream",
     "text": [
      "[CV]  NN__hidden_layer_sizes=(30, 20), ica__n_components=25, score=0.6485436893203883, total=   1.1s\n",
      "[CV] NN__hidden_layer_sizes=(30, 20), ica__n_components=25 ...........\n"
     ]
    },
    {
     "name": "stderr",
     "output_type": "stream",
     "text": [
      "C:\\Users\\ajmot\\Anaconda3\\lib\\site-packages\\sklearn\\decomposition\\fastica_.py:118: UserWarning: FastICA did not converge. Consider increasing tolerance or the maximum number of iterations.\n",
      "  warnings.warn('FastICA did not converge. Consider increasing '\n"
     ]
    },
    {
     "name": "stdout",
     "output_type": "stream",
     "text": [
      "[CV]  NN__hidden_layer_sizes=(30, 20), ica__n_components=25, score=0.6482021379980564, total=   1.1s\n",
      "[CV] NN__hidden_layer_sizes=(30, 20), ica__n_components=25 ...........\n"
     ]
    },
    {
     "name": "stderr",
     "output_type": "stream",
     "text": [
      "C:\\Users\\ajmot\\Anaconda3\\lib\\site-packages\\sklearn\\decomposition\\fastica_.py:118: UserWarning: FastICA did not converge. Consider increasing tolerance or the maximum number of iterations.\n",
      "  warnings.warn('FastICA did not converge. Consider increasing '\n"
     ]
    },
    {
     "name": "stdout",
     "output_type": "stream",
     "text": [
      "[CV]  NN__hidden_layer_sizes=(30, 20), ica__n_components=25, score=0.6482021379980564, total=   1.1s\n",
      "[CV] NN__hidden_layer_sizes=(30, 20), ica__n_components=25 ...........\n"
     ]
    },
    {
     "name": "stderr",
     "output_type": "stream",
     "text": [
      "C:\\Users\\ajmot\\Anaconda3\\lib\\site-packages\\sklearn\\decomposition\\fastica_.py:118: UserWarning: FastICA did not converge. Consider increasing tolerance or the maximum number of iterations.\n",
      "  warnings.warn('FastICA did not converge. Consider increasing '\n"
     ]
    },
    {
     "name": "stdout",
     "output_type": "stream",
     "text": [
      "[CV]  NN__hidden_layer_sizes=(30, 20), ica__n_components=25, score=0.6488326848249028, total=   1.1s\n",
      "[CV] NN__hidden_layer_sizes=(30, 20), ica__n_components=30 ...........\n"
     ]
    },
    {
     "name": "stderr",
     "output_type": "stream",
     "text": [
      "C:\\Users\\ajmot\\Anaconda3\\lib\\site-packages\\sklearn\\decomposition\\fastica_.py:118: UserWarning: FastICA did not converge. Consider increasing tolerance or the maximum number of iterations.\n",
      "  warnings.warn('FastICA did not converge. Consider increasing '\n"
     ]
    },
    {
     "name": "stdout",
     "output_type": "stream",
     "text": [
      "[CV]  NN__hidden_layer_sizes=(30, 20), ica__n_components=30, score=0.6485436893203883, total=   1.3s\n",
      "[CV] NN__hidden_layer_sizes=(30, 20), ica__n_components=30 ...........\n"
     ]
    },
    {
     "name": "stderr",
     "output_type": "stream",
     "text": [
      "C:\\Users\\ajmot\\Anaconda3\\lib\\site-packages\\sklearn\\decomposition\\fastica_.py:118: UserWarning: FastICA did not converge. Consider increasing tolerance or the maximum number of iterations.\n",
      "  warnings.warn('FastICA did not converge. Consider increasing '\n"
     ]
    },
    {
     "name": "stdout",
     "output_type": "stream",
     "text": [
      "[CV]  NN__hidden_layer_sizes=(30, 20), ica__n_components=30, score=0.6485436893203883, total=   1.3s\n",
      "[CV] NN__hidden_layer_sizes=(30, 20), ica__n_components=30 ...........\n"
     ]
    },
    {
     "name": "stderr",
     "output_type": "stream",
     "text": [
      "C:\\Users\\ajmot\\Anaconda3\\lib\\site-packages\\sklearn\\decomposition\\fastica_.py:118: UserWarning: FastICA did not converge. Consider increasing tolerance or the maximum number of iterations.\n",
      "  warnings.warn('FastICA did not converge. Consider increasing '\n"
     ]
    },
    {
     "name": "stdout",
     "output_type": "stream",
     "text": [
      "[CV]  NN__hidden_layer_sizes=(30, 20), ica__n_components=30, score=0.6482021379980564, total=   1.4s\n",
      "[CV] NN__hidden_layer_sizes=(30, 20), ica__n_components=30 ...........\n"
     ]
    },
    {
     "name": "stderr",
     "output_type": "stream",
     "text": [
      "C:\\Users\\ajmot\\Anaconda3\\lib\\site-packages\\sklearn\\decomposition\\fastica_.py:118: UserWarning: FastICA did not converge. Consider increasing tolerance or the maximum number of iterations.\n",
      "  warnings.warn('FastICA did not converge. Consider increasing '\n"
     ]
    },
    {
     "name": "stdout",
     "output_type": "stream",
     "text": [
      "[CV]  NN__hidden_layer_sizes=(30, 20), ica__n_components=30, score=0.6482021379980564, total=   1.5s\n",
      "[CV] NN__hidden_layer_sizes=(30, 20), ica__n_components=30 ...........\n"
     ]
    },
    {
     "name": "stderr",
     "output_type": "stream",
     "text": [
      "C:\\Users\\ajmot\\Anaconda3\\lib\\site-packages\\sklearn\\decomposition\\fastica_.py:118: UserWarning: FastICA did not converge. Consider increasing tolerance or the maximum number of iterations.\n",
      "  warnings.warn('FastICA did not converge. Consider increasing '\n"
     ]
    },
    {
     "name": "stdout",
     "output_type": "stream",
     "text": [
      "[CV]  NN__hidden_layer_sizes=(30, 20), ica__n_components=30, score=0.6488326848249028, total=   1.5s\n",
      "[CV] NN__hidden_layer_sizes=(30, 20), ica__n_components=35 ...........\n"
     ]
    },
    {
     "name": "stderr",
     "output_type": "stream",
     "text": [
      "C:\\Users\\ajmot\\Anaconda3\\lib\\site-packages\\sklearn\\decomposition\\fastica_.py:118: UserWarning: FastICA did not converge. Consider increasing tolerance or the maximum number of iterations.\n",
      "  warnings.warn('FastICA did not converge. Consider increasing '\n"
     ]
    },
    {
     "name": "stdout",
     "output_type": "stream",
     "text": [
      "[CV]  NN__hidden_layer_sizes=(30, 20), ica__n_components=35, score=0.6485436893203883, total=   1.9s\n",
      "[CV] NN__hidden_layer_sizes=(30, 20), ica__n_components=35 ...........\n"
     ]
    },
    {
     "name": "stderr",
     "output_type": "stream",
     "text": [
      "C:\\Users\\ajmot\\Anaconda3\\lib\\site-packages\\sklearn\\decomposition\\fastica_.py:118: UserWarning: FastICA did not converge. Consider increasing tolerance or the maximum number of iterations.\n",
      "  warnings.warn('FastICA did not converge. Consider increasing '\n"
     ]
    },
    {
     "name": "stdout",
     "output_type": "stream",
     "text": [
      "[CV]  NN__hidden_layer_sizes=(30, 20), ica__n_components=35, score=0.6485436893203883, total=   1.9s\n",
      "[CV] NN__hidden_layer_sizes=(30, 20), ica__n_components=35 ...........\n"
     ]
    },
    {
     "name": "stderr",
     "output_type": "stream",
     "text": [
      "C:\\Users\\ajmot\\Anaconda3\\lib\\site-packages\\sklearn\\decomposition\\fastica_.py:118: UserWarning: FastICA did not converge. Consider increasing tolerance or the maximum number of iterations.\n",
      "  warnings.warn('FastICA did not converge. Consider increasing '\n"
     ]
    },
    {
     "name": "stdout",
     "output_type": "stream",
     "text": [
      "[CV]  NN__hidden_layer_sizes=(30, 20), ica__n_components=35, score=0.6482021379980564, total=   1.8s\n",
      "[CV] NN__hidden_layer_sizes=(30, 20), ica__n_components=35 ...........\n"
     ]
    },
    {
     "name": "stderr",
     "output_type": "stream",
     "text": [
      "C:\\Users\\ajmot\\Anaconda3\\lib\\site-packages\\sklearn\\decomposition\\fastica_.py:118: UserWarning: FastICA did not converge. Consider increasing tolerance or the maximum number of iterations.\n",
      "  warnings.warn('FastICA did not converge. Consider increasing '\n"
     ]
    },
    {
     "name": "stdout",
     "output_type": "stream",
     "text": [
      "[CV]  NN__hidden_layer_sizes=(30, 20), ica__n_components=35, score=0.6482021379980564, total=   1.8s\n",
      "[CV] NN__hidden_layer_sizes=(30, 20), ica__n_components=35 ...........\n"
     ]
    },
    {
     "name": "stderr",
     "output_type": "stream",
     "text": [
      "C:\\Users\\ajmot\\Anaconda3\\lib\\site-packages\\sklearn\\decomposition\\fastica_.py:118: UserWarning: FastICA did not converge. Consider increasing tolerance or the maximum number of iterations.\n",
      "  warnings.warn('FastICA did not converge. Consider increasing '\n"
     ]
    },
    {
     "name": "stdout",
     "output_type": "stream",
     "text": [
      "[CV]  NN__hidden_layer_sizes=(30, 20), ica__n_components=35, score=0.6488326848249028, total=   1.8s\n",
      "[CV] NN__hidden_layer_sizes=(30, 30), ica__n_components=2 ............\n",
      "[CV]  NN__hidden_layer_sizes=(30, 30), ica__n_components=2, score=0.6485436893203883, total=   0.1s\n",
      "[CV] NN__hidden_layer_sizes=(30, 30), ica__n_components=2 ............\n",
      "[CV]  NN__hidden_layer_sizes=(30, 30), ica__n_components=2, score=0.6485436893203883, total=   0.1s\n",
      "[CV] NN__hidden_layer_sizes=(30, 30), ica__n_components=2 ............\n",
      "[CV]  NN__hidden_layer_sizes=(30, 30), ica__n_components=2, score=0.6482021379980564, total=   0.0s\n",
      "[CV] NN__hidden_layer_sizes=(30, 30), ica__n_components=2 ............\n",
      "[CV]  NN__hidden_layer_sizes=(30, 30), ica__n_components=2, score=0.6482021379980564, total=   0.0s\n",
      "[CV] NN__hidden_layer_sizes=(30, 30), ica__n_components=2 ............\n",
      "[CV]  NN__hidden_layer_sizes=(30, 30), ica__n_components=2, score=0.6488326848249028, total=   0.0s\n",
      "[CV] NN__hidden_layer_sizes=(30, 30), ica__n_components=5 ............\n",
      "[CV]  NN__hidden_layer_sizes=(30, 30), ica__n_components=5, score=0.6485436893203883, total=   0.0s\n",
      "[CV] NN__hidden_layer_sizes=(30, 30), ica__n_components=5 ............\n",
      "[CV]  NN__hidden_layer_sizes=(30, 30), ica__n_components=5, score=0.6485436893203883, total=   0.0s\n",
      "[CV] NN__hidden_layer_sizes=(30, 30), ica__n_components=5 ............\n",
      "[CV]  NN__hidden_layer_sizes=(30, 30), ica__n_components=5, score=0.6482021379980564, total=   0.0s\n",
      "[CV] NN__hidden_layer_sizes=(30, 30), ica__n_components=5 ............\n",
      "[CV]  NN__hidden_layer_sizes=(30, 30), ica__n_components=5, score=0.6482021379980564, total=   0.0s\n",
      "[CV] NN__hidden_layer_sizes=(30, 30), ica__n_components=5 ............\n",
      "[CV]  NN__hidden_layer_sizes=(30, 30), ica__n_components=5, score=0.6488326848249028, total=   0.0s\n",
      "[CV] NN__hidden_layer_sizes=(30, 30), ica__n_components=10 ...........\n",
      "[CV]  NN__hidden_layer_sizes=(30, 30), ica__n_components=10, score=0.6485436893203883, total=   0.3s\n",
      "[CV] NN__hidden_layer_sizes=(30, 30), ica__n_components=10 ...........\n"
     ]
    },
    {
     "name": "stderr",
     "output_type": "stream",
     "text": [
      "C:\\Users\\ajmot\\Anaconda3\\lib\\site-packages\\sklearn\\decomposition\\fastica_.py:118: UserWarning: FastICA did not converge. Consider increasing tolerance or the maximum number of iterations.\n",
      "  warnings.warn('FastICA did not converge. Consider increasing '\n"
     ]
    },
    {
     "name": "stdout",
     "output_type": "stream",
     "text": [
      "[CV]  NN__hidden_layer_sizes=(30, 30), ica__n_components=10, score=0.6485436893203883, total=   0.5s\n",
      "[CV] NN__hidden_layer_sizes=(30, 30), ica__n_components=10 ...........\n"
     ]
    },
    {
     "name": "stderr",
     "output_type": "stream",
     "text": [
      "C:\\Users\\ajmot\\Anaconda3\\lib\\site-packages\\sklearn\\decomposition\\fastica_.py:118: UserWarning: FastICA did not converge. Consider increasing tolerance or the maximum number of iterations.\n",
      "  warnings.warn('FastICA did not converge. Consider increasing '\n"
     ]
    },
    {
     "name": "stdout",
     "output_type": "stream",
     "text": [
      "[CV]  NN__hidden_layer_sizes=(30, 30), ica__n_components=10, score=0.6482021379980564, total=   0.5s\n",
      "[CV] NN__hidden_layer_sizes=(30, 30), ica__n_components=10 ...........\n"
     ]
    },
    {
     "name": "stderr",
     "output_type": "stream",
     "text": [
      "C:\\Users\\ajmot\\Anaconda3\\lib\\site-packages\\sklearn\\decomposition\\fastica_.py:118: UserWarning: FastICA did not converge. Consider increasing tolerance or the maximum number of iterations.\n",
      "  warnings.warn('FastICA did not converge. Consider increasing '\n"
     ]
    },
    {
     "name": "stdout",
     "output_type": "stream",
     "text": [
      "[CV]  NN__hidden_layer_sizes=(30, 30), ica__n_components=10, score=0.6482021379980564, total=   0.5s\n",
      "[CV] NN__hidden_layer_sizes=(30, 30), ica__n_components=10 ...........\n"
     ]
    },
    {
     "name": "stderr",
     "output_type": "stream",
     "text": [
      "C:\\Users\\ajmot\\Anaconda3\\lib\\site-packages\\sklearn\\decomposition\\fastica_.py:118: UserWarning: FastICA did not converge. Consider increasing tolerance or the maximum number of iterations.\n",
      "  warnings.warn('FastICA did not converge. Consider increasing '\n"
     ]
    },
    {
     "name": "stdout",
     "output_type": "stream",
     "text": [
      "[CV]  NN__hidden_layer_sizes=(30, 30), ica__n_components=10, score=0.6488326848249028, total=   0.5s\n",
      "[CV] NN__hidden_layer_sizes=(30, 30), ica__n_components=15 ...........\n"
     ]
    },
    {
     "name": "stderr",
     "output_type": "stream",
     "text": [
      "C:\\Users\\ajmot\\Anaconda3\\lib\\site-packages\\sklearn\\decomposition\\fastica_.py:118: UserWarning: FastICA did not converge. Consider increasing tolerance or the maximum number of iterations.\n",
      "  warnings.warn('FastICA did not converge. Consider increasing '\n"
     ]
    },
    {
     "name": "stdout",
     "output_type": "stream",
     "text": [
      "[CV]  NN__hidden_layer_sizes=(30, 30), ica__n_components=15, score=0.6485436893203883, total=   0.7s\n",
      "[CV] NN__hidden_layer_sizes=(30, 30), ica__n_components=15 ...........\n"
     ]
    },
    {
     "name": "stderr",
     "output_type": "stream",
     "text": [
      "C:\\Users\\ajmot\\Anaconda3\\lib\\site-packages\\sklearn\\decomposition\\fastica_.py:118: UserWarning: FastICA did not converge. Consider increasing tolerance or the maximum number of iterations.\n",
      "  warnings.warn('FastICA did not converge. Consider increasing '\n"
     ]
    },
    {
     "name": "stdout",
     "output_type": "stream",
     "text": [
      "[CV]  NN__hidden_layer_sizes=(30, 30), ica__n_components=15, score=0.6485436893203883, total=   0.7s\n",
      "[CV] NN__hidden_layer_sizes=(30, 30), ica__n_components=15 ...........\n",
      "[CV]  NN__hidden_layer_sizes=(30, 30), ica__n_components=15, score=0.6482021379980564, total=   0.5s\n",
      "[CV] NN__hidden_layer_sizes=(30, 30), ica__n_components=15 ...........\n"
     ]
    },
    {
     "name": "stderr",
     "output_type": "stream",
     "text": [
      "C:\\Users\\ajmot\\Anaconda3\\lib\\site-packages\\sklearn\\decomposition\\fastica_.py:118: UserWarning: FastICA did not converge. Consider increasing tolerance or the maximum number of iterations.\n",
      "  warnings.warn('FastICA did not converge. Consider increasing '\n"
     ]
    },
    {
     "name": "stdout",
     "output_type": "stream",
     "text": [
      "[CV]  NN__hidden_layer_sizes=(30, 30), ica__n_components=15, score=0.6482021379980564, total=   0.8s\n",
      "[CV] NN__hidden_layer_sizes=(30, 30), ica__n_components=15 ...........\n"
     ]
    },
    {
     "name": "stderr",
     "output_type": "stream",
     "text": [
      "C:\\Users\\ajmot\\Anaconda3\\lib\\site-packages\\sklearn\\decomposition\\fastica_.py:118: UserWarning: FastICA did not converge. Consider increasing tolerance or the maximum number of iterations.\n",
      "  warnings.warn('FastICA did not converge. Consider increasing '\n"
     ]
    },
    {
     "name": "stdout",
     "output_type": "stream",
     "text": [
      "[CV]  NN__hidden_layer_sizes=(30, 30), ica__n_components=15, score=0.6488326848249028, total=   0.7s\n",
      "[CV] NN__hidden_layer_sizes=(30, 30), ica__n_components=20 ...........\n"
     ]
    },
    {
     "name": "stderr",
     "output_type": "stream",
     "text": [
      "C:\\Users\\ajmot\\Anaconda3\\lib\\site-packages\\sklearn\\decomposition\\fastica_.py:118: UserWarning: FastICA did not converge. Consider increasing tolerance or the maximum number of iterations.\n",
      "  warnings.warn('FastICA did not converge. Consider increasing '\n"
     ]
    },
    {
     "name": "stdout",
     "output_type": "stream",
     "text": [
      "[CV]  NN__hidden_layer_sizes=(30, 30), ica__n_components=20, score=0.6485436893203883, total=   1.0s\n",
      "[CV] NN__hidden_layer_sizes=(30, 30), ica__n_components=20 ...........\n"
     ]
    },
    {
     "name": "stderr",
     "output_type": "stream",
     "text": [
      "C:\\Users\\ajmot\\Anaconda3\\lib\\site-packages\\sklearn\\decomposition\\fastica_.py:118: UserWarning: FastICA did not converge. Consider increasing tolerance or the maximum number of iterations.\n",
      "  warnings.warn('FastICA did not converge. Consider increasing '\n"
     ]
    },
    {
     "name": "stdout",
     "output_type": "stream",
     "text": [
      "[CV]  NN__hidden_layer_sizes=(30, 30), ica__n_components=20, score=0.6485436893203883, total=   0.9s\n",
      "[CV] NN__hidden_layer_sizes=(30, 30), ica__n_components=20 ...........\n"
     ]
    },
    {
     "name": "stderr",
     "output_type": "stream",
     "text": [
      "C:\\Users\\ajmot\\Anaconda3\\lib\\site-packages\\sklearn\\decomposition\\fastica_.py:118: UserWarning: FastICA did not converge. Consider increasing tolerance or the maximum number of iterations.\n",
      "  warnings.warn('FastICA did not converge. Consider increasing '\n"
     ]
    },
    {
     "name": "stdout",
     "output_type": "stream",
     "text": [
      "[CV]  NN__hidden_layer_sizes=(30, 30), ica__n_components=20, score=0.6482021379980564, total=   0.9s\n",
      "[CV] NN__hidden_layer_sizes=(30, 30), ica__n_components=20 ...........\n"
     ]
    },
    {
     "name": "stderr",
     "output_type": "stream",
     "text": [
      "C:\\Users\\ajmot\\Anaconda3\\lib\\site-packages\\sklearn\\decomposition\\fastica_.py:118: UserWarning: FastICA did not converge. Consider increasing tolerance or the maximum number of iterations.\n",
      "  warnings.warn('FastICA did not converge. Consider increasing '\n"
     ]
    },
    {
     "name": "stdout",
     "output_type": "stream",
     "text": [
      "[CV]  NN__hidden_layer_sizes=(30, 30), ica__n_components=20, score=0.6482021379980564, total=   0.9s\n",
      "[CV] NN__hidden_layer_sizes=(30, 30), ica__n_components=20 ...........\n"
     ]
    },
    {
     "name": "stderr",
     "output_type": "stream",
     "text": [
      "C:\\Users\\ajmot\\Anaconda3\\lib\\site-packages\\sklearn\\decomposition\\fastica_.py:118: UserWarning: FastICA did not converge. Consider increasing tolerance or the maximum number of iterations.\n",
      "  warnings.warn('FastICA did not converge. Consider increasing '\n"
     ]
    },
    {
     "name": "stdout",
     "output_type": "stream",
     "text": [
      "[CV]  NN__hidden_layer_sizes=(30, 30), ica__n_components=20, score=0.6488326848249028, total=   1.0s\n",
      "[CV] NN__hidden_layer_sizes=(30, 30), ica__n_components=25 ...........\n"
     ]
    },
    {
     "name": "stderr",
     "output_type": "stream",
     "text": [
      "C:\\Users\\ajmot\\Anaconda3\\lib\\site-packages\\sklearn\\decomposition\\fastica_.py:118: UserWarning: FastICA did not converge. Consider increasing tolerance or the maximum number of iterations.\n",
      "  warnings.warn('FastICA did not converge. Consider increasing '\n"
     ]
    },
    {
     "name": "stdout",
     "output_type": "stream",
     "text": [
      "[CV]  NN__hidden_layer_sizes=(30, 30), ica__n_components=25, score=0.6485436893203883, total=   1.1s\n",
      "[CV] NN__hidden_layer_sizes=(30, 30), ica__n_components=25 ...........\n"
     ]
    },
    {
     "name": "stderr",
     "output_type": "stream",
     "text": [
      "C:\\Users\\ajmot\\Anaconda3\\lib\\site-packages\\sklearn\\decomposition\\fastica_.py:118: UserWarning: FastICA did not converge. Consider increasing tolerance or the maximum number of iterations.\n",
      "  warnings.warn('FastICA did not converge. Consider increasing '\n"
     ]
    },
    {
     "name": "stdout",
     "output_type": "stream",
     "text": [
      "[CV]  NN__hidden_layer_sizes=(30, 30), ica__n_components=25, score=0.6485436893203883, total=   1.1s\n",
      "[CV] NN__hidden_layer_sizes=(30, 30), ica__n_components=25 ...........\n"
     ]
    },
    {
     "name": "stderr",
     "output_type": "stream",
     "text": [
      "C:\\Users\\ajmot\\Anaconda3\\lib\\site-packages\\sklearn\\decomposition\\fastica_.py:118: UserWarning: FastICA did not converge. Consider increasing tolerance or the maximum number of iterations.\n",
      "  warnings.warn('FastICA did not converge. Consider increasing '\n"
     ]
    },
    {
     "name": "stdout",
     "output_type": "stream",
     "text": [
      "[CV]  NN__hidden_layer_sizes=(30, 30), ica__n_components=25, score=0.6482021379980564, total=   1.2s\n",
      "[CV] NN__hidden_layer_sizes=(30, 30), ica__n_components=25 ...........\n"
     ]
    },
    {
     "name": "stderr",
     "output_type": "stream",
     "text": [
      "C:\\Users\\ajmot\\Anaconda3\\lib\\site-packages\\sklearn\\decomposition\\fastica_.py:118: UserWarning: FastICA did not converge. Consider increasing tolerance or the maximum number of iterations.\n",
      "  warnings.warn('FastICA did not converge. Consider increasing '\n"
     ]
    },
    {
     "name": "stdout",
     "output_type": "stream",
     "text": [
      "[CV]  NN__hidden_layer_sizes=(30, 30), ica__n_components=25, score=0.6482021379980564, total=   1.2s\n",
      "[CV] NN__hidden_layer_sizes=(30, 30), ica__n_components=25 ...........\n"
     ]
    },
    {
     "name": "stderr",
     "output_type": "stream",
     "text": [
      "C:\\Users\\ajmot\\Anaconda3\\lib\\site-packages\\sklearn\\decomposition\\fastica_.py:118: UserWarning: FastICA did not converge. Consider increasing tolerance or the maximum number of iterations.\n",
      "  warnings.warn('FastICA did not converge. Consider increasing '\n"
     ]
    },
    {
     "name": "stdout",
     "output_type": "stream",
     "text": [
      "[CV]  NN__hidden_layer_sizes=(30, 30), ica__n_components=25, score=0.6488326848249028, total=   1.2s\n",
      "[CV] NN__hidden_layer_sizes=(30, 30), ica__n_components=30 ...........\n"
     ]
    },
    {
     "name": "stderr",
     "output_type": "stream",
     "text": [
      "C:\\Users\\ajmot\\Anaconda3\\lib\\site-packages\\sklearn\\decomposition\\fastica_.py:118: UserWarning: FastICA did not converge. Consider increasing tolerance or the maximum number of iterations.\n",
      "  warnings.warn('FastICA did not converge. Consider increasing '\n"
     ]
    },
    {
     "name": "stdout",
     "output_type": "stream",
     "text": [
      "[CV]  NN__hidden_layer_sizes=(30, 30), ica__n_components=30, score=0.6485436893203883, total=   1.4s\n",
      "[CV] NN__hidden_layer_sizes=(30, 30), ica__n_components=30 ...........\n"
     ]
    },
    {
     "name": "stderr",
     "output_type": "stream",
     "text": [
      "C:\\Users\\ajmot\\Anaconda3\\lib\\site-packages\\sklearn\\decomposition\\fastica_.py:118: UserWarning: FastICA did not converge. Consider increasing tolerance or the maximum number of iterations.\n",
      "  warnings.warn('FastICA did not converge. Consider increasing '\n"
     ]
    },
    {
     "name": "stdout",
     "output_type": "stream",
     "text": [
      "[CV]  NN__hidden_layer_sizes=(30, 30), ica__n_components=30, score=0.6485436893203883, total=   1.4s\n",
      "[CV] NN__hidden_layer_sizes=(30, 30), ica__n_components=30 ...........\n"
     ]
    },
    {
     "name": "stderr",
     "output_type": "stream",
     "text": [
      "C:\\Users\\ajmot\\Anaconda3\\lib\\site-packages\\sklearn\\decomposition\\fastica_.py:118: UserWarning: FastICA did not converge. Consider increasing tolerance or the maximum number of iterations.\n",
      "  warnings.warn('FastICA did not converge. Consider increasing '\n"
     ]
    },
    {
     "name": "stdout",
     "output_type": "stream",
     "text": [
      "[CV]  NN__hidden_layer_sizes=(30, 30), ica__n_components=30, score=0.6482021379980564, total=   1.3s\n",
      "[CV] NN__hidden_layer_sizes=(30, 30), ica__n_components=30 ...........\n"
     ]
    },
    {
     "name": "stderr",
     "output_type": "stream",
     "text": [
      "C:\\Users\\ajmot\\Anaconda3\\lib\\site-packages\\sklearn\\decomposition\\fastica_.py:118: UserWarning: FastICA did not converge. Consider increasing tolerance or the maximum number of iterations.\n",
      "  warnings.warn('FastICA did not converge. Consider increasing '\n"
     ]
    },
    {
     "name": "stdout",
     "output_type": "stream",
     "text": [
      "[CV]  NN__hidden_layer_sizes=(30, 30), ica__n_components=30, score=0.6482021379980564, total=   1.4s\n",
      "[CV] NN__hidden_layer_sizes=(30, 30), ica__n_components=30 ...........\n"
     ]
    },
    {
     "name": "stderr",
     "output_type": "stream",
     "text": [
      "C:\\Users\\ajmot\\Anaconda3\\lib\\site-packages\\sklearn\\decomposition\\fastica_.py:118: UserWarning: FastICA did not converge. Consider increasing tolerance or the maximum number of iterations.\n",
      "  warnings.warn('FastICA did not converge. Consider increasing '\n"
     ]
    },
    {
     "name": "stdout",
     "output_type": "stream",
     "text": [
      "[CV]  NN__hidden_layer_sizes=(30, 30), ica__n_components=30, score=0.6488326848249028, total=   1.4s\n",
      "[CV] NN__hidden_layer_sizes=(30, 30), ica__n_components=35 ...........\n"
     ]
    },
    {
     "name": "stderr",
     "output_type": "stream",
     "text": [
      "C:\\Users\\ajmot\\Anaconda3\\lib\\site-packages\\sklearn\\decomposition\\fastica_.py:118: UserWarning: FastICA did not converge. Consider increasing tolerance or the maximum number of iterations.\n",
      "  warnings.warn('FastICA did not converge. Consider increasing '\n"
     ]
    },
    {
     "name": "stdout",
     "output_type": "stream",
     "text": [
      "[CV]  NN__hidden_layer_sizes=(30, 30), ica__n_components=35, score=0.6485436893203883, total=   1.9s\n",
      "[CV] NN__hidden_layer_sizes=(30, 30), ica__n_components=35 ...........\n"
     ]
    },
    {
     "name": "stderr",
     "output_type": "stream",
     "text": [
      "C:\\Users\\ajmot\\Anaconda3\\lib\\site-packages\\sklearn\\decomposition\\fastica_.py:118: UserWarning: FastICA did not converge. Consider increasing tolerance or the maximum number of iterations.\n",
      "  warnings.warn('FastICA did not converge. Consider increasing '\n"
     ]
    },
    {
     "name": "stdout",
     "output_type": "stream",
     "text": [
      "[CV]  NN__hidden_layer_sizes=(30, 30), ica__n_components=35, score=0.6485436893203883, total=   2.0s\n",
      "[CV] NN__hidden_layer_sizes=(30, 30), ica__n_components=35 ...........\n"
     ]
    },
    {
     "name": "stderr",
     "output_type": "stream",
     "text": [
      "C:\\Users\\ajmot\\Anaconda3\\lib\\site-packages\\sklearn\\decomposition\\fastica_.py:118: UserWarning: FastICA did not converge. Consider increasing tolerance or the maximum number of iterations.\n",
      "  warnings.warn('FastICA did not converge. Consider increasing '\n"
     ]
    },
    {
     "name": "stdout",
     "output_type": "stream",
     "text": [
      "[CV]  NN__hidden_layer_sizes=(30, 30), ica__n_components=35, score=0.6482021379980564, total=   2.1s\n",
      "[CV] NN__hidden_layer_sizes=(30, 30), ica__n_components=35 ...........\n"
     ]
    },
    {
     "name": "stderr",
     "output_type": "stream",
     "text": [
      "C:\\Users\\ajmot\\Anaconda3\\lib\\site-packages\\sklearn\\decomposition\\fastica_.py:118: UserWarning: FastICA did not converge. Consider increasing tolerance or the maximum number of iterations.\n",
      "  warnings.warn('FastICA did not converge. Consider increasing '\n"
     ]
    },
    {
     "name": "stdout",
     "output_type": "stream",
     "text": [
      "[CV]  NN__hidden_layer_sizes=(30, 30), ica__n_components=35, score=0.6482021379980564, total=   1.8s\n",
      "[CV] NN__hidden_layer_sizes=(30, 30), ica__n_components=35 ...........\n"
     ]
    },
    {
     "name": "stderr",
     "output_type": "stream",
     "text": [
      "C:\\Users\\ajmot\\Anaconda3\\lib\\site-packages\\sklearn\\decomposition\\fastica_.py:118: UserWarning: FastICA did not converge. Consider increasing tolerance or the maximum number of iterations.\n",
      "  warnings.warn('FastICA did not converge. Consider increasing '\n",
      "[Parallel(n_jobs=1)]: Done 480 out of 480 | elapsed:  7.3min finished\n"
     ]
    },
    {
     "name": "stdout",
     "output_type": "stream",
     "text": [
      "[CV]  NN__hidden_layer_sizes=(30, 30), ica__n_components=35, score=0.6488326848249028, total=   1.8s\n"
     ]
    },
    {
     "name": "stderr",
     "output_type": "stream",
     "text": [
      "C:\\Users\\ajmot\\Anaconda3\\lib\\site-packages\\sklearn\\decomposition\\fastica_.py:118: UserWarning: FastICA did not converge. Consider increasing tolerance or the maximum number of iterations.\n",
      "  warnings.warn('FastICA did not converge. Consider increasing '\n",
      "C:\\Users\\ajmot\\Anaconda3\\lib\\site-packages\\sklearn\\utils\\deprecation.py:122: FutureWarning: You are accessing a training score ('mean_train_score'), which will not be available by default any more in 0.21. If you need training scores, please set return_train_score=True\n",
      "  warnings.warn(*warn_args, **warn_kwargs)\n",
      "C:\\Users\\ajmot\\Anaconda3\\lib\\site-packages\\sklearn\\utils\\deprecation.py:122: FutureWarning: You are accessing a training score ('split0_train_score'), which will not be available by default any more in 0.21. If you need training scores, please set return_train_score=True\n",
      "  warnings.warn(*warn_args, **warn_kwargs)\n",
      "C:\\Users\\ajmot\\Anaconda3\\lib\\site-packages\\sklearn\\utils\\deprecation.py:122: FutureWarning: You are accessing a training score ('split1_train_score'), which will not be available by default any more in 0.21. If you need training scores, please set return_train_score=True\n",
      "  warnings.warn(*warn_args, **warn_kwargs)\n",
      "C:\\Users\\ajmot\\Anaconda3\\lib\\site-packages\\sklearn\\utils\\deprecation.py:122: FutureWarning: You are accessing a training score ('split2_train_score'), which will not be available by default any more in 0.21. If you need training scores, please set return_train_score=True\n",
      "  warnings.warn(*warn_args, **warn_kwargs)\n",
      "C:\\Users\\ajmot\\Anaconda3\\lib\\site-packages\\sklearn\\utils\\deprecation.py:122: FutureWarning: You are accessing a training score ('split3_train_score'), which will not be available by default any more in 0.21. If you need training scores, please set return_train_score=True\n",
      "  warnings.warn(*warn_args, **warn_kwargs)\n",
      "C:\\Users\\ajmot\\Anaconda3\\lib\\site-packages\\sklearn\\utils\\deprecation.py:122: FutureWarning: You are accessing a training score ('split4_train_score'), which will not be available by default any more in 0.21. If you need training scores, please set return_train_score=True\n",
      "  warnings.warn(*warn_args, **warn_kwargs)\n",
      "C:\\Users\\ajmot\\Anaconda3\\lib\\site-packages\\sklearn\\utils\\deprecation.py:122: FutureWarning: You are accessing a training score ('std_train_score'), which will not be available by default any more in 0.21. If you need training scores, please set return_train_score=True\n",
      "  warnings.warn(*warn_args, **warn_kwargs)\n"
     ]
    }
   ],
   "source": [
    "from sklearn.decomposition import FastICA\n",
    "\n",
    "dims_bb = [2,5,10,15,20,25,30,35]\n",
    "nn_arch= [(5,10),(10,10),(10,20),(20,20),(20,10),(5,),(10,),(20,),(30,),(30,10),(30,20),(30,30)]\n",
    "\n",
    "grid ={'ica__n_components':dims_bb, 'NN__hidden_layer_sizes':nn_arch}\n",
    "ica = FastICA(random_state=5)       \n",
    "mlp = MLPClassifier(activation='relu',max_iter=2000,early_stopping=True,random_state=5,alpha=0.1)\n",
    "pipe = Pipeline([('ica',ica),('NN',mlp)])\n",
    "gs = GridSearchCV(pipe,grid,verbose=10,cv=5)\n",
    "\n",
    "gs.fit(basketball[\"data\"],basketball[\"target\"])\n",
    "tmp = pd.DataFrame(gs.cv_results_)\n",
    "tmp.to_csv('bball_ica_nn.csv')"
   ]
  },
  {
   "cell_type": "code",
   "execution_count": 25,
   "metadata": {},
   "outputs": [
    {
     "name": "stderr",
     "output_type": "stream",
     "text": [
      "C:\\Users\\ajmot\\Anaconda3\\lib\\site-packages\\sklearn\\decomposition\\fastica_.py:118: UserWarning: FastICA did not converge. Consider increasing tolerance or the maximum number of iterations.\n",
      "  warnings.warn('FastICA did not converge. Consider increasing '\n"
     ]
    },
    {
     "name": "stdout",
     "output_type": "stream",
     "text": [
      "Fitting 5 folds for each of 12 candidates, totalling 60 fits\n",
      "[CV] NN__hidden_layer_sizes=(5, 10) ..................................\n",
      "[CV]  NN__hidden_layer_sizes=(5, 10), score=0.6485436893203883, total=   0.0s\n",
      "[CV] NN__hidden_layer_sizes=(5, 10) ..................................\n"
     ]
    },
    {
     "name": "stderr",
     "output_type": "stream",
     "text": [
      "[Parallel(n_jobs=1)]: Done   1 out of   1 | elapsed:    0.0s remaining:    0.0s\n",
      "[Parallel(n_jobs=1)]: Done   2 out of   2 | elapsed:    0.1s remaining:    0.0s\n"
     ]
    },
    {
     "name": "stdout",
     "output_type": "stream",
     "text": [
      "[CV]  NN__hidden_layer_sizes=(5, 10), score=0.6485436893203883, total=   0.0s\n",
      "[CV] NN__hidden_layer_sizes=(5, 10) ..................................\n",
      "[CV]  NN__hidden_layer_sizes=(5, 10), score=0.6482021379980564, total=   0.0s\n",
      "[CV] NN__hidden_layer_sizes=(5, 10) ..................................\n",
      "[CV]  NN__hidden_layer_sizes=(5, 10), score=0.6482021379980564, total=   0.0s\n",
      "[CV] NN__hidden_layer_sizes=(5, 10) ..................................\n"
     ]
    },
    {
     "name": "stderr",
     "output_type": "stream",
     "text": [
      "[Parallel(n_jobs=1)]: Done   3 out of   3 | elapsed:    0.2s remaining:    0.0s\n",
      "[Parallel(n_jobs=1)]: Done   4 out of   4 | elapsed:    0.3s remaining:    0.0s\n",
      "[Parallel(n_jobs=1)]: Done   5 out of   5 | elapsed:    0.3s remaining:    0.0s\n",
      "[Parallel(n_jobs=1)]: Done   6 out of   6 | elapsed:    0.4s remaining:    0.0s\n"
     ]
    },
    {
     "name": "stdout",
     "output_type": "stream",
     "text": [
      "[CV]  NN__hidden_layer_sizes=(5, 10), score=0.6488326848249028, total=   0.0s\n",
      "[CV] NN__hidden_layer_sizes=(10, 10) .................................\n",
      "[CV]  NN__hidden_layer_sizes=(10, 10), score=0.35145631067961164, total=   0.0s\n",
      "[CV] NN__hidden_layer_sizes=(10, 10) .................................\n",
      "[CV]  NN__hidden_layer_sizes=(10, 10), score=0.35145631067961164, total=   0.0s\n",
      "[CV] NN__hidden_layer_sizes=(10, 10) .................................\n",
      "[CV]  NN__hidden_layer_sizes=(10, 10), score=0.35179786200194363, total=   0.0s\n",
      "[CV] NN__hidden_layer_sizes=(10, 10) .................................\n"
     ]
    },
    {
     "name": "stderr",
     "output_type": "stream",
     "text": [
      "[Parallel(n_jobs=1)]: Done   7 out of   7 | elapsed:    0.5s remaining:    0.0s\n",
      "[Parallel(n_jobs=1)]: Done   8 out of   8 | elapsed:    0.5s remaining:    0.0s\n",
      "[Parallel(n_jobs=1)]: Done   9 out of   9 | elapsed:    0.6s remaining:    0.0s\n"
     ]
    },
    {
     "name": "stdout",
     "output_type": "stream",
     "text": [
      "[CV]  NN__hidden_layer_sizes=(10, 10), score=0.35179786200194363, total=   0.0s\n",
      "[CV] NN__hidden_layer_sizes=(10, 10) .................................\n",
      "[CV]  NN__hidden_layer_sizes=(10, 10), score=0.35116731517509725, total=   0.0s\n",
      "[CV] NN__hidden_layer_sizes=(10, 20) .................................\n",
      "[CV]  NN__hidden_layer_sizes=(10, 20), score=0.6485436893203883, total=   0.0s\n",
      "[CV] NN__hidden_layer_sizes=(10, 20) .................................\n",
      "[CV]  NN__hidden_layer_sizes=(10, 20), score=0.6485436893203883, total=   0.0s\n",
      "[CV] NN__hidden_layer_sizes=(10, 20) .................................\n",
      "[CV]  NN__hidden_layer_sizes=(10, 20), score=0.6482021379980564, total=   0.0s\n",
      "[CV] NN__hidden_layer_sizes=(10, 20) .................................\n",
      "[CV]  NN__hidden_layer_sizes=(10, 20), score=0.6482021379980564, total=   0.0s\n",
      "[CV] NN__hidden_layer_sizes=(10, 20) .................................\n",
      "[CV]  NN__hidden_layer_sizes=(10, 20), score=0.6488326848249028, total=   0.0s\n",
      "[CV] NN__hidden_layer_sizes=(20, 20) .................................\n",
      "[CV]  NN__hidden_layer_sizes=(20, 20), score=0.6485436893203883, total=   0.0s\n",
      "[CV] NN__hidden_layer_sizes=(20, 20) .................................\n",
      "[CV]  NN__hidden_layer_sizes=(20, 20), score=0.6485436893203883, total=   0.0s\n",
      "[CV] NN__hidden_layer_sizes=(20, 20) .................................\n",
      "[CV]  NN__hidden_layer_sizes=(20, 20), score=0.6482021379980564, total=   0.0s\n",
      "[CV] NN__hidden_layer_sizes=(20, 20) .................................\n",
      "[CV]  NN__hidden_layer_sizes=(20, 20), score=0.6482021379980564, total=   0.0s\n",
      "[CV] NN__hidden_layer_sizes=(20, 20) .................................\n",
      "[CV]  NN__hidden_layer_sizes=(20, 20), score=0.6488326848249028, total=   0.0s\n",
      "[CV] NN__hidden_layer_sizes=(20, 10) .................................\n",
      "[CV]  NN__hidden_layer_sizes=(20, 10), score=0.6485436893203883, total=   0.0s\n",
      "[CV] NN__hidden_layer_sizes=(20, 10) .................................\n",
      "[CV]  NN__hidden_layer_sizes=(20, 10), score=0.6485436893203883, total=   0.0s\n",
      "[CV] NN__hidden_layer_sizes=(20, 10) .................................\n",
      "[CV]  NN__hidden_layer_sizes=(20, 10), score=0.6482021379980564, total=   0.0s\n",
      "[CV] NN__hidden_layer_sizes=(20, 10) .................................\n",
      "[CV]  NN__hidden_layer_sizes=(20, 10), score=0.6482021379980564, total=   0.0s\n",
      "[CV] NN__hidden_layer_sizes=(20, 10) .................................\n",
      "[CV]  NN__hidden_layer_sizes=(20, 10), score=0.6488326848249028, total=   0.0s\n",
      "[CV] NN__hidden_layer_sizes=(5,) .....................................\n",
      "[CV]  NN__hidden_layer_sizes=(5,), score=0.6485436893203883, total=   0.0s\n",
      "[CV] NN__hidden_layer_sizes=(5,) .....................................\n",
      "[CV]  NN__hidden_layer_sizes=(5,), score=0.6485436893203883, total=   0.0s\n",
      "[CV] NN__hidden_layer_sizes=(5,) .....................................\n",
      "[CV]  NN__hidden_layer_sizes=(5,), score=0.6482021379980564, total=   0.0s\n",
      "[CV] NN__hidden_layer_sizes=(5,) .....................................\n",
      "[CV]  NN__hidden_layer_sizes=(5,), score=0.6482021379980564, total=   0.0s\n",
      "[CV] NN__hidden_layer_sizes=(5,) .....................................\n",
      "[CV]  NN__hidden_layer_sizes=(5,), score=0.6488326848249028, total=   0.0s\n",
      "[CV] NN__hidden_layer_sizes=(10,) ....................................\n",
      "[CV]  NN__hidden_layer_sizes=(10,), score=0.6485436893203883, total=   0.0s\n",
      "[CV] NN__hidden_layer_sizes=(10,) ....................................\n",
      "[CV]  NN__hidden_layer_sizes=(10,), score=0.6485436893203883, total=   0.0s\n",
      "[CV] NN__hidden_layer_sizes=(10,) ....................................\n",
      "[CV]  NN__hidden_layer_sizes=(10,), score=0.6482021379980564, total=   0.0s\n",
      "[CV] NN__hidden_layer_sizes=(10,) ....................................\n",
      "[CV]  NN__hidden_layer_sizes=(10,), score=0.6482021379980564, total=   0.0s\n",
      "[CV] NN__hidden_layer_sizes=(10,) ....................................\n",
      "[CV]  NN__hidden_layer_sizes=(10,), score=0.6488326848249028, total=   0.0s\n",
      "[CV] NN__hidden_layer_sizes=(20,) ....................................\n",
      "[CV]  NN__hidden_layer_sizes=(20,), score=0.6485436893203883, total=   0.0s\n",
      "[CV] NN__hidden_layer_sizes=(20,) ....................................\n",
      "[CV]  NN__hidden_layer_sizes=(20,), score=0.6485436893203883, total=   0.0s\n",
      "[CV] NN__hidden_layer_sizes=(20,) ....................................\n",
      "[CV]  NN__hidden_layer_sizes=(20,), score=0.6482021379980564, total=   0.0s\n",
      "[CV] NN__hidden_layer_sizes=(20,) ....................................\n",
      "[CV]  NN__hidden_layer_sizes=(20,), score=0.6482021379980564, total=   0.0s\n",
      "[CV] NN__hidden_layer_sizes=(20,) ....................................\n",
      "[CV]  NN__hidden_layer_sizes=(20,), score=0.6488326848249028, total=   0.0s\n",
      "[CV] NN__hidden_layer_sizes=(30,) ....................................\n",
      "[CV]  NN__hidden_layer_sizes=(30,), score=0.6485436893203883, total=   0.0s\n",
      "[CV] NN__hidden_layer_sizes=(30,) ....................................\n",
      "[CV]  NN__hidden_layer_sizes=(30,), score=0.6485436893203883, total=   0.0s\n",
      "[CV] NN__hidden_layer_sizes=(30,) ....................................\n",
      "[CV]  NN__hidden_layer_sizes=(30,), score=0.6482021379980564, total=   0.0s\n",
      "[CV] NN__hidden_layer_sizes=(30,) ....................................\n",
      "[CV]  NN__hidden_layer_sizes=(30,), score=0.6482021379980564, total=   0.0s\n",
      "[CV] NN__hidden_layer_sizes=(30,) ....................................\n",
      "[CV]  NN__hidden_layer_sizes=(30,), score=0.6488326848249028, total=   0.0s\n",
      "[CV] NN__hidden_layer_sizes=(30, 10) .................................\n",
      "[CV]  NN__hidden_layer_sizes=(30, 10), score=0.6485436893203883, total=   0.0s\n",
      "[CV] NN__hidden_layer_sizes=(30, 10) .................................\n",
      "[CV]  NN__hidden_layer_sizes=(30, 10), score=0.6485436893203883, total=   0.0s\n",
      "[CV] NN__hidden_layer_sizes=(30, 10) .................................\n",
      "[CV]  NN__hidden_layer_sizes=(30, 10), score=0.6482021379980564, total=   0.0s\n",
      "[CV] NN__hidden_layer_sizes=(30, 10) .................................\n",
      "[CV]  NN__hidden_layer_sizes=(30, 10), score=0.6482021379980564, total=   0.0s\n",
      "[CV] NN__hidden_layer_sizes=(30, 10) .................................\n",
      "[CV]  NN__hidden_layer_sizes=(30, 10), score=0.6488326848249028, total=   0.0s\n",
      "[CV] NN__hidden_layer_sizes=(30, 20) .................................\n",
      "[CV]  NN__hidden_layer_sizes=(30, 20), score=0.6485436893203883, total=   0.0s\n",
      "[CV] NN__hidden_layer_sizes=(30, 20) .................................\n",
      "[CV]  NN__hidden_layer_sizes=(30, 20), score=0.6485436893203883, total=   0.0s\n",
      "[CV] NN__hidden_layer_sizes=(30, 20) .................................\n",
      "[CV]  NN__hidden_layer_sizes=(30, 20), score=0.6482021379980564, total=   0.0s\n",
      "[CV] NN__hidden_layer_sizes=(30, 20) .................................\n",
      "[CV]  NN__hidden_layer_sizes=(30, 20), score=0.6482021379980564, total=   0.0s\n",
      "[CV] NN__hidden_layer_sizes=(30, 20) .................................\n",
      "[CV]  NN__hidden_layer_sizes=(30, 20), score=0.6488326848249028, total=   0.0s\n",
      "[CV] NN__hidden_layer_sizes=(30, 30) .................................\n",
      "[CV]  NN__hidden_layer_sizes=(30, 30), score=0.6485436893203883, total=   0.0s\n",
      "[CV] NN__hidden_layer_sizes=(30, 30) .................................\n",
      "[CV]  NN__hidden_layer_sizes=(30, 30), score=0.6485436893203883, total=   0.0s\n",
      "[CV] NN__hidden_layer_sizes=(30, 30) .................................\n",
      "[CV]  NN__hidden_layer_sizes=(30, 30), score=0.6482021379980564, total=   0.0s\n",
      "[CV] NN__hidden_layer_sizes=(30, 30) .................................\n",
      "[CV]  NN__hidden_layer_sizes=(30, 30), score=0.6482021379980564, total=   0.0s\n",
      "[CV] NN__hidden_layer_sizes=(30, 30) .................................\n",
      "[CV]  NN__hidden_layer_sizes=(30, 30), score=0.6488326848249028, total=   0.0s\n"
     ]
    },
    {
     "name": "stderr",
     "output_type": "stream",
     "text": [
      "[Parallel(n_jobs=1)]: Done  60 out of  60 | elapsed:    4.7s finished\n",
      "C:\\Users\\ajmot\\Anaconda3\\lib\\site-packages\\sklearn\\utils\\deprecation.py:122: FutureWarning: You are accessing a training score ('mean_train_score'), which will not be available by default any more in 0.21. If you need training scores, please set return_train_score=True\n",
      "  warnings.warn(*warn_args, **warn_kwargs)\n",
      "C:\\Users\\ajmot\\Anaconda3\\lib\\site-packages\\sklearn\\utils\\deprecation.py:122: FutureWarning: You are accessing a training score ('split0_train_score'), which will not be available by default any more in 0.21. If you need training scores, please set return_train_score=True\n",
      "  warnings.warn(*warn_args, **warn_kwargs)\n",
      "C:\\Users\\ajmot\\Anaconda3\\lib\\site-packages\\sklearn\\utils\\deprecation.py:122: FutureWarning: You are accessing a training score ('split1_train_score'), which will not be available by default any more in 0.21. If you need training scores, please set return_train_score=True\n",
      "  warnings.warn(*warn_args, **warn_kwargs)\n",
      "C:\\Users\\ajmot\\Anaconda3\\lib\\site-packages\\sklearn\\utils\\deprecation.py:122: FutureWarning: You are accessing a training score ('split2_train_score'), which will not be available by default any more in 0.21. If you need training scores, please set return_train_score=True\n",
      "  warnings.warn(*warn_args, **warn_kwargs)\n",
      "C:\\Users\\ajmot\\Anaconda3\\lib\\site-packages\\sklearn\\utils\\deprecation.py:122: FutureWarning: You are accessing a training score ('split3_train_score'), which will not be available by default any more in 0.21. If you need training scores, please set return_train_score=True\n",
      "  warnings.warn(*warn_args, **warn_kwargs)\n",
      "C:\\Users\\ajmot\\Anaconda3\\lib\\site-packages\\sklearn\\utils\\deprecation.py:122: FutureWarning: You are accessing a training score ('split4_train_score'), which will not be available by default any more in 0.21. If you need training scores, please set return_train_score=True\n",
      "  warnings.warn(*warn_args, **warn_kwargs)\n",
      "C:\\Users\\ajmot\\Anaconda3\\lib\\site-packages\\sklearn\\utils\\deprecation.py:122: FutureWarning: You are accessing a training score ('std_train_score'), which will not be available by default any more in 0.21. If you need training scores, please set return_train_score=True\n",
      "  warnings.warn(*warn_args, **warn_kwargs)\n"
     ]
    }
   ],
   "source": [
    "nn_arch= [(5,10),(10,10),(10,20),(20,20),(20,10),(5,),(10,),(20,),(30,),(30,10),(30,20),(30,30)]\n",
    "\n",
    "\n",
    "pca = FastICA(n_components=10)\n",
    "pca.fit(basketball[\"data\"])\n",
    "pcaBasketballData = pca.fit_transform(basketball[\"data\"])\n",
    "\n",
    "kmeans = KMeans(n_clusters=10)\n",
    "kmeans.fit(pcaBasketballData)\n",
    "clusteredBasketballData = kmeans.transform(pcaBasketballData)\n",
    "\n",
    "\n",
    "\n",
    "grid ={'NN__hidden_layer_sizes':nn_arch}      \n",
    "mlp = MLPClassifier(activation='relu',max_iter=2000,early_stopping=True,random_state=5,alpha=0.1)\n",
    "pipe = Pipeline([('NN',mlp)])\n",
    "gs = GridSearchCV(pipe,grid,verbose=10,cv=5)\n",
    "\n",
    "gs.fit(clusteredBasketballData,basketball[\"target\"])\n",
    "tmp = pd.DataFrame(gs.cv_results_)\n",
    "tmp.to_csv('bball_pca_nn_from_clusters.csv')"
   ]
  },
  {
   "cell_type": "markdown",
   "metadata": {},
   "source": [
    "# Clustering Random Projections NN"
   ]
  },
  {
   "cell_type": "code",
   "execution_count": 22,
   "metadata": {
    "collapsed": true
   },
   "outputs": [
    {
     "name": "stdout",
     "output_type": "stream",
     "text": [
      "Fitting 5 folds for each of 96 candidates, totalling 480 fits\n",
      "[CV] NN__hidden_layer_sizes=(5, 10), rp__n_components=2 ..............\n",
      "[CV]  NN__hidden_layer_sizes=(5, 10), rp__n_components=2, score=0.6135922330097088, total=   0.0s\n",
      "[CV] NN__hidden_layer_sizes=(5, 10), rp__n_components=2 ..............\n"
     ]
    },
    {
     "name": "stderr",
     "output_type": "stream",
     "text": [
      "[Parallel(n_jobs=1)]: Done   1 out of   1 | elapsed:    0.0s remaining:    0.0s\n",
      "[Parallel(n_jobs=1)]: Done   2 out of   2 | elapsed:    0.1s remaining:    0.0s\n"
     ]
    },
    {
     "name": "stdout",
     "output_type": "stream",
     "text": [
      "[CV]  NN__hidden_layer_sizes=(5, 10), rp__n_components=2, score=0.6330097087378641, total=   0.0s\n",
      "[CV] NN__hidden_layer_sizes=(5, 10), rp__n_components=2 ..............\n",
      "[CV]  NN__hidden_layer_sizes=(5, 10), rp__n_components=2, score=0.6452866861030127, total=   0.0s\n",
      "[CV] NN__hidden_layer_sizes=(5, 10), rp__n_components=2 ..............\n"
     ]
    },
    {
     "name": "stderr",
     "output_type": "stream",
     "text": [
      "[Parallel(n_jobs=1)]: Done   3 out of   3 | elapsed:    0.3s remaining:    0.0s\n",
      "[Parallel(n_jobs=1)]: Done   4 out of   4 | elapsed:    0.4s remaining:    0.0s\n"
     ]
    },
    {
     "name": "stdout",
     "output_type": "stream",
     "text": [
      "[CV]  NN__hidden_layer_sizes=(5, 10), rp__n_components=2, score=0.6384839650145773, total=   0.0s\n",
      "[CV] NN__hidden_layer_sizes=(5, 10), rp__n_components=2 ..............\n",
      "[CV]  NN__hidden_layer_sizes=(5, 10), rp__n_components=2, score=0.6147859922178989, total=   0.0s\n",
      "[CV] NN__hidden_layer_sizes=(5, 10), rp__n_components=5 ..............\n"
     ]
    },
    {
     "name": "stderr",
     "output_type": "stream",
     "text": [
      "[Parallel(n_jobs=1)]: Done   5 out of   5 | elapsed:    0.5s remaining:    0.0s\n",
      "[Parallel(n_jobs=1)]: Done   6 out of   6 | elapsed:    0.7s remaining:    0.0s\n"
     ]
    },
    {
     "name": "stdout",
     "output_type": "stream",
     "text": [
      "[CV]  NN__hidden_layer_sizes=(5, 10), rp__n_components=5, score=0.625242718446602, total=   0.0s\n",
      "[CV] NN__hidden_layer_sizes=(5, 10), rp__n_components=5 ..............\n",
      "[CV]  NN__hidden_layer_sizes=(5, 10), rp__n_components=5, score=0.6310679611650486, total=   0.0s\n",
      "[CV] NN__hidden_layer_sizes=(5, 10), rp__n_components=5 ..............\n"
     ]
    },
    {
     "name": "stderr",
     "output_type": "stream",
     "text": [
      "[Parallel(n_jobs=1)]: Done   7 out of   7 | elapsed:    0.8s remaining:    0.0s\n",
      "[Parallel(n_jobs=1)]: Done   8 out of   8 | elapsed:    0.9s remaining:    0.0s\n"
     ]
    },
    {
     "name": "stdout",
     "output_type": "stream",
     "text": [
      "[CV]  NN__hidden_layer_sizes=(5, 10), rp__n_components=5, score=0.597667638483965, total=   0.0s\n",
      "[CV] NN__hidden_layer_sizes=(5, 10), rp__n_components=5 ..............\n",
      "[CV]  NN__hidden_layer_sizes=(5, 10), rp__n_components=5, score=0.5850340136054422, total=   0.0s\n",
      "[CV] NN__hidden_layer_sizes=(5, 10), rp__n_components=5 ..............\n"
     ]
    },
    {
     "name": "stderr",
     "output_type": "stream",
     "text": [
      "[Parallel(n_jobs=1)]: Done   9 out of   9 | elapsed:    1.0s remaining:    0.0s\n"
     ]
    },
    {
     "name": "stdout",
     "output_type": "stream",
     "text": [
      "[CV]  NN__hidden_layer_sizes=(5, 10), rp__n_components=5, score=0.5933852140077821, total=   0.0s\n",
      "[CV] NN__hidden_layer_sizes=(5, 10), rp__n_components=10 .............\n",
      "[CV]  NN__hidden_layer_sizes=(5, 10), rp__n_components=10, score=0.6485436893203883, total=   0.0s\n",
      "[CV] NN__hidden_layer_sizes=(5, 10), rp__n_components=10 .............\n",
      "[CV]  NN__hidden_layer_sizes=(5, 10), rp__n_components=10, score=0.6485436893203883, total=   0.0s\n",
      "[CV] NN__hidden_layer_sizes=(5, 10), rp__n_components=10 .............\n",
      "[CV]  NN__hidden_layer_sizes=(5, 10), rp__n_components=10, score=0.6482021379980564, total=   0.0s\n",
      "[CV] NN__hidden_layer_sizes=(5, 10), rp__n_components=10 .............\n",
      "[CV]  NN__hidden_layer_sizes=(5, 10), rp__n_components=10, score=0.6482021379980564, total=   0.0s\n",
      "[CV] NN__hidden_layer_sizes=(5, 10), rp__n_components=10 .............\n",
      "[CV]  NN__hidden_layer_sizes=(5, 10), rp__n_components=10, score=0.6488326848249028, total=   0.0s\n",
      "[CV] NN__hidden_layer_sizes=(5, 10), rp__n_components=15 .............\n",
      "[CV]  NN__hidden_layer_sizes=(5, 10), rp__n_components=15, score=0.6485436893203883, total=   0.0s\n",
      "[CV] NN__hidden_layer_sizes=(5, 10), rp__n_components=15 .............\n",
      "[CV]  NN__hidden_layer_sizes=(5, 10), rp__n_components=15, score=0.6485436893203883, total=   0.0s\n",
      "[CV] NN__hidden_layer_sizes=(5, 10), rp__n_components=15 .............\n",
      "[CV]  NN__hidden_layer_sizes=(5, 10), rp__n_components=15, score=0.6482021379980564, total=   0.0s\n",
      "[CV] NN__hidden_layer_sizes=(5, 10), rp__n_components=15 .............\n",
      "[CV]  NN__hidden_layer_sizes=(5, 10), rp__n_components=15, score=0.6482021379980564, total=   0.0s\n",
      "[CV] NN__hidden_layer_sizes=(5, 10), rp__n_components=15 .............\n",
      "[CV]  NN__hidden_layer_sizes=(5, 10), rp__n_components=15, score=0.6488326848249028, total=   0.0s\n",
      "[CV] NN__hidden_layer_sizes=(5, 10), rp__n_components=20 .............\n",
      "[CV]  NN__hidden_layer_sizes=(5, 10), rp__n_components=20, score=0.6087378640776699, total=   0.0s\n",
      "[CV] NN__hidden_layer_sizes=(5, 10), rp__n_components=20 .............\n",
      "[CV]  NN__hidden_layer_sizes=(5, 10), rp__n_components=20, score=0.6485436893203883, total=   0.1s\n",
      "[CV] NN__hidden_layer_sizes=(5, 10), rp__n_components=20 .............\n",
      "[CV]  NN__hidden_layer_sizes=(5, 10), rp__n_components=20, score=0.6005830903790087, total=   0.0s\n",
      "[CV] NN__hidden_layer_sizes=(5, 10), rp__n_components=20 .............\n",
      "[CV]  NN__hidden_layer_sizes=(5, 10), rp__n_components=20, score=0.6122448979591837, total=   0.0s\n",
      "[CV] NN__hidden_layer_sizes=(5, 10), rp__n_components=20 .............\n",
      "[CV]  NN__hidden_layer_sizes=(5, 10), rp__n_components=20, score=0.6488326848249028, total=   0.1s\n",
      "[CV] NN__hidden_layer_sizes=(5, 10), rp__n_components=25 .............\n",
      "[CV]  NN__hidden_layer_sizes=(5, 10), rp__n_components=25, score=0.5854368932038835, total=   0.1s\n",
      "[CV] NN__hidden_layer_sizes=(5, 10), rp__n_components=25 .............\n",
      "[CV]  NN__hidden_layer_sizes=(5, 10), rp__n_components=25, score=0.5621359223300971, total=   0.0s\n",
      "[CV] NN__hidden_layer_sizes=(5, 10), rp__n_components=25 .............\n",
      "[CV]  NN__hidden_layer_sizes=(5, 10), rp__n_components=25, score=0.5607385811467445, total=   0.0s\n",
      "[CV] NN__hidden_layer_sizes=(5, 10), rp__n_components=25 .............\n",
      "[CV]  NN__hidden_layer_sizes=(5, 10), rp__n_components=25, score=0.5821185617103984, total=   0.0s\n",
      "[CV] NN__hidden_layer_sizes=(5, 10), rp__n_components=25 .............\n",
      "[CV]  NN__hidden_layer_sizes=(5, 10), rp__n_components=25, score=0.5476653696498055, total=   0.0s\n",
      "[CV] NN__hidden_layer_sizes=(5, 10), rp__n_components=30 .............\n",
      "[CV]  NN__hidden_layer_sizes=(5, 10), rp__n_components=30, score=0.516504854368932, total=   0.0s\n",
      "[CV] NN__hidden_layer_sizes=(5, 10), rp__n_components=30 .............\n",
      "[CV]  NN__hidden_layer_sizes=(5, 10), rp__n_components=30, score=0.5087378640776699, total=   0.0s\n",
      "[CV] NN__hidden_layer_sizes=(5, 10), rp__n_components=30 .............\n",
      "[CV]  NN__hidden_layer_sizes=(5, 10), rp__n_components=30, score=0.4771622934888241, total=   0.0s\n",
      "[CV] NN__hidden_layer_sizes=(5, 10), rp__n_components=30 .............\n",
      "[CV]  NN__hidden_layer_sizes=(5, 10), rp__n_components=30, score=0.5043731778425656, total=   0.0s\n",
      "[CV] NN__hidden_layer_sizes=(5, 10), rp__n_components=30 .............\n",
      "[CV]  NN__hidden_layer_sizes=(5, 10), rp__n_components=30, score=0.5, total=   0.0s\n",
      "[CV] NN__hidden_layer_sizes=(5, 10), rp__n_components=35 .............\n",
      "[CV]  NN__hidden_layer_sizes=(5, 10), rp__n_components=35, score=0.35145631067961164, total=   0.0s\n",
      "[CV] NN__hidden_layer_sizes=(5, 10), rp__n_components=35 .............\n",
      "[CV]  NN__hidden_layer_sizes=(5, 10), rp__n_components=35, score=0.35145631067961164, total=   0.0s\n",
      "[CV] NN__hidden_layer_sizes=(5, 10), rp__n_components=35 .............\n",
      "[CV]  NN__hidden_layer_sizes=(5, 10), rp__n_components=35, score=0.35179786200194363, total=   0.0s\n",
      "[CV] NN__hidden_layer_sizes=(5, 10), rp__n_components=35 .............\n",
      "[CV]  NN__hidden_layer_sizes=(5, 10), rp__n_components=35, score=0.35179786200194363, total=   0.0s\n",
      "[CV] NN__hidden_layer_sizes=(5, 10), rp__n_components=35 .............\n",
      "[CV]  NN__hidden_layer_sizes=(5, 10), rp__n_components=35, score=0.35116731517509725, total=   0.0s\n",
      "[CV] NN__hidden_layer_sizes=(10, 10), rp__n_components=2 .............\n",
      "[CV]  NN__hidden_layer_sizes=(10, 10), rp__n_components=2, score=0.6485436893203883, total=   0.0s\n",
      "[CV] NN__hidden_layer_sizes=(10, 10), rp__n_components=2 .............\n",
      "[CV]  NN__hidden_layer_sizes=(10, 10), rp__n_components=2, score=0.6485436893203883, total=   0.0s\n",
      "[CV] NN__hidden_layer_sizes=(10, 10), rp__n_components=2 .............\n",
      "[CV]  NN__hidden_layer_sizes=(10, 10), rp__n_components=2, score=0.6482021379980564, total=   0.0s\n",
      "[CV] NN__hidden_layer_sizes=(10, 10), rp__n_components=2 .............\n",
      "[CV]  NN__hidden_layer_sizes=(10, 10), rp__n_components=2, score=0.6482021379980564, total=   0.0s\n",
      "[CV] NN__hidden_layer_sizes=(10, 10), rp__n_components=2 .............\n",
      "[CV]  NN__hidden_layer_sizes=(10, 10), rp__n_components=2, score=0.6488326848249028, total=   0.0s\n",
      "[CV] NN__hidden_layer_sizes=(10, 10), rp__n_components=5 .............\n",
      "[CV]  NN__hidden_layer_sizes=(10, 10), rp__n_components=5, score=0.5349514563106796, total=   0.0s\n",
      "[CV] NN__hidden_layer_sizes=(10, 10), rp__n_components=5 .............\n",
      "[CV]  NN__hidden_layer_sizes=(10, 10), rp__n_components=5, score=0.5203883495145631, total=   0.0s\n",
      "[CV] NN__hidden_layer_sizes=(10, 10), rp__n_components=5 .............\n",
      "[CV]  NN__hidden_layer_sizes=(10, 10), rp__n_components=5, score=0.4975704567541302, total=   0.0s\n",
      "[CV] NN__hidden_layer_sizes=(10, 10), rp__n_components=5 .............\n",
      "[CV]  NN__hidden_layer_sizes=(10, 10), rp__n_components=5, score=0.4839650145772595, total=   0.0s\n",
      "[CV] NN__hidden_layer_sizes=(10, 10), rp__n_components=5 .............\n",
      "[CV]  NN__hidden_layer_sizes=(10, 10), rp__n_components=5, score=0.4912451361867704, total=   0.0s\n",
      "[CV] NN__hidden_layer_sizes=(10, 10), rp__n_components=10 ............\n",
      "[CV]  NN__hidden_layer_sizes=(10, 10), rp__n_components=10, score=0.6466019417475728, total=   0.0s\n",
      "[CV] NN__hidden_layer_sizes=(10, 10), rp__n_components=10 ............\n",
      "[CV]  NN__hidden_layer_sizes=(10, 10), rp__n_components=10, score=0.6407766990291263, total=   0.0s\n",
      "[CV] NN__hidden_layer_sizes=(10, 10), rp__n_components=10 ............\n",
      "[CV]  NN__hidden_layer_sizes=(10, 10), rp__n_components=10, score=0.6355685131195336, total=   0.0s\n",
      "[CV] NN__hidden_layer_sizes=(10, 10), rp__n_components=10 ............\n",
      "[CV]  NN__hidden_layer_sizes=(10, 10), rp__n_components=10, score=0.6423712342079689, total=   0.0s\n",
      "[CV] NN__hidden_layer_sizes=(10, 10), rp__n_components=10 ............\n",
      "[CV]  NN__hidden_layer_sizes=(10, 10), rp__n_components=10, score=0.627431906614786, total=   0.0s\n",
      "[CV] NN__hidden_layer_sizes=(10, 10), rp__n_components=15 ............\n",
      "[CV]  NN__hidden_layer_sizes=(10, 10), rp__n_components=15, score=0.6485436893203883, total=   0.0s\n",
      "[CV] NN__hidden_layer_sizes=(10, 10), rp__n_components=15 ............\n",
      "[CV]  NN__hidden_layer_sizes=(10, 10), rp__n_components=15, score=0.6485436893203883, total=   0.0s\n",
      "[CV] NN__hidden_layer_sizes=(10, 10), rp__n_components=15 ............\n",
      "[CV]  NN__hidden_layer_sizes=(10, 10), rp__n_components=15, score=0.6482021379980564, total=   0.0s\n",
      "[CV] NN__hidden_layer_sizes=(10, 10), rp__n_components=15 ............\n",
      "[CV]  NN__hidden_layer_sizes=(10, 10), rp__n_components=15, score=0.6482021379980564, total=   0.0s\n",
      "[CV] NN__hidden_layer_sizes=(10, 10), rp__n_components=15 ............\n"
     ]
    },
    {
     "name": "stdout",
     "output_type": "stream",
     "text": [
      "[CV]  NN__hidden_layer_sizes=(10, 10), rp__n_components=15, score=0.6488326848249028, total=   0.0s\n",
      "[CV] NN__hidden_layer_sizes=(10, 10), rp__n_components=20 ............\n",
      "[CV]  NN__hidden_layer_sizes=(10, 10), rp__n_components=20, score=0.6699029126213593, total=   0.2s\n",
      "[CV] NN__hidden_layer_sizes=(10, 10), rp__n_components=20 ............\n",
      "[CV]  NN__hidden_layer_sizes=(10, 10), rp__n_components=20, score=0.7504854368932039, total=   0.3s\n",
      "[CV] NN__hidden_layer_sizes=(10, 10), rp__n_components=20 ............\n",
      "[CV]  NN__hidden_layer_sizes=(10, 10), rp__n_components=20, score=0.5966958211856171, total=   0.0s\n",
      "[CV] NN__hidden_layer_sizes=(10, 10), rp__n_components=20 ............\n",
      "[CV]  NN__hidden_layer_sizes=(10, 10), rp__n_components=20, score=0.7376093294460642, total=   0.3s\n",
      "[CV] NN__hidden_layer_sizes=(10, 10), rp__n_components=20 ............\n",
      "[CV]  NN__hidden_layer_sizes=(10, 10), rp__n_components=20, score=0.7217898832684825, total=   0.3s\n",
      "[CV] NN__hidden_layer_sizes=(10, 10), rp__n_components=25 ............\n",
      "[CV]  NN__hidden_layer_sizes=(10, 10), rp__n_components=25, score=0.6485436893203883, total=   0.0s\n",
      "[CV] NN__hidden_layer_sizes=(10, 10), rp__n_components=25 ............\n",
      "[CV]  NN__hidden_layer_sizes=(10, 10), rp__n_components=25, score=0.6485436893203883, total=   0.0s\n",
      "[CV] NN__hidden_layer_sizes=(10, 10), rp__n_components=25 ............\n",
      "[CV]  NN__hidden_layer_sizes=(10, 10), rp__n_components=25, score=0.6482021379980564, total=   0.0s\n",
      "[CV] NN__hidden_layer_sizes=(10, 10), rp__n_components=25 ............\n",
      "[CV]  NN__hidden_layer_sizes=(10, 10), rp__n_components=25, score=0.6482021379980564, total=   0.0s\n",
      "[CV] NN__hidden_layer_sizes=(10, 10), rp__n_components=25 ............\n",
      "[CV]  NN__hidden_layer_sizes=(10, 10), rp__n_components=25, score=0.6488326848249028, total=   0.0s\n",
      "[CV] NN__hidden_layer_sizes=(10, 10), rp__n_components=30 ............\n",
      "[CV]  NN__hidden_layer_sizes=(10, 10), rp__n_components=30, score=0.6485436893203883, total=   0.0s\n",
      "[CV] NN__hidden_layer_sizes=(10, 10), rp__n_components=30 ............\n",
      "[CV]  NN__hidden_layer_sizes=(10, 10), rp__n_components=30, score=0.6485436893203883, total=   0.0s\n",
      "[CV] NN__hidden_layer_sizes=(10, 10), rp__n_components=30 ............\n",
      "[CV]  NN__hidden_layer_sizes=(10, 10), rp__n_components=30, score=0.6482021379980564, total=   0.0s\n",
      "[CV] NN__hidden_layer_sizes=(10, 10), rp__n_components=30 ............\n",
      "[CV]  NN__hidden_layer_sizes=(10, 10), rp__n_components=30, score=0.6482021379980564, total=   0.0s\n",
      "[CV] NN__hidden_layer_sizes=(10, 10), rp__n_components=30 ............\n",
      "[CV]  NN__hidden_layer_sizes=(10, 10), rp__n_components=30, score=0.6488326848249028, total=   0.0s\n",
      "[CV] NN__hidden_layer_sizes=(10, 10), rp__n_components=35 ............\n",
      "[CV]  NN__hidden_layer_sizes=(10, 10), rp__n_components=35, score=0.6485436893203883, total=   0.0s\n",
      "[CV] NN__hidden_layer_sizes=(10, 10), rp__n_components=35 ............\n",
      "[CV]  NN__hidden_layer_sizes=(10, 10), rp__n_components=35, score=0.6475728155339806, total=   0.0s\n",
      "[CV] NN__hidden_layer_sizes=(10, 10), rp__n_components=35 ............\n",
      "[CV]  NN__hidden_layer_sizes=(10, 10), rp__n_components=35, score=0.6491739552964043, total=   0.0s\n",
      "[CV] NN__hidden_layer_sizes=(10, 10), rp__n_components=35 ............\n",
      "[CV]  NN__hidden_layer_sizes=(10, 10), rp__n_components=35, score=0.6452866861030127, total=   0.0s\n",
      "[CV] NN__hidden_layer_sizes=(10, 10), rp__n_components=35 ............\n",
      "[CV]  NN__hidden_layer_sizes=(10, 10), rp__n_components=35, score=0.6488326848249028, total=   0.0s\n",
      "[CV] NN__hidden_layer_sizes=(10, 20), rp__n_components=2 .............\n",
      "[CV]  NN__hidden_layer_sizes=(10, 20), rp__n_components=2, score=0.6407766990291263, total=   0.2s\n",
      "[CV] NN__hidden_layer_sizes=(10, 20), rp__n_components=2 .............\n",
      "[CV]  NN__hidden_layer_sizes=(10, 20), rp__n_components=2, score=0.5650485436893203, total=   0.0s\n",
      "[CV] NN__hidden_layer_sizes=(10, 20), rp__n_components=2 .............\n",
      "[CV]  NN__hidden_layer_sizes=(10, 20), rp__n_components=2, score=0.5918367346938775, total=   0.0s\n",
      "[CV] NN__hidden_layer_sizes=(10, 20), rp__n_components=2 .............\n",
      "[CV]  NN__hidden_layer_sizes=(10, 20), rp__n_components=2, score=0.5597667638483965, total=   0.0s\n",
      "[CV] NN__hidden_layer_sizes=(10, 20), rp__n_components=2 .............\n",
      "[CV]  NN__hidden_layer_sizes=(10, 20), rp__n_components=2, score=0.5914396887159533, total=   0.1s\n",
      "[CV] NN__hidden_layer_sizes=(10, 20), rp__n_components=5 .............\n",
      "[CV]  NN__hidden_layer_sizes=(10, 20), rp__n_components=5, score=0.7135922330097088, total=   0.0s\n",
      "[CV] NN__hidden_layer_sizes=(10, 20), rp__n_components=5 .............\n",
      "[CV]  NN__hidden_layer_sizes=(10, 20), rp__n_components=5, score=0.7252427184466019, total=   0.0s\n",
      "[CV] NN__hidden_layer_sizes=(10, 20), rp__n_components=5 .............\n",
      "[CV]  NN__hidden_layer_sizes=(10, 20), rp__n_components=5, score=0.6967930029154519, total=   0.1s\n",
      "[CV] NN__hidden_layer_sizes=(10, 20), rp__n_components=5 .............\n",
      "[CV]  NN__hidden_layer_sizes=(10, 20), rp__n_components=5, score=0.7113702623906706, total=   0.1s\n",
      "[CV] NN__hidden_layer_sizes=(10, 20), rp__n_components=5 .............\n",
      "[CV]  NN__hidden_layer_sizes=(10, 20), rp__n_components=5, score=0.7149805447470817, total=   0.1s\n",
      "[CV] NN__hidden_layer_sizes=(10, 20), rp__n_components=10 ............\n",
      "[CV]  NN__hidden_layer_sizes=(10, 20), rp__n_components=10, score=0.6485436893203883, total=   0.0s\n",
      "[CV] NN__hidden_layer_sizes=(10, 20), rp__n_components=10 ............\n",
      "[CV]  NN__hidden_layer_sizes=(10, 20), rp__n_components=10, score=0.6485436893203883, total=   0.0s\n",
      "[CV] NN__hidden_layer_sizes=(10, 20), rp__n_components=10 ............\n",
      "[CV]  NN__hidden_layer_sizes=(10, 20), rp__n_components=10, score=0.6482021379980564, total=   0.0s\n",
      "[CV] NN__hidden_layer_sizes=(10, 20), rp__n_components=10 ............\n",
      "[CV]  NN__hidden_layer_sizes=(10, 20), rp__n_components=10, score=0.6482021379980564, total=   0.0s\n",
      "[CV] NN__hidden_layer_sizes=(10, 20), rp__n_components=10 ............\n",
      "[CV]  NN__hidden_layer_sizes=(10, 20), rp__n_components=10, score=0.6488326848249028, total=   0.0s\n",
      "[CV] NN__hidden_layer_sizes=(10, 20), rp__n_components=15 ............\n",
      "[CV]  NN__hidden_layer_sizes=(10, 20), rp__n_components=15, score=0.7184466019417476, total=   0.5s\n",
      "[CV] NN__hidden_layer_sizes=(10, 20), rp__n_components=15 ............\n",
      "[CV]  NN__hidden_layer_sizes=(10, 20), rp__n_components=15, score=0.5990291262135923, total=   0.2s\n",
      "[CV] NN__hidden_layer_sizes=(10, 20), rp__n_components=15 ............\n",
      "[CV]  NN__hidden_layer_sizes=(10, 20), rp__n_components=15, score=0.6336248785228377, total=   0.1s\n",
      "[CV] NN__hidden_layer_sizes=(10, 20), rp__n_components=15 ............\n",
      "[CV]  NN__hidden_layer_sizes=(10, 20), rp__n_components=15, score=0.6550048590864918, total=   0.1s\n",
      "[CV] NN__hidden_layer_sizes=(10, 20), rp__n_components=15 ............\n",
      "[CV]  NN__hidden_layer_sizes=(10, 20), rp__n_components=15, score=0.7383268482490273, total=   0.3s\n",
      "[CV] NN__hidden_layer_sizes=(10, 20), rp__n_components=20 ............\n",
      "[CV]  NN__hidden_layer_sizes=(10, 20), rp__n_components=20, score=0.6485436893203883, total=   0.0s\n",
      "[CV] NN__hidden_layer_sizes=(10, 20), rp__n_components=20 ............\n",
      "[CV]  NN__hidden_layer_sizes=(10, 20), rp__n_components=20, score=0.6485436893203883, total=   0.0s\n",
      "[CV] NN__hidden_layer_sizes=(10, 20), rp__n_components=20 ............\n",
      "[CV]  NN__hidden_layer_sizes=(10, 20), rp__n_components=20, score=0.6482021379980564, total=   0.0s\n",
      "[CV] NN__hidden_layer_sizes=(10, 20), rp__n_components=20 ............\n",
      "[CV]  NN__hidden_layer_sizes=(10, 20), rp__n_components=20, score=0.6482021379980564, total=   0.0s\n",
      "[CV] NN__hidden_layer_sizes=(10, 20), rp__n_components=20 ............\n",
      "[CV]  NN__hidden_layer_sizes=(10, 20), rp__n_components=20, score=0.6488326848249028, total=   0.0s\n",
      "[CV] NN__hidden_layer_sizes=(10, 20), rp__n_components=25 ............\n",
      "[CV]  NN__hidden_layer_sizes=(10, 20), rp__n_components=25, score=0.6466019417475728, total=   0.0s\n",
      "[CV] NN__hidden_layer_sizes=(10, 20), rp__n_components=25 ............\n",
      "[CV]  NN__hidden_layer_sizes=(10, 20), rp__n_components=25, score=0.6475728155339806, total=   0.0s\n",
      "[CV] NN__hidden_layer_sizes=(10, 20), rp__n_components=25 ............\n"
     ]
    },
    {
     "name": "stdout",
     "output_type": "stream",
     "text": [
      "[CV]  NN__hidden_layer_sizes=(10, 20), rp__n_components=25, score=0.6482021379980564, total=   0.0s\n",
      "[CV] NN__hidden_layer_sizes=(10, 20), rp__n_components=25 ............\n",
      "[CV]  NN__hidden_layer_sizes=(10, 20), rp__n_components=25, score=0.6482021379980564, total=   0.0s\n",
      "[CV] NN__hidden_layer_sizes=(10, 20), rp__n_components=25 ............\n",
      "[CV]  NN__hidden_layer_sizes=(10, 20), rp__n_components=25, score=0.6488326848249028, total=   0.0s\n",
      "[CV] NN__hidden_layer_sizes=(10, 20), rp__n_components=30 ............\n",
      "[CV]  NN__hidden_layer_sizes=(10, 20), rp__n_components=30, score=0.683495145631068, total=   0.2s\n",
      "[CV] NN__hidden_layer_sizes=(10, 20), rp__n_components=30 ............\n",
      "[CV]  NN__hidden_layer_sizes=(10, 20), rp__n_components=30, score=0.6873786407766991, total=   0.1s\n",
      "[CV] NN__hidden_layer_sizes=(10, 20), rp__n_components=30 ............\n",
      "[CV]  NN__hidden_layer_sizes=(10, 20), rp__n_components=30, score=0.6793002915451894, total=   0.1s\n",
      "[CV] NN__hidden_layer_sizes=(10, 20), rp__n_components=30 ............\n",
      "[CV]  NN__hidden_layer_sizes=(10, 20), rp__n_components=30, score=0.6355685131195336, total=   0.0s\n",
      "[CV] NN__hidden_layer_sizes=(10, 20), rp__n_components=30 ............\n",
      "[CV]  NN__hidden_layer_sizes=(10, 20), rp__n_components=30, score=0.6760700389105059, total=   0.2s\n",
      "[CV] NN__hidden_layer_sizes=(10, 20), rp__n_components=35 ............\n",
      "[CV]  NN__hidden_layer_sizes=(10, 20), rp__n_components=35, score=0.7524271844660194, total=   0.2s\n",
      "[CV] NN__hidden_layer_sizes=(10, 20), rp__n_components=35 ............\n",
      "[CV]  NN__hidden_layer_sizes=(10, 20), rp__n_components=35, score=0.6485436893203883, total=   0.0s\n",
      "[CV] NN__hidden_layer_sizes=(10, 20), rp__n_components=35 ............\n",
      "[CV]  NN__hidden_layer_sizes=(10, 20), rp__n_components=35, score=0.6482021379980564, total=   0.0s\n",
      "[CV] NN__hidden_layer_sizes=(10, 20), rp__n_components=35 ............\n",
      "[CV]  NN__hidden_layer_sizes=(10, 20), rp__n_components=35, score=0.7706511175898931, total=   0.4s\n",
      "[CV] NN__hidden_layer_sizes=(10, 20), rp__n_components=35 ............\n",
      "[CV]  NN__hidden_layer_sizes=(10, 20), rp__n_components=35, score=0.6488326848249028, total=   0.0s\n",
      "[CV] NN__hidden_layer_sizes=(20, 20), rp__n_components=2 .............\n",
      "[CV]  NN__hidden_layer_sizes=(20, 20), rp__n_components=2, score=0.6339805825242718, total=   0.1s\n",
      "[CV] NN__hidden_layer_sizes=(20, 20), rp__n_components=2 .............\n",
      "[CV]  NN__hidden_layer_sizes=(20, 20), rp__n_components=2, score=0.6446601941747573, total=   0.2s\n",
      "[CV] NN__hidden_layer_sizes=(20, 20), rp__n_components=2 .............\n",
      "[CV]  NN__hidden_layer_sizes=(20, 20), rp__n_components=2, score=0.5597667638483965, total=   0.0s\n",
      "[CV] NN__hidden_layer_sizes=(20, 20), rp__n_components=2 .............\n",
      "[CV]  NN__hidden_layer_sizes=(20, 20), rp__n_components=2, score=0.543245869776482, total=   0.0s\n",
      "[CV] NN__hidden_layer_sizes=(20, 20), rp__n_components=2 .............\n",
      "[CV]  NN__hidden_layer_sizes=(20, 20), rp__n_components=2, score=0.6303501945525292, total=   0.2s\n",
      "[CV] NN__hidden_layer_sizes=(20, 20), rp__n_components=5 .............\n",
      "[CV]  NN__hidden_layer_sizes=(20, 20), rp__n_components=5, score=0.6466019417475728, total=   0.0s\n",
      "[CV] NN__hidden_layer_sizes=(20, 20), rp__n_components=5 .............\n",
      "[CV]  NN__hidden_layer_sizes=(20, 20), rp__n_components=5, score=0.641747572815534, total=   0.0s\n",
      "[CV] NN__hidden_layer_sizes=(20, 20), rp__n_components=5 .............\n",
      "[CV]  NN__hidden_layer_sizes=(20, 20), rp__n_components=5, score=0.6452866861030127, total=   0.0s\n",
      "[CV] NN__hidden_layer_sizes=(20, 20), rp__n_components=5 .............\n",
      "[CV]  NN__hidden_layer_sizes=(20, 20), rp__n_components=5, score=0.6482021379980564, total=   0.0s\n",
      "[CV] NN__hidden_layer_sizes=(20, 20), rp__n_components=5 .............\n",
      "[CV]  NN__hidden_layer_sizes=(20, 20), rp__n_components=5, score=0.6478599221789884, total=   0.0s\n",
      "[CV] NN__hidden_layer_sizes=(20, 20), rp__n_components=10 ............\n",
      "[CV]  NN__hidden_layer_sizes=(20, 20), rp__n_components=10, score=0.5281553398058253, total=   0.1s\n",
      "[CV] NN__hidden_layer_sizes=(20, 20), rp__n_components=10 ............\n",
      "[CV]  NN__hidden_layer_sizes=(20, 20), rp__n_components=10, score=0.5485436893203883, total=   0.0s\n",
      "[CV] NN__hidden_layer_sizes=(20, 20), rp__n_components=10 ............\n",
      "[CV]  NN__hidden_layer_sizes=(20, 20), rp__n_components=10, score=0.5558794946550049, total=   0.1s\n",
      "[CV] NN__hidden_layer_sizes=(20, 20), rp__n_components=10 ............\n",
      "[CV]  NN__hidden_layer_sizes=(20, 20), rp__n_components=10, score=0.6180758017492711, total=   0.1s\n",
      "[CV] NN__hidden_layer_sizes=(20, 20), rp__n_components=10 ............\n",
      "[CV]  NN__hidden_layer_sizes=(20, 20), rp__n_components=10, score=0.6206225680933852, total=   0.0s\n",
      "[CV] NN__hidden_layer_sizes=(20, 20), rp__n_components=15 ............\n",
      "[CV]  NN__hidden_layer_sizes=(20, 20), rp__n_components=15, score=0.7417475728155339, total=   0.2s\n",
      "[CV] NN__hidden_layer_sizes=(20, 20), rp__n_components=15 ............\n",
      "[CV]  NN__hidden_layer_sizes=(20, 20), rp__n_components=15, score=0.7757281553398059, total=   0.3s\n",
      "[CV] NN__hidden_layer_sizes=(20, 20), rp__n_components=15 ............\n",
      "[CV]  NN__hidden_layer_sizes=(20, 20), rp__n_components=15, score=0.7628765792031098, total=   0.2s\n",
      "[CV] NN__hidden_layer_sizes=(20, 20), rp__n_components=15 ............\n",
      "[CV]  NN__hidden_layer_sizes=(20, 20), rp__n_components=15, score=0.7327502429543246, total=   0.2s\n",
      "[CV] NN__hidden_layer_sizes=(20, 20), rp__n_components=15 ............\n",
      "[CV]  NN__hidden_layer_sizes=(20, 20), rp__n_components=15, score=0.6896887159533074, total=   0.1s\n",
      "[CV] NN__hidden_layer_sizes=(20, 20), rp__n_components=20 ............\n",
      "[CV]  NN__hidden_layer_sizes=(20, 20), rp__n_components=20, score=0.6349514563106796, total=   0.0s\n",
      "[CV] NN__hidden_layer_sizes=(20, 20), rp__n_components=20 ............\n",
      "[CV]  NN__hidden_layer_sizes=(20, 20), rp__n_components=20, score=0.6398058252427185, total=   0.0s\n",
      "[CV] NN__hidden_layer_sizes=(20, 20), rp__n_components=20 ............\n",
      "[CV]  NN__hidden_layer_sizes=(20, 20), rp__n_components=20, score=0.5986394557823129, total=   0.0s\n",
      "[CV] NN__hidden_layer_sizes=(20, 20), rp__n_components=20 ............\n",
      "[CV]  NN__hidden_layer_sizes=(20, 20), rp__n_components=20, score=0.6219630709426628, total=   0.0s\n",
      "[CV] NN__hidden_layer_sizes=(20, 20), rp__n_components=20 ............\n",
      "[CV]  NN__hidden_layer_sizes=(20, 20), rp__n_components=20, score=0.6284046692607004, total=   0.0s\n",
      "[CV] NN__hidden_layer_sizes=(20, 20), rp__n_components=25 ............\n",
      "[CV]  NN__hidden_layer_sizes=(20, 20), rp__n_components=25, score=0.7466019417475728, total=   0.4s\n",
      "[CV] NN__hidden_layer_sizes=(20, 20), rp__n_components=25 ............\n",
      "[CV]  NN__hidden_layer_sizes=(20, 20), rp__n_components=25, score=0.7922330097087379, total=   0.4s\n",
      "[CV] NN__hidden_layer_sizes=(20, 20), rp__n_components=25 ............\n",
      "[CV]  NN__hidden_layer_sizes=(20, 20), rp__n_components=25, score=0.6355685131195336, total=   0.0s\n",
      "[CV] NN__hidden_layer_sizes=(20, 20), rp__n_components=25 ............\n",
      "[CV]  NN__hidden_layer_sizes=(20, 20), rp__n_components=25, score=0.6326530612244898, total=   0.0s\n",
      "[CV] NN__hidden_layer_sizes=(20, 20), rp__n_components=25 ............\n",
      "[CV]  NN__hidden_layer_sizes=(20, 20), rp__n_components=25, score=0.7577821011673151, total=   0.3s\n",
      "[CV] NN__hidden_layer_sizes=(20, 20), rp__n_components=30 ............\n",
      "[CV]  NN__hidden_layer_sizes=(20, 20), rp__n_components=30, score=0.6058252427184466, total=   0.1s\n",
      "[CV] NN__hidden_layer_sizes=(20, 20), rp__n_components=30 ............\n",
      "[CV]  NN__hidden_layer_sizes=(20, 20), rp__n_components=30, score=0.5631067961165048, total=   0.0s\n",
      "[CV] NN__hidden_layer_sizes=(20, 20), rp__n_components=30 ............\n",
      "[CV]  NN__hidden_layer_sizes=(20, 20), rp__n_components=30, score=0.7414965986394558, total=   0.4s\n",
      "[CV] NN__hidden_layer_sizes=(20, 20), rp__n_components=30 ............\n",
      "[CV]  NN__hidden_layer_sizes=(20, 20), rp__n_components=30, score=0.7045675413022352, total=   0.4s\n",
      "[CV] NN__hidden_layer_sizes=(20, 20), rp__n_components=30 ............\n",
      "[CV]  NN__hidden_layer_sizes=(20, 20), rp__n_components=30, score=0.646887159533074, total=   0.1s\n",
      "[CV] NN__hidden_layer_sizes=(20, 20), rp__n_components=35 ............\n",
      "[CV]  NN__hidden_layer_sizes=(20, 20), rp__n_components=35, score=0.6339805825242718, total=   0.0s\n",
      "[CV] NN__hidden_layer_sizes=(20, 20), rp__n_components=35 ............\n"
     ]
    },
    {
     "name": "stdout",
     "output_type": "stream",
     "text": [
      "[CV]  NN__hidden_layer_sizes=(20, 20), rp__n_components=35, score=0.6233009708737864, total=   0.0s\n",
      "[CV] NN__hidden_layer_sizes=(20, 20), rp__n_components=35 ............\n",
      "[CV]  NN__hidden_layer_sizes=(20, 20), rp__n_components=35, score=0.6355685131195336, total=   0.0s\n",
      "[CV] NN__hidden_layer_sizes=(20, 20), rp__n_components=35 ............\n",
      "[CV]  NN__hidden_layer_sizes=(20, 20), rp__n_components=35, score=0.6287657920310982, total=   0.0s\n",
      "[CV] NN__hidden_layer_sizes=(20, 20), rp__n_components=35 ............\n",
      "[CV]  NN__hidden_layer_sizes=(20, 20), rp__n_components=35, score=0.6147859922178989, total=   0.0s\n",
      "[CV] NN__hidden_layer_sizes=(20, 10), rp__n_components=2 .............\n",
      "[CV]  NN__hidden_layer_sizes=(20, 10), rp__n_components=2, score=0.6495145631067961, total=   0.1s\n",
      "[CV] NN__hidden_layer_sizes=(20, 10), rp__n_components=2 .............\n",
      "[CV]  NN__hidden_layer_sizes=(20, 10), rp__n_components=2, score=0.6504854368932039, total=   0.0s\n",
      "[CV] NN__hidden_layer_sizes=(20, 10), rp__n_components=2 .............\n",
      "[CV]  NN__hidden_layer_sizes=(20, 10), rp__n_components=2, score=0.6394557823129252, total=   0.0s\n",
      "[CV] NN__hidden_layer_sizes=(20, 10), rp__n_components=2 .............\n",
      "[CV]  NN__hidden_layer_sizes=(20, 10), rp__n_components=2, score=0.6384839650145773, total=   0.1s\n",
      "[CV] NN__hidden_layer_sizes=(20, 10), rp__n_components=2 .............\n",
      "[CV]  NN__hidden_layer_sizes=(20, 10), rp__n_components=2, score=0.6488326848249028, total=   0.0s\n",
      "[CV] NN__hidden_layer_sizes=(20, 10), rp__n_components=5 .............\n",
      "[CV]  NN__hidden_layer_sizes=(20, 10), rp__n_components=5, score=0.6485436893203883, total=   0.0s\n",
      "[CV] NN__hidden_layer_sizes=(20, 10), rp__n_components=5 .............\n",
      "[CV]  NN__hidden_layer_sizes=(20, 10), rp__n_components=5, score=0.6485436893203883, total=   0.0s\n",
      "[CV] NN__hidden_layer_sizes=(20, 10), rp__n_components=5 .............\n",
      "[CV]  NN__hidden_layer_sizes=(20, 10), rp__n_components=5, score=0.6482021379980564, total=   0.0s\n",
      "[CV] NN__hidden_layer_sizes=(20, 10), rp__n_components=5 .............\n",
      "[CV]  NN__hidden_layer_sizes=(20, 10), rp__n_components=5, score=0.6482021379980564, total=   0.0s\n",
      "[CV] NN__hidden_layer_sizes=(20, 10), rp__n_components=5 .............\n",
      "[CV]  NN__hidden_layer_sizes=(20, 10), rp__n_components=5, score=0.6429961089494164, total=   0.0s\n",
      "[CV] NN__hidden_layer_sizes=(20, 10), rp__n_components=10 ............\n",
      "[CV]  NN__hidden_layer_sizes=(20, 10), rp__n_components=10, score=0.5912621359223301, total=   0.0s\n",
      "[CV] NN__hidden_layer_sizes=(20, 10), rp__n_components=10 ............\n",
      "[CV]  NN__hidden_layer_sizes=(20, 10), rp__n_components=10, score=0.6019417475728155, total=   0.0s\n",
      "[CV] NN__hidden_layer_sizes=(20, 10), rp__n_components=10 ............\n",
      "[CV]  NN__hidden_layer_sizes=(20, 10), rp__n_components=10, score=0.5947521865889213, total=   0.0s\n",
      "[CV] NN__hidden_layer_sizes=(20, 10), rp__n_components=10 ............\n",
      "[CV]  NN__hidden_layer_sizes=(20, 10), rp__n_components=10, score=0.5830903790087464, total=   0.0s\n",
      "[CV] NN__hidden_layer_sizes=(20, 10), rp__n_components=10 ............\n",
      "[CV]  NN__hidden_layer_sizes=(20, 10), rp__n_components=10, score=0.5768482490272373, total=   0.0s\n",
      "[CV] NN__hidden_layer_sizes=(20, 10), rp__n_components=15 ............\n",
      "[CV]  NN__hidden_layer_sizes=(20, 10), rp__n_components=15, score=0.6485436893203883, total=   0.0s\n",
      "[CV] NN__hidden_layer_sizes=(20, 10), rp__n_components=15 ............\n",
      "[CV]  NN__hidden_layer_sizes=(20, 10), rp__n_components=15, score=0.6485436893203883, total=   0.0s\n",
      "[CV] NN__hidden_layer_sizes=(20, 10), rp__n_components=15 ............\n",
      "[CV]  NN__hidden_layer_sizes=(20, 10), rp__n_components=15, score=0.6482021379980564, total=   0.0s\n",
      "[CV] NN__hidden_layer_sizes=(20, 10), rp__n_components=15 ............\n",
      "[CV]  NN__hidden_layer_sizes=(20, 10), rp__n_components=15, score=0.6482021379980564, total=   0.0s\n",
      "[CV] NN__hidden_layer_sizes=(20, 10), rp__n_components=15 ............\n",
      "[CV]  NN__hidden_layer_sizes=(20, 10), rp__n_components=15, score=0.6488326848249028, total=   0.0s\n",
      "[CV] NN__hidden_layer_sizes=(20, 10), rp__n_components=20 ............\n",
      "[CV]  NN__hidden_layer_sizes=(20, 10), rp__n_components=20, score=0.6485436893203883, total=   0.0s\n",
      "[CV] NN__hidden_layer_sizes=(20, 10), rp__n_components=20 ............\n",
      "[CV]  NN__hidden_layer_sizes=(20, 10), rp__n_components=20, score=0.6485436893203883, total=   0.0s\n",
      "[CV] NN__hidden_layer_sizes=(20, 10), rp__n_components=20 ............\n",
      "[CV]  NN__hidden_layer_sizes=(20, 10), rp__n_components=20, score=0.6482021379980564, total=   0.0s\n",
      "[CV] NN__hidden_layer_sizes=(20, 10), rp__n_components=20 ............\n",
      "[CV]  NN__hidden_layer_sizes=(20, 10), rp__n_components=20, score=0.6482021379980564, total=   0.0s\n",
      "[CV] NN__hidden_layer_sizes=(20, 10), rp__n_components=20 ............\n",
      "[CV]  NN__hidden_layer_sizes=(20, 10), rp__n_components=20, score=0.6488326848249028, total=   0.0s\n",
      "[CV] NN__hidden_layer_sizes=(20, 10), rp__n_components=25 ............\n",
      "[CV]  NN__hidden_layer_sizes=(20, 10), rp__n_components=25, score=0.35145631067961164, total=   0.0s\n",
      "[CV] NN__hidden_layer_sizes=(20, 10), rp__n_components=25 ............\n",
      "[CV]  NN__hidden_layer_sizes=(20, 10), rp__n_components=25, score=0.35145631067961164, total=   0.0s\n",
      "[CV] NN__hidden_layer_sizes=(20, 10), rp__n_components=25 ............\n",
      "[CV]  NN__hidden_layer_sizes=(20, 10), rp__n_components=25, score=0.35179786200194363, total=   0.0s\n",
      "[CV] NN__hidden_layer_sizes=(20, 10), rp__n_components=25 ............\n",
      "[CV]  NN__hidden_layer_sizes=(20, 10), rp__n_components=25, score=0.35179786200194363, total=   0.0s\n",
      "[CV] NN__hidden_layer_sizes=(20, 10), rp__n_components=25 ............\n",
      "[CV]  NN__hidden_layer_sizes=(20, 10), rp__n_components=25, score=0.35116731517509725, total=   0.0s\n",
      "[CV] NN__hidden_layer_sizes=(20, 10), rp__n_components=30 ............\n",
      "[CV]  NN__hidden_layer_sizes=(20, 10), rp__n_components=30, score=0.6485436893203883, total=   0.0s\n",
      "[CV] NN__hidden_layer_sizes=(20, 10), rp__n_components=30 ............\n",
      "[CV]  NN__hidden_layer_sizes=(20, 10), rp__n_components=30, score=0.6485436893203883, total=   0.0s\n",
      "[CV] NN__hidden_layer_sizes=(20, 10), rp__n_components=30 ............\n",
      "[CV]  NN__hidden_layer_sizes=(20, 10), rp__n_components=30, score=0.6482021379980564, total=   0.0s\n",
      "[CV] NN__hidden_layer_sizes=(20, 10), rp__n_components=30 ............\n",
      "[CV]  NN__hidden_layer_sizes=(20, 10), rp__n_components=30, score=0.6482021379980564, total=   0.0s\n",
      "[CV] NN__hidden_layer_sizes=(20, 10), rp__n_components=30 ............\n",
      "[CV]  NN__hidden_layer_sizes=(20, 10), rp__n_components=30, score=0.6488326848249028, total=   0.0s\n",
      "[CV] NN__hidden_layer_sizes=(20, 10), rp__n_components=35 ............\n",
      "[CV]  NN__hidden_layer_sizes=(20, 10), rp__n_components=35, score=0.6485436893203883, total=   0.0s\n",
      "[CV] NN__hidden_layer_sizes=(20, 10), rp__n_components=35 ............\n",
      "[CV]  NN__hidden_layer_sizes=(20, 10), rp__n_components=35, score=0.6485436893203883, total=   0.0s\n",
      "[CV] NN__hidden_layer_sizes=(20, 10), rp__n_components=35 ............\n",
      "[CV]  NN__hidden_layer_sizes=(20, 10), rp__n_components=35, score=0.6482021379980564, total=   0.0s\n",
      "[CV] NN__hidden_layer_sizes=(20, 10), rp__n_components=35 ............\n",
      "[CV]  NN__hidden_layer_sizes=(20, 10), rp__n_components=35, score=0.6190476190476191, total=   0.1s\n",
      "[CV] NN__hidden_layer_sizes=(20, 10), rp__n_components=35 ............\n",
      "[CV]  NN__hidden_layer_sizes=(20, 10), rp__n_components=35, score=0.6488326848249028, total=   0.0s\n",
      "[CV] NN__hidden_layer_sizes=(5,), rp__n_components=2 .................\n",
      "[CV]  NN__hidden_layer_sizes=(5,), rp__n_components=2, score=0.4912621359223301, total=   0.0s\n",
      "[CV] NN__hidden_layer_sizes=(5,), rp__n_components=2 .................\n",
      "[CV]  NN__hidden_layer_sizes=(5,), rp__n_components=2, score=0.49902912621359224, total=   0.0s\n",
      "[CV] NN__hidden_layer_sizes=(5,), rp__n_components=2 .................\n",
      "[CV]  NN__hidden_layer_sizes=(5,), rp__n_components=2, score=0.4849368318756074, total=   0.0s\n",
      "[CV] NN__hidden_layer_sizes=(5,), rp__n_components=2 .................\n",
      "[CV]  NN__hidden_layer_sizes=(5,), rp__n_components=2, score=0.5189504373177842, total=   0.0s\n",
      "[CV] NN__hidden_layer_sizes=(5,), rp__n_components=2 .................\n",
      "[CV]  NN__hidden_layer_sizes=(5,), rp__n_components=2, score=0.5, total=   0.0s\n",
      "[CV] NN__hidden_layer_sizes=(5,), rp__n_components=5 .................\n"
     ]
    },
    {
     "name": "stdout",
     "output_type": "stream",
     "text": [
      "[CV]  NN__hidden_layer_sizes=(5,), rp__n_components=5, score=0.35145631067961164, total=   0.0s\n",
      "[CV] NN__hidden_layer_sizes=(5,), rp__n_components=5 .................\n",
      "[CV]  NN__hidden_layer_sizes=(5,), rp__n_components=5, score=0.35145631067961164, total=   0.0s\n",
      "[CV] NN__hidden_layer_sizes=(5,), rp__n_components=5 .................\n",
      "[CV]  NN__hidden_layer_sizes=(5,), rp__n_components=5, score=0.35179786200194363, total=   0.0s\n",
      "[CV] NN__hidden_layer_sizes=(5,), rp__n_components=5 .................\n",
      "[CV]  NN__hidden_layer_sizes=(5,), rp__n_components=5, score=0.35179786200194363, total=   0.0s\n",
      "[CV] NN__hidden_layer_sizes=(5,), rp__n_components=5 .................\n",
      "[CV]  NN__hidden_layer_sizes=(5,), rp__n_components=5, score=0.35116731517509725, total=   0.0s\n",
      "[CV] NN__hidden_layer_sizes=(5,), rp__n_components=10 ................\n",
      "[CV]  NN__hidden_layer_sizes=(5,), rp__n_components=10, score=0.6485436893203883, total=   0.0s\n",
      "[CV] NN__hidden_layer_sizes=(5,), rp__n_components=10 ................\n",
      "[CV]  NN__hidden_layer_sizes=(5,), rp__n_components=10, score=0.6485436893203883, total=   0.0s\n",
      "[CV] NN__hidden_layer_sizes=(5,), rp__n_components=10 ................\n",
      "[CV]  NN__hidden_layer_sizes=(5,), rp__n_components=10, score=0.6482021379980564, total=   0.0s\n",
      "[CV] NN__hidden_layer_sizes=(5,), rp__n_components=10 ................\n",
      "[CV]  NN__hidden_layer_sizes=(5,), rp__n_components=10, score=0.6482021379980564, total=   0.0s\n",
      "[CV] NN__hidden_layer_sizes=(5,), rp__n_components=10 ................\n",
      "[CV]  NN__hidden_layer_sizes=(5,), rp__n_components=10, score=0.6488326848249028, total=   0.0s\n",
      "[CV] NN__hidden_layer_sizes=(5,), rp__n_components=15 ................\n",
      "[CV]  NN__hidden_layer_sizes=(5,), rp__n_components=15, score=0.6485436893203883, total=   0.0s\n",
      "[CV] NN__hidden_layer_sizes=(5,), rp__n_components=15 ................\n",
      "[CV]  NN__hidden_layer_sizes=(5,), rp__n_components=15, score=0.6485436893203883, total=   0.0s\n",
      "[CV] NN__hidden_layer_sizes=(5,), rp__n_components=15 ................\n",
      "[CV]  NN__hidden_layer_sizes=(5,), rp__n_components=15, score=0.6482021379980564, total=   0.0s\n",
      "[CV] NN__hidden_layer_sizes=(5,), rp__n_components=15 ................\n",
      "[CV]  NN__hidden_layer_sizes=(5,), rp__n_components=15, score=0.6482021379980564, total=   0.0s\n",
      "[CV] NN__hidden_layer_sizes=(5,), rp__n_components=15 ................\n",
      "[CV]  NN__hidden_layer_sizes=(5,), rp__n_components=15, score=0.6488326848249028, total=   0.0s\n",
      "[CV] NN__hidden_layer_sizes=(5,), rp__n_components=20 ................\n",
      "[CV]  NN__hidden_layer_sizes=(5,), rp__n_components=20, score=0.6485436893203883, total=   0.0s\n",
      "[CV] NN__hidden_layer_sizes=(5,), rp__n_components=20 ................\n",
      "[CV]  NN__hidden_layer_sizes=(5,), rp__n_components=20, score=0.6485436893203883, total=   0.0s\n",
      "[CV] NN__hidden_layer_sizes=(5,), rp__n_components=20 ................\n",
      "[CV]  NN__hidden_layer_sizes=(5,), rp__n_components=20, score=0.6482021379980564, total=   0.0s\n",
      "[CV] NN__hidden_layer_sizes=(5,), rp__n_components=20 ................\n",
      "[CV]  NN__hidden_layer_sizes=(5,), rp__n_components=20, score=0.6482021379980564, total=   0.0s\n",
      "[CV] NN__hidden_layer_sizes=(5,), rp__n_components=20 ................\n",
      "[CV]  NN__hidden_layer_sizes=(5,), rp__n_components=20, score=0.6488326848249028, total=   0.0s\n",
      "[CV] NN__hidden_layer_sizes=(5,), rp__n_components=25 ................\n",
      "[CV]  NN__hidden_layer_sizes=(5,), rp__n_components=25, score=0.6300970873786408, total=   0.0s\n",
      "[CV] NN__hidden_layer_sizes=(5,), rp__n_components=25 ................\n",
      "[CV]  NN__hidden_layer_sizes=(5,), rp__n_components=25, score=0.6300970873786408, total=   0.0s\n",
      "[CV] NN__hidden_layer_sizes=(5,), rp__n_components=25 ................\n",
      "[CV]  NN__hidden_layer_sizes=(5,), rp__n_components=25, score=0.6141885325558795, total=   0.0s\n",
      "[CV] NN__hidden_layer_sizes=(5,), rp__n_components=25 ................\n",
      "[CV]  NN__hidden_layer_sizes=(5,), rp__n_components=25, score=0.60932944606414, total=   0.0s\n",
      "[CV] NN__hidden_layer_sizes=(5,), rp__n_components=25 ................\n",
      "[CV]  NN__hidden_layer_sizes=(5,), rp__n_components=25, score=0.6293774319066148, total=   0.0s\n",
      "[CV] NN__hidden_layer_sizes=(5,), rp__n_components=30 ................\n",
      "[CV]  NN__hidden_layer_sizes=(5,), rp__n_components=30, score=0.525242718446602, total=   0.0s\n",
      "[CV] NN__hidden_layer_sizes=(5,), rp__n_components=30 ................\n",
      "[CV]  NN__hidden_layer_sizes=(5,), rp__n_components=30, score=0.579611650485437, total=   0.0s\n",
      "[CV] NN__hidden_layer_sizes=(5,), rp__n_components=30 ................\n",
      "[CV]  NN__hidden_layer_sizes=(5,), rp__n_components=30, score=0.5908649173955296, total=   0.0s\n",
      "[CV] NN__hidden_layer_sizes=(5,), rp__n_components=30 ................\n",
      "[CV]  NN__hidden_layer_sizes=(5,), rp__n_components=30, score=0.5986394557823129, total=   0.0s\n",
      "[CV] NN__hidden_layer_sizes=(5,), rp__n_components=30 ................\n",
      "[CV]  NN__hidden_layer_sizes=(5,), rp__n_components=30, score=0.5768482490272373, total=   0.0s\n",
      "[CV] NN__hidden_layer_sizes=(5,), rp__n_components=35 ................\n",
      "[CV]  NN__hidden_layer_sizes=(5,), rp__n_components=35, score=0.35145631067961164, total=   0.0s\n",
      "[CV] NN__hidden_layer_sizes=(5,), rp__n_components=35 ................\n",
      "[CV]  NN__hidden_layer_sizes=(5,), rp__n_components=35, score=0.35145631067961164, total=   0.0s\n",
      "[CV] NN__hidden_layer_sizes=(5,), rp__n_components=35 ................\n",
      "[CV]  NN__hidden_layer_sizes=(5,), rp__n_components=35, score=0.35179786200194363, total=   0.0s\n",
      "[CV] NN__hidden_layer_sizes=(5,), rp__n_components=35 ................\n",
      "[CV]  NN__hidden_layer_sizes=(5,), rp__n_components=35, score=0.35179786200194363, total=   0.0s\n",
      "[CV] NN__hidden_layer_sizes=(5,), rp__n_components=35 ................\n",
      "[CV]  NN__hidden_layer_sizes=(5,), rp__n_components=35, score=0.35116731517509725, total=   0.0s\n",
      "[CV] NN__hidden_layer_sizes=(10,), rp__n_components=2 ................\n",
      "[CV]  NN__hidden_layer_sizes=(10,), rp__n_components=2, score=0.6388349514563106, total=   0.0s\n",
      "[CV] NN__hidden_layer_sizes=(10,), rp__n_components=2 ................\n",
      "[CV]  NN__hidden_layer_sizes=(10,), rp__n_components=2, score=0.6495145631067961, total=   0.0s\n",
      "[CV] NN__hidden_layer_sizes=(10,), rp__n_components=2 ................\n",
      "[CV]  NN__hidden_layer_sizes=(10,), rp__n_components=2, score=0.6433430515063168, total=   0.0s\n",
      "[CV] NN__hidden_layer_sizes=(10,), rp__n_components=2 ................\n",
      "[CV]  NN__hidden_layer_sizes=(10,), rp__n_components=2, score=0.6433430515063168, total=   0.0s\n",
      "[CV] NN__hidden_layer_sizes=(10,), rp__n_components=2 ................\n",
      "[CV]  NN__hidden_layer_sizes=(10,), rp__n_components=2, score=0.646887159533074, total=   0.0s\n",
      "[CV] NN__hidden_layer_sizes=(10,), rp__n_components=5 ................\n",
      "[CV]  NN__hidden_layer_sizes=(10,), rp__n_components=5, score=0.6485436893203883, total=   0.0s\n",
      "[CV] NN__hidden_layer_sizes=(10,), rp__n_components=5 ................\n",
      "[CV]  NN__hidden_layer_sizes=(10,), rp__n_components=5, score=0.6485436893203883, total=   0.0s\n",
      "[CV] NN__hidden_layer_sizes=(10,), rp__n_components=5 ................\n",
      "[CV]  NN__hidden_layer_sizes=(10,), rp__n_components=5, score=0.6482021379980564, total=   0.0s\n",
      "[CV] NN__hidden_layer_sizes=(10,), rp__n_components=5 ................\n",
      "[CV]  NN__hidden_layer_sizes=(10,), rp__n_components=5, score=0.6482021379980564, total=   0.0s\n",
      "[CV] NN__hidden_layer_sizes=(10,), rp__n_components=5 ................\n",
      "[CV]  NN__hidden_layer_sizes=(10,), rp__n_components=5, score=0.6488326848249028, total=   0.0s\n",
      "[CV] NN__hidden_layer_sizes=(10,), rp__n_components=10 ...............\n",
      "[CV]  NN__hidden_layer_sizes=(10,), rp__n_components=10, score=0.6, total=   0.0s\n",
      "[CV] NN__hidden_layer_sizes=(10,), rp__n_components=10 ...............\n",
      "[CV]  NN__hidden_layer_sizes=(10,), rp__n_components=10, score=0.587378640776699, total=   0.0s\n",
      "[CV] NN__hidden_layer_sizes=(10,), rp__n_components=10 ...............\n",
      "[CV]  NN__hidden_layer_sizes=(10,), rp__n_components=10, score=0.586977648202138, total=   0.0s\n",
      "[CV] NN__hidden_layer_sizes=(10,), rp__n_components=10 ...............\n",
      "[CV]  NN__hidden_layer_sizes=(10,), rp__n_components=10, score=0.6005830903790087, total=   0.0s\n",
      "[CV] NN__hidden_layer_sizes=(10,), rp__n_components=10 ...............\n",
      "[CV]  NN__hidden_layer_sizes=(10,), rp__n_components=10, score=0.5826848249027238, total=   0.0s\n",
      "[CV] NN__hidden_layer_sizes=(10,), rp__n_components=15 ...............\n"
     ]
    },
    {
     "name": "stdout",
     "output_type": "stream",
     "text": [
      "[CV]  NN__hidden_layer_sizes=(10,), rp__n_components=15, score=0.5941747572815534, total=   0.0s\n",
      "[CV] NN__hidden_layer_sizes=(10,), rp__n_components=15 ...............\n",
      "[CV]  NN__hidden_layer_sizes=(10,), rp__n_components=15, score=0.5815533980582525, total=   0.0s\n",
      "[CV] NN__hidden_layer_sizes=(10,), rp__n_components=15 ...............\n",
      "[CV]  NN__hidden_layer_sizes=(10,), rp__n_components=15, score=0.60932944606414, total=   0.0s\n",
      "[CV] NN__hidden_layer_sizes=(10,), rp__n_components=15 ...............\n",
      "[CV]  NN__hidden_layer_sizes=(10,), rp__n_components=15, score=0.6054421768707483, total=   0.0s\n",
      "[CV] NN__hidden_layer_sizes=(10,), rp__n_components=15 ...............\n",
      "[CV]  NN__hidden_layer_sizes=(10,), rp__n_components=15, score=0.6011673151750972, total=   0.0s\n",
      "[CV] NN__hidden_layer_sizes=(10,), rp__n_components=20 ...............\n",
      "[CV]  NN__hidden_layer_sizes=(10,), rp__n_components=20, score=0.6242718446601941, total=   0.0s\n",
      "[CV] NN__hidden_layer_sizes=(10,), rp__n_components=20 ...............\n",
      "[CV]  NN__hidden_layer_sizes=(10,), rp__n_components=20, score=0.6174757281553398, total=   0.0s\n",
      "[CV] NN__hidden_layer_sizes=(10,), rp__n_components=20 ...............\n",
      "[CV]  NN__hidden_layer_sizes=(10,), rp__n_components=20, score=0.5966958211856171, total=   0.0s\n",
      "[CV] NN__hidden_layer_sizes=(10,), rp__n_components=20 ...............\n",
      "[CV]  NN__hidden_layer_sizes=(10,), rp__n_components=20, score=0.5908649173955296, total=   0.0s\n",
      "[CV] NN__hidden_layer_sizes=(10,), rp__n_components=20 ...............\n",
      "[CV]  NN__hidden_layer_sizes=(10,), rp__n_components=20, score=0.6138132295719845, total=   0.0s\n",
      "[CV] NN__hidden_layer_sizes=(10,), rp__n_components=25 ...............\n",
      "[CV]  NN__hidden_layer_sizes=(10,), rp__n_components=25, score=0.6485436893203883, total=   0.0s\n",
      "[CV] NN__hidden_layer_sizes=(10,), rp__n_components=25 ...............\n",
      "[CV]  NN__hidden_layer_sizes=(10,), rp__n_components=25, score=0.6485436893203883, total=   0.0s\n",
      "[CV] NN__hidden_layer_sizes=(10,), rp__n_components=25 ...............\n",
      "[CV]  NN__hidden_layer_sizes=(10,), rp__n_components=25, score=0.6482021379980564, total=   0.0s\n",
      "[CV] NN__hidden_layer_sizes=(10,), rp__n_components=25 ...............\n",
      "[CV]  NN__hidden_layer_sizes=(10,), rp__n_components=25, score=0.6482021379980564, total=   0.0s\n",
      "[CV] NN__hidden_layer_sizes=(10,), rp__n_components=25 ...............\n",
      "[CV]  NN__hidden_layer_sizes=(10,), rp__n_components=25, score=0.6488326848249028, total=   0.0s\n",
      "[CV] NN__hidden_layer_sizes=(10,), rp__n_components=30 ...............\n",
      "[CV]  NN__hidden_layer_sizes=(10,), rp__n_components=30, score=0.5349514563106796, total=   0.1s\n",
      "[CV] NN__hidden_layer_sizes=(10,), rp__n_components=30 ...............\n",
      "[CV]  NN__hidden_layer_sizes=(10,), rp__n_components=30, score=0.48446601941747575, total=   0.0s\n",
      "[CV] NN__hidden_layer_sizes=(10,), rp__n_components=30 ...............\n",
      "[CV]  NN__hidden_layer_sizes=(10,), rp__n_components=30, score=0.4975704567541302, total=   0.0s\n",
      "[CV] NN__hidden_layer_sizes=(10,), rp__n_components=30 ...............\n",
      "[CV]  NN__hidden_layer_sizes=(10,), rp__n_components=30, score=0.5510204081632653, total=   0.0s\n",
      "[CV] NN__hidden_layer_sizes=(10,), rp__n_components=30 ...............\n",
      "[CV]  NN__hidden_layer_sizes=(10,), rp__n_components=30, score=0.5, total=   0.0s\n",
      "[CV] NN__hidden_layer_sizes=(10,), rp__n_components=35 ...............\n",
      "[CV]  NN__hidden_layer_sizes=(10,), rp__n_components=35, score=0.566990291262136, total=   0.0s\n",
      "[CV] NN__hidden_layer_sizes=(10,), rp__n_components=35 ...............\n",
      "[CV]  NN__hidden_layer_sizes=(10,), rp__n_components=35, score=0.5728155339805825, total=   0.0s\n",
      "[CV] NN__hidden_layer_sizes=(10,), rp__n_components=35 ...............\n",
      "[CV]  NN__hidden_layer_sizes=(10,), rp__n_components=35, score=0.5830903790087464, total=   0.0s\n",
      "[CV] NN__hidden_layer_sizes=(10,), rp__n_components=35 ...............\n",
      "[CV]  NN__hidden_layer_sizes=(10,), rp__n_components=35, score=0.5568513119533528, total=   0.0s\n",
      "[CV] NN__hidden_layer_sizes=(10,), rp__n_components=35 ...............\n",
      "[CV]  NN__hidden_layer_sizes=(10,), rp__n_components=35, score=0.5680933852140078, total=   0.0s\n",
      "[CV] NN__hidden_layer_sizes=(20,), rp__n_components=2 ................\n",
      "[CV]  NN__hidden_layer_sizes=(20,), rp__n_components=2, score=0.6398058252427185, total=   0.1s\n",
      "[CV] NN__hidden_layer_sizes=(20,), rp__n_components=2 ................\n",
      "[CV]  NN__hidden_layer_sizes=(20,), rp__n_components=2, score=0.6223300970873786, total=   0.0s\n",
      "[CV] NN__hidden_layer_sizes=(20,), rp__n_components=2 ................\n",
      "[CV]  NN__hidden_layer_sizes=(20,), rp__n_components=2, score=0.5966958211856171, total=   0.0s\n",
      "[CV] NN__hidden_layer_sizes=(20,), rp__n_components=2 ................\n",
      "[CV]  NN__hidden_layer_sizes=(20,), rp__n_components=2, score=0.5918367346938775, total=   0.0s\n",
      "[CV] NN__hidden_layer_sizes=(20,), rp__n_components=2 ................\n",
      "[CV]  NN__hidden_layer_sizes=(20,), rp__n_components=2, score=0.6284046692607004, total=   0.1s\n",
      "[CV] NN__hidden_layer_sizes=(20,), rp__n_components=5 ................\n",
      "[CV]  NN__hidden_layer_sizes=(20,), rp__n_components=5, score=0.35145631067961164, total=   0.0s\n",
      "[CV] NN__hidden_layer_sizes=(20,), rp__n_components=5 ................\n",
      "[CV]  NN__hidden_layer_sizes=(20,), rp__n_components=5, score=0.35145631067961164, total=   0.0s\n",
      "[CV] NN__hidden_layer_sizes=(20,), rp__n_components=5 ................\n",
      "[CV]  NN__hidden_layer_sizes=(20,), rp__n_components=5, score=0.35179786200194363, total=   0.0s\n",
      "[CV] NN__hidden_layer_sizes=(20,), rp__n_components=5 ................\n",
      "[CV]  NN__hidden_layer_sizes=(20,), rp__n_components=5, score=0.35179786200194363, total=   0.0s\n",
      "[CV] NN__hidden_layer_sizes=(20,), rp__n_components=5 ................\n",
      "[CV]  NN__hidden_layer_sizes=(20,), rp__n_components=5, score=0.35116731517509725, total=   0.0s\n",
      "[CV] NN__hidden_layer_sizes=(20,), rp__n_components=10 ...............\n",
      "[CV]  NN__hidden_layer_sizes=(20,), rp__n_components=10, score=0.6485436893203883, total=   0.0s\n",
      "[CV] NN__hidden_layer_sizes=(20,), rp__n_components=10 ...............\n",
      "[CV]  NN__hidden_layer_sizes=(20,), rp__n_components=10, score=0.6485436893203883, total=   0.0s\n",
      "[CV] NN__hidden_layer_sizes=(20,), rp__n_components=10 ...............\n",
      "[CV]  NN__hidden_layer_sizes=(20,), rp__n_components=10, score=0.6482021379980564, total=   0.0s\n",
      "[CV] NN__hidden_layer_sizes=(20,), rp__n_components=10 ...............\n",
      "[CV]  NN__hidden_layer_sizes=(20,), rp__n_components=10, score=0.6482021379980564, total=   0.0s\n",
      "[CV] NN__hidden_layer_sizes=(20,), rp__n_components=10 ...............\n",
      "[CV]  NN__hidden_layer_sizes=(20,), rp__n_components=10, score=0.6488326848249028, total=   0.0s\n",
      "[CV] NN__hidden_layer_sizes=(20,), rp__n_components=15 ...............\n",
      "[CV]  NN__hidden_layer_sizes=(20,), rp__n_components=15, score=0.6310679611650486, total=   0.0s\n",
      "[CV] NN__hidden_layer_sizes=(20,), rp__n_components=15 ...............\n",
      "[CV]  NN__hidden_layer_sizes=(20,), rp__n_components=15, score=0.6388349514563106, total=   0.0s\n",
      "[CV] NN__hidden_layer_sizes=(20,), rp__n_components=15 ...............\n",
      "[CV]  NN__hidden_layer_sizes=(20,), rp__n_components=15, score=0.6132167152575316, total=   0.0s\n",
      "[CV] NN__hidden_layer_sizes=(20,), rp__n_components=15 ...............\n",
      "[CV]  NN__hidden_layer_sizes=(20,), rp__n_components=15, score=0.6336248785228377, total=   0.0s\n",
      "[CV] NN__hidden_layer_sizes=(20,), rp__n_components=15 ...............\n",
      "[CV]  NN__hidden_layer_sizes=(20,), rp__n_components=15, score=0.6099221789883269, total=   0.0s\n",
      "[CV] NN__hidden_layer_sizes=(20,), rp__n_components=20 ...............\n",
      "[CV]  NN__hidden_layer_sizes=(20,), rp__n_components=20, score=0.6097087378640776, total=   0.0s\n",
      "[CV] NN__hidden_layer_sizes=(20,), rp__n_components=20 ...............\n",
      "[CV]  NN__hidden_layer_sizes=(20,), rp__n_components=20, score=0.6009708737864078, total=   0.0s\n",
      "[CV] NN__hidden_layer_sizes=(20,), rp__n_components=20 ...............\n",
      "[CV]  NN__hidden_layer_sizes=(20,), rp__n_components=20, score=0.6073858114674441, total=   0.0s\n",
      "[CV] NN__hidden_layer_sizes=(20,), rp__n_components=20 ...............\n",
      "[CV]  NN__hidden_layer_sizes=(20,), rp__n_components=20, score=0.6112730806608357, total=   0.0s\n",
      "[CV] NN__hidden_layer_sizes=(20,), rp__n_components=20 ...............\n",
      "[CV]  NN__hidden_layer_sizes=(20,), rp__n_components=20, score=0.6108949416342413, total=   0.0s\n",
      "[CV] NN__hidden_layer_sizes=(20,), rp__n_components=25 ...............\n"
     ]
    },
    {
     "name": "stdout",
     "output_type": "stream",
     "text": [
      "[CV]  NN__hidden_layer_sizes=(20,), rp__n_components=25, score=0.6378640776699029, total=   0.0s\n",
      "[CV] NN__hidden_layer_sizes=(20,), rp__n_components=25 ...............\n",
      "[CV]  NN__hidden_layer_sizes=(20,), rp__n_components=25, score=0.6359223300970874, total=   0.0s\n",
      "[CV] NN__hidden_layer_sizes=(20,), rp__n_components=25 ...............\n",
      "[CV]  NN__hidden_layer_sizes=(20,), rp__n_components=25, score=0.640427599611273, total=   0.0s\n",
      "[CV] NN__hidden_layer_sizes=(20,), rp__n_components=25 ...............\n",
      "[CV]  NN__hidden_layer_sizes=(20,), rp__n_components=25, score=0.6433430515063168, total=   0.0s\n",
      "[CV] NN__hidden_layer_sizes=(20,), rp__n_components=25 ...............\n",
      "[CV]  NN__hidden_layer_sizes=(20,), rp__n_components=25, score=0.6371595330739299, total=   0.0s\n",
      "[CV] NN__hidden_layer_sizes=(20,), rp__n_components=30 ...............\n",
      "[CV]  NN__hidden_layer_sizes=(20,), rp__n_components=30, score=0.6446601941747573, total=   0.0s\n",
      "[CV] NN__hidden_layer_sizes=(20,), rp__n_components=30 ...............\n",
      "[CV]  NN__hidden_layer_sizes=(20,), rp__n_components=30, score=0.6456310679611651, total=   0.0s\n",
      "[CV] NN__hidden_layer_sizes=(20,), rp__n_components=30 ...............\n",
      "[CV]  NN__hidden_layer_sizes=(20,), rp__n_components=30, score=0.6355685131195336, total=   0.0s\n",
      "[CV] NN__hidden_layer_sizes=(20,), rp__n_components=30 ...............\n",
      "[CV]  NN__hidden_layer_sizes=(20,), rp__n_components=30, score=0.6394557823129252, total=   0.0s\n",
      "[CV] NN__hidden_layer_sizes=(20,), rp__n_components=30 ...............\n",
      "[CV]  NN__hidden_layer_sizes=(20,), rp__n_components=30, score=0.6050583657587548, total=   0.0s\n",
      "[CV] NN__hidden_layer_sizes=(20,), rp__n_components=35 ...............\n",
      "[CV]  NN__hidden_layer_sizes=(20,), rp__n_components=35, score=0.7563106796116504, total=   0.1s\n",
      "[CV] NN__hidden_layer_sizes=(20,), rp__n_components=35 ...............\n",
      "[CV]  NN__hidden_layer_sizes=(20,), rp__n_components=35, score=0.8058252427184466, total=   0.2s\n",
      "[CV] NN__hidden_layer_sizes=(20,), rp__n_components=35 ...............\n",
      "[CV]  NN__hidden_layer_sizes=(20,), rp__n_components=35, score=0.7395529640427599, total=   0.1s\n",
      "[CV] NN__hidden_layer_sizes=(20,), rp__n_components=35 ...............\n",
      "[CV]  NN__hidden_layer_sizes=(20,), rp__n_components=35, score=0.8075801749271136, total=   0.3s\n",
      "[CV] NN__hidden_layer_sizes=(20,), rp__n_components=35 ...............\n",
      "[CV]  NN__hidden_layer_sizes=(20,), rp__n_components=35, score=0.7266536964980544, total=   0.1s\n",
      "[CV] NN__hidden_layer_sizes=(30,), rp__n_components=2 ................\n",
      "[CV]  NN__hidden_layer_sizes=(30,), rp__n_components=2, score=0.6388349514563106, total=   0.0s\n",
      "[CV] NN__hidden_layer_sizes=(30,), rp__n_components=2 ................\n",
      "[CV]  NN__hidden_layer_sizes=(30,), rp__n_components=2, score=0.6495145631067961, total=   0.0s\n",
      "[CV] NN__hidden_layer_sizes=(30,), rp__n_components=2 ................\n",
      "[CV]  NN__hidden_layer_sizes=(30,), rp__n_components=2, score=0.6433430515063168, total=   0.0s\n",
      "[CV] NN__hidden_layer_sizes=(30,), rp__n_components=2 ................\n",
      "[CV]  NN__hidden_layer_sizes=(30,), rp__n_components=2, score=0.6462585034013606, total=   0.0s\n",
      "[CV] NN__hidden_layer_sizes=(30,), rp__n_components=2 ................\n",
      "[CV]  NN__hidden_layer_sizes=(30,), rp__n_components=2, score=0.6478599221789884, total=   0.0s\n",
      "[CV] NN__hidden_layer_sizes=(30,), rp__n_components=5 ................\n",
      "[CV]  NN__hidden_layer_sizes=(30,), rp__n_components=5, score=0.6485436893203883, total=   0.0s\n",
      "[CV] NN__hidden_layer_sizes=(30,), rp__n_components=5 ................\n",
      "[CV]  NN__hidden_layer_sizes=(30,), rp__n_components=5, score=0.6446601941747573, total=   0.0s\n",
      "[CV] NN__hidden_layer_sizes=(30,), rp__n_components=5 ................\n",
      "[CV]  NN__hidden_layer_sizes=(30,), rp__n_components=5, score=0.630709426627794, total=   0.0s\n",
      "[CV] NN__hidden_layer_sizes=(30,), rp__n_components=5 ................\n",
      "[CV]  NN__hidden_layer_sizes=(30,), rp__n_components=5, score=0.6297376093294461, total=   0.0s\n",
      "[CV] NN__hidden_layer_sizes=(30,), rp__n_components=5 ................\n",
      "[CV]  NN__hidden_layer_sizes=(30,), rp__n_components=5, score=0.6400778210116731, total=   0.0s\n",
      "[CV] NN__hidden_layer_sizes=(30,), rp__n_components=10 ...............\n",
      "[CV]  NN__hidden_layer_sizes=(30,), rp__n_components=10, score=0.5980582524271845, total=   0.0s\n",
      "[CV] NN__hidden_layer_sizes=(30,), rp__n_components=10 ...............\n",
      "[CV]  NN__hidden_layer_sizes=(30,), rp__n_components=10, score=0.5951456310679611, total=   0.0s\n",
      "[CV] NN__hidden_layer_sizes=(30,), rp__n_components=10 ...............\n",
      "[CV]  NN__hidden_layer_sizes=(30,), rp__n_components=10, score=0.5966958211856171, total=   0.0s\n",
      "[CV] NN__hidden_layer_sizes=(30,), rp__n_components=10 ...............\n",
      "[CV]  NN__hidden_layer_sizes=(30,), rp__n_components=10, score=0.5685131195335277, total=   0.0s\n",
      "[CV] NN__hidden_layer_sizes=(30,), rp__n_components=10 ...............\n",
      "[CV]  NN__hidden_layer_sizes=(30,), rp__n_components=10, score=0.5700389105058365, total=   0.0s\n",
      "[CV] NN__hidden_layer_sizes=(30,), rp__n_components=15 ...............\n",
      "[CV]  NN__hidden_layer_sizes=(30,), rp__n_components=15, score=0.6485436893203883, total=   0.0s\n",
      "[CV] NN__hidden_layer_sizes=(30,), rp__n_components=15 ...............\n",
      "[CV]  NN__hidden_layer_sizes=(30,), rp__n_components=15, score=0.6485436893203883, total=   0.0s\n",
      "[CV] NN__hidden_layer_sizes=(30,), rp__n_components=15 ...............\n",
      "[CV]  NN__hidden_layer_sizes=(30,), rp__n_components=15, score=0.6482021379980564, total=   0.0s\n",
      "[CV] NN__hidden_layer_sizes=(30,), rp__n_components=15 ...............\n",
      "[CV]  NN__hidden_layer_sizes=(30,), rp__n_components=15, score=0.6482021379980564, total=   0.0s\n",
      "[CV] NN__hidden_layer_sizes=(30,), rp__n_components=15 ...............\n",
      "[CV]  NN__hidden_layer_sizes=(30,), rp__n_components=15, score=0.6488326848249028, total=   0.0s\n",
      "[CV] NN__hidden_layer_sizes=(30,), rp__n_components=20 ...............\n",
      "[CV]  NN__hidden_layer_sizes=(30,), rp__n_components=20, score=0.512621359223301, total=   0.1s\n",
      "[CV] NN__hidden_layer_sizes=(30,), rp__n_components=20 ...............\n",
      "[CV]  NN__hidden_layer_sizes=(30,), rp__n_components=20, score=0.558252427184466, total=   0.1s\n",
      "[CV] NN__hidden_layer_sizes=(30,), rp__n_components=20 ...............\n",
      "[CV]  NN__hidden_layer_sizes=(30,), rp__n_components=20, score=0.7424684159378037, total=   0.3s\n",
      "[CV] NN__hidden_layer_sizes=(30,), rp__n_components=20 ...............\n",
      "[CV]  NN__hidden_layer_sizes=(30,), rp__n_components=20, score=0.576287657920311, total=   0.0s\n",
      "[CV] NN__hidden_layer_sizes=(30,), rp__n_components=20 ...............\n",
      "[CV]  NN__hidden_layer_sizes=(30,), rp__n_components=20, score=0.7675097276264592, total=   0.3s\n",
      "[CV] NN__hidden_layer_sizes=(30,), rp__n_components=25 ...............\n",
      "[CV]  NN__hidden_layer_sizes=(30,), rp__n_components=25, score=0.5572815533980583, total=   0.0s\n",
      "[CV] NN__hidden_layer_sizes=(30,), rp__n_components=25 ...............\n",
      "[CV]  NN__hidden_layer_sizes=(30,), rp__n_components=25, score=0.6368932038834951, total=   0.1s\n",
      "[CV] NN__hidden_layer_sizes=(30,), rp__n_components=25 ...............\n",
      "[CV]  NN__hidden_layer_sizes=(30,), rp__n_components=25, score=0.6705539358600583, total=   0.1s\n",
      "[CV] NN__hidden_layer_sizes=(30,), rp__n_components=25 ...............\n",
      "[CV]  NN__hidden_layer_sizes=(30,), rp__n_components=25, score=0.7473275024295433, total=   0.3s\n",
      "[CV] NN__hidden_layer_sizes=(30,), rp__n_components=25 ...............\n",
      "[CV]  NN__hidden_layer_sizes=(30,), rp__n_components=25, score=0.7110894941634242, total=   0.2s\n",
      "[CV] NN__hidden_layer_sizes=(30,), rp__n_components=30 ...............\n",
      "[CV]  NN__hidden_layer_sizes=(30,), rp__n_components=30, score=0.6776699029126214, total=   0.1s\n",
      "[CV] NN__hidden_layer_sizes=(30,), rp__n_components=30 ...............\n",
      "[CV]  NN__hidden_layer_sizes=(30,), rp__n_components=30, score=0.7398058252427184, total=   0.2s\n",
      "[CV] NN__hidden_layer_sizes=(30,), rp__n_components=30 ...............\n",
      "[CV]  NN__hidden_layer_sizes=(30,), rp__n_components=30, score=0.630709426627794, total=   0.0s\n",
      "[CV] NN__hidden_layer_sizes=(30,), rp__n_components=30 ...............\n",
      "[CV]  NN__hidden_layer_sizes=(30,), rp__n_components=30, score=0.60932944606414, total=   0.0s\n",
      "[CV] NN__hidden_layer_sizes=(30,), rp__n_components=30 ...............\n",
      "[CV]  NN__hidden_layer_sizes=(30,), rp__n_components=30, score=0.6264591439688716, total=   0.1s\n",
      "[CV] NN__hidden_layer_sizes=(30,), rp__n_components=35 ...............\n"
     ]
    },
    {
     "name": "stdout",
     "output_type": "stream",
     "text": [
      "[CV]  NN__hidden_layer_sizes=(30,), rp__n_components=35, score=0.6097087378640776, total=   0.1s\n",
      "[CV] NN__hidden_layer_sizes=(30,), rp__n_components=35 ...............\n",
      "[CV]  NN__hidden_layer_sizes=(30,), rp__n_components=35, score=0.6106796116504855, total=   0.1s\n",
      "[CV] NN__hidden_layer_sizes=(30,), rp__n_components=35 ...............\n",
      "[CV]  NN__hidden_layer_sizes=(30,), rp__n_components=35, score=0.5675413022351797, total=   0.0s\n",
      "[CV] NN__hidden_layer_sizes=(30,), rp__n_components=35 ...............\n",
      "[CV]  NN__hidden_layer_sizes=(30,), rp__n_components=35, score=0.6005830903790087, total=   0.0s\n",
      "[CV] NN__hidden_layer_sizes=(30,), rp__n_components=35 ...............\n",
      "[CV]  NN__hidden_layer_sizes=(30,), rp__n_components=35, score=0.5700389105058365, total=   0.0s\n",
      "[CV] NN__hidden_layer_sizes=(30, 10), rp__n_components=2 .............\n",
      "[CV]  NN__hidden_layer_sizes=(30, 10), rp__n_components=2, score=0.6359223300970874, total=   0.0s\n",
      "[CV] NN__hidden_layer_sizes=(30, 10), rp__n_components=2 .............\n",
      "[CV]  NN__hidden_layer_sizes=(30, 10), rp__n_components=2, score=0.6407766990291263, total=   0.0s\n",
      "[CV] NN__hidden_layer_sizes=(30, 10), rp__n_components=2 .............\n",
      "[CV]  NN__hidden_layer_sizes=(30, 10), rp__n_components=2, score=0.6336248785228377, total=   0.0s\n",
      "[CV] NN__hidden_layer_sizes=(30, 10), rp__n_components=2 .............\n",
      "[CV]  NN__hidden_layer_sizes=(30, 10), rp__n_components=2, score=0.6365403304178814, total=   0.0s\n",
      "[CV] NN__hidden_layer_sizes=(30, 10), rp__n_components=2 .............\n",
      "[CV]  NN__hidden_layer_sizes=(30, 10), rp__n_components=2, score=0.6206225680933852, total=   0.0s\n",
      "[CV] NN__hidden_layer_sizes=(30, 10), rp__n_components=5 .............\n",
      "[CV]  NN__hidden_layer_sizes=(30, 10), rp__n_components=5, score=0.6485436893203883, total=   0.0s\n",
      "[CV] NN__hidden_layer_sizes=(30, 10), rp__n_components=5 .............\n",
      "[CV]  NN__hidden_layer_sizes=(30, 10), rp__n_components=5, score=0.6485436893203883, total=   0.0s\n",
      "[CV] NN__hidden_layer_sizes=(30, 10), rp__n_components=5 .............\n",
      "[CV]  NN__hidden_layer_sizes=(30, 10), rp__n_components=5, score=0.6482021379980564, total=   0.0s\n",
      "[CV] NN__hidden_layer_sizes=(30, 10), rp__n_components=5 .............\n",
      "[CV]  NN__hidden_layer_sizes=(30, 10), rp__n_components=5, score=0.6482021379980564, total=   0.0s\n",
      "[CV] NN__hidden_layer_sizes=(30, 10), rp__n_components=5 .............\n",
      "[CV]  NN__hidden_layer_sizes=(30, 10), rp__n_components=5, score=0.6488326848249028, total=   0.0s\n",
      "[CV] NN__hidden_layer_sizes=(30, 10), rp__n_components=10 ............\n",
      "[CV]  NN__hidden_layer_sizes=(30, 10), rp__n_components=10, score=0.6485436893203883, total=   0.0s\n",
      "[CV] NN__hidden_layer_sizes=(30, 10), rp__n_components=10 ............\n",
      "[CV]  NN__hidden_layer_sizes=(30, 10), rp__n_components=10, score=0.6485436893203883, total=   0.0s\n",
      "[CV] NN__hidden_layer_sizes=(30, 10), rp__n_components=10 ............\n",
      "[CV]  NN__hidden_layer_sizes=(30, 10), rp__n_components=10, score=0.6482021379980564, total=   0.0s\n",
      "[CV] NN__hidden_layer_sizes=(30, 10), rp__n_components=10 ............\n",
      "[CV]  NN__hidden_layer_sizes=(30, 10), rp__n_components=10, score=0.6482021379980564, total=   0.0s\n",
      "[CV] NN__hidden_layer_sizes=(30, 10), rp__n_components=10 ............\n",
      "[CV]  NN__hidden_layer_sizes=(30, 10), rp__n_components=10, score=0.6361867704280155, total=   0.0s\n",
      "[CV] NN__hidden_layer_sizes=(30, 10), rp__n_components=15 ............\n",
      "[CV]  NN__hidden_layer_sizes=(30, 10), rp__n_components=15, score=0.6281553398058253, total=   0.1s\n",
      "[CV] NN__hidden_layer_sizes=(30, 10), rp__n_components=15 ............\n",
      "[CV]  NN__hidden_layer_sizes=(30, 10), rp__n_components=15, score=0.6475728155339806, total=   0.0s\n",
      "[CV] NN__hidden_layer_sizes=(30, 10), rp__n_components=15 ............\n",
      "[CV]  NN__hidden_layer_sizes=(30, 10), rp__n_components=15, score=0.7045675413022352, total=   0.1s\n",
      "[CV] NN__hidden_layer_sizes=(30, 10), rp__n_components=15 ............\n",
      "[CV]  NN__hidden_layer_sizes=(30, 10), rp__n_components=15, score=0.6754130223517979, total=   0.1s\n",
      "[CV] NN__hidden_layer_sizes=(30, 10), rp__n_components=15 ............\n",
      "[CV]  NN__hidden_layer_sizes=(30, 10), rp__n_components=15, score=0.7003891050583657, total=   0.1s\n",
      "[CV] NN__hidden_layer_sizes=(30, 10), rp__n_components=20 ............\n",
      "[CV]  NN__hidden_layer_sizes=(30, 10), rp__n_components=20, score=0.8029126213592233, total=   0.3s\n",
      "[CV] NN__hidden_layer_sizes=(30, 10), rp__n_components=20 ............\n",
      "[CV]  NN__hidden_layer_sizes=(30, 10), rp__n_components=20, score=0.7504854368932039, total=   0.3s\n",
      "[CV] NN__hidden_layer_sizes=(30, 10), rp__n_components=20 ............\n",
      "[CV]  NN__hidden_layer_sizes=(30, 10), rp__n_components=20, score=0.7337220602526725, total=   0.1s\n",
      "[CV] NN__hidden_layer_sizes=(30, 10), rp__n_components=20 ............\n",
      "[CV]  NN__hidden_layer_sizes=(30, 10), rp__n_components=20, score=0.7249757045675413, total=   0.2s\n",
      "[CV] NN__hidden_layer_sizes=(30, 10), rp__n_components=20 ............\n",
      "[CV]  NN__hidden_layer_sizes=(30, 10), rp__n_components=20, score=0.6663424124513618, total=   0.1s\n",
      "[CV] NN__hidden_layer_sizes=(30, 10), rp__n_components=25 ............\n",
      "[CV]  NN__hidden_layer_sizes=(30, 10), rp__n_components=25, score=0.6427184466019418, total=   0.0s\n",
      "[CV] NN__hidden_layer_sizes=(30, 10), rp__n_components=25 ............\n",
      "[CV]  NN__hidden_layer_sizes=(30, 10), rp__n_components=25, score=0.6456310679611651, total=   0.0s\n",
      "[CV] NN__hidden_layer_sizes=(30, 10), rp__n_components=25 ............\n",
      "[CV]  NN__hidden_layer_sizes=(30, 10), rp__n_components=25, score=0.641399416909621, total=   0.0s\n",
      "[CV] NN__hidden_layer_sizes=(30, 10), rp__n_components=25 ............\n",
      "[CV]  NN__hidden_layer_sizes=(30, 10), rp__n_components=25, score=0.6452866861030127, total=   0.0s\n",
      "[CV] NN__hidden_layer_sizes=(30, 10), rp__n_components=25 ............\n",
      "[CV]  NN__hidden_layer_sizes=(30, 10), rp__n_components=25, score=0.646887159533074, total=   0.0s\n",
      "[CV] NN__hidden_layer_sizes=(30, 10), rp__n_components=30 ............\n",
      "[CV]  NN__hidden_layer_sizes=(30, 10), rp__n_components=30, score=0.5932038834951456, total=   0.0s\n",
      "[CV] NN__hidden_layer_sizes=(30, 10), rp__n_components=30 ............\n",
      "[CV]  NN__hidden_layer_sizes=(30, 10), rp__n_components=30, score=0.5825242718446602, total=   0.0s\n",
      "[CV] NN__hidden_layer_sizes=(30, 10), rp__n_components=30 ............\n",
      "[CV]  NN__hidden_layer_sizes=(30, 10), rp__n_components=30, score=0.5840621963070942, total=   0.0s\n",
      "[CV] NN__hidden_layer_sizes=(30, 10), rp__n_components=30 ............\n",
      "[CV]  NN__hidden_layer_sizes=(30, 10), rp__n_components=30, score=0.6034985422740525, total=   0.0s\n",
      "[CV] NN__hidden_layer_sizes=(30, 10), rp__n_components=30 ............\n",
      "[CV]  NN__hidden_layer_sizes=(30, 10), rp__n_components=30, score=0.7217898832684825, total=   0.3s\n",
      "[CV] NN__hidden_layer_sizes=(30, 10), rp__n_components=35 ............\n",
      "[CV]  NN__hidden_layer_sizes=(30, 10), rp__n_components=35, score=0.6485436893203883, total=   0.0s\n",
      "[CV] NN__hidden_layer_sizes=(30, 10), rp__n_components=35 ............\n",
      "[CV]  NN__hidden_layer_sizes=(30, 10), rp__n_components=35, score=0.6485436893203883, total=   0.0s\n",
      "[CV] NN__hidden_layer_sizes=(30, 10), rp__n_components=35 ............\n",
      "[CV]  NN__hidden_layer_sizes=(30, 10), rp__n_components=35, score=0.6482021379980564, total=   0.0s\n",
      "[CV] NN__hidden_layer_sizes=(30, 10), rp__n_components=35 ............\n",
      "[CV]  NN__hidden_layer_sizes=(30, 10), rp__n_components=35, score=0.6482021379980564, total=   0.0s\n",
      "[CV] NN__hidden_layer_sizes=(30, 10), rp__n_components=35 ............\n",
      "[CV]  NN__hidden_layer_sizes=(30, 10), rp__n_components=35, score=0.6488326848249028, total=   0.0s\n",
      "[CV] NN__hidden_layer_sizes=(30, 20), rp__n_components=2 .............\n",
      "[CV]  NN__hidden_layer_sizes=(30, 20), rp__n_components=2, score=0.6485436893203883, total=   0.0s\n",
      "[CV] NN__hidden_layer_sizes=(30, 20), rp__n_components=2 .............\n",
      "[CV]  NN__hidden_layer_sizes=(30, 20), rp__n_components=2, score=0.6485436893203883, total=   0.0s\n",
      "[CV] NN__hidden_layer_sizes=(30, 20), rp__n_components=2 .............\n",
      "[CV]  NN__hidden_layer_sizes=(30, 20), rp__n_components=2, score=0.6472303206997084, total=   0.1s\n",
      "[CV] NN__hidden_layer_sizes=(30, 20), rp__n_components=2 .............\n",
      "[CV]  NN__hidden_layer_sizes=(30, 20), rp__n_components=2, score=0.6472303206997084, total=   0.0s\n",
      "[CV] NN__hidden_layer_sizes=(30, 20), rp__n_components=2 .............\n"
     ]
    },
    {
     "name": "stdout",
     "output_type": "stream",
     "text": [
      "[CV]  NN__hidden_layer_sizes=(30, 20), rp__n_components=2, score=0.6478599221789884, total=   0.0s\n",
      "[CV] NN__hidden_layer_sizes=(30, 20), rp__n_components=5 .............\n",
      "[CV]  NN__hidden_layer_sizes=(30, 20), rp__n_components=5, score=0.5757281553398058, total=   0.0s\n",
      "[CV] NN__hidden_layer_sizes=(30, 20), rp__n_components=5 .............\n",
      "[CV]  NN__hidden_layer_sizes=(30, 20), rp__n_components=5, score=0.683495145631068, total=   0.2s\n",
      "[CV] NN__hidden_layer_sizes=(30, 20), rp__n_components=5 .............\n",
      "[CV]  NN__hidden_layer_sizes=(30, 20), rp__n_components=5, score=0.6462585034013606, total=   0.0s\n",
      "[CV] NN__hidden_layer_sizes=(30, 20), rp__n_components=5 .............\n",
      "[CV]  NN__hidden_layer_sizes=(30, 20), rp__n_components=5, score=0.6754130223517979, total=   0.1s\n",
      "[CV] NN__hidden_layer_sizes=(30, 20), rp__n_components=5 .............\n",
      "[CV]  NN__hidden_layer_sizes=(30, 20), rp__n_components=5, score=0.6614785992217899, total=   0.1s\n",
      "[CV] NN__hidden_layer_sizes=(30, 20), rp__n_components=10 ............\n",
      "[CV]  NN__hidden_layer_sizes=(30, 20), rp__n_components=10, score=0.6184466019417476, total=   0.0s\n",
      "[CV] NN__hidden_layer_sizes=(30, 20), rp__n_components=10 ............\n",
      "[CV]  NN__hidden_layer_sizes=(30, 20), rp__n_components=10, score=0.6436893203883495, total=   0.1s\n",
      "[CV] NN__hidden_layer_sizes=(30, 20), rp__n_components=10 ............\n",
      "[CV]  NN__hidden_layer_sizes=(30, 20), rp__n_components=10, score=0.6161321671525753, total=   0.0s\n",
      "[CV] NN__hidden_layer_sizes=(30, 20), rp__n_components=10 ............\n",
      "[CV]  NN__hidden_layer_sizes=(30, 20), rp__n_components=10, score=0.5714285714285714, total=   0.0s\n",
      "[CV] NN__hidden_layer_sizes=(30, 20), rp__n_components=10 ............\n",
      "[CV]  NN__hidden_layer_sizes=(30, 20), rp__n_components=10, score=0.6449416342412452, total=   0.1s\n",
      "[CV] NN__hidden_layer_sizes=(30, 20), rp__n_components=15 ............\n",
      "[CV]  NN__hidden_layer_sizes=(30, 20), rp__n_components=15, score=0.6184466019417476, total=   0.0s\n",
      "[CV] NN__hidden_layer_sizes=(30, 20), rp__n_components=15 ............\n",
      "[CV]  NN__hidden_layer_sizes=(30, 20), rp__n_components=15, score=0.7951456310679612, total=   0.4s\n",
      "[CV] NN__hidden_layer_sizes=(30, 20), rp__n_components=15 ............\n",
      "[CV]  NN__hidden_layer_sizes=(30, 20), rp__n_components=15, score=0.782312925170068, total=   0.3s\n",
      "[CV] NN__hidden_layer_sizes=(30, 20), rp__n_components=15 ............\n",
      "[CV]  NN__hidden_layer_sizes=(30, 20), rp__n_components=15, score=0.6355685131195336, total=   0.1s\n",
      "[CV] NN__hidden_layer_sizes=(30, 20), rp__n_components=15 ............\n",
      "[CV]  NN__hidden_layer_sizes=(30, 20), rp__n_components=15, score=0.7752918287937743, total=   0.4s\n",
      "[CV] NN__hidden_layer_sizes=(30, 20), rp__n_components=20 ............\n",
      "[CV]  NN__hidden_layer_sizes=(30, 20), rp__n_components=20, score=0.6485436893203883, total=   0.1s\n",
      "[CV] NN__hidden_layer_sizes=(30, 20), rp__n_components=20 ............\n",
      "[CV]  NN__hidden_layer_sizes=(30, 20), rp__n_components=20, score=0.6475728155339806, total=   0.1s\n",
      "[CV] NN__hidden_layer_sizes=(30, 20), rp__n_components=20 ............\n",
      "[CV]  NN__hidden_layer_sizes=(30, 20), rp__n_components=20, score=0.6482021379980564, total=   0.0s\n",
      "[CV] NN__hidden_layer_sizes=(30, 20), rp__n_components=20 ............\n",
      "[CV]  NN__hidden_layer_sizes=(30, 20), rp__n_components=20, score=0.6482021379980564, total=   0.0s\n",
      "[CV] NN__hidden_layer_sizes=(30, 20), rp__n_components=20 ............\n",
      "[CV]  NN__hidden_layer_sizes=(30, 20), rp__n_components=20, score=0.646887159533074, total=   0.0s\n",
      "[CV] NN__hidden_layer_sizes=(30, 20), rp__n_components=25 ............\n",
      "[CV]  NN__hidden_layer_sizes=(30, 20), rp__n_components=25, score=0.6485436893203883, total=   0.0s\n",
      "[CV] NN__hidden_layer_sizes=(30, 20), rp__n_components=25 ............\n",
      "[CV]  NN__hidden_layer_sizes=(30, 20), rp__n_components=25, score=0.6485436893203883, total=   0.0s\n",
      "[CV] NN__hidden_layer_sizes=(30, 20), rp__n_components=25 ............\n",
      "[CV]  NN__hidden_layer_sizes=(30, 20), rp__n_components=25, score=0.6482021379980564, total=   0.0s\n",
      "[CV] NN__hidden_layer_sizes=(30, 20), rp__n_components=25 ............\n",
      "[CV]  NN__hidden_layer_sizes=(30, 20), rp__n_components=25, score=0.6482021379980564, total=   0.1s\n",
      "[CV] NN__hidden_layer_sizes=(30, 20), rp__n_components=25 ............\n",
      "[CV]  NN__hidden_layer_sizes=(30, 20), rp__n_components=25, score=0.6410505836575876, total=   0.3s\n",
      "[CV] NN__hidden_layer_sizes=(30, 20), rp__n_components=30 ............\n",
      "[CV]  NN__hidden_layer_sizes=(30, 20), rp__n_components=30, score=0.6485436893203883, total=   0.0s\n",
      "[CV] NN__hidden_layer_sizes=(30, 20), rp__n_components=30 ............\n",
      "[CV]  NN__hidden_layer_sizes=(30, 20), rp__n_components=30, score=0.6485436893203883, total=   0.0s\n",
      "[CV] NN__hidden_layer_sizes=(30, 20), rp__n_components=30 ............\n",
      "[CV]  NN__hidden_layer_sizes=(30, 20), rp__n_components=30, score=0.6482021379980564, total=   0.0s\n",
      "[CV] NN__hidden_layer_sizes=(30, 20), rp__n_components=30 ............\n",
      "[CV]  NN__hidden_layer_sizes=(30, 20), rp__n_components=30, score=0.6482021379980564, total=   0.0s\n",
      "[CV] NN__hidden_layer_sizes=(30, 20), rp__n_components=30 ............\n",
      "[CV]  NN__hidden_layer_sizes=(30, 20), rp__n_components=30, score=0.6488326848249028, total=   0.0s\n",
      "[CV] NN__hidden_layer_sizes=(30, 20), rp__n_components=35 ............\n",
      "[CV]  NN__hidden_layer_sizes=(30, 20), rp__n_components=35, score=0.6485436893203883, total=   0.0s\n",
      "[CV] NN__hidden_layer_sizes=(30, 20), rp__n_components=35 ............\n",
      "[CV]  NN__hidden_layer_sizes=(30, 20), rp__n_components=35, score=0.6485436893203883, total=   0.0s\n",
      "[CV] NN__hidden_layer_sizes=(30, 20), rp__n_components=35 ............\n",
      "[CV]  NN__hidden_layer_sizes=(30, 20), rp__n_components=35, score=0.6482021379980564, total=   0.0s\n",
      "[CV] NN__hidden_layer_sizes=(30, 20), rp__n_components=35 ............\n",
      "[CV]  NN__hidden_layer_sizes=(30, 20), rp__n_components=35, score=0.7298347910592808, total=   0.3s\n",
      "[CV] NN__hidden_layer_sizes=(30, 20), rp__n_components=35 ............\n",
      "[CV]  NN__hidden_layer_sizes=(30, 20), rp__n_components=35, score=0.7490272373540856, total=   0.3s\n",
      "[CV] NN__hidden_layer_sizes=(30, 30), rp__n_components=2 .............\n",
      "[CV]  NN__hidden_layer_sizes=(30, 30), rp__n_components=2, score=0.6485436893203883, total=   0.0s\n",
      "[CV] NN__hidden_layer_sizes=(30, 30), rp__n_components=2 .............\n",
      "[CV]  NN__hidden_layer_sizes=(30, 30), rp__n_components=2, score=0.6485436893203883, total=   0.1s\n",
      "[CV] NN__hidden_layer_sizes=(30, 30), rp__n_components=2 .............\n",
      "[CV]  NN__hidden_layer_sizes=(30, 30), rp__n_components=2, score=0.6482021379980564, total=   0.0s\n",
      "[CV] NN__hidden_layer_sizes=(30, 30), rp__n_components=2 .............\n",
      "[CV]  NN__hidden_layer_sizes=(30, 30), rp__n_components=2, score=0.6482021379980564, total=   0.0s\n",
      "[CV] NN__hidden_layer_sizes=(30, 30), rp__n_components=2 .............\n",
      "[CV]  NN__hidden_layer_sizes=(30, 30), rp__n_components=2, score=0.6488326848249028, total=   0.0s\n",
      "[CV] NN__hidden_layer_sizes=(30, 30), rp__n_components=5 .............\n",
      "[CV]  NN__hidden_layer_sizes=(30, 30), rp__n_components=5, score=0.6495145631067961, total=   0.0s\n",
      "[CV] NN__hidden_layer_sizes=(30, 30), rp__n_components=5 .............\n",
      "[CV]  NN__hidden_layer_sizes=(30, 30), rp__n_components=5, score=0.6174757281553398, total=   0.0s\n",
      "[CV] NN__hidden_layer_sizes=(30, 30), rp__n_components=5 .............\n",
      "[CV]  NN__hidden_layer_sizes=(30, 30), rp__n_components=5, score=0.6482021379980564, total=   0.0s\n",
      "[CV] NN__hidden_layer_sizes=(30, 30), rp__n_components=5 .............\n",
      "[CV]  NN__hidden_layer_sizes=(30, 30), rp__n_components=5, score=0.67444120505345, total=   0.1s\n",
      "[CV] NN__hidden_layer_sizes=(30, 30), rp__n_components=5 .............\n",
      "[CV]  NN__hidden_layer_sizes=(30, 30), rp__n_components=5, score=0.688715953307393, total=   0.1s\n",
      "[CV] NN__hidden_layer_sizes=(30, 30), rp__n_components=10 ............\n",
      "[CV]  NN__hidden_layer_sizes=(30, 30), rp__n_components=10, score=0.6601941747572816, total=   0.1s\n",
      "[CV] NN__hidden_layer_sizes=(30, 30), rp__n_components=10 ............\n",
      "[CV]  NN__hidden_layer_sizes=(30, 30), rp__n_components=10, score=0.5864077669902913, total=   0.0s\n",
      "[CV] NN__hidden_layer_sizes=(30, 30), rp__n_components=10 ............\n",
      "[CV]  NN__hidden_layer_sizes=(30, 30), rp__n_components=10, score=0.6054421768707483, total=   0.0s\n",
      "[CV] NN__hidden_layer_sizes=(30, 30), rp__n_components=10 ............\n",
      "[CV]  NN__hidden_layer_sizes=(30, 30), rp__n_components=10, score=0.608357628765792, total=   0.1s\n",
      "[CV] NN__hidden_layer_sizes=(30, 30), rp__n_components=10 ............\n"
     ]
    },
    {
     "name": "stdout",
     "output_type": "stream",
     "text": [
      "[CV]  NN__hidden_layer_sizes=(30, 30), rp__n_components=10, score=0.580739299610895, total=   0.0s\n",
      "[CV] NN__hidden_layer_sizes=(30, 30), rp__n_components=15 ............\n",
      "[CV]  NN__hidden_layer_sizes=(30, 30), rp__n_components=15, score=0.7495145631067961, total=   0.3s\n",
      "[CV] NN__hidden_layer_sizes=(30, 30), rp__n_components=15 ............\n",
      "[CV]  NN__hidden_layer_sizes=(30, 30), rp__n_components=15, score=0.7427184466019418, total=   0.2s\n",
      "[CV] NN__hidden_layer_sizes=(30, 30), rp__n_components=15 ............\n",
      "[CV]  NN__hidden_layer_sizes=(30, 30), rp__n_components=15, score=0.7949465500485908, total=   0.3s\n",
      "[CV] NN__hidden_layer_sizes=(30, 30), rp__n_components=15 ............\n",
      "[CV]  NN__hidden_layer_sizes=(30, 30), rp__n_components=15, score=0.685131195335277, total=   0.2s\n",
      "[CV] NN__hidden_layer_sizes=(30, 30), rp__n_components=15 ............\n",
      "[CV]  NN__hidden_layer_sizes=(30, 30), rp__n_components=15, score=0.7840466926070039, total=   0.4s\n",
      "[CV] NN__hidden_layer_sizes=(30, 30), rp__n_components=20 ............\n",
      "[CV]  NN__hidden_layer_sizes=(30, 30), rp__n_components=20, score=0.6495145631067961, total=   0.0s\n",
      "[CV] NN__hidden_layer_sizes=(30, 30), rp__n_components=20 ............\n",
      "[CV]  NN__hidden_layer_sizes=(30, 30), rp__n_components=20, score=0.6495145631067961, total=   0.0s\n",
      "[CV] NN__hidden_layer_sizes=(30, 30), rp__n_components=20 ............\n",
      "[CV]  NN__hidden_layer_sizes=(30, 30), rp__n_components=20, score=0.6472303206997084, total=   0.0s\n",
      "[CV] NN__hidden_layer_sizes=(30, 30), rp__n_components=20 ............\n",
      "[CV]  NN__hidden_layer_sizes=(30, 30), rp__n_components=20, score=0.6482021379980564, total=   0.0s\n",
      "[CV] NN__hidden_layer_sizes=(30, 30), rp__n_components=20 ............\n",
      "[CV]  NN__hidden_layer_sizes=(30, 30), rp__n_components=20, score=0.6488326848249028, total=   0.0s\n",
      "[CV] NN__hidden_layer_sizes=(30, 30), rp__n_components=25 ............\n",
      "[CV]  NN__hidden_layer_sizes=(30, 30), rp__n_components=25, score=0.6495145631067961, total=   0.1s\n",
      "[CV] NN__hidden_layer_sizes=(30, 30), rp__n_components=25 ............\n",
      "[CV]  NN__hidden_layer_sizes=(30, 30), rp__n_components=25, score=0.6485436893203883, total=   0.0s\n",
      "[CV] NN__hidden_layer_sizes=(30, 30), rp__n_components=25 ............\n",
      "[CV]  NN__hidden_layer_sizes=(30, 30), rp__n_components=25, score=0.6501457725947521, total=   0.0s\n",
      "[CV] NN__hidden_layer_sizes=(30, 30), rp__n_components=25 ............\n",
      "[CV]  NN__hidden_layer_sizes=(30, 30), rp__n_components=25, score=0.6501457725947521, total=   0.0s\n",
      "[CV] NN__hidden_layer_sizes=(30, 30), rp__n_components=25 ............\n",
      "[CV]  NN__hidden_layer_sizes=(30, 30), rp__n_components=25, score=0.6488326848249028, total=   0.0s\n",
      "[CV] NN__hidden_layer_sizes=(30, 30), rp__n_components=30 ............\n",
      "[CV]  NN__hidden_layer_sizes=(30, 30), rp__n_components=30, score=0.7320388349514563, total=   0.2s\n",
      "[CV] NN__hidden_layer_sizes=(30, 30), rp__n_components=30 ............\n",
      "[CV]  NN__hidden_layer_sizes=(30, 30), rp__n_components=30, score=0.7339805825242719, total=   0.2s\n",
      "[CV] NN__hidden_layer_sizes=(30, 30), rp__n_components=30 ............\n",
      "[CV]  NN__hidden_layer_sizes=(30, 30), rp__n_components=30, score=0.7988338192419825, total=   0.3s\n",
      "[CV] NN__hidden_layer_sizes=(30, 30), rp__n_components=30 ............\n",
      "[CV]  NN__hidden_layer_sizes=(30, 30), rp__n_components=30, score=0.7580174927113703, total=   0.3s\n",
      "[CV] NN__hidden_layer_sizes=(30, 30), rp__n_components=30 ............\n",
      "[CV]  NN__hidden_layer_sizes=(30, 30), rp__n_components=30, score=0.7684824902723736, total=   0.3s\n",
      "[CV] NN__hidden_layer_sizes=(30, 30), rp__n_components=35 ............\n",
      "[CV]  NN__hidden_layer_sizes=(30, 30), rp__n_components=35, score=0.7106796116504854, total=   0.1s\n",
      "[CV] NN__hidden_layer_sizes=(30, 30), rp__n_components=35 ............\n",
      "[CV]  NN__hidden_layer_sizes=(30, 30), rp__n_components=35, score=0.654368932038835, total=   0.1s\n",
      "[CV] NN__hidden_layer_sizes=(30, 30), rp__n_components=35 ............\n",
      "[CV]  NN__hidden_layer_sizes=(30, 30), rp__n_components=35, score=0.8250728862973761, total=   0.5s\n",
      "[CV] NN__hidden_layer_sizes=(30, 30), rp__n_components=35 ............\n",
      "[CV]  NN__hidden_layer_sizes=(30, 30), rp__n_components=35, score=0.6394557823129252, total=   0.1s\n",
      "[CV] NN__hidden_layer_sizes=(30, 30), rp__n_components=35 ............\n",
      "[CV]  NN__hidden_layer_sizes=(30, 30), rp__n_components=35, score=0.7675097276264592, total=   0.3s\n"
     ]
    },
    {
     "name": "stderr",
     "output_type": "stream",
     "text": [
      "[Parallel(n_jobs=1)]: Done 480 out of 480 | elapsed:  1.3min finished\n",
      "C:\\Users\\ajmot\\Anaconda3\\lib\\site-packages\\sklearn\\utils\\deprecation.py:122: FutureWarning: You are accessing a training score ('mean_train_score'), which will not be available by default any more in 0.21. If you need training scores, please set return_train_score=True\n",
      "  warnings.warn(*warn_args, **warn_kwargs)\n",
      "C:\\Users\\ajmot\\Anaconda3\\lib\\site-packages\\sklearn\\utils\\deprecation.py:122: FutureWarning: You are accessing a training score ('split0_train_score'), which will not be available by default any more in 0.21. If you need training scores, please set return_train_score=True\n",
      "  warnings.warn(*warn_args, **warn_kwargs)\n",
      "C:\\Users\\ajmot\\Anaconda3\\lib\\site-packages\\sklearn\\utils\\deprecation.py:122: FutureWarning: You are accessing a training score ('split1_train_score'), which will not be available by default any more in 0.21. If you need training scores, please set return_train_score=True\n",
      "  warnings.warn(*warn_args, **warn_kwargs)\n",
      "C:\\Users\\ajmot\\Anaconda3\\lib\\site-packages\\sklearn\\utils\\deprecation.py:122: FutureWarning: You are accessing a training score ('split2_train_score'), which will not be available by default any more in 0.21. If you need training scores, please set return_train_score=True\n",
      "  warnings.warn(*warn_args, **warn_kwargs)\n",
      "C:\\Users\\ajmot\\Anaconda3\\lib\\site-packages\\sklearn\\utils\\deprecation.py:122: FutureWarning: You are accessing a training score ('split3_train_score'), which will not be available by default any more in 0.21. If you need training scores, please set return_train_score=True\n",
      "  warnings.warn(*warn_args, **warn_kwargs)\n",
      "C:\\Users\\ajmot\\Anaconda3\\lib\\site-packages\\sklearn\\utils\\deprecation.py:122: FutureWarning: You are accessing a training score ('split4_train_score'), which will not be available by default any more in 0.21. If you need training scores, please set return_train_score=True\n",
      "  warnings.warn(*warn_args, **warn_kwargs)\n",
      "C:\\Users\\ajmot\\Anaconda3\\lib\\site-packages\\sklearn\\utils\\deprecation.py:122: FutureWarning: You are accessing a training score ('std_train_score'), which will not be available by default any more in 0.21. If you need training scores, please set return_train_score=True\n",
      "  warnings.warn(*warn_args, **warn_kwargs)\n"
     ]
    }
   ],
   "source": [
    "from sklearn.random_projection import SparseRandomProjection\n",
    "\n",
    "dims_bb = [2,5,10,15,20,25,30,35]\n",
    "nn_arch= [(5,10),(10,10),(10,20),(20,20),(20,10),(5,),(10,),(20,),(30,),(30,10),(30,20),(30,30)]\n",
    "\n",
    "grid ={'rp__n_components':dims_bb, 'NN__hidden_layer_sizes':nn_arch}\n",
    "rp = SparseRandomProjection(random_state=5)       \n",
    "mlp = MLPClassifier(activation='relu',max_iter=2000,early_stopping=True,random_state=5,alpha=0.1)\n",
    "pipe = Pipeline([('rp',rp),('NN',mlp)])\n",
    "gs = GridSearchCV(pipe,grid,verbose=10,cv=5)\n",
    "\n",
    "gs.fit(basketball[\"data\"],basketball[\"target\"])\n",
    "tmp = pd.DataFrame(gs.cv_results_)\n",
    "tmp.to_csv('bball_rp_nn.csv')"
   ]
  },
  {
   "cell_type": "markdown",
   "metadata": {},
   "source": [
    "# Clustering Random Forest Most Important Features NN"
   ]
  },
  {
   "cell_type": "code",
   "execution_count": 19,
   "metadata": {
    "collapsed": true
   },
   "outputs": [
    {
     "name": "stdout",
     "output_type": "stream",
     "text": [
      "Fitting 5 folds for each of 156 candidates, totalling 780 fits\n",
      "[CV] NN__hidden_layer_sizes=(5, 10), filter__n=2 .....................\n",
      "[CV]  NN__hidden_layer_sizes=(5, 10), filter__n=2, score=0.7242718446601941, total=   0.6s\n",
      "[CV] NN__hidden_layer_sizes=(5, 10), filter__n=2 .....................\n"
     ]
    },
    {
     "name": "stderr",
     "output_type": "stream",
     "text": [
      "[Parallel(n_jobs=1)]: Done   1 out of   1 | elapsed:    0.7s remaining:    0.0s\n"
     ]
    },
    {
     "name": "stdout",
     "output_type": "stream",
     "text": [
      "[CV]  NN__hidden_layer_sizes=(5, 10), filter__n=2, score=0.7699029126213592, total=   0.6s\n",
      "[CV] NN__hidden_layer_sizes=(5, 10), filter__n=2 .....................\n"
     ]
    },
    {
     "name": "stderr",
     "output_type": "stream",
     "text": [
      "[Parallel(n_jobs=1)]: Done   2 out of   2 | elapsed:    1.5s remaining:    0.0s\n"
     ]
    },
    {
     "name": "stdout",
     "output_type": "stream",
     "text": [
      "[CV]  NN__hidden_layer_sizes=(5, 10), filter__n=2, score=0.7580174927113703, total=   0.8s\n",
      "[CV] NN__hidden_layer_sizes=(5, 10), filter__n=2 .....................\n"
     ]
    },
    {
     "name": "stderr",
     "output_type": "stream",
     "text": [
      "[Parallel(n_jobs=1)]: Done   3 out of   3 | elapsed:    2.5s remaining:    0.0s\n"
     ]
    },
    {
     "name": "stdout",
     "output_type": "stream",
     "text": [
      "[CV]  NN__hidden_layer_sizes=(5, 10), filter__n=2, score=0.7376093294460642, total=   0.8s\n",
      "[CV] NN__hidden_layer_sizes=(5, 10), filter__n=2 .....................\n"
     ]
    },
    {
     "name": "stderr",
     "output_type": "stream",
     "text": [
      "[Parallel(n_jobs=1)]: Done   4 out of   4 | elapsed:    3.5s remaining:    0.0s\n"
     ]
    },
    {
     "name": "stdout",
     "output_type": "stream",
     "text": [
      "[CV]  NN__hidden_layer_sizes=(5, 10), filter__n=2, score=0.7422178988326849, total=   0.7s\n",
      "[CV] NN__hidden_layer_sizes=(5, 10), filter__n=5 .....................\n"
     ]
    },
    {
     "name": "stderr",
     "output_type": "stream",
     "text": [
      "[Parallel(n_jobs=1)]: Done   5 out of   5 | elapsed:    4.4s remaining:    0.0s\n"
     ]
    },
    {
     "name": "stdout",
     "output_type": "stream",
     "text": [
      "[CV]  NN__hidden_layer_sizes=(5, 10), filter__n=5, score=0.9009708737864077, total=   0.7s\n",
      "[CV] NN__hidden_layer_sizes=(5, 10), filter__n=5 .....................\n"
     ]
    },
    {
     "name": "stderr",
     "output_type": "stream",
     "text": [
      "[Parallel(n_jobs=1)]: Done   6 out of   6 | elapsed:    5.3s remaining:    0.0s\n"
     ]
    },
    {
     "name": "stdout",
     "output_type": "stream",
     "text": [
      "[CV]  NN__hidden_layer_sizes=(5, 10), filter__n=5, score=0.8446601941747572, total=   0.8s\n",
      "[CV] NN__hidden_layer_sizes=(5, 10), filter__n=5 .....................\n"
     ]
    },
    {
     "name": "stderr",
     "output_type": "stream",
     "text": [
      "[Parallel(n_jobs=1)]: Done   7 out of   7 | elapsed:    6.3s remaining:    0.0s\n"
     ]
    },
    {
     "name": "stdout",
     "output_type": "stream",
     "text": [
      "[CV]  NN__hidden_layer_sizes=(5, 10), filter__n=5, score=0.9310009718172984, total=   0.6s\n",
      "[CV] NN__hidden_layer_sizes=(5, 10), filter__n=5 .....................\n"
     ]
    },
    {
     "name": "stderr",
     "output_type": "stream",
     "text": [
      "[Parallel(n_jobs=1)]: Done   8 out of   8 | elapsed:    7.1s remaining:    0.0s\n"
     ]
    },
    {
     "name": "stdout",
     "output_type": "stream",
     "text": [
      "[CV]  NN__hidden_layer_sizes=(5, 10), filter__n=5, score=0.9144800777453839, total=   0.6s\n",
      "[CV] NN__hidden_layer_sizes=(5, 10), filter__n=5 .....................\n"
     ]
    },
    {
     "name": "stderr",
     "output_type": "stream",
     "text": [
      "[Parallel(n_jobs=1)]: Done   9 out of   9 | elapsed:    7.9s remaining:    0.0s\n"
     ]
    },
    {
     "name": "stdout",
     "output_type": "stream",
     "text": [
      "[CV]  NN__hidden_layer_sizes=(5, 10), filter__n=5, score=0.8764591439688716, total=   0.8s\n",
      "[CV] NN__hidden_layer_sizes=(5, 10), filter__n=10 ....................\n",
      "[CV]  NN__hidden_layer_sizes=(5, 10), filter__n=10, score=0.6203883495145631, total=   0.6s\n",
      "[CV] NN__hidden_layer_sizes=(5, 10), filter__n=10 ....................\n",
      "[CV]  NN__hidden_layer_sizes=(5, 10), filter__n=10, score=0.8961165048543689, total=   0.9s\n",
      "[CV] NN__hidden_layer_sizes=(5, 10), filter__n=10 ....................\n",
      "[CV]  NN__hidden_layer_sizes=(5, 10), filter__n=10, score=0.9193391642371235, total=   0.8s\n",
      "[CV] NN__hidden_layer_sizes=(5, 10), filter__n=10 ....................\n",
      "[CV]  NN__hidden_layer_sizes=(5, 10), filter__n=10, score=0.9008746355685131, total=   1.1s\n",
      "[CV] NN__hidden_layer_sizes=(5, 10), filter__n=10 ....................\n",
      "[CV]  NN__hidden_layer_sizes=(5, 10), filter__n=10, score=0.6906614785992218, total=   0.7s\n",
      "[CV] NN__hidden_layer_sizes=(5, 10), filter__n=15 ....................\n",
      "[CV]  NN__hidden_layer_sizes=(5, 10), filter__n=15, score=0.6485436893203883, total=   0.6s\n",
      "[CV] NN__hidden_layer_sizes=(5, 10), filter__n=15 ....................\n",
      "[CV]  NN__hidden_layer_sizes=(5, 10), filter__n=15, score=0.6485436893203883, total=   0.6s\n",
      "[CV] NN__hidden_layer_sizes=(5, 10), filter__n=15 ....................\n",
      "[CV]  NN__hidden_layer_sizes=(5, 10), filter__n=15, score=0.6482021379980564, total=   0.6s\n",
      "[CV] NN__hidden_layer_sizes=(5, 10), filter__n=15 ....................\n",
      "[CV]  NN__hidden_layer_sizes=(5, 10), filter__n=15, score=0.6482021379980564, total=   0.6s\n",
      "[CV] NN__hidden_layer_sizes=(5, 10), filter__n=15 ....................\n",
      "[CV]  NN__hidden_layer_sizes=(5, 10), filter__n=15, score=0.6488326848249028, total=   0.6s\n",
      "[CV] NN__hidden_layer_sizes=(5, 10), filter__n=20 ....................\n",
      "[CV]  NN__hidden_layer_sizes=(5, 10), filter__n=20, score=0.6524271844660194, total=   0.6s\n",
      "[CV] NN__hidden_layer_sizes=(5, 10), filter__n=20 ....................\n",
      "[CV]  NN__hidden_layer_sizes=(5, 10), filter__n=20, score=0.6349514563106796, total=   0.6s\n",
      "[CV] NN__hidden_layer_sizes=(5, 10), filter__n=20 ....................\n",
      "[CV]  NN__hidden_layer_sizes=(5, 10), filter__n=20, score=0.891156462585034, total=   0.7s\n",
      "[CV] NN__hidden_layer_sizes=(5, 10), filter__n=20 ....................\n",
      "[CV]  NN__hidden_layer_sizes=(5, 10), filter__n=20, score=0.8979591836734694, total=   0.8s\n",
      "[CV] NN__hidden_layer_sizes=(5, 10), filter__n=20 ....................\n",
      "[CV]  NN__hidden_layer_sizes=(5, 10), filter__n=20, score=0.5729571984435797, total=   0.6s\n",
      "[CV] NN__hidden_layer_sizes=(5, 10), filter__n=25 ....................\n",
      "[CV]  NN__hidden_layer_sizes=(5, 10), filter__n=25, score=0.5766990291262136, total=   0.6s\n",
      "[CV] NN__hidden_layer_sizes=(5, 10), filter__n=25 ....................\n",
      "[CV]  NN__hidden_layer_sizes=(5, 10), filter__n=25, score=0.9, total=   0.8s\n",
      "[CV] NN__hidden_layer_sizes=(5, 10), filter__n=25 ....................\n",
      "[CV]  NN__hidden_layer_sizes=(5, 10), filter__n=25, score=0.7735665694849369, total=   0.7s\n",
      "[CV] NN__hidden_layer_sizes=(5, 10), filter__n=25 ....................\n",
      "[CV]  NN__hidden_layer_sizes=(5, 10), filter__n=25, score=0.9076773566569485, total=   1.0s\n",
      "[CV] NN__hidden_layer_sizes=(5, 10), filter__n=25 ....................\n",
      "[CV]  NN__hidden_layer_sizes=(5, 10), filter__n=25, score=0.8589494163424124, total=   0.9s\n",
      "[CV] NN__hidden_layer_sizes=(5, 10), filter__n=30 ....................\n",
      "[CV]  NN__hidden_layer_sizes=(5, 10), filter__n=30, score=0.583495145631068, total=   0.6s\n",
      "[CV] NN__hidden_layer_sizes=(5, 10), filter__n=30 ....................\n",
      "[CV]  NN__hidden_layer_sizes=(5, 10), filter__n=30, score=0.6029126213592233, total=   0.7s\n",
      "[CV] NN__hidden_layer_sizes=(5, 10), filter__n=30 ....................\n",
      "[CV]  NN__hidden_layer_sizes=(5, 10), filter__n=30, score=0.5743440233236151, total=   0.6s\n",
      "[CV] NN__hidden_layer_sizes=(5, 10), filter__n=30 ....................\n",
      "[CV]  NN__hidden_layer_sizes=(5, 10), filter__n=30, score=0.6462585034013606, total=   0.6s\n",
      "[CV] NN__hidden_layer_sizes=(5, 10), filter__n=30 ....................\n",
      "[CV]  NN__hidden_layer_sizes=(5, 10), filter__n=30, score=0.693579766536965, total=   0.6s\n",
      "[CV] NN__hidden_layer_sizes=(5, 10), filter__n=35 ....................\n",
      "[CV]  NN__hidden_layer_sizes=(5, 10), filter__n=35, score=0.6466019417475728, total=   0.6s\n",
      "[CV] NN__hidden_layer_sizes=(5, 10), filter__n=35 ....................\n",
      "[CV]  NN__hidden_layer_sizes=(5, 10), filter__n=35, score=0.6427184466019418, total=   0.6s\n",
      "[CV] NN__hidden_layer_sizes=(5, 10), filter__n=35 ....................\n",
      "[CV]  NN__hidden_layer_sizes=(5, 10), filter__n=35, score=0.5558794946550049, total=   0.6s\n",
      "[CV] NN__hidden_layer_sizes=(5, 10), filter__n=35 ....................\n",
      "[CV]  NN__hidden_layer_sizes=(5, 10), filter__n=35, score=0.6326530612244898, total=   0.6s\n",
      "[CV] NN__hidden_layer_sizes=(5, 10), filter__n=35 ....................\n",
      "[CV]  NN__hidden_layer_sizes=(5, 10), filter__n=35, score=0.6459143968871596, total=   0.6s\n",
      "[CV] NN__hidden_layer_sizes=(5, 10), filter__n=40 ....................\n",
      "[CV]  NN__hidden_layer_sizes=(5, 10), filter__n=40, score=0.6970873786407767, total=   0.7s\n",
      "[CV] NN__hidden_layer_sizes=(5, 10), filter__n=40 ....................\n",
      "[CV]  NN__hidden_layer_sizes=(5, 10), filter__n=40, score=0.6349514563106796, total=   0.7s\n",
      "[CV] NN__hidden_layer_sizes=(5, 10), filter__n=40 ....................\n",
      "[CV]  NN__hidden_layer_sizes=(5, 10), filter__n=40, score=0.8649173955296404, total=   0.8s\n",
      "[CV] NN__hidden_layer_sizes=(5, 10), filter__n=40 ....................\n",
      "[CV]  NN__hidden_layer_sizes=(5, 10), filter__n=40, score=0.8668610301263362, total=   0.8s\n",
      "[CV] NN__hidden_layer_sizes=(5, 10), filter__n=40 ....................\n",
      "[CV]  NN__hidden_layer_sizes=(5, 10), filter__n=40, score=0.8326848249027238, total=   0.8s\n",
      "[CV] NN__hidden_layer_sizes=(5, 10), filter__n=45 ....................\n",
      "[CV]  NN__hidden_layer_sizes=(5, 10), filter__n=45, score=0.5932038834951456, total=   0.6s\n",
      "[CV] NN__hidden_layer_sizes=(5, 10), filter__n=45 ....................\n",
      "[CV]  NN__hidden_layer_sizes=(5, 10), filter__n=45, score=0.8398058252427184, total=   0.8s\n",
      "[CV] NN__hidden_layer_sizes=(5, 10), filter__n=45 ....................\n",
      "[CV]  NN__hidden_layer_sizes=(5, 10), filter__n=45, score=0.8629737609329446, total=   0.9s\n",
      "[CV] NN__hidden_layer_sizes=(5, 10), filter__n=45 ....................\n",
      "[CV]  NN__hidden_layer_sizes=(5, 10), filter__n=45, score=0.5860058309037901, total=   0.6s\n",
      "[CV] NN__hidden_layer_sizes=(5, 10), filter__n=45 ....................\n",
      "[CV]  NN__hidden_layer_sizes=(5, 10), filter__n=45, score=0.6060311284046692, total=   0.6s\n",
      "[CV] NN__hidden_layer_sizes=(5, 10), filter__n=50 ....................\n",
      "[CV]  NN__hidden_layer_sizes=(5, 10), filter__n=50, score=0.6300970873786408, total=   0.6s\n",
      "[CV] NN__hidden_layer_sizes=(5, 10), filter__n=50 ....................\n",
      "[CV]  NN__hidden_layer_sizes=(5, 10), filter__n=50, score=0.6310679611650486, total=   0.6s\n",
      "[CV] NN__hidden_layer_sizes=(5, 10), filter__n=50 ....................\n",
      "[CV]  NN__hidden_layer_sizes=(5, 10), filter__n=50, score=0.8600583090379009, total=   0.8s\n",
      "[CV] NN__hidden_layer_sizes=(5, 10), filter__n=50 ....................\n",
      "[CV]  NN__hidden_layer_sizes=(5, 10), filter__n=50, score=0.5782312925170068, total=   0.6s\n",
      "[CV] NN__hidden_layer_sizes=(5, 10), filter__n=50 ....................\n",
      "[CV]  NN__hidden_layer_sizes=(5, 10), filter__n=50, score=0.8871595330739299, total=   0.8s\n",
      "[CV] NN__hidden_layer_sizes=(5, 10), filter__n=55 ....................\n",
      "[CV]  NN__hidden_layer_sizes=(5, 10), filter__n=55, score=0.8514563106796117, total=   0.8s\n",
      "[CV] NN__hidden_layer_sizes=(5, 10), filter__n=55 ....................\n",
      "[CV]  NN__hidden_layer_sizes=(5, 10), filter__n=55, score=0.7951456310679612, total=   0.8s\n",
      "[CV] NN__hidden_layer_sizes=(5, 10), filter__n=55 ....................\n",
      "[CV]  NN__hidden_layer_sizes=(5, 10), filter__n=55, score=0.782312925170068, total=   0.8s\n",
      "[CV] NN__hidden_layer_sizes=(5, 10), filter__n=55 ....................\n",
      "[CV]  NN__hidden_layer_sizes=(5, 10), filter__n=55, score=0.5393586005830904, total=   0.6s\n",
      "[CV] NN__hidden_layer_sizes=(5, 10), filter__n=55 ....................\n",
      "[CV]  NN__hidden_layer_sizes=(5, 10), filter__n=55, score=0.8599221789883269, total=   0.8s\n",
      "[CV] NN__hidden_layer_sizes=(5, 10), filter__n=60 ....................\n"
     ]
    },
    {
     "name": "stdout",
     "output_type": "stream",
     "text": [
      "[CV]  NN__hidden_layer_sizes=(5, 10), filter__n=60, score=0.5980582524271845, total=   0.6s\n",
      "[CV] NN__hidden_layer_sizes=(5, 10), filter__n=60 ....................\n",
      "[CV]  NN__hidden_layer_sizes=(5, 10), filter__n=60, score=0.6349514563106796, total=   0.5s\n",
      "[CV] NN__hidden_layer_sizes=(5, 10), filter__n=60 ....................\n",
      "[CV]  NN__hidden_layer_sizes=(5, 10), filter__n=60, score=0.6180758017492711, total=   0.6s\n",
      "[CV] NN__hidden_layer_sizes=(5, 10), filter__n=60 ....................\n",
      "[CV]  NN__hidden_layer_sizes=(5, 10), filter__n=60, score=0.5898931000971818, total=   0.6s\n",
      "[CV] NN__hidden_layer_sizes=(5, 10), filter__n=60 ....................\n",
      "[CV]  NN__hidden_layer_sizes=(5, 10), filter__n=60, score=0.9095330739299611, total=   0.9s\n",
      "[CV] NN__hidden_layer_sizes=(10, 10), filter__n=2 ....................\n",
      "[CV]  NN__hidden_layer_sizes=(10, 10), filter__n=2, score=0.6485436893203883, total=   0.6s\n",
      "[CV] NN__hidden_layer_sizes=(10, 10), filter__n=2 ....................\n",
      "[CV]  NN__hidden_layer_sizes=(10, 10), filter__n=2, score=0.6485436893203883, total=   0.6s\n",
      "[CV] NN__hidden_layer_sizes=(10, 10), filter__n=2 ....................\n",
      "[CV]  NN__hidden_layer_sizes=(10, 10), filter__n=2, score=0.6482021379980564, total=   0.5s\n",
      "[CV] NN__hidden_layer_sizes=(10, 10), filter__n=2 ....................\n",
      "[CV]  NN__hidden_layer_sizes=(10, 10), filter__n=2, score=0.6482021379980564, total=   0.6s\n",
      "[CV] NN__hidden_layer_sizes=(10, 10), filter__n=2 ....................\n",
      "[CV]  NN__hidden_layer_sizes=(10, 10), filter__n=2, score=0.6488326848249028, total=   0.6s\n",
      "[CV] NN__hidden_layer_sizes=(10, 10), filter__n=5 ....................\n",
      "[CV]  NN__hidden_layer_sizes=(10, 10), filter__n=5, score=0.933009708737864, total=   0.8s\n",
      "[CV] NN__hidden_layer_sizes=(10, 10), filter__n=5 ....................\n",
      "[CV]  NN__hidden_layer_sizes=(10, 10), filter__n=5, score=0.8699029126213592, total=   0.7s\n",
      "[CV] NN__hidden_layer_sizes=(10, 10), filter__n=5 ....................\n",
      "[CV]  NN__hidden_layer_sizes=(10, 10), filter__n=5, score=0.9416909620991254, total=   0.7s\n",
      "[CV] NN__hidden_layer_sizes=(10, 10), filter__n=5 ....................\n",
      "[CV]  NN__hidden_layer_sizes=(10, 10), filter__n=5, score=0.9086491739552964, total=   0.7s\n",
      "[CV] NN__hidden_layer_sizes=(10, 10), filter__n=5 ....................\n",
      "[CV]  NN__hidden_layer_sizes=(10, 10), filter__n=5, score=0.9260700389105059, total=   0.7s\n",
      "[CV] NN__hidden_layer_sizes=(10, 10), filter__n=10 ...................\n",
      "[CV]  NN__hidden_layer_sizes=(10, 10), filter__n=10, score=0.916504854368932, total=   0.7s\n",
      "[CV] NN__hidden_layer_sizes=(10, 10), filter__n=10 ...................\n",
      "[CV]  NN__hidden_layer_sizes=(10, 10), filter__n=10, score=0.9533980582524272, total=   0.7s\n",
      "[CV] NN__hidden_layer_sizes=(10, 10), filter__n=10 ...................\n",
      "[CV]  NN__hidden_layer_sizes=(10, 10), filter__n=10, score=0.9378036929057337, total=   0.7s\n",
      "[CV] NN__hidden_layer_sizes=(10, 10), filter__n=10 ...................\n",
      "[CV]  NN__hidden_layer_sizes=(10, 10), filter__n=10, score=0.8989310009718173, total=   0.7s\n",
      "[CV] NN__hidden_layer_sizes=(10, 10), filter__n=10 ...................\n",
      "[CV]  NN__hidden_layer_sizes=(10, 10), filter__n=10, score=0.9036964980544747, total=   0.8s\n",
      "[CV] NN__hidden_layer_sizes=(10, 10), filter__n=15 ...................\n",
      "[CV]  NN__hidden_layer_sizes=(10, 10), filter__n=15, score=0.8223300970873786, total=   0.7s\n",
      "[CV] NN__hidden_layer_sizes=(10, 10), filter__n=15 ...................\n",
      "[CV]  NN__hidden_layer_sizes=(10, 10), filter__n=15, score=0.9223300970873787, total=   0.8s\n",
      "[CV] NN__hidden_layer_sizes=(10, 10), filter__n=15 ...................\n",
      "[CV]  NN__hidden_layer_sizes=(10, 10), filter__n=15, score=0.8969873663751214, total=   0.8s\n",
      "[CV] NN__hidden_layer_sizes=(10, 10), filter__n=15 ...................\n",
      "[CV]  NN__hidden_layer_sizes=(10, 10), filter__n=15, score=0.9212827988338192, total=   0.8s\n",
      "[CV] NN__hidden_layer_sizes=(10, 10), filter__n=15 ...................\n",
      "[CV]  NN__hidden_layer_sizes=(10, 10), filter__n=15, score=0.8443579766536965, total=   0.8s\n",
      "[CV] NN__hidden_layer_sizes=(10, 10), filter__n=20 ...................\n",
      "[CV]  NN__hidden_layer_sizes=(10, 10), filter__n=20, score=0.9194174757281554, total=   0.8s\n",
      "[CV] NN__hidden_layer_sizes=(10, 10), filter__n=20 ...................\n",
      "[CV]  NN__hidden_layer_sizes=(10, 10), filter__n=20, score=0.8194174757281554, total=   0.7s\n",
      "[CV] NN__hidden_layer_sizes=(10, 10), filter__n=20 ...................\n",
      "[CV]  NN__hidden_layer_sizes=(10, 10), filter__n=20, score=0.5792031098153547, total=   0.6s\n",
      "[CV] NN__hidden_layer_sizes=(10, 10), filter__n=20 ...................\n",
      "[CV]  NN__hidden_layer_sizes=(10, 10), filter__n=20, score=0.8814382896015549, total=   0.8s\n",
      "[CV] NN__hidden_layer_sizes=(10, 10), filter__n=20 ...................\n",
      "[CV]  NN__hidden_layer_sizes=(10, 10), filter__n=20, score=0.8784046692607004, total=   0.8s\n",
      "[CV] NN__hidden_layer_sizes=(10, 10), filter__n=25 ...................\n",
      "[CV]  NN__hidden_layer_sizes=(10, 10), filter__n=25, score=0.8815533980582524, total=   0.8s\n",
      "[CV] NN__hidden_layer_sizes=(10, 10), filter__n=25 ...................\n",
      "[CV]  NN__hidden_layer_sizes=(10, 10), filter__n=25, score=0.5048543689320388, total=   0.6s\n",
      "[CV] NN__hidden_layer_sizes=(10, 10), filter__n=25 ...................\n",
      "[CV]  NN__hidden_layer_sizes=(10, 10), filter__n=25, score=0.6482021379980564, total=   0.6s\n",
      "[CV] NN__hidden_layer_sizes=(10, 10), filter__n=25 ...................\n",
      "[CV]  NN__hidden_layer_sizes=(10, 10), filter__n=25, score=0.8649173955296404, total=   0.9s\n",
      "[CV] NN__hidden_layer_sizes=(10, 10), filter__n=25 ...................\n",
      "[CV]  NN__hidden_layer_sizes=(10, 10), filter__n=25, score=0.6284046692607004, total=   0.6s\n",
      "[CV] NN__hidden_layer_sizes=(10, 10), filter__n=30 ...................\n",
      "[CV]  NN__hidden_layer_sizes=(10, 10), filter__n=30, score=0.8776699029126214, total=   0.8s\n",
      "[CV] NN__hidden_layer_sizes=(10, 10), filter__n=30 ...................\n",
      "[CV]  NN__hidden_layer_sizes=(10, 10), filter__n=30, score=0.6339805825242718, total=   0.6s\n",
      "[CV] NN__hidden_layer_sizes=(10, 10), filter__n=30 ...................\n",
      "[CV]  NN__hidden_layer_sizes=(10, 10), filter__n=30, score=0.6054421768707483, total=   0.7s\n",
      "[CV] NN__hidden_layer_sizes=(10, 10), filter__n=30 ...................\n",
      "[CV]  NN__hidden_layer_sizes=(10, 10), filter__n=30, score=0.8095238095238095, total=   0.9s\n",
      "[CV] NN__hidden_layer_sizes=(10, 10), filter__n=30 ...................\n",
      "[CV]  NN__hidden_layer_sizes=(10, 10), filter__n=30, score=0.8832684824902723, total=   0.8s\n",
      "[CV] NN__hidden_layer_sizes=(10, 10), filter__n=35 ...................\n",
      "[CV]  NN__hidden_layer_sizes=(10, 10), filter__n=35, score=0.6475728155339806, total=   0.6s\n",
      "[CV] NN__hidden_layer_sizes=(10, 10), filter__n=35 ...................\n",
      "[CV]  NN__hidden_layer_sizes=(10, 10), filter__n=35, score=0.6436893203883495, total=   0.6s\n",
      "[CV] NN__hidden_layer_sizes=(10, 10), filter__n=35 ...................\n",
      "[CV]  NN__hidden_layer_sizes=(10, 10), filter__n=35, score=0.6345966958211856, total=   0.6s\n",
      "[CV] NN__hidden_layer_sizes=(10, 10), filter__n=35 ...................\n",
      "[CV]  NN__hidden_layer_sizes=(10, 10), filter__n=35, score=0.6239067055393586, total=   0.7s\n",
      "[CV] NN__hidden_layer_sizes=(10, 10), filter__n=35 ...................\n",
      "[CV]  NN__hidden_layer_sizes=(10, 10), filter__n=35, score=0.5953307392996109, total=   0.6s\n",
      "[CV] NN__hidden_layer_sizes=(10, 10), filter__n=40 ...................\n",
      "[CV]  NN__hidden_layer_sizes=(10, 10), filter__n=40, score=0.6485436893203883, total=   0.6s\n",
      "[CV] NN__hidden_layer_sizes=(10, 10), filter__n=40 ...................\n",
      "[CV]  NN__hidden_layer_sizes=(10, 10), filter__n=40, score=0.9135922330097087, total=   1.1s\n",
      "[CV] NN__hidden_layer_sizes=(10, 10), filter__n=40 ...................\n",
      "[CV]  NN__hidden_layer_sizes=(10, 10), filter__n=40, score=0.6073858114674441, total=   0.6s\n",
      "[CV] NN__hidden_layer_sizes=(10, 10), filter__n=40 ...................\n",
      "[CV]  NN__hidden_layer_sizes=(10, 10), filter__n=40, score=0.6482021379980564, total=   0.6s\n",
      "[CV] NN__hidden_layer_sizes=(10, 10), filter__n=40 ...................\n",
      "[CV]  NN__hidden_layer_sizes=(10, 10), filter__n=40, score=0.6488326848249028, total=   0.6s\n",
      "[CV] NN__hidden_layer_sizes=(10, 10), filter__n=45 ...................\n",
      "[CV]  NN__hidden_layer_sizes=(10, 10), filter__n=45, score=0.6116504854368932, total=   0.6s\n",
      "[CV] NN__hidden_layer_sizes=(10, 10), filter__n=45 ...................\n"
     ]
    },
    {
     "name": "stdout",
     "output_type": "stream",
     "text": [
      "[CV]  NN__hidden_layer_sizes=(10, 10), filter__n=45, score=0.5825242718446602, total=   0.6s\n",
      "[CV] NN__hidden_layer_sizes=(10, 10), filter__n=45 ...................\n",
      "[CV]  NN__hidden_layer_sizes=(10, 10), filter__n=45, score=0.6482021379980564, total=   0.6s\n",
      "[CV] NN__hidden_layer_sizes=(10, 10), filter__n=45 ...................\n",
      "[CV]  NN__hidden_layer_sizes=(10, 10), filter__n=45, score=0.8814382896015549, total=   0.9s\n",
      "[CV] NN__hidden_layer_sizes=(10, 10), filter__n=45 ...................\n",
      "[CV]  NN__hidden_layer_sizes=(10, 10), filter__n=45, score=0.6498054474708171, total=   0.6s\n",
      "[CV] NN__hidden_layer_sizes=(10, 10), filter__n=50 ...................\n",
      "[CV]  NN__hidden_layer_sizes=(10, 10), filter__n=50, score=0.6485436893203883, total=   0.6s\n",
      "[CV] NN__hidden_layer_sizes=(10, 10), filter__n=50 ...................\n",
      "[CV]  NN__hidden_layer_sizes=(10, 10), filter__n=50, score=0.541747572815534, total=   0.6s\n",
      "[CV] NN__hidden_layer_sizes=(10, 10), filter__n=50 ...................\n",
      "[CV]  NN__hidden_layer_sizes=(10, 10), filter__n=50, score=0.6044703595724004, total=   0.6s\n",
      "[CV] NN__hidden_layer_sizes=(10, 10), filter__n=50 ...................\n",
      "[CV]  NN__hidden_layer_sizes=(10, 10), filter__n=50, score=0.6482021379980564, total=   0.6s\n",
      "[CV] NN__hidden_layer_sizes=(10, 10), filter__n=50 ...................\n",
      "[CV]  NN__hidden_layer_sizes=(10, 10), filter__n=50, score=0.6488326848249028, total=   0.6s\n",
      "[CV] NN__hidden_layer_sizes=(10, 10), filter__n=55 ...................\n",
      "[CV]  NN__hidden_layer_sizes=(10, 10), filter__n=55, score=0.6485436893203883, total=   0.6s\n",
      "[CV] NN__hidden_layer_sizes=(10, 10), filter__n=55 ...................\n",
      "[CV]  NN__hidden_layer_sizes=(10, 10), filter__n=55, score=0.6485436893203883, total=   0.6s\n",
      "[CV] NN__hidden_layer_sizes=(10, 10), filter__n=55 ...................\n",
      "[CV]  NN__hidden_layer_sizes=(10, 10), filter__n=55, score=0.6482021379980564, total=   0.6s\n",
      "[CV] NN__hidden_layer_sizes=(10, 10), filter__n=55 ...................\n",
      "[CV]  NN__hidden_layer_sizes=(10, 10), filter__n=55, score=0.6482021379980564, total=   0.6s\n",
      "[CV] NN__hidden_layer_sizes=(10, 10), filter__n=55 ...................\n",
      "[CV]  NN__hidden_layer_sizes=(10, 10), filter__n=55, score=0.6488326848249028, total=   0.6s\n",
      "[CV] NN__hidden_layer_sizes=(10, 10), filter__n=60 ...................\n",
      "[CV]  NN__hidden_layer_sizes=(10, 10), filter__n=60, score=0.6485436893203883, total=   0.6s\n",
      "[CV] NN__hidden_layer_sizes=(10, 10), filter__n=60 ...................\n",
      "[CV]  NN__hidden_layer_sizes=(10, 10), filter__n=60, score=0.525242718446602, total=   0.6s\n",
      "[CV] NN__hidden_layer_sizes=(10, 10), filter__n=60 ...................\n",
      "[CV]  NN__hidden_layer_sizes=(10, 10), filter__n=60, score=0.6482021379980564, total=   0.7s\n",
      "[CV] NN__hidden_layer_sizes=(10, 10), filter__n=60 ...................\n",
      "[CV]  NN__hidden_layer_sizes=(10, 10), filter__n=60, score=0.6482021379980564, total=   0.7s\n",
      "[CV] NN__hidden_layer_sizes=(10, 10), filter__n=60 ...................\n",
      "[CV]  NN__hidden_layer_sizes=(10, 10), filter__n=60, score=0.6488326848249028, total=   0.7s\n",
      "[CV] NN__hidden_layer_sizes=(10, 20), filter__n=2 ....................\n",
      "[CV]  NN__hidden_layer_sizes=(10, 20), filter__n=2, score=0.6388349514563106, total=   0.7s\n",
      "[CV] NN__hidden_layer_sizes=(10, 20), filter__n=2 ....................\n",
      "[CV]  NN__hidden_layer_sizes=(10, 20), filter__n=2, score=0.7592233009708738, total=   0.7s\n",
      "[CV] NN__hidden_layer_sizes=(10, 20), filter__n=2 ....................\n",
      "[CV]  NN__hidden_layer_sizes=(10, 20), filter__n=2, score=0.6482021379980564, total=   0.7s\n",
      "[CV] NN__hidden_layer_sizes=(10, 20), filter__n=2 ....................\n",
      "[CV]  NN__hidden_layer_sizes=(10, 20), filter__n=2, score=0.6482021379980564, total=   0.7s\n",
      "[CV] NN__hidden_layer_sizes=(10, 20), filter__n=2 ....................\n",
      "[CV]  NN__hidden_layer_sizes=(10, 20), filter__n=2, score=0.6488326848249028, total=   0.7s\n",
      "[CV] NN__hidden_layer_sizes=(10, 20), filter__n=5 ....................\n",
      "[CV]  NN__hidden_layer_sizes=(10, 20), filter__n=5, score=0.9067961165048544, total=   0.8s\n",
      "[CV] NN__hidden_layer_sizes=(10, 20), filter__n=5 ....................\n",
      "[CV]  NN__hidden_layer_sizes=(10, 20), filter__n=5, score=0.8563106796116505, total=   0.6s\n",
      "[CV] NN__hidden_layer_sizes=(10, 20), filter__n=5 ....................\n",
      "[CV]  NN__hidden_layer_sizes=(10, 20), filter__n=5, score=0.9251700680272109, total=   0.7s\n",
      "[CV] NN__hidden_layer_sizes=(10, 20), filter__n=5 ....................\n",
      "[CV]  NN__hidden_layer_sizes=(10, 20), filter__n=5, score=0.9290573372206026, total=   0.7s\n",
      "[CV] NN__hidden_layer_sizes=(10, 20), filter__n=5 ....................\n",
      "[CV]  NN__hidden_layer_sizes=(10, 20), filter__n=5, score=0.9231517509727627, total=   0.7s\n",
      "[CV] NN__hidden_layer_sizes=(10, 20), filter__n=10 ...................\n",
      "[CV]  NN__hidden_layer_sizes=(10, 20), filter__n=10, score=0.9145631067961165, total=   0.9s\n",
      "[CV] NN__hidden_layer_sizes=(10, 20), filter__n=10 ...................\n",
      "[CV]  NN__hidden_layer_sizes=(10, 20), filter__n=10, score=0.9349514563106797, total=   0.9s\n",
      "[CV] NN__hidden_layer_sizes=(10, 20), filter__n=10 ...................\n",
      "[CV]  NN__hidden_layer_sizes=(10, 20), filter__n=10, score=0.9203109815354713, total=   0.7s\n",
      "[CV] NN__hidden_layer_sizes=(10, 20), filter__n=10 ...................\n",
      "[CV]  NN__hidden_layer_sizes=(10, 20), filter__n=10, score=0.8843537414965986, total=   0.8s\n",
      "[CV] NN__hidden_layer_sizes=(10, 20), filter__n=10 ...................\n",
      "[CV]  NN__hidden_layer_sizes=(10, 20), filter__n=10, score=0.8463035019455253, total=   0.6s\n",
      "[CV] NN__hidden_layer_sizes=(10, 20), filter__n=15 ...................\n",
      "[CV]  NN__hidden_layer_sizes=(10, 20), filter__n=15, score=0.9223300970873787, total=   0.8s\n",
      "[CV] NN__hidden_layer_sizes=(10, 20), filter__n=15 ...................\n",
      "[CV]  NN__hidden_layer_sizes=(10, 20), filter__n=15, score=0.9388349514563107, total=   0.8s\n",
      "[CV] NN__hidden_layer_sizes=(10, 20), filter__n=15 ...................\n",
      "[CV]  NN__hidden_layer_sizes=(10, 20), filter__n=15, score=0.9319727891156463, total=   0.8s\n",
      "[CV] NN__hidden_layer_sizes=(10, 20), filter__n=15 ...................\n",
      "[CV]  NN__hidden_layer_sizes=(10, 20), filter__n=15, score=0.6482021379980564, total=   0.6s\n",
      "[CV] NN__hidden_layer_sizes=(10, 20), filter__n=15 ...................\n",
      "[CV]  NN__hidden_layer_sizes=(10, 20), filter__n=15, score=0.9046692607003891, total=   0.7s\n",
      "[CV] NN__hidden_layer_sizes=(10, 20), filter__n=20 ...................\n",
      "[CV]  NN__hidden_layer_sizes=(10, 20), filter__n=20, score=0.6009708737864078, total=   0.6s\n",
      "[CV] NN__hidden_layer_sizes=(10, 20), filter__n=20 ...................\n",
      "[CV]  NN__hidden_layer_sizes=(10, 20), filter__n=20, score=0.929126213592233, total=   0.8s\n",
      "[CV] NN__hidden_layer_sizes=(10, 20), filter__n=20 ...................\n",
      "[CV]  NN__hidden_layer_sizes=(10, 20), filter__n=20, score=0.6171039844509232, total=   0.6s\n",
      "[CV] NN__hidden_layer_sizes=(10, 20), filter__n=20 ...................\n",
      "[CV]  NN__hidden_layer_sizes=(10, 20), filter__n=20, score=0.8707482993197279, total=   0.8s\n",
      "[CV] NN__hidden_layer_sizes=(10, 20), filter__n=20 ...................\n",
      "[CV]  NN__hidden_layer_sizes=(10, 20), filter__n=20, score=0.6352140077821011, total=   0.6s\n",
      "[CV] NN__hidden_layer_sizes=(10, 20), filter__n=25 ...................\n",
      "[CV]  NN__hidden_layer_sizes=(10, 20), filter__n=25, score=0.925242718446602, total=   0.8s\n",
      "[CV] NN__hidden_layer_sizes=(10, 20), filter__n=25 ...................\n",
      "[CV]  NN__hidden_layer_sizes=(10, 20), filter__n=25, score=0.9097087378640777, total=   0.9s\n",
      "[CV] NN__hidden_layer_sizes=(10, 20), filter__n=25 ...................\n",
      "[CV]  NN__hidden_layer_sizes=(10, 20), filter__n=25, score=0.8503401360544217, total=   0.8s\n",
      "[CV] NN__hidden_layer_sizes=(10, 20), filter__n=25 ...................\n",
      "[CV]  NN__hidden_layer_sizes=(10, 20), filter__n=25, score=0.8882410106899903, total=   1.0s\n",
      "[CV] NN__hidden_layer_sizes=(10, 20), filter__n=25 ...................\n",
      "[CV]  NN__hidden_layer_sizes=(10, 20), filter__n=25, score=0.877431906614786, total=   0.7s\n",
      "[CV] NN__hidden_layer_sizes=(10, 20), filter__n=30 ...................\n",
      "[CV]  NN__hidden_layer_sizes=(10, 20), filter__n=30, score=0.9058252427184466, total=   0.8s\n",
      "[CV] NN__hidden_layer_sizes=(10, 20), filter__n=30 ...................\n",
      "[CV]  NN__hidden_layer_sizes=(10, 20), filter__n=30, score=0.5679611650485437, total=   0.6s\n",
      "[CV] NN__hidden_layer_sizes=(10, 20), filter__n=30 ...................\n"
     ]
    },
    {
     "name": "stdout",
     "output_type": "stream",
     "text": [
      "[CV]  NN__hidden_layer_sizes=(10, 20), filter__n=30, score=0.9086491739552964, total=   0.9s\n",
      "[CV] NN__hidden_layer_sizes=(10, 20), filter__n=30 ...................\n",
      "[CV]  NN__hidden_layer_sizes=(10, 20), filter__n=30, score=0.8960155490767736, total=   1.0s\n",
      "[CV] NN__hidden_layer_sizes=(10, 20), filter__n=30 ...................\n",
      "[CV]  NN__hidden_layer_sizes=(10, 20), filter__n=30, score=0.9173151750972762, total=   0.9s\n",
      "[CV] NN__hidden_layer_sizes=(10, 20), filter__n=35 ...................\n",
      "[CV]  NN__hidden_layer_sizes=(10, 20), filter__n=35, score=0.925242718446602, total=   1.0s\n",
      "[CV] NN__hidden_layer_sizes=(10, 20), filter__n=35 ...................\n",
      "[CV]  NN__hidden_layer_sizes=(10, 20), filter__n=35, score=0.566990291262136, total=   0.6s\n",
      "[CV] NN__hidden_layer_sizes=(10, 20), filter__n=35 ...................\n",
      "[CV]  NN__hidden_layer_sizes=(10, 20), filter__n=35, score=0.8824101068999028, total=   1.0s\n",
      "[CV] NN__hidden_layer_sizes=(10, 20), filter__n=35 ...................\n",
      "[CV]  NN__hidden_layer_sizes=(10, 20), filter__n=35, score=0.8756073858114675, total=   0.9s\n",
      "[CV] NN__hidden_layer_sizes=(10, 20), filter__n=35 ...................\n",
      "[CV]  NN__hidden_layer_sizes=(10, 20), filter__n=35, score=0.5321011673151751, total=   0.7s\n",
      "[CV] NN__hidden_layer_sizes=(10, 20), filter__n=40 ...................\n",
      "[CV]  NN__hidden_layer_sizes=(10, 20), filter__n=40, score=0.6281553398058253, total=   0.7s\n",
      "[CV] NN__hidden_layer_sizes=(10, 20), filter__n=40 ...................\n",
      "[CV]  NN__hidden_layer_sizes=(10, 20), filter__n=40, score=0.6456310679611651, total=   0.8s\n",
      "[CV] NN__hidden_layer_sizes=(10, 20), filter__n=40 ...................\n",
      "[CV]  NN__hidden_layer_sizes=(10, 20), filter__n=40, score=0.6462585034013606, total=   0.7s\n",
      "[CV] NN__hidden_layer_sizes=(10, 20), filter__n=40 ...................\n",
      "[CV]  NN__hidden_layer_sizes=(10, 20), filter__n=40, score=0.6482021379980564, total=   0.7s\n",
      "[CV] NN__hidden_layer_sizes=(10, 20), filter__n=40 ...................\n",
      "[CV]  NN__hidden_layer_sizes=(10, 20), filter__n=40, score=0.6488326848249028, total=   0.6s\n",
      "[CV] NN__hidden_layer_sizes=(10, 20), filter__n=45 ...................\n",
      "[CV]  NN__hidden_layer_sizes=(10, 20), filter__n=45, score=0.6485436893203883, total=   0.7s\n",
      "[CV] NN__hidden_layer_sizes=(10, 20), filter__n=45 ...................\n",
      "[CV]  NN__hidden_layer_sizes=(10, 20), filter__n=45, score=0.6475728155339806, total=   0.7s\n",
      "[CV] NN__hidden_layer_sizes=(10, 20), filter__n=45 ...................\n",
      "[CV]  NN__hidden_layer_sizes=(10, 20), filter__n=45, score=0.6375121477162293, total=   0.7s\n",
      "[CV] NN__hidden_layer_sizes=(10, 20), filter__n=45 ...................\n",
      "[CV]  NN__hidden_layer_sizes=(10, 20), filter__n=45, score=0.6482021379980564, total=   0.7s\n",
      "[CV] NN__hidden_layer_sizes=(10, 20), filter__n=45 ...................\n",
      "[CV]  NN__hidden_layer_sizes=(10, 20), filter__n=45, score=0.6488326848249028, total=   0.7s\n",
      "[CV] NN__hidden_layer_sizes=(10, 20), filter__n=50 ...................\n",
      "[CV]  NN__hidden_layer_sizes=(10, 20), filter__n=50, score=0.6456310679611651, total=   0.7s\n",
      "[CV] NN__hidden_layer_sizes=(10, 20), filter__n=50 ...................\n",
      "[CV]  NN__hidden_layer_sizes=(10, 20), filter__n=50, score=0.6485436893203883, total=   0.7s\n",
      "[CV] NN__hidden_layer_sizes=(10, 20), filter__n=50 ...................\n",
      "[CV]  NN__hidden_layer_sizes=(10, 20), filter__n=50, score=0.6326530612244898, total=   0.7s\n",
      "[CV] NN__hidden_layer_sizes=(10, 20), filter__n=50 ...................\n",
      "[CV]  NN__hidden_layer_sizes=(10, 20), filter__n=50, score=0.6482021379980564, total=   0.7s\n",
      "[CV] NN__hidden_layer_sizes=(10, 20), filter__n=50 ...................\n",
      "[CV]  NN__hidden_layer_sizes=(10, 20), filter__n=50, score=0.6449416342412452, total=   0.7s\n",
      "[CV] NN__hidden_layer_sizes=(10, 20), filter__n=55 ...................\n",
      "[CV]  NN__hidden_layer_sizes=(10, 20), filter__n=55, score=0.6485436893203883, total=   0.7s\n",
      "[CV] NN__hidden_layer_sizes=(10, 20), filter__n=55 ...................\n",
      "[CV]  NN__hidden_layer_sizes=(10, 20), filter__n=55, score=0.7582524271844661, total=   0.9s\n",
      "[CV] NN__hidden_layer_sizes=(10, 20), filter__n=55 ...................\n",
      "[CV]  NN__hidden_layer_sizes=(10, 20), filter__n=55, score=0.6433430515063168, total=   0.7s\n",
      "[CV] NN__hidden_layer_sizes=(10, 20), filter__n=55 ...................\n",
      "[CV]  NN__hidden_layer_sizes=(10, 20), filter__n=55, score=0.6472303206997084, total=   0.7s\n",
      "[CV] NN__hidden_layer_sizes=(10, 20), filter__n=55 ...................\n",
      "[CV]  NN__hidden_layer_sizes=(10, 20), filter__n=55, score=0.6459143968871596, total=   0.8s\n",
      "[CV] NN__hidden_layer_sizes=(10, 20), filter__n=60 ...................\n",
      "[CV]  NN__hidden_layer_sizes=(10, 20), filter__n=60, score=0.6485436893203883, total=   0.7s\n",
      "[CV] NN__hidden_layer_sizes=(10, 20), filter__n=60 ...................\n",
      "[CV]  NN__hidden_layer_sizes=(10, 20), filter__n=60, score=0.6485436893203883, total=   0.7s\n",
      "[CV] NN__hidden_layer_sizes=(10, 20), filter__n=60 ...................\n",
      "[CV]  NN__hidden_layer_sizes=(10, 20), filter__n=60, score=0.6433430515063168, total=   0.7s\n",
      "[CV] NN__hidden_layer_sizes=(10, 20), filter__n=60 ...................\n",
      "[CV]  NN__hidden_layer_sizes=(10, 20), filter__n=60, score=0.6443148688046647, total=   0.7s\n",
      "[CV] NN__hidden_layer_sizes=(10, 20), filter__n=60 ...................\n",
      "[CV]  NN__hidden_layer_sizes=(10, 20), filter__n=60, score=0.642023346303502, total=   0.7s\n",
      "[CV] NN__hidden_layer_sizes=(20, 20), filter__n=2 ....................\n",
      "[CV]  NN__hidden_layer_sizes=(20, 20), filter__n=2, score=0.7359223300970874, total=   0.7s\n",
      "[CV] NN__hidden_layer_sizes=(20, 20), filter__n=2 ....................\n",
      "[CV]  NN__hidden_layer_sizes=(20, 20), filter__n=2, score=0.7718446601941747, total=   0.7s\n",
      "[CV] NN__hidden_layer_sizes=(20, 20), filter__n=2 ....................\n",
      "[CV]  NN__hidden_layer_sizes=(20, 20), filter__n=2, score=0.760932944606414, total=   0.7s\n",
      "[CV] NN__hidden_layer_sizes=(20, 20), filter__n=2 ....................\n",
      "[CV]  NN__hidden_layer_sizes=(20, 20), filter__n=2, score=0.7677356656948494, total=   0.8s\n",
      "[CV] NN__hidden_layer_sizes=(20, 20), filter__n=2 ....................\n",
      "[CV]  NN__hidden_layer_sizes=(20, 20), filter__n=2, score=0.7490272373540856, total=   0.7s\n",
      "[CV] NN__hidden_layer_sizes=(20, 20), filter__n=5 ....................\n",
      "[CV]  NN__hidden_layer_sizes=(20, 20), filter__n=5, score=0.954368932038835, total=   1.4s\n",
      "[CV] NN__hidden_layer_sizes=(20, 20), filter__n=5 ....................\n",
      "[CV]  NN__hidden_layer_sizes=(20, 20), filter__n=5, score=0.9446601941747573, total=   0.9s\n",
      "[CV] NN__hidden_layer_sizes=(20, 20), filter__n=5 ....................\n",
      "[CV]  NN__hidden_layer_sizes=(20, 20), filter__n=5, score=0.9465500485908649, total=   1.1s\n",
      "[CV] NN__hidden_layer_sizes=(20, 20), filter__n=5 ....................\n",
      "[CV]  NN__hidden_layer_sizes=(20, 20), filter__n=5, score=0.9397473275024295, total=   1.0s\n",
      "[CV] NN__hidden_layer_sizes=(20, 20), filter__n=5 ....................\n",
      "[CV]  NN__hidden_layer_sizes=(20, 20), filter__n=5, score=0.9270428015564203, total=   0.8s\n",
      "[CV] NN__hidden_layer_sizes=(20, 20), filter__n=10 ...................\n",
      "[CV]  NN__hidden_layer_sizes=(20, 20), filter__n=10, score=0.9310679611650485, total=   0.7s\n",
      "[CV] NN__hidden_layer_sizes=(20, 20), filter__n=10 ...................\n",
      "[CV]  NN__hidden_layer_sizes=(20, 20), filter__n=10, score=0.9388349514563107, total=   0.9s\n",
      "[CV] NN__hidden_layer_sizes=(20, 20), filter__n=10 ...................\n",
      "[CV]  NN__hidden_layer_sizes=(20, 20), filter__n=10, score=0.9494655004859086, total=   0.9s\n",
      "[CV] NN__hidden_layer_sizes=(20, 20), filter__n=10 ...................\n",
      "[CV]  NN__hidden_layer_sizes=(20, 20), filter__n=10, score=0.924198250728863, total=   1.0s\n",
      "[CV] NN__hidden_layer_sizes=(20, 20), filter__n=10 ...................\n",
      "[CV]  NN__hidden_layer_sizes=(20, 20), filter__n=10, score=0.9163424124513618, total=   1.2s\n",
      "[CV] NN__hidden_layer_sizes=(20, 20), filter__n=15 ...................\n",
      "[CV]  NN__hidden_layer_sizes=(20, 20), filter__n=15, score=0.945631067961165, total=   1.8s\n",
      "[CV] NN__hidden_layer_sizes=(20, 20), filter__n=15 ...................\n",
      "[CV]  NN__hidden_layer_sizes=(20, 20), filter__n=15, score=0.9679611650485437, total=   1.1s\n",
      "[CV] NN__hidden_layer_sizes=(20, 20), filter__n=15 ...................\n",
      "[CV]  NN__hidden_layer_sizes=(20, 20), filter__n=15, score=0.9844509232264335, total=   1.4s\n",
      "[CV] NN__hidden_layer_sizes=(20, 20), filter__n=15 ...................\n"
     ]
    },
    {
     "name": "stdout",
     "output_type": "stream",
     "text": [
      "[CV]  NN__hidden_layer_sizes=(20, 20), filter__n=15, score=0.9446064139941691, total=   1.1s\n",
      "[CV] NN__hidden_layer_sizes=(20, 20), filter__n=15 ...................\n",
      "[CV]  NN__hidden_layer_sizes=(20, 20), filter__n=15, score=0.5826848249027238, total=   0.7s\n",
      "[CV] NN__hidden_layer_sizes=(20, 20), filter__n=20 ...................\n",
      "[CV]  NN__hidden_layer_sizes=(20, 20), filter__n=20, score=0.9213592233009709, total=   1.1s\n",
      "[CV] NN__hidden_layer_sizes=(20, 20), filter__n=20 ...................\n",
      "[CV]  NN__hidden_layer_sizes=(20, 20), filter__n=20, score=0.941747572815534, total=   2.5s\n",
      "[CV] NN__hidden_layer_sizes=(20, 20), filter__n=20 ...................\n",
      "[CV]  NN__hidden_layer_sizes=(20, 20), filter__n=20, score=0.9572400388726919, total=   1.4s\n",
      "[CV] NN__hidden_layer_sizes=(20, 20), filter__n=20 ...................\n",
      "[CV]  NN__hidden_layer_sizes=(20, 20), filter__n=20, score=0.9086491739552964, total=   1.4s\n",
      "[CV] NN__hidden_layer_sizes=(20, 20), filter__n=20 ...................\n",
      "[CV]  NN__hidden_layer_sizes=(20, 20), filter__n=20, score=0.8959143968871596, total=   1.0s\n",
      "[CV] NN__hidden_layer_sizes=(20, 20), filter__n=25 ...................\n",
      "[CV]  NN__hidden_layer_sizes=(20, 20), filter__n=25, score=0.9155339805825242, total=   1.6s\n",
      "[CV] NN__hidden_layer_sizes=(20, 20), filter__n=25 ...................\n",
      "[CV]  NN__hidden_layer_sizes=(20, 20), filter__n=25, score=0.9310679611650485, total=   1.0s\n",
      "[CV] NN__hidden_layer_sizes=(20, 20), filter__n=25 ...................\n",
      "[CV]  NN__hidden_layer_sizes=(20, 20), filter__n=25, score=0.5811467444120505, total=   0.8s\n",
      "[CV] NN__hidden_layer_sizes=(20, 20), filter__n=25 ...................\n",
      "[CV]  NN__hidden_layer_sizes=(20, 20), filter__n=25, score=0.8658892128279884, total=   1.5s\n",
      "[CV] NN__hidden_layer_sizes=(20, 20), filter__n=25 ...................\n",
      "[CV]  NN__hidden_layer_sizes=(20, 20), filter__n=25, score=0.6488326848249028, total=   1.1s\n",
      "[CV] NN__hidden_layer_sizes=(20, 20), filter__n=30 ...................\n",
      "[CV]  NN__hidden_layer_sizes=(20, 20), filter__n=30, score=0.9300970873786408, total=   2.3s\n",
      "[CV] NN__hidden_layer_sizes=(20, 20), filter__n=30 ...................\n",
      "[CV]  NN__hidden_layer_sizes=(20, 20), filter__n=30, score=0.9097087378640777, total=   2.1s\n",
      "[CV] NN__hidden_layer_sizes=(20, 20), filter__n=30 ...................\n",
      "[CV]  NN__hidden_layer_sizes=(20, 20), filter__n=30, score=0.9057337220602527, total=   1.2s\n",
      "[CV] NN__hidden_layer_sizes=(20, 20), filter__n=30 ...................\n",
      "[CV]  NN__hidden_layer_sizes=(20, 20), filter__n=30, score=0.6268221574344023, total=   1.1s\n",
      "[CV] NN__hidden_layer_sizes=(20, 20), filter__n=30 ...................\n",
      "[CV]  NN__hidden_layer_sizes=(20, 20), filter__n=30, score=0.8929961089494164, total=   1.5s\n",
      "[CV] NN__hidden_layer_sizes=(20, 20), filter__n=35 ...................\n",
      "[CV]  NN__hidden_layer_sizes=(20, 20), filter__n=35, score=0.554368932038835, total=   1.0s\n",
      "[CV] NN__hidden_layer_sizes=(20, 20), filter__n=35 ...................\n",
      "[CV]  NN__hidden_layer_sizes=(20, 20), filter__n=35, score=0.6427184466019418, total=   0.9s\n",
      "[CV] NN__hidden_layer_sizes=(20, 20), filter__n=35 ...................\n",
      "[CV]  NN__hidden_layer_sizes=(20, 20), filter__n=35, score=0.6268221574344023, total=   0.9s\n",
      "[CV] NN__hidden_layer_sizes=(20, 20), filter__n=35 ...................\n",
      "[CV]  NN__hidden_layer_sizes=(20, 20), filter__n=35, score=0.6491739552964043, total=   0.8s\n",
      "[CV] NN__hidden_layer_sizes=(20, 20), filter__n=35 ...................\n",
      "[CV]  NN__hidden_layer_sizes=(20, 20), filter__n=35, score=0.6400778210116731, total=   0.7s\n",
      "[CV] NN__hidden_layer_sizes=(20, 20), filter__n=40 ...................\n",
      "[CV]  NN__hidden_layer_sizes=(20, 20), filter__n=40, score=0.8864077669902912, total=   1.0s\n",
      "[CV] NN__hidden_layer_sizes=(20, 20), filter__n=40 ...................\n",
      "[CV]  NN__hidden_layer_sizes=(20, 20), filter__n=40, score=0.5398058252427185, total=   0.8s\n",
      "[CV] NN__hidden_layer_sizes=(20, 20), filter__n=40 ...................\n",
      "[CV]  NN__hidden_layer_sizes=(20, 20), filter__n=40, score=0.8901846452866861, total=   1.0s\n",
      "[CV] NN__hidden_layer_sizes=(20, 20), filter__n=40 ...................\n",
      "[CV]  NN__hidden_layer_sizes=(20, 20), filter__n=40, score=0.6375121477162293, total=   0.9s\n",
      "[CV] NN__hidden_layer_sizes=(20, 20), filter__n=40 ...................\n",
      "[CV]  NN__hidden_layer_sizes=(20, 20), filter__n=40, score=0.7801556420233463, total=   0.8s\n",
      "[CV] NN__hidden_layer_sizes=(20, 20), filter__n=45 ...................\n",
      "[CV]  NN__hidden_layer_sizes=(20, 20), filter__n=45, score=0.7194174757281553, total=   0.7s\n",
      "[CV] NN__hidden_layer_sizes=(20, 20), filter__n=45 ...................\n",
      "[CV]  NN__hidden_layer_sizes=(20, 20), filter__n=45, score=0.9116504854368932, total=   1.0s\n",
      "[CV] NN__hidden_layer_sizes=(20, 20), filter__n=45 ...................\n",
      "[CV]  NN__hidden_layer_sizes=(20, 20), filter__n=45, score=0.9173955296404276, total=   1.1s\n",
      "[CV] NN__hidden_layer_sizes=(20, 20), filter__n=45 ...................\n",
      "[CV]  NN__hidden_layer_sizes=(20, 20), filter__n=45, score=0.8231292517006803, total=   1.0s\n",
      "[CV] NN__hidden_layer_sizes=(20, 20), filter__n=45 ...................\n",
      "[CV]  NN__hidden_layer_sizes=(20, 20), filter__n=45, score=0.8521400778210116, total=   0.9s\n",
      "[CV] NN__hidden_layer_sizes=(20, 20), filter__n=50 ...................\n",
      "[CV]  NN__hidden_layer_sizes=(20, 20), filter__n=50, score=0.5922330097087378, total=   0.7s\n",
      "[CV] NN__hidden_layer_sizes=(20, 20), filter__n=50 ...................\n",
      "[CV]  NN__hidden_layer_sizes=(20, 20), filter__n=50, score=0.8902912621359224, total=   1.2s\n",
      "[CV] NN__hidden_layer_sizes=(20, 20), filter__n=50 ...................\n",
      "[CV]  NN__hidden_layer_sizes=(20, 20), filter__n=50, score=0.8853255587949466, total=   1.1s\n",
      "[CV] NN__hidden_layer_sizes=(20, 20), filter__n=50 ...................\n",
      "[CV]  NN__hidden_layer_sizes=(20, 20), filter__n=50, score=0.7405247813411079, total=   0.8s\n",
      "[CV] NN__hidden_layer_sizes=(20, 20), filter__n=50 ...................\n",
      "[CV]  NN__hidden_layer_sizes=(20, 20), filter__n=50, score=0.8628404669260701, total=   1.1s\n",
      "[CV] NN__hidden_layer_sizes=(20, 20), filter__n=55 ...................\n",
      "[CV]  NN__hidden_layer_sizes=(20, 20), filter__n=55, score=0.8737864077669902, total=   1.6s\n",
      "[CV] NN__hidden_layer_sizes=(20, 20), filter__n=55 ...................\n",
      "[CV]  NN__hidden_layer_sizes=(20, 20), filter__n=55, score=0.8514563106796117, total=   1.7s\n",
      "[CV] NN__hidden_layer_sizes=(20, 20), filter__n=55 ...................\n",
      "[CV]  NN__hidden_layer_sizes=(20, 20), filter__n=55, score=0.8931000971817298, total=   1.4s\n",
      "[CV] NN__hidden_layer_sizes=(20, 20), filter__n=55 ...................\n",
      "[CV]  NN__hidden_layer_sizes=(20, 20), filter__n=55, score=0.8999028182701652, total=   1.5s\n",
      "[CV] NN__hidden_layer_sizes=(20, 20), filter__n=55 ...................\n",
      "[CV]  NN__hidden_layer_sizes=(20, 20), filter__n=55, score=0.8715953307392996, total=   1.1s\n",
      "[CV] NN__hidden_layer_sizes=(20, 20), filter__n=60 ...................\n",
      "[CV]  NN__hidden_layer_sizes=(20, 20), filter__n=60, score=0.7660194174757281, total=   0.7s\n",
      "[CV] NN__hidden_layer_sizes=(20, 20), filter__n=60 ...................\n",
      "[CV]  NN__hidden_layer_sizes=(20, 20), filter__n=60, score=0.6504854368932039, total=   0.7s\n",
      "[CV] NN__hidden_layer_sizes=(20, 20), filter__n=60 ...................\n",
      "[CV]  NN__hidden_layer_sizes=(20, 20), filter__n=60, score=0.902818270165209, total=   1.0s\n",
      "[CV] NN__hidden_layer_sizes=(20, 20), filter__n=60 ...................\n",
      "[CV]  NN__hidden_layer_sizes=(20, 20), filter__n=60, score=0.7405247813411079, total=   0.8s\n",
      "[CV] NN__hidden_layer_sizes=(20, 20), filter__n=60 ...................\n",
      "[CV]  NN__hidden_layer_sizes=(20, 20), filter__n=60, score=0.877431906614786, total=   1.1s\n",
      "[CV] NN__hidden_layer_sizes=(20, 10), filter__n=2 ....................\n",
      "[CV]  NN__hidden_layer_sizes=(20, 10), filter__n=2, score=0.7883495145631068, total=   0.8s\n",
      "[CV] NN__hidden_layer_sizes=(20, 10), filter__n=2 ....................\n",
      "[CV]  NN__hidden_layer_sizes=(20, 10), filter__n=2, score=0.7854368932038835, total=   0.7s\n",
      "[CV] NN__hidden_layer_sizes=(20, 10), filter__n=2 ....................\n",
      "[CV]  NN__hidden_layer_sizes=(20, 10), filter__n=2, score=0.7638483965014577, total=   0.7s\n",
      "[CV] NN__hidden_layer_sizes=(20, 10), filter__n=2 ....................\n"
     ]
    },
    {
     "name": "stdout",
     "output_type": "stream",
     "text": [
      "[CV]  NN__hidden_layer_sizes=(20, 10), filter__n=2, score=0.7346938775510204, total=   0.7s\n",
      "[CV] NN__hidden_layer_sizes=(20, 10), filter__n=2 ....................\n",
      "[CV]  NN__hidden_layer_sizes=(20, 10), filter__n=2, score=0.7665369649805448, total=   0.7s\n",
      "[CV] NN__hidden_layer_sizes=(20, 10), filter__n=5 ....................\n",
      "[CV]  NN__hidden_layer_sizes=(20, 10), filter__n=5, score=0.9533980582524272, total=   1.0s\n",
      "[CV] NN__hidden_layer_sizes=(20, 10), filter__n=5 ....................\n",
      "[CV]  NN__hidden_layer_sizes=(20, 10), filter__n=5, score=0.945631067961165, total=   0.9s\n",
      "[CV] NN__hidden_layer_sizes=(20, 10), filter__n=5 ....................\n",
      "[CV]  NN__hidden_layer_sizes=(20, 10), filter__n=5, score=0.9271137026239067, total=   1.0s\n",
      "[CV] NN__hidden_layer_sizes=(20, 10), filter__n=5 ....................\n",
      "[CV]  NN__hidden_layer_sizes=(20, 10), filter__n=5, score=0.9319727891156463, total=   1.0s\n",
      "[CV] NN__hidden_layer_sizes=(20, 10), filter__n=5 ....................\n",
      "[CV]  NN__hidden_layer_sizes=(20, 10), filter__n=5, score=0.9280155642023347, total=   1.0s\n",
      "[CV] NN__hidden_layer_sizes=(20, 10), filter__n=10 ...................\n",
      "[CV]  NN__hidden_layer_sizes=(20, 10), filter__n=10, score=0.9495145631067962, total=   1.2s\n",
      "[CV] NN__hidden_layer_sizes=(20, 10), filter__n=10 ...................\n",
      "[CV]  NN__hidden_layer_sizes=(20, 10), filter__n=10, score=0.941747572815534, total=   3.1s\n",
      "[CV] NN__hidden_layer_sizes=(20, 10), filter__n=10 ...................\n",
      "[CV]  NN__hidden_layer_sizes=(20, 10), filter__n=10, score=0.9329446064139941, total=   1.2s\n",
      "[CV] NN__hidden_layer_sizes=(20, 10), filter__n=10 ...................\n",
      "[CV]  NN__hidden_layer_sizes=(20, 10), filter__n=10, score=0.9261418853255587, total=   1.5s\n",
      "[CV] NN__hidden_layer_sizes=(20, 10), filter__n=10 ...................\n",
      "[CV]  NN__hidden_layer_sizes=(20, 10), filter__n=10, score=0.9046692607003891, total=   1.0s\n",
      "[CV] NN__hidden_layer_sizes=(20, 10), filter__n=15 ...................\n",
      "[CV]  NN__hidden_layer_sizes=(20, 10), filter__n=15, score=0.9592233009708738, total=   1.9s\n",
      "[CV] NN__hidden_layer_sizes=(20, 10), filter__n=15 ...................\n",
      "[CV]  NN__hidden_layer_sizes=(20, 10), filter__n=15, score=0.9378640776699029, total=   0.9s\n",
      "[CV] NN__hidden_layer_sizes=(20, 10), filter__n=15 ...................\n",
      "[CV]  NN__hidden_layer_sizes=(20, 10), filter__n=15, score=0.923226433430515, total=   1.2s\n",
      "[CV] NN__hidden_layer_sizes=(20, 10), filter__n=15 ...................\n",
      "[CV]  NN__hidden_layer_sizes=(20, 10), filter__n=15, score=0.8882410106899903, total=   1.2s\n",
      "[CV] NN__hidden_layer_sizes=(20, 10), filter__n=15 ...................\n",
      "[CV]  NN__hidden_layer_sizes=(20, 10), filter__n=15, score=0.9309338521400778, total=   1.6s\n",
      "[CV] NN__hidden_layer_sizes=(20, 10), filter__n=20 ...................\n",
      "[CV]  NN__hidden_layer_sizes=(20, 10), filter__n=20, score=0.6242718446601941, total=   0.9s\n",
      "[CV] NN__hidden_layer_sizes=(20, 10), filter__n=20 ...................\n",
      "[CV]  NN__hidden_layer_sizes=(20, 10), filter__n=20, score=0.9300970873786408, total=   1.4s\n",
      "[CV] NN__hidden_layer_sizes=(20, 10), filter__n=20 ...................\n",
      "[CV]  NN__hidden_layer_sizes=(20, 10), filter__n=20, score=0.6161321671525753, total=   0.8s\n",
      "[CV] NN__hidden_layer_sizes=(20, 10), filter__n=20 ...................\n",
      "[CV]  NN__hidden_layer_sizes=(20, 10), filter__n=20, score=0.8940719144800777, total=   1.3s\n",
      "[CV] NN__hidden_layer_sizes=(20, 10), filter__n=20 ...................\n",
      "[CV]  NN__hidden_layer_sizes=(20, 10), filter__n=20, score=0.9173151750972762, total=   1.4s\n",
      "[CV] NN__hidden_layer_sizes=(20, 10), filter__n=25 ...................\n",
      "[CV]  NN__hidden_layer_sizes=(20, 10), filter__n=25, score=0.6242718446601941, total=   0.7s\n",
      "[CV] NN__hidden_layer_sizes=(20, 10), filter__n=25 ...................\n",
      "[CV]  NN__hidden_layer_sizes=(20, 10), filter__n=25, score=0.9009708737864077, total=   1.3s\n",
      "[CV] NN__hidden_layer_sizes=(20, 10), filter__n=25 ...................\n",
      "[CV]  NN__hidden_layer_sizes=(20, 10), filter__n=25, score=0.902818270165209, total=   1.5s\n",
      "[CV] NN__hidden_layer_sizes=(20, 10), filter__n=25 ...................\n",
      "[CV]  NN__hidden_layer_sizes=(20, 10), filter__n=25, score=0.892128279883382, total=   1.2s\n",
      "[CV] NN__hidden_layer_sizes=(20, 10), filter__n=25 ...................\n",
      "[CV]  NN__hidden_layer_sizes=(20, 10), filter__n=25, score=0.8910505836575876, total=   1.7s\n",
      "[CV] NN__hidden_layer_sizes=(20, 10), filter__n=30 ...................\n",
      "[CV]  NN__hidden_layer_sizes=(20, 10), filter__n=30, score=0.8728155339805825, total=   1.6s\n",
      "[CV] NN__hidden_layer_sizes=(20, 10), filter__n=30 ...................\n",
      "[CV]  NN__hidden_layer_sizes=(20, 10), filter__n=30, score=0.6466019417475728, total=   0.9s\n",
      "[CV] NN__hidden_layer_sizes=(20, 10), filter__n=30 ...................\n",
      "[CV]  NN__hidden_layer_sizes=(20, 10), filter__n=30, score=0.6443148688046647, total=   0.7s\n",
      "[CV] NN__hidden_layer_sizes=(20, 10), filter__n=30 ...................\n",
      "[CV]  NN__hidden_layer_sizes=(20, 10), filter__n=30, score=0.6384839650145773, total=   0.7s\n",
      "[CV] NN__hidden_layer_sizes=(20, 10), filter__n=30 ...................\n",
      "[CV]  NN__hidden_layer_sizes=(20, 10), filter__n=30, score=0.8900778210116731, total=   3.0s\n",
      "[CV] NN__hidden_layer_sizes=(20, 10), filter__n=35 ...................\n",
      "[CV]  NN__hidden_layer_sizes=(20, 10), filter__n=35, score=0.5970873786407767, total=   0.9s\n",
      "[CV] NN__hidden_layer_sizes=(20, 10), filter__n=35 ...................\n",
      "[CV]  NN__hidden_layer_sizes=(20, 10), filter__n=35, score=0.6019417475728155, total=   0.7s\n",
      "[CV] NN__hidden_layer_sizes=(20, 10), filter__n=35 ...................\n",
      "[CV]  NN__hidden_layer_sizes=(20, 10), filter__n=35, score=0.6122448979591837, total=   0.7s\n",
      "[CV] NN__hidden_layer_sizes=(20, 10), filter__n=35 ...................\n",
      "[CV]  NN__hidden_layer_sizes=(20, 10), filter__n=35, score=0.7988338192419825, total=   1.3s\n",
      "[CV] NN__hidden_layer_sizes=(20, 10), filter__n=35 ...................\n",
      "[CV]  NN__hidden_layer_sizes=(20, 10), filter__n=35, score=0.6488326848249028, total=   0.7s\n",
      "[CV] NN__hidden_layer_sizes=(20, 10), filter__n=40 ...................\n",
      "[CV]  NN__hidden_layer_sizes=(20, 10), filter__n=40, score=0.6203883495145631, total=   1.0s\n",
      "[CV] NN__hidden_layer_sizes=(20, 10), filter__n=40 ...................\n",
      "[CV]  NN__hidden_layer_sizes=(20, 10), filter__n=40, score=0.6485436893203883, total=   0.7s\n",
      "[CV] NN__hidden_layer_sizes=(20, 10), filter__n=40 ...................\n",
      "[CV]  NN__hidden_layer_sizes=(20, 10), filter__n=40, score=0.6355685131195336, total=   0.7s\n",
      "[CV] NN__hidden_layer_sizes=(20, 10), filter__n=40 ...................\n",
      "[CV]  NN__hidden_layer_sizes=(20, 10), filter__n=40, score=0.6132167152575316, total=   0.7s\n",
      "[CV] NN__hidden_layer_sizes=(20, 10), filter__n=40 ...................\n",
      "[CV]  NN__hidden_layer_sizes=(20, 10), filter__n=40, score=0.6060311284046692, total=   0.7s\n",
      "[CV] NN__hidden_layer_sizes=(20, 10), filter__n=45 ...................\n",
      "[CV]  NN__hidden_layer_sizes=(20, 10), filter__n=45, score=0.6466019417475728, total=   0.8s\n",
      "[CV] NN__hidden_layer_sizes=(20, 10), filter__n=45 ...................\n",
      "[CV]  NN__hidden_layer_sizes=(20, 10), filter__n=45, score=0.6485436893203883, total=   1.2s\n",
      "[CV] NN__hidden_layer_sizes=(20, 10), filter__n=45 ...................\n",
      "[CV]  NN__hidden_layer_sizes=(20, 10), filter__n=45, score=0.5947521865889213, total=   0.9s\n",
      "[CV] NN__hidden_layer_sizes=(20, 10), filter__n=45 ...................\n",
      "[CV]  NN__hidden_layer_sizes=(20, 10), filter__n=45, score=0.6443148688046647, total=   0.8s\n",
      "[CV] NN__hidden_layer_sizes=(20, 10), filter__n=45 ...................\n",
      "[CV]  NN__hidden_layer_sizes=(20, 10), filter__n=45, score=0.5963035019455253, total=   0.8s\n",
      "[CV] NN__hidden_layer_sizes=(20, 10), filter__n=50 ...................\n",
      "[CV]  NN__hidden_layer_sizes=(20, 10), filter__n=50, score=0.6485436893203883, total=   0.9s\n",
      "[CV] NN__hidden_layer_sizes=(20, 10), filter__n=50 ...................\n",
      "[CV]  NN__hidden_layer_sizes=(20, 10), filter__n=50, score=0.6495145631067961, total=   0.7s\n",
      "[CV] NN__hidden_layer_sizes=(20, 10), filter__n=50 ...................\n",
      "[CV]  NN__hidden_layer_sizes=(20, 10), filter__n=50, score=0.6326530612244898, total=   0.8s\n",
      "[CV] NN__hidden_layer_sizes=(20, 10), filter__n=50 ...................\n",
      "[CV]  NN__hidden_layer_sizes=(20, 10), filter__n=50, score=0.6355685131195336, total=   0.7s\n",
      "[CV] NN__hidden_layer_sizes=(20, 10), filter__n=50 ...................\n"
     ]
    },
    {
     "name": "stdout",
     "output_type": "stream",
     "text": [
      "[CV]  NN__hidden_layer_sizes=(20, 10), filter__n=50, score=0.622568093385214, total=   0.7s\n",
      "[CV] NN__hidden_layer_sizes=(20, 10), filter__n=55 ...................\n",
      "[CV]  NN__hidden_layer_sizes=(20, 10), filter__n=55, score=0.6495145631067961, total=   0.7s\n",
      "[CV] NN__hidden_layer_sizes=(20, 10), filter__n=55 ...................\n",
      "[CV]  NN__hidden_layer_sizes=(20, 10), filter__n=55, score=0.6475728155339806, total=   0.7s\n",
      "[CV] NN__hidden_layer_sizes=(20, 10), filter__n=55 ...................\n",
      "[CV]  NN__hidden_layer_sizes=(20, 10), filter__n=55, score=0.5996112730806609, total=   0.8s\n",
      "[CV] NN__hidden_layer_sizes=(20, 10), filter__n=55 ...................\n",
      "[CV]  NN__hidden_layer_sizes=(20, 10), filter__n=55, score=0.6239067055393586, total=   0.9s\n",
      "[CV] NN__hidden_layer_sizes=(20, 10), filter__n=55 ...................\n",
      "[CV]  NN__hidden_layer_sizes=(20, 10), filter__n=55, score=0.646887159533074, total=   0.8s\n",
      "[CV] NN__hidden_layer_sizes=(20, 10), filter__n=60 ...................\n",
      "[CV]  NN__hidden_layer_sizes=(20, 10), filter__n=60, score=0.6495145631067961, total=   0.7s\n",
      "[CV] NN__hidden_layer_sizes=(20, 10), filter__n=60 ...................\n",
      "[CV]  NN__hidden_layer_sizes=(20, 10), filter__n=60, score=0.6077669902912621, total=   0.7s\n",
      "[CV] NN__hidden_layer_sizes=(20, 10), filter__n=60 ...................\n",
      "[CV]  NN__hidden_layer_sizes=(20, 10), filter__n=60, score=0.597667638483965, total=   1.3s\n",
      "[CV] NN__hidden_layer_sizes=(20, 10), filter__n=60 ...................\n",
      "[CV]  NN__hidden_layer_sizes=(20, 10), filter__n=60, score=0.6112730806608357, total=   1.1s\n",
      "[CV] NN__hidden_layer_sizes=(20, 10), filter__n=60 ...................\n",
      "[CV]  NN__hidden_layer_sizes=(20, 10), filter__n=60, score=0.622568093385214, total=   0.8s\n",
      "[CV] NN__hidden_layer_sizes=(5,), filter__n=2 ........................\n",
      "[CV]  NN__hidden_layer_sizes=(5,), filter__n=2, score=0.6456310679611651, total=   1.2s\n",
      "[CV] NN__hidden_layer_sizes=(5,), filter__n=2 ........................\n",
      "[CV]  NN__hidden_layer_sizes=(5,), filter__n=2, score=0.6436893203883495, total=   1.0s\n",
      "[CV] NN__hidden_layer_sizes=(5,), filter__n=2 ........................\n",
      "[CV]  NN__hidden_layer_sizes=(5,), filter__n=2, score=0.6472303206997084, total=   0.9s\n",
      "[CV] NN__hidden_layer_sizes=(5,), filter__n=2 ........................\n",
      "[CV]  NN__hidden_layer_sizes=(5,), filter__n=2, score=0.6482021379980564, total=   0.9s\n",
      "[CV] NN__hidden_layer_sizes=(5,), filter__n=2 ........................\n",
      "[CV]  NN__hidden_layer_sizes=(5,), filter__n=2, score=0.6478599221789884, total=   0.9s\n",
      "[CV] NN__hidden_layer_sizes=(5,), filter__n=5 ........................\n",
      "[CV]  NN__hidden_layer_sizes=(5,), filter__n=5, score=0.35145631067961164, total=   0.6s\n",
      "[CV] NN__hidden_layer_sizes=(5,), filter__n=5 ........................\n",
      "[CV]  NN__hidden_layer_sizes=(5,), filter__n=5, score=0.44660194174757284, total=   1.0s\n",
      "[CV] NN__hidden_layer_sizes=(5,), filter__n=5 ........................\n",
      "[CV]  NN__hidden_layer_sizes=(5,), filter__n=5, score=0.35179786200194363, total=   1.3s\n",
      "[CV] NN__hidden_layer_sizes=(5,), filter__n=5 ........................\n",
      "[CV]  NN__hidden_layer_sizes=(5,), filter__n=5, score=0.9096209912536443, total=   1.8s\n",
      "[CV] NN__hidden_layer_sizes=(5,), filter__n=5 ........................\n",
      "[CV]  NN__hidden_layer_sizes=(5,), filter__n=5, score=0.35116731517509725, total=   0.6s\n",
      "[CV] NN__hidden_layer_sizes=(5,), filter__n=10 .......................\n",
      "[CV]  NN__hidden_layer_sizes=(5,), filter__n=10, score=0.6485436893203883, total=   0.7s\n",
      "[CV] NN__hidden_layer_sizes=(5,), filter__n=10 .......................\n",
      "[CV]  NN__hidden_layer_sizes=(5,), filter__n=10, score=0.6485436893203883, total=   0.9s\n",
      "[CV] NN__hidden_layer_sizes=(5,), filter__n=10 .......................\n",
      "[CV]  NN__hidden_layer_sizes=(5,), filter__n=10, score=0.6482021379980564, total=   0.8s\n",
      "[CV] NN__hidden_layer_sizes=(5,), filter__n=10 .......................\n",
      "[CV]  NN__hidden_layer_sizes=(5,), filter__n=10, score=0.6482021379980564, total=   0.7s\n",
      "[CV] NN__hidden_layer_sizes=(5,), filter__n=10 .......................\n",
      "[CV]  NN__hidden_layer_sizes=(5,), filter__n=10, score=0.6488326848249028, total=   0.7s\n",
      "[CV] NN__hidden_layer_sizes=(5,), filter__n=15 .......................\n",
      "[CV]  NN__hidden_layer_sizes=(5,), filter__n=15, score=0.8815533980582524, total=   1.5s\n",
      "[CV] NN__hidden_layer_sizes=(5,), filter__n=15 .......................\n",
      "[CV]  NN__hidden_layer_sizes=(5,), filter__n=15, score=0.35145631067961164, total=   0.7s\n",
      "[CV] NN__hidden_layer_sizes=(5,), filter__n=15 .......................\n",
      "[CV]  NN__hidden_layer_sizes=(5,), filter__n=15, score=0.35179786200194363, total=   0.7s\n",
      "[CV] NN__hidden_layer_sizes=(5,), filter__n=15 .......................\n",
      "[CV]  NN__hidden_layer_sizes=(5,), filter__n=15, score=0.6822157434402333, total=   0.7s\n",
      "[CV] NN__hidden_layer_sizes=(5,), filter__n=15 .......................\n",
      "[CV]  NN__hidden_layer_sizes=(5,), filter__n=15, score=0.6040856031128404, total=   0.7s\n",
      "[CV] NN__hidden_layer_sizes=(5,), filter__n=20 .......................\n",
      "[CV]  NN__hidden_layer_sizes=(5,), filter__n=20, score=0.6174757281553398, total=   0.7s\n",
      "[CV] NN__hidden_layer_sizes=(5,), filter__n=20 .......................\n",
      "[CV]  NN__hidden_layer_sizes=(5,), filter__n=20, score=0.4961165048543689, total=   0.7s\n",
      "[CV] NN__hidden_layer_sizes=(5,), filter__n=20 .......................\n",
      "[CV]  NN__hidden_layer_sizes=(5,), filter__n=20, score=0.586977648202138, total=   0.7s\n",
      "[CV] NN__hidden_layer_sizes=(5,), filter__n=20 .......................\n",
      "[CV]  NN__hidden_layer_sizes=(5,), filter__n=20, score=0.8445092322643343, total=   1.1s\n",
      "[CV] NN__hidden_layer_sizes=(5,), filter__n=20 .......................\n",
      "[CV]  NN__hidden_layer_sizes=(5,), filter__n=20, score=0.646887159533074, total=   0.7s\n",
      "[CV] NN__hidden_layer_sizes=(5,), filter__n=25 .......................\n",
      "[CV]  NN__hidden_layer_sizes=(5,), filter__n=25, score=0.49029126213592233, total=   0.7s\n",
      "[CV] NN__hidden_layer_sizes=(5,), filter__n=25 .......................\n",
      "[CV]  NN__hidden_layer_sizes=(5,), filter__n=25, score=0.6242718446601941, total=   0.8s\n",
      "[CV] NN__hidden_layer_sizes=(5,), filter__n=25 .......................\n",
      "[CV]  NN__hidden_layer_sizes=(5,), filter__n=25, score=0.4324586977648202, total=   0.7s\n",
      "[CV] NN__hidden_layer_sizes=(5,), filter__n=25 .......................\n",
      "[CV]  NN__hidden_layer_sizes=(5,), filter__n=25, score=0.5879494655004859, total=   0.7s\n",
      "[CV] NN__hidden_layer_sizes=(5,), filter__n=25 .......................\n",
      "[CV]  NN__hidden_layer_sizes=(5,), filter__n=25, score=0.5029182879377432, total=   0.6s\n",
      "[CV] NN__hidden_layer_sizes=(5,), filter__n=30 .......................\n",
      "[CV]  NN__hidden_layer_sizes=(5,), filter__n=30, score=0.5815533980582525, total=   0.8s\n",
      "[CV] NN__hidden_layer_sizes=(5,), filter__n=30 .......................\n",
      "[CV]  NN__hidden_layer_sizes=(5,), filter__n=30, score=0.8495145631067961, total=   1.0s\n",
      "[CV] NN__hidden_layer_sizes=(5,), filter__n=30 .......................\n",
      "[CV]  NN__hidden_layer_sizes=(5,), filter__n=30, score=0.8901846452866861, total=   1.0s\n",
      "[CV] NN__hidden_layer_sizes=(5,), filter__n=30 .......................\n",
      "[CV]  NN__hidden_layer_sizes=(5,), filter__n=30, score=0.620019436345967, total=   0.7s\n",
      "[CV] NN__hidden_layer_sizes=(5,), filter__n=30 .......................\n",
      "[CV]  NN__hidden_layer_sizes=(5,), filter__n=30, score=0.8706225680933852, total=   0.9s\n",
      "[CV] NN__hidden_layer_sizes=(5,), filter__n=35 .......................\n",
      "[CV]  NN__hidden_layer_sizes=(5,), filter__n=35, score=0.6495145631067961, total=   0.7s\n",
      "[CV] NN__hidden_layer_sizes=(5,), filter__n=35 .......................\n",
      "[CV]  NN__hidden_layer_sizes=(5,), filter__n=35, score=0.6009708737864078, total=   0.7s\n",
      "[CV] NN__hidden_layer_sizes=(5,), filter__n=35 .......................\n",
      "[CV]  NN__hidden_layer_sizes=(5,), filter__n=35, score=0.5860058309037901, total=   0.7s\n",
      "[CV] NN__hidden_layer_sizes=(5,), filter__n=35 .......................\n",
      "[CV]  NN__hidden_layer_sizes=(5,), filter__n=35, score=0.8318756073858115, total=   1.0s\n",
      "[CV] NN__hidden_layer_sizes=(5,), filter__n=35 .......................\n",
      "[CV]  NN__hidden_layer_sizes=(5,), filter__n=35, score=0.6070038910505836, total=   0.7s\n",
      "[CV] NN__hidden_layer_sizes=(5,), filter__n=40 .......................\n"
     ]
    },
    {
     "name": "stdout",
     "output_type": "stream",
     "text": [
      "[CV]  NN__hidden_layer_sizes=(5,), filter__n=40, score=0.6485436893203883, total=   0.7s\n",
      "[CV] NN__hidden_layer_sizes=(5,), filter__n=40 .......................\n",
      "[CV]  NN__hidden_layer_sizes=(5,), filter__n=40, score=0.6485436893203883, total=   0.6s\n",
      "[CV] NN__hidden_layer_sizes=(5,), filter__n=40 .......................\n",
      "[CV]  NN__hidden_layer_sizes=(5,), filter__n=40, score=0.6482021379980564, total=   0.6s\n",
      "[CV] NN__hidden_layer_sizes=(5,), filter__n=40 .......................\n",
      "[CV]  NN__hidden_layer_sizes=(5,), filter__n=40, score=0.6482021379980564, total=   0.7s\n",
      "[CV] NN__hidden_layer_sizes=(5,), filter__n=40 .......................\n",
      "[CV]  NN__hidden_layer_sizes=(5,), filter__n=40, score=0.6488326848249028, total=   0.6s\n",
      "[CV] NN__hidden_layer_sizes=(5,), filter__n=45 .......................\n",
      "[CV]  NN__hidden_layer_sizes=(5,), filter__n=45, score=0.6485436893203883, total=   0.7s\n",
      "[CV] NN__hidden_layer_sizes=(5,), filter__n=45 .......................\n",
      "[CV]  NN__hidden_layer_sizes=(5,), filter__n=45, score=0.6485436893203883, total=   0.7s\n",
      "[CV] NN__hidden_layer_sizes=(5,), filter__n=45 .......................\n",
      "[CV]  NN__hidden_layer_sizes=(5,), filter__n=45, score=0.6482021379980564, total=   0.7s\n",
      "[CV] NN__hidden_layer_sizes=(5,), filter__n=45 .......................\n",
      "[CV]  NN__hidden_layer_sizes=(5,), filter__n=45, score=0.6482021379980564, total=   0.6s\n",
      "[CV] NN__hidden_layer_sizes=(5,), filter__n=45 .......................\n",
      "[CV]  NN__hidden_layer_sizes=(5,), filter__n=45, score=0.6488326848249028, total=   0.6s\n",
      "[CV] NN__hidden_layer_sizes=(5,), filter__n=50 .......................\n",
      "[CV]  NN__hidden_layer_sizes=(5,), filter__n=50, score=0.6485436893203883, total=   0.6s\n",
      "[CV] NN__hidden_layer_sizes=(5,), filter__n=50 .......................\n",
      "[CV]  NN__hidden_layer_sizes=(5,), filter__n=50, score=0.6485436893203883, total=   0.7s\n",
      "[CV] NN__hidden_layer_sizes=(5,), filter__n=50 .......................\n",
      "[CV]  NN__hidden_layer_sizes=(5,), filter__n=50, score=0.6482021379980564, total=   0.7s\n",
      "[CV] NN__hidden_layer_sizes=(5,), filter__n=50 .......................\n",
      "[CV]  NN__hidden_layer_sizes=(5,), filter__n=50, score=0.6482021379980564, total=   0.7s\n",
      "[CV] NN__hidden_layer_sizes=(5,), filter__n=50 .......................\n",
      "[CV]  NN__hidden_layer_sizes=(5,), filter__n=50, score=0.6488326848249028, total=   0.7s\n",
      "[CV] NN__hidden_layer_sizes=(5,), filter__n=55 .......................\n",
      "[CV]  NN__hidden_layer_sizes=(5,), filter__n=55, score=0.6485436893203883, total=   0.7s\n",
      "[CV] NN__hidden_layer_sizes=(5,), filter__n=55 .......................\n",
      "[CV]  NN__hidden_layer_sizes=(5,), filter__n=55, score=0.6456310679611651, total=   0.7s\n",
      "[CV] NN__hidden_layer_sizes=(5,), filter__n=55 .......................\n",
      "[CV]  NN__hidden_layer_sizes=(5,), filter__n=55, score=0.6482021379980564, total=   0.7s\n",
      "[CV] NN__hidden_layer_sizes=(5,), filter__n=55 .......................\n",
      "[CV]  NN__hidden_layer_sizes=(5,), filter__n=55, score=0.6482021379980564, total=   0.7s\n",
      "[CV] NN__hidden_layer_sizes=(5,), filter__n=55 .......................\n",
      "[CV]  NN__hidden_layer_sizes=(5,), filter__n=55, score=0.6488326848249028, total=   0.7s\n",
      "[CV] NN__hidden_layer_sizes=(5,), filter__n=60 .......................\n",
      "[CV]  NN__hidden_layer_sizes=(5,), filter__n=60, score=0.6485436893203883, total=   0.6s\n",
      "[CV] NN__hidden_layer_sizes=(5,), filter__n=60 .......................\n",
      "[CV]  NN__hidden_layer_sizes=(5,), filter__n=60, score=0.6485436893203883, total=   0.7s\n",
      "[CV] NN__hidden_layer_sizes=(5,), filter__n=60 .......................\n",
      "[CV]  NN__hidden_layer_sizes=(5,), filter__n=60, score=0.6482021379980564, total=   0.7s\n",
      "[CV] NN__hidden_layer_sizes=(5,), filter__n=60 .......................\n",
      "[CV]  NN__hidden_layer_sizes=(5,), filter__n=60, score=0.6482021379980564, total=   0.7s\n",
      "[CV] NN__hidden_layer_sizes=(5,), filter__n=60 .......................\n",
      "[CV]  NN__hidden_layer_sizes=(5,), filter__n=60, score=0.6488326848249028, total=   0.7s\n",
      "[CV] NN__hidden_layer_sizes=(10,), filter__n=2 .......................\n",
      "[CV]  NN__hidden_layer_sizes=(10,), filter__n=2, score=0.35145631067961164, total=   0.6s\n",
      "[CV] NN__hidden_layer_sizes=(10,), filter__n=2 .......................\n",
      "[CV]  NN__hidden_layer_sizes=(10,), filter__n=2, score=0.35145631067961164, total=   0.6s\n",
      "[CV] NN__hidden_layer_sizes=(10,), filter__n=2 .......................\n",
      "[CV]  NN__hidden_layer_sizes=(10,), filter__n=2, score=0.35179786200194363, total=   0.7s\n",
      "[CV] NN__hidden_layer_sizes=(10,), filter__n=2 .......................\n",
      "[CV]  NN__hidden_layer_sizes=(10,), filter__n=2, score=0.35179786200194363, total=   0.6s\n",
      "[CV] NN__hidden_layer_sizes=(10,), filter__n=2 .......................\n",
      "[CV]  NN__hidden_layer_sizes=(10,), filter__n=2, score=0.35116731517509725, total=   0.6s\n",
      "[CV] NN__hidden_layer_sizes=(10,), filter__n=5 .......................\n",
      "[CV]  NN__hidden_layer_sizes=(10,), filter__n=5, score=0.5854368932038835, total=   0.7s\n",
      "[CV] NN__hidden_layer_sizes=(10,), filter__n=5 .......................\n",
      "[CV]  NN__hidden_layer_sizes=(10,), filter__n=5, score=0.5776699029126213, total=   0.8s\n",
      "[CV] NN__hidden_layer_sizes=(10,), filter__n=5 .......................\n",
      "[CV]  NN__hidden_layer_sizes=(10,), filter__n=5, score=0.6190476190476191, total=   0.6s\n",
      "[CV] NN__hidden_layer_sizes=(10,), filter__n=5 .......................\n",
      "[CV]  NN__hidden_layer_sizes=(10,), filter__n=5, score=0.9203109815354713, total=   0.8s\n",
      "[CV] NN__hidden_layer_sizes=(10,), filter__n=5 .......................\n",
      "[CV]  NN__hidden_layer_sizes=(10,), filter__n=5, score=0.6303501945525292, total=   0.7s\n",
      "[CV] NN__hidden_layer_sizes=(10,), filter__n=10 ......................\n",
      "[CV]  NN__hidden_layer_sizes=(10,), filter__n=10, score=0.9475728155339805, total=   1.1s\n",
      "[CV] NN__hidden_layer_sizes=(10,), filter__n=10 ......................\n",
      "[CV]  NN__hidden_layer_sizes=(10,), filter__n=10, score=0.929126213592233, total=   0.8s\n",
      "[CV] NN__hidden_layer_sizes=(10,), filter__n=10 ......................\n",
      "[CV]  NN__hidden_layer_sizes=(10,), filter__n=10, score=0.9329446064139941, total=   1.0s\n",
      "[CV] NN__hidden_layer_sizes=(10,), filter__n=10 ......................\n",
      "[CV]  NN__hidden_layer_sizes=(10,), filter__n=10, score=0.9076773566569485, total=   0.9s\n",
      "[CV] NN__hidden_layer_sizes=(10,), filter__n=10 ......................\n",
      "[CV]  NN__hidden_layer_sizes=(10,), filter__n=10, score=0.8793774319066148, total=   0.9s\n",
      "[CV] NN__hidden_layer_sizes=(10,), filter__n=15 ......................\n",
      "[CV]  NN__hidden_layer_sizes=(10,), filter__n=15, score=0.8961165048543689, total=   1.0s\n",
      "[CV] NN__hidden_layer_sizes=(10,), filter__n=15 ......................\n",
      "[CV]  NN__hidden_layer_sizes=(10,), filter__n=15, score=0.654368932038835, total=   0.6s\n",
      "[CV] NN__hidden_layer_sizes=(10,), filter__n=15 ......................\n",
      "[CV]  NN__hidden_layer_sizes=(10,), filter__n=15, score=0.9407191448007775, total=   0.8s\n",
      "[CV] NN__hidden_layer_sizes=(10,), filter__n=15 ......................\n",
      "[CV]  NN__hidden_layer_sizes=(10,), filter__n=15, score=0.8386783284742468, total=   0.8s\n",
      "[CV] NN__hidden_layer_sizes=(10,), filter__n=15 ......................\n",
      "[CV]  NN__hidden_layer_sizes=(10,), filter__n=15, score=0.9036964980544747, total=   0.9s\n",
      "[CV] NN__hidden_layer_sizes=(10,), filter__n=20 ......................\n",
      "[CV]  NN__hidden_layer_sizes=(10,), filter__n=20, score=0.5388349514563107, total=   0.6s\n",
      "[CV] NN__hidden_layer_sizes=(10,), filter__n=20 ......................\n",
      "[CV]  NN__hidden_layer_sizes=(10,), filter__n=20, score=0.6456310679611651, total=   0.6s\n",
      "[CV] NN__hidden_layer_sizes=(10,), filter__n=20 ......................\n",
      "[CV]  NN__hidden_layer_sizes=(10,), filter__n=20, score=0.597667638483965, total=   0.7s\n",
      "[CV] NN__hidden_layer_sizes=(10,), filter__n=20 ......................\n",
      "[CV]  NN__hidden_layer_sizes=(10,), filter__n=20, score=0.9173955296404276, total=   0.8s\n",
      "[CV] NN__hidden_layer_sizes=(10,), filter__n=20 ......................\n",
      "[CV]  NN__hidden_layer_sizes=(10,), filter__n=20, score=0.6488326848249028, total=   0.7s\n",
      "[CV] NN__hidden_layer_sizes=(10,), filter__n=25 ......................\n",
      "[CV]  NN__hidden_layer_sizes=(10,), filter__n=25, score=0.6446601941747573, total=   0.7s\n",
      "[CV] NN__hidden_layer_sizes=(10,), filter__n=25 ......................\n",
      "[CV]  NN__hidden_layer_sizes=(10,), filter__n=25, score=0.9077669902912622, total=   0.9s\n",
      "[CV] NN__hidden_layer_sizes=(10,), filter__n=25 ......................\n"
     ]
    },
    {
     "name": "stdout",
     "output_type": "stream",
     "text": [
      "[CV]  NN__hidden_layer_sizes=(10,), filter__n=25, score=0.8775510204081632, total=   0.8s\n",
      "[CV] NN__hidden_layer_sizes=(10,), filter__n=25 ......................\n",
      "[CV]  NN__hidden_layer_sizes=(10,), filter__n=25, score=0.891156462585034, total=   1.0s\n",
      "[CV] NN__hidden_layer_sizes=(10,), filter__n=25 ......................\n",
      "[CV]  NN__hidden_layer_sizes=(10,), filter__n=25, score=0.9046692607003891, total=   1.1s\n",
      "[CV] NN__hidden_layer_sizes=(10,), filter__n=30 ......................\n",
      "[CV]  NN__hidden_layer_sizes=(10,), filter__n=30, score=0.8533980582524272, total=   1.3s\n",
      "[CV] NN__hidden_layer_sizes=(10,), filter__n=30 ......................\n",
      "[CV]  NN__hidden_layer_sizes=(10,), filter__n=30, score=0.874757281553398, total=   0.8s\n",
      "[CV] NN__hidden_layer_sizes=(10,), filter__n=30 ......................\n",
      "[CV]  NN__hidden_layer_sizes=(10,), filter__n=30, score=0.5374149659863946, total=   0.7s\n",
      "[CV] NN__hidden_layer_sizes=(10,), filter__n=30 ......................\n",
      "[CV]  NN__hidden_layer_sizes=(10,), filter__n=30, score=0.8561710398445093, total=   1.1s\n",
      "[CV] NN__hidden_layer_sizes=(10,), filter__n=30 ......................\n",
      "[CV]  NN__hidden_layer_sizes=(10,), filter__n=30, score=0.5953307392996109, total=   0.7s\n",
      "[CV] NN__hidden_layer_sizes=(10,), filter__n=35 ......................\n",
      "[CV]  NN__hidden_layer_sizes=(10,), filter__n=35, score=0.6407766990291263, total=   0.8s\n",
      "[CV] NN__hidden_layer_sizes=(10,), filter__n=35 ......................\n",
      "[CV]  NN__hidden_layer_sizes=(10,), filter__n=35, score=0.6446601941747573, total=   0.8s\n",
      "[CV] NN__hidden_layer_sizes=(10,), filter__n=35 ......................\n",
      "[CV]  NN__hidden_layer_sizes=(10,), filter__n=35, score=0.5753158406219631, total=   0.7s\n",
      "[CV] NN__hidden_layer_sizes=(10,), filter__n=35 ......................\n",
      "[CV]  NN__hidden_layer_sizes=(10,), filter__n=35, score=0.5966958211856171, total=   0.7s\n",
      "[CV] NN__hidden_layer_sizes=(10,), filter__n=35 ......................\n",
      "[CV]  NN__hidden_layer_sizes=(10,), filter__n=35, score=0.5778210116731517, total=   0.7s\n",
      "[CV] NN__hidden_layer_sizes=(10,), filter__n=40 ......................\n",
      "[CV]  NN__hidden_layer_sizes=(10,), filter__n=40, score=0.5757281553398058, total=   0.7s\n",
      "[CV] NN__hidden_layer_sizes=(10,), filter__n=40 ......................\n",
      "[CV]  NN__hidden_layer_sizes=(10,), filter__n=40, score=0.6427184466019418, total=   0.7s\n",
      "[CV] NN__hidden_layer_sizes=(10,), filter__n=40 ......................\n",
      "[CV]  NN__hidden_layer_sizes=(10,), filter__n=40, score=0.6316812439261419, total=   0.6s\n",
      "[CV] NN__hidden_layer_sizes=(10,), filter__n=40 ......................\n",
      "[CV]  NN__hidden_layer_sizes=(10,), filter__n=40, score=0.6482021379980564, total=   0.6s\n",
      "[CV] NN__hidden_layer_sizes=(10,), filter__n=40 ......................\n",
      "[CV]  NN__hidden_layer_sizes=(10,), filter__n=40, score=0.6371595330739299, total=   0.7s\n",
      "[CV] NN__hidden_layer_sizes=(10,), filter__n=45 ......................\n",
      "[CV]  NN__hidden_layer_sizes=(10,), filter__n=45, score=0.6485436893203883, total=   0.7s\n",
      "[CV] NN__hidden_layer_sizes=(10,), filter__n=45 ......................\n",
      "[CV]  NN__hidden_layer_sizes=(10,), filter__n=45, score=0.6485436893203883, total=   0.6s\n",
      "[CV] NN__hidden_layer_sizes=(10,), filter__n=45 ......................\n",
      "[CV]  NN__hidden_layer_sizes=(10,), filter__n=45, score=0.6482021379980564, total=   0.8s\n",
      "[CV] NN__hidden_layer_sizes=(10,), filter__n=45 ......................\n",
      "[CV]  NN__hidden_layer_sizes=(10,), filter__n=45, score=0.5403304178814383, total=   0.6s\n",
      "[CV] NN__hidden_layer_sizes=(10,), filter__n=45 ......................\n",
      "[CV]  NN__hidden_layer_sizes=(10,), filter__n=45, score=0.6478599221789884, total=   0.7s\n",
      "[CV] NN__hidden_layer_sizes=(10,), filter__n=50 ......................\n",
      "[CV]  NN__hidden_layer_sizes=(10,), filter__n=50, score=0.6349514563106796, total=   0.7s\n",
      "[CV] NN__hidden_layer_sizes=(10,), filter__n=50 ......................\n",
      "[CV]  NN__hidden_layer_sizes=(10,), filter__n=50, score=0.6485436893203883, total=   0.6s\n",
      "[CV] NN__hidden_layer_sizes=(10,), filter__n=50 ......................\n",
      "[CV]  NN__hidden_layer_sizes=(10,), filter__n=50, score=0.6482021379980564, total=   0.6s\n",
      "[CV] NN__hidden_layer_sizes=(10,), filter__n=50 ......................\n",
      "[CV]  NN__hidden_layer_sizes=(10,), filter__n=50, score=0.6423712342079689, total=   0.7s\n",
      "[CV] NN__hidden_layer_sizes=(10,), filter__n=50 ......................\n",
      "[CV]  NN__hidden_layer_sizes=(10,), filter__n=50, score=0.6371595330739299, total=   0.6s\n",
      "[CV] NN__hidden_layer_sizes=(10,), filter__n=55 ......................\n",
      "[CV]  NN__hidden_layer_sizes=(10,), filter__n=55, score=0.641747572815534, total=   0.7s\n",
      "[CV] NN__hidden_layer_sizes=(10,), filter__n=55 ......................\n",
      "[CV]  NN__hidden_layer_sizes=(10,), filter__n=55, score=0.5737864077669903, total=   0.7s\n",
      "[CV] NN__hidden_layer_sizes=(10,), filter__n=55 ......................\n",
      "[CV]  NN__hidden_layer_sizes=(10,), filter__n=55, score=0.6277939747327502, total=   0.8s\n",
      "[CV] NN__hidden_layer_sizes=(10,), filter__n=55 ......................\n",
      "[CV]  NN__hidden_layer_sizes=(10,), filter__n=55, score=0.6482021379980564, total=   0.7s\n",
      "[CV] NN__hidden_layer_sizes=(10,), filter__n=55 ......................\n",
      "[CV]  NN__hidden_layer_sizes=(10,), filter__n=55, score=0.6488326848249028, total=   0.7s\n",
      "[CV] NN__hidden_layer_sizes=(10,), filter__n=60 ......................\n",
      "[CV]  NN__hidden_layer_sizes=(10,), filter__n=60, score=0.6485436893203883, total=   0.9s\n",
      "[CV] NN__hidden_layer_sizes=(10,), filter__n=60 ......................\n",
      "[CV]  NN__hidden_layer_sizes=(10,), filter__n=60, score=0.6485436893203883, total=   0.7s\n",
      "[CV] NN__hidden_layer_sizes=(10,), filter__n=60 ......................\n",
      "[CV]  NN__hidden_layer_sizes=(10,), filter__n=60, score=0.5889212827988338, total=   0.7s\n",
      "[CV] NN__hidden_layer_sizes=(10,), filter__n=60 ......................\n",
      "[CV]  NN__hidden_layer_sizes=(10,), filter__n=60, score=0.5539358600583091, total=   0.7s\n",
      "[CV] NN__hidden_layer_sizes=(10,), filter__n=60 ......................\n",
      "[CV]  NN__hidden_layer_sizes=(10,), filter__n=60, score=0.6488326848249028, total=   0.7s\n",
      "[CV] NN__hidden_layer_sizes=(20,), filter__n=2 .......................\n",
      "[CV]  NN__hidden_layer_sizes=(20,), filter__n=2, score=0.7854368932038835, total=   0.7s\n",
      "[CV] NN__hidden_layer_sizes=(20,), filter__n=2 .......................\n",
      "[CV]  NN__hidden_layer_sizes=(20,), filter__n=2, score=0.7825242718446602, total=   0.7s\n",
      "[CV] NN__hidden_layer_sizes=(20,), filter__n=2 .......................\n",
      "[CV]  NN__hidden_layer_sizes=(20,), filter__n=2, score=0.7589893100097181, total=   0.7s\n",
      "[CV] NN__hidden_layer_sizes=(20,), filter__n=2 .......................\n",
      "[CV]  NN__hidden_layer_sizes=(20,), filter__n=2, score=0.6443148688046647, total=   0.6s\n",
      "[CV] NN__hidden_layer_sizes=(20,), filter__n=2 .......................\n",
      "[CV]  NN__hidden_layer_sizes=(20,), filter__n=2, score=0.7587548638132295, total=   0.7s\n",
      "[CV] NN__hidden_layer_sizes=(20,), filter__n=5 .......................\n",
      "[CV]  NN__hidden_layer_sizes=(20,), filter__n=5, score=0.9446601941747573, total=   0.8s\n",
      "[CV] NN__hidden_layer_sizes=(20,), filter__n=5 .......................\n",
      "[CV]  NN__hidden_layer_sizes=(20,), filter__n=5, score=0.9388349514563107, total=   0.8s\n",
      "[CV] NN__hidden_layer_sizes=(20,), filter__n=5 .......................\n",
      "[CV]  NN__hidden_layer_sizes=(20,), filter__n=5, score=0.9484936831875608, total=   0.8s\n",
      "[CV] NN__hidden_layer_sizes=(20,), filter__n=5 .......................\n",
      "[CV]  NN__hidden_layer_sizes=(20,), filter__n=5, score=0.9290573372206026, total=   0.8s\n",
      "[CV] NN__hidden_layer_sizes=(20,), filter__n=5 .......................\n",
      "[CV]  NN__hidden_layer_sizes=(20,), filter__n=5, score=0.9241245136186771, total=   0.8s\n",
      "[CV] NN__hidden_layer_sizes=(20,), filter__n=10 ......................\n",
      "[CV]  NN__hidden_layer_sizes=(20,), filter__n=10, score=0.9339805825242719, total=   1.1s\n",
      "[CV] NN__hidden_layer_sizes=(20,), filter__n=10 ......................\n",
      "[CV]  NN__hidden_layer_sizes=(20,), filter__n=10, score=0.9446601941747573, total=   1.0s\n",
      "[CV] NN__hidden_layer_sizes=(20,), filter__n=10 ......................\n",
      "[CV]  NN__hidden_layer_sizes=(20,), filter__n=10, score=0.9329446064139941, total=   0.8s\n",
      "[CV] NN__hidden_layer_sizes=(20,), filter__n=10 ......................\n"
     ]
    },
    {
     "name": "stdout",
     "output_type": "stream",
     "text": [
      "[CV]  NN__hidden_layer_sizes=(20,), filter__n=10, score=0.9300291545189504, total=   1.0s\n",
      "[CV] NN__hidden_layer_sizes=(20,), filter__n=10 ......................\n",
      "[CV]  NN__hidden_layer_sizes=(20,), filter__n=10, score=0.892023346303502, total=   0.9s\n",
      "[CV] NN__hidden_layer_sizes=(20,), filter__n=15 ......................\n",
      "[CV]  NN__hidden_layer_sizes=(20,), filter__n=15, score=0.9300970873786408, total=   0.9s\n",
      "[CV] NN__hidden_layer_sizes=(20,), filter__n=15 ......................\n",
      "[CV]  NN__hidden_layer_sizes=(20,), filter__n=15, score=0.8689320388349514, total=   0.7s\n",
      "[CV] NN__hidden_layer_sizes=(20,), filter__n=15 ......................\n",
      "[CV]  NN__hidden_layer_sizes=(20,), filter__n=15, score=0.9494655004859086, total=   0.9s\n",
      "[CV] NN__hidden_layer_sizes=(20,), filter__n=15 ......................\n",
      "[CV]  NN__hidden_layer_sizes=(20,), filter__n=15, score=0.8960155490767736, total=   0.8s\n",
      "[CV] NN__hidden_layer_sizes=(20,), filter__n=15 ......................\n",
      "[CV]  NN__hidden_layer_sizes=(20,), filter__n=15, score=0.9241245136186771, total=   1.0s\n",
      "[CV] NN__hidden_layer_sizes=(20,), filter__n=20 ......................\n",
      "[CV]  NN__hidden_layer_sizes=(20,), filter__n=20, score=0.8796116504854369, total=   1.0s\n",
      "[CV] NN__hidden_layer_sizes=(20,), filter__n=20 ......................\n",
      "[CV]  NN__hidden_layer_sizes=(20,), filter__n=20, score=0.8893203883495145, total=   0.9s\n",
      "[CV] NN__hidden_layer_sizes=(20,), filter__n=20 ......................\n",
      "[CV]  NN__hidden_layer_sizes=(20,), filter__n=20, score=0.9426627793974732, total=   1.0s\n",
      "[CV] NN__hidden_layer_sizes=(20,), filter__n=20 ......................\n",
      "[CV]  NN__hidden_layer_sizes=(20,), filter__n=20, score=0.8843537414965986, total=   1.0s\n",
      "[CV] NN__hidden_layer_sizes=(20,), filter__n=20 ......................\n",
      "[CV]  NN__hidden_layer_sizes=(20,), filter__n=20, score=0.8550583657587548, total=   1.0s\n",
      "[CV] NN__hidden_layer_sizes=(20,), filter__n=25 ......................\n",
      "[CV]  NN__hidden_layer_sizes=(20,), filter__n=25, score=0.6116504854368932, total=   0.7s\n",
      "[CV] NN__hidden_layer_sizes=(20,), filter__n=25 ......................\n",
      "[CV]  NN__hidden_layer_sizes=(20,), filter__n=25, score=0.912621359223301, total=   0.8s\n",
      "[CV] NN__hidden_layer_sizes=(20,), filter__n=25 ......................\n",
      "[CV]  NN__hidden_layer_sizes=(20,), filter__n=25, score=0.891156462585034, total=   0.9s\n",
      "[CV] NN__hidden_layer_sizes=(20,), filter__n=25 ......................\n",
      "[CV]  NN__hidden_layer_sizes=(20,), filter__n=25, score=0.5733722060252673, total=   0.7s\n",
      "[CV] NN__hidden_layer_sizes=(20,), filter__n=25 ......................\n",
      "[CV]  NN__hidden_layer_sizes=(20,), filter__n=25, score=0.8803501945525292, total=   0.9s\n",
      "[CV] NN__hidden_layer_sizes=(20,), filter__n=30 ......................\n",
      "[CV]  NN__hidden_layer_sizes=(20,), filter__n=30, score=0.9281553398058252, total=   0.9s\n",
      "[CV] NN__hidden_layer_sizes=(20,), filter__n=30 ......................\n",
      "[CV]  NN__hidden_layer_sizes=(20,), filter__n=30, score=0.9446601941747573, total=   1.0s\n",
      "[CV] NN__hidden_layer_sizes=(20,), filter__n=30 ......................\n",
      "[CV]  NN__hidden_layer_sizes=(20,), filter__n=30, score=0.8999028182701652, total=   1.0s\n",
      "[CV] NN__hidden_layer_sizes=(20,), filter__n=30 ......................\n",
      "[CV]  NN__hidden_layer_sizes=(20,), filter__n=30, score=0.8843537414965986, total=   1.0s\n",
      "[CV] NN__hidden_layer_sizes=(20,), filter__n=30 ......................\n",
      "[CV]  NN__hidden_layer_sizes=(20,), filter__n=30, score=0.8813229571984436, total=   0.9s\n",
      "[CV] NN__hidden_layer_sizes=(20,), filter__n=35 ......................\n",
      "[CV]  NN__hidden_layer_sizes=(20,), filter__n=35, score=0.6485436893203883, total=   0.7s\n",
      "[CV] NN__hidden_layer_sizes=(20,), filter__n=35 ......................\n",
      "[CV]  NN__hidden_layer_sizes=(20,), filter__n=35, score=0.6485436893203883, total=   0.7s\n",
      "[CV] NN__hidden_layer_sizes=(20,), filter__n=35 ......................\n",
      "[CV]  NN__hidden_layer_sizes=(20,), filter__n=35, score=0.6482021379980564, total=   0.7s\n",
      "[CV] NN__hidden_layer_sizes=(20,), filter__n=35 ......................\n",
      "[CV]  NN__hidden_layer_sizes=(20,), filter__n=35, score=0.6482021379980564, total=   0.6s\n",
      "[CV] NN__hidden_layer_sizes=(20,), filter__n=35 ......................\n",
      "[CV]  NN__hidden_layer_sizes=(20,), filter__n=35, score=0.6488326848249028, total=   0.7s\n",
      "[CV] NN__hidden_layer_sizes=(20,), filter__n=40 ......................\n",
      "[CV]  NN__hidden_layer_sizes=(20,), filter__n=40, score=0.6067961165048543, total=   0.7s\n",
      "[CV] NN__hidden_layer_sizes=(20,), filter__n=40 ......................\n",
      "[CV]  NN__hidden_layer_sizes=(20,), filter__n=40, score=0.6029126213592233, total=   0.7s\n",
      "[CV] NN__hidden_layer_sizes=(20,), filter__n=40 ......................\n",
      "[CV]  NN__hidden_layer_sizes=(20,), filter__n=40, score=0.6482021379980564, total=   0.8s\n",
      "[CV] NN__hidden_layer_sizes=(20,), filter__n=40 ......................\n",
      "[CV]  NN__hidden_layer_sizes=(20,), filter__n=40, score=0.5947521865889213, total=   0.8s\n",
      "[CV] NN__hidden_layer_sizes=(20,), filter__n=40 ......................\n",
      "[CV]  NN__hidden_layer_sizes=(20,), filter__n=40, score=0.6459143968871596, total=   0.7s\n",
      "[CV] NN__hidden_layer_sizes=(20,), filter__n=45 ......................\n",
      "[CV]  NN__hidden_layer_sizes=(20,), filter__n=45, score=0.8262135922330097, total=   1.0s\n",
      "[CV] NN__hidden_layer_sizes=(20,), filter__n=45 ......................\n",
      "[CV]  NN__hidden_layer_sizes=(20,), filter__n=45, score=0.6048543689320388, total=   0.6s\n",
      "[CV] NN__hidden_layer_sizes=(20,), filter__n=45 ......................\n",
      "[CV]  NN__hidden_layer_sizes=(20,), filter__n=45, score=0.7998056365403304, total=   0.8s\n",
      "[CV] NN__hidden_layer_sizes=(20,), filter__n=45 ......................\n",
      "[CV]  NN__hidden_layer_sizes=(20,), filter__n=45, score=0.8250728862973761, total=   1.0s\n",
      "[CV] NN__hidden_layer_sizes=(20,), filter__n=45 ......................\n",
      "[CV]  NN__hidden_layer_sizes=(20,), filter__n=45, score=0.6264591439688716, total=   0.7s\n",
      "[CV] NN__hidden_layer_sizes=(20,), filter__n=50 ......................\n",
      "[CV]  NN__hidden_layer_sizes=(20,), filter__n=50, score=0.9019417475728155, total=   1.2s\n",
      "[CV] NN__hidden_layer_sizes=(20,), filter__n=50 ......................\n",
      "[CV]  NN__hidden_layer_sizes=(20,), filter__n=50, score=0.5941747572815534, total=   0.7s\n",
      "[CV] NN__hidden_layer_sizes=(20,), filter__n=50 ......................\n",
      "[CV]  NN__hidden_layer_sizes=(20,), filter__n=50, score=0.6287657920310982, total=   0.7s\n",
      "[CV] NN__hidden_layer_sizes=(20,), filter__n=50 ......................\n",
      "[CV]  NN__hidden_layer_sizes=(20,), filter__n=50, score=0.858114674441205, total=   0.9s\n",
      "[CV] NN__hidden_layer_sizes=(20,), filter__n=50 ......................\n",
      "[CV]  NN__hidden_layer_sizes=(20,), filter__n=50, score=0.8852140077821011, total=   1.0s\n",
      "[CV] NN__hidden_layer_sizes=(20,), filter__n=55 ......................\n",
      "[CV]  NN__hidden_layer_sizes=(20,), filter__n=55, score=0.8601941747572815, total=   1.0s\n",
      "[CV] NN__hidden_layer_sizes=(20,), filter__n=55 ......................\n",
      "[CV]  NN__hidden_layer_sizes=(20,), filter__n=55, score=0.6281553398058253, total=   0.6s\n",
      "[CV] NN__hidden_layer_sizes=(20,), filter__n=55 ......................\n",
      "[CV]  NN__hidden_layer_sizes=(20,), filter__n=55, score=0.6180758017492711, total=   0.6s\n",
      "[CV] NN__hidden_layer_sizes=(20,), filter__n=55 ......................\n",
      "[CV]  NN__hidden_layer_sizes=(20,), filter__n=55, score=0.5908649173955296, total=   0.7s\n",
      "[CV] NN__hidden_layer_sizes=(20,), filter__n=55 ......................\n",
      "[CV]  NN__hidden_layer_sizes=(20,), filter__n=55, score=0.6391050583657587, total=   0.7s\n",
      "[CV] NN__hidden_layer_sizes=(20,), filter__n=60 ......................\n",
      "[CV]  NN__hidden_layer_sizes=(20,), filter__n=60, score=0.9135922330097087, total=   1.2s\n",
      "[CV] NN__hidden_layer_sizes=(20,), filter__n=60 ......................\n",
      "[CV]  NN__hidden_layer_sizes=(20,), filter__n=60, score=0.6436893203883495, total=   0.7s\n",
      "[CV] NN__hidden_layer_sizes=(20,), filter__n=60 ......................\n",
      "[CV]  NN__hidden_layer_sizes=(20,), filter__n=60, score=0.60932944606414, total=   0.6s\n",
      "[CV] NN__hidden_layer_sizes=(20,), filter__n=60 ......................\n",
      "[CV]  NN__hidden_layer_sizes=(20,), filter__n=60, score=0.8736637512147716, total=   1.0s\n",
      "[CV] NN__hidden_layer_sizes=(20,), filter__n=60 ......................\n"
     ]
    },
    {
     "name": "stdout",
     "output_type": "stream",
     "text": [
      "[CV]  NN__hidden_layer_sizes=(20,), filter__n=60, score=0.6313229571984436, total=   0.7s\n",
      "[CV] NN__hidden_layer_sizes=(30,), filter__n=2 .......................\n",
      "[CV]  NN__hidden_layer_sizes=(30,), filter__n=2, score=0.6485436893203883, total=   0.6s\n",
      "[CV] NN__hidden_layer_sizes=(30,), filter__n=2 .......................\n",
      "[CV]  NN__hidden_layer_sizes=(30,), filter__n=2, score=0.6485436893203883, total=   0.7s\n",
      "[CV] NN__hidden_layer_sizes=(30,), filter__n=2 .......................\n",
      "[CV]  NN__hidden_layer_sizes=(30,), filter__n=2, score=0.6482021379980564, total=   0.6s\n",
      "[CV] NN__hidden_layer_sizes=(30,), filter__n=2 .......................\n",
      "[CV]  NN__hidden_layer_sizes=(30,), filter__n=2, score=0.6482021379980564, total=   0.6s\n",
      "[CV] NN__hidden_layer_sizes=(30,), filter__n=2 .......................\n",
      "[CV]  NN__hidden_layer_sizes=(30,), filter__n=2, score=0.6488326848249028, total=   0.6s\n",
      "[CV] NN__hidden_layer_sizes=(30,), filter__n=5 .......................\n",
      "[CV]  NN__hidden_layer_sizes=(30,), filter__n=5, score=0.9368932038834952, total=   0.8s\n",
      "[CV] NN__hidden_layer_sizes=(30,), filter__n=5 .......................\n",
      "[CV]  NN__hidden_layer_sizes=(30,), filter__n=5, score=0.9495145631067962, total=   0.9s\n",
      "[CV] NN__hidden_layer_sizes=(30,), filter__n=5 .......................\n",
      "[CV]  NN__hidden_layer_sizes=(30,), filter__n=5, score=0.9514091350826045, total=   0.9s\n",
      "[CV] NN__hidden_layer_sizes=(30,), filter__n=5 .......................\n",
      "[CV]  NN__hidden_layer_sizes=(30,), filter__n=5, score=0.9154518950437318, total=   0.9s\n",
      "[CV] NN__hidden_layer_sizes=(30,), filter__n=5 .......................\n",
      "[CV]  NN__hidden_layer_sizes=(30,), filter__n=5, score=0.8949416342412452, total=   1.0s\n",
      "[CV] NN__hidden_layer_sizes=(30,), filter__n=10 ......................\n",
      "[CV]  NN__hidden_layer_sizes=(30,), filter__n=10, score=0.9009708737864077, total=   0.9s\n",
      "[CV] NN__hidden_layer_sizes=(30,), filter__n=10 ......................\n",
      "[CV]  NN__hidden_layer_sizes=(30,), filter__n=10, score=0.8805825242718447, total=   0.8s\n",
      "[CV] NN__hidden_layer_sizes=(30,), filter__n=10 ......................\n",
      "[CV]  NN__hidden_layer_sizes=(30,), filter__n=10, score=0.9076773566569485, total=   0.9s\n",
      "[CV] NN__hidden_layer_sizes=(30,), filter__n=10 ......................\n",
      "[CV]  NN__hidden_layer_sizes=(30,), filter__n=10, score=0.8960155490767736, total=   0.9s\n",
      "[CV] NN__hidden_layer_sizes=(30,), filter__n=10 ......................\n",
      "[CV]  NN__hidden_layer_sizes=(30,), filter__n=10, score=0.8939688715953308, total=   0.8s\n",
      "[CV] NN__hidden_layer_sizes=(30,), filter__n=15 ......................\n",
      "[CV]  NN__hidden_layer_sizes=(30,), filter__n=15, score=0.9563106796116505, total=   1.0s\n",
      "[CV] NN__hidden_layer_sizes=(30,), filter__n=15 ......................\n",
      "[CV]  NN__hidden_layer_sizes=(30,), filter__n=15, score=0.9407766990291262, total=   0.8s\n",
      "[CV] NN__hidden_layer_sizes=(30,), filter__n=15 ......................\n",
      "[CV]  NN__hidden_layer_sizes=(30,), filter__n=15, score=0.9659863945578231, total=   1.1s\n",
      "[CV] NN__hidden_layer_sizes=(30,), filter__n=15 ......................\n",
      "[CV]  NN__hidden_layer_sizes=(30,), filter__n=15, score=0.9397473275024295, total=   1.0s\n",
      "[CV] NN__hidden_layer_sizes=(30,), filter__n=15 ......................\n",
      "[CV]  NN__hidden_layer_sizes=(30,), filter__n=15, score=0.9552529182879378, total=   1.0s\n",
      "[CV] NN__hidden_layer_sizes=(30,), filter__n=20 ......................\n",
      "[CV]  NN__hidden_layer_sizes=(30,), filter__n=20, score=0.9174757281553398, total=   1.0s\n",
      "[CV] NN__hidden_layer_sizes=(30,), filter__n=20 ......................\n",
      "[CV]  NN__hidden_layer_sizes=(30,), filter__n=20, score=0.5766990291262136, total=   0.7s\n",
      "[CV] NN__hidden_layer_sizes=(30,), filter__n=20 ......................\n",
      "[CV]  NN__hidden_layer_sizes=(30,), filter__n=20, score=0.5704567541302236, total=   0.6s\n",
      "[CV] NN__hidden_layer_sizes=(30,), filter__n=20 ......................\n",
      "[CV]  NN__hidden_layer_sizes=(30,), filter__n=20, score=0.54421768707483, total=   0.7s\n",
      "[CV] NN__hidden_layer_sizes=(30,), filter__n=20 ......................\n",
      "[CV]  NN__hidden_layer_sizes=(30,), filter__n=20, score=0.617704280155642, total=   0.6s\n",
      "[CV] NN__hidden_layer_sizes=(30,), filter__n=25 ......................\n",
      "[CV]  NN__hidden_layer_sizes=(30,), filter__n=25, score=0.9242718446601942, total=   1.0s\n",
      "[CV] NN__hidden_layer_sizes=(30,), filter__n=25 ......................\n",
      "[CV]  NN__hidden_layer_sizes=(30,), filter__n=25, score=0.9339805825242719, total=   0.9s\n",
      "[CV] NN__hidden_layer_sizes=(30,), filter__n=25 ......................\n",
      "[CV]  NN__hidden_layer_sizes=(30,), filter__n=25, score=0.8960155490767736, total=   0.8s\n",
      "[CV] NN__hidden_layer_sizes=(30,), filter__n=25 ......................\n",
      "[CV]  NN__hidden_layer_sizes=(30,), filter__n=25, score=0.8862973760932945, total=   0.9s\n",
      "[CV] NN__hidden_layer_sizes=(30,), filter__n=25 ......................\n",
      "[CV]  NN__hidden_layer_sizes=(30,), filter__n=25, score=0.8696498054474708, total=   0.8s\n",
      "[CV] NN__hidden_layer_sizes=(30,), filter__n=30 ......................\n",
      "[CV]  NN__hidden_layer_sizes=(30,), filter__n=30, score=0.9281553398058252, total=   0.9s\n",
      "[CV] NN__hidden_layer_sizes=(30,), filter__n=30 ......................\n",
      "[CV]  NN__hidden_layer_sizes=(30,), filter__n=30, score=0.9271844660194175, total=   1.0s\n",
      "[CV] NN__hidden_layer_sizes=(30,), filter__n=30 ......................\n",
      "[CV]  NN__hidden_layer_sizes=(30,), filter__n=30, score=0.9105928085519922, total=   1.0s\n",
      "[CV] NN__hidden_layer_sizes=(30,), filter__n=30 ......................\n",
      "[CV]  NN__hidden_layer_sizes=(30,), filter__n=30, score=0.9125364431486881, total=   0.9s\n",
      "[CV] NN__hidden_layer_sizes=(30,), filter__n=30 ......................\n",
      "[CV]  NN__hidden_layer_sizes=(30,), filter__n=30, score=0.8881322957198443, total=   0.9s\n",
      "[CV] NN__hidden_layer_sizes=(30,), filter__n=35 ......................\n",
      "[CV]  NN__hidden_layer_sizes=(30,), filter__n=35, score=0.6446601941747573, total=   0.7s\n",
      "[CV] NN__hidden_layer_sizes=(30,), filter__n=35 ......................\n",
      "[CV]  NN__hidden_layer_sizes=(30,), filter__n=35, score=0.9155339805825242, total=   0.9s\n",
      "[CV] NN__hidden_layer_sizes=(30,), filter__n=35 ......................\n",
      "[CV]  NN__hidden_layer_sizes=(30,), filter__n=35, score=0.6482021379980564, total=   0.7s\n",
      "[CV] NN__hidden_layer_sizes=(30,), filter__n=35 ......................\n",
      "[CV]  NN__hidden_layer_sizes=(30,), filter__n=35, score=0.8872691933916423, total=   0.9s\n",
      "[CV] NN__hidden_layer_sizes=(30,), filter__n=35 ......................\n",
      "[CV]  NN__hidden_layer_sizes=(30,), filter__n=35, score=0.9250972762645915, total=   0.9s\n",
      "[CV] NN__hidden_layer_sizes=(30,), filter__n=40 ......................\n",
      "[CV]  NN__hidden_layer_sizes=(30,), filter__n=40, score=0.6281553398058253, total=   0.7s\n",
      "[CV] NN__hidden_layer_sizes=(30,), filter__n=40 ......................\n",
      "[CV]  NN__hidden_layer_sizes=(30,), filter__n=40, score=0.6485436893203883, total=   0.8s\n",
      "[CV] NN__hidden_layer_sizes=(30,), filter__n=40 ......................\n",
      "[CV]  NN__hidden_layer_sizes=(30,), filter__n=40, score=0.6316812439261419, total=   0.7s\n",
      "[CV] NN__hidden_layer_sizes=(30,), filter__n=40 ......................\n",
      "[CV]  NN__hidden_layer_sizes=(30,), filter__n=40, score=0.6141885325558795, total=   0.7s\n",
      "[CV] NN__hidden_layer_sizes=(30,), filter__n=40 ......................\n",
      "[CV]  NN__hidden_layer_sizes=(30,), filter__n=40, score=0.646887159533074, total=   0.7s\n",
      "[CV] NN__hidden_layer_sizes=(30,), filter__n=45 ......................\n",
      "[CV]  NN__hidden_layer_sizes=(30,), filter__n=45, score=0.8854368932038835, total=   0.9s\n",
      "[CV] NN__hidden_layer_sizes=(30,), filter__n=45 ......................\n",
      "[CV]  NN__hidden_layer_sizes=(30,), filter__n=45, score=0.625242718446602, total=   0.7s\n",
      "[CV] NN__hidden_layer_sizes=(30,), filter__n=45 ......................\n",
      "[CV]  NN__hidden_layer_sizes=(30,), filter__n=45, score=0.6336248785228377, total=   0.7s\n",
      "[CV] NN__hidden_layer_sizes=(30,), filter__n=45 ......................\n",
      "[CV]  NN__hidden_layer_sizes=(30,), filter__n=45, score=0.641399416909621, total=   0.7s\n",
      "[CV] NN__hidden_layer_sizes=(30,), filter__n=45 ......................\n",
      "[CV]  NN__hidden_layer_sizes=(30,), filter__n=45, score=0.6459143968871596, total=   0.6s\n",
      "[CV] NN__hidden_layer_sizes=(30,), filter__n=50 ......................\n"
     ]
    },
    {
     "name": "stdout",
     "output_type": "stream",
     "text": [
      "[CV]  NN__hidden_layer_sizes=(30,), filter__n=50, score=0.6349514563106796, total=   0.6s\n",
      "[CV] NN__hidden_layer_sizes=(30,), filter__n=50 ......................\n",
      "[CV]  NN__hidden_layer_sizes=(30,), filter__n=50, score=0.6310679611650486, total=   0.6s\n",
      "[CV] NN__hidden_layer_sizes=(30,), filter__n=50 ......................\n",
      "[CV]  NN__hidden_layer_sizes=(30,), filter__n=50, score=0.8794946550048591, total=   1.1s\n",
      "[CV] NN__hidden_layer_sizes=(30,), filter__n=50 ......................\n",
      "[CV]  NN__hidden_layer_sizes=(30,), filter__n=50, score=0.6482021379980564, total=   0.7s\n",
      "[CV] NN__hidden_layer_sizes=(30,), filter__n=50 ......................\n",
      "[CV]  NN__hidden_layer_sizes=(30,), filter__n=50, score=0.8336575875486382, total=   0.9s\n",
      "[CV] NN__hidden_layer_sizes=(30,), filter__n=55 ......................\n",
      "[CV]  NN__hidden_layer_sizes=(30,), filter__n=55, score=0.6495145631067961, total=   0.7s\n",
      "[CV] NN__hidden_layer_sizes=(30,), filter__n=55 ......................\n",
      "[CV]  NN__hidden_layer_sizes=(30,), filter__n=55, score=0.6456310679611651, total=   0.6s\n",
      "[CV] NN__hidden_layer_sizes=(30,), filter__n=55 ......................\n",
      "[CV]  NN__hidden_layer_sizes=(30,), filter__n=55, score=0.6482021379980564, total=   0.7s\n",
      "[CV] NN__hidden_layer_sizes=(30,), filter__n=55 ......................\n",
      "[CV]  NN__hidden_layer_sizes=(30,), filter__n=55, score=0.8445092322643343, total=   1.0s\n",
      "[CV] NN__hidden_layer_sizes=(30,), filter__n=55 ......................\n",
      "[CV]  NN__hidden_layer_sizes=(30,), filter__n=55, score=0.642023346303502, total=   0.7s\n",
      "[CV] NN__hidden_layer_sizes=(30,), filter__n=60 ......................\n",
      "[CV]  NN__hidden_layer_sizes=(30,), filter__n=60, score=0.6009708737864078, total=   0.7s\n",
      "[CV] NN__hidden_layer_sizes=(30,), filter__n=60 ......................\n",
      "[CV]  NN__hidden_layer_sizes=(30,), filter__n=60, score=0.6514563106796116, total=   0.7s\n",
      "[CV] NN__hidden_layer_sizes=(30,), filter__n=60 ......................\n",
      "[CV]  NN__hidden_layer_sizes=(30,), filter__n=60, score=0.9183673469387755, total=   1.1s\n",
      "[CV] NN__hidden_layer_sizes=(30,), filter__n=60 ......................\n",
      "[CV]  NN__hidden_layer_sizes=(30,), filter__n=60, score=0.8746355685131195, total=   1.1s\n",
      "[CV] NN__hidden_layer_sizes=(30,), filter__n=60 ......................\n",
      "[CV]  NN__hidden_layer_sizes=(30,), filter__n=60, score=0.8268482490272373, total=   0.9s\n",
      "[CV] NN__hidden_layer_sizes=(30, 10), filter__n=2 ....................\n",
      "[CV]  NN__hidden_layer_sizes=(30, 10), filter__n=2, score=0.7854368932038835, total=   0.7s\n",
      "[CV] NN__hidden_layer_sizes=(30, 10), filter__n=2 ....................\n",
      "[CV]  NN__hidden_layer_sizes=(30, 10), filter__n=2, score=0.7708737864077669, total=   0.6s\n",
      "[CV] NN__hidden_layer_sizes=(30, 10), filter__n=2 ....................\n",
      "[CV]  NN__hidden_layer_sizes=(30, 10), filter__n=2, score=0.7424684159378037, total=   0.7s\n",
      "[CV] NN__hidden_layer_sizes=(30, 10), filter__n=2 ....................\n",
      "[CV]  NN__hidden_layer_sizes=(30, 10), filter__n=2, score=0.7657920310981535, total=   0.7s\n",
      "[CV] NN__hidden_layer_sizes=(30, 10), filter__n=2 ....................\n",
      "[CV]  NN__hidden_layer_sizes=(30, 10), filter__n=2, score=0.7626459143968871, total=   0.7s\n",
      "[CV] NN__hidden_layer_sizes=(30, 10), filter__n=5 ....................\n",
      "[CV]  NN__hidden_layer_sizes=(30, 10), filter__n=5, score=0.9485436893203884, total=   0.8s\n",
      "[CV] NN__hidden_layer_sizes=(30, 10), filter__n=5 ....................\n",
      "[CV]  NN__hidden_layer_sizes=(30, 10), filter__n=5, score=0.9485436893203884, total=   0.9s\n",
      "[CV] NN__hidden_layer_sizes=(30, 10), filter__n=5 ....................\n",
      "[CV]  NN__hidden_layer_sizes=(30, 10), filter__n=5, score=0.9407191448007775, total=   0.9s\n",
      "[CV] NN__hidden_layer_sizes=(30, 10), filter__n=5 ....................\n",
      "[CV]  NN__hidden_layer_sizes=(30, 10), filter__n=5, score=0.9387755102040817, total=   0.9s\n",
      "[CV] NN__hidden_layer_sizes=(30, 10), filter__n=5 ....................\n",
      "[CV]  NN__hidden_layer_sizes=(30, 10), filter__n=5, score=0.9319066147859922, total=   0.8s\n",
      "[CV] NN__hidden_layer_sizes=(30, 10), filter__n=10 ...................\n",
      "[CV]  NN__hidden_layer_sizes=(30, 10), filter__n=10, score=0.9349514563106797, total=   0.9s\n",
      "[CV] NN__hidden_layer_sizes=(30, 10), filter__n=10 ...................\n",
      "[CV]  NN__hidden_layer_sizes=(30, 10), filter__n=10, score=0.925242718446602, total=   0.9s\n",
      "[CV] NN__hidden_layer_sizes=(30, 10), filter__n=10 ...................\n",
      "[CV]  NN__hidden_layer_sizes=(30, 10), filter__n=10, score=0.9378036929057337, total=   1.0s\n",
      "[CV] NN__hidden_layer_sizes=(30, 10), filter__n=10 ...................\n",
      "[CV]  NN__hidden_layer_sizes=(30, 10), filter__n=10, score=0.8668610301263362, total=   0.8s\n",
      "[CV] NN__hidden_layer_sizes=(30, 10), filter__n=10 ...................\n",
      "[CV]  NN__hidden_layer_sizes=(30, 10), filter__n=10, score=0.9085603112840467, total=   1.0s\n",
      "[CV] NN__hidden_layer_sizes=(30, 10), filter__n=15 ...................\n",
      "[CV]  NN__hidden_layer_sizes=(30, 10), filter__n=15, score=0.9572815533980582, total=   1.0s\n",
      "[CV] NN__hidden_layer_sizes=(30, 10), filter__n=15 ...................\n",
      "[CV]  NN__hidden_layer_sizes=(30, 10), filter__n=15, score=0.974757281553398, total=   0.9s\n",
      "[CV] NN__hidden_layer_sizes=(30, 10), filter__n=15 ...................\n",
      "[CV]  NN__hidden_layer_sizes=(30, 10), filter__n=15, score=0.9523809523809523, total=   0.8s\n",
      "[CV] NN__hidden_layer_sizes=(30, 10), filter__n=15 ...................\n",
      "[CV]  NN__hidden_layer_sizes=(30, 10), filter__n=15, score=0.9319727891156463, total=   1.0s\n",
      "[CV] NN__hidden_layer_sizes=(30, 10), filter__n=15 ...................\n",
      "[CV]  NN__hidden_layer_sizes=(30, 10), filter__n=15, score=0.896887159533074, total=   0.8s\n",
      "[CV] NN__hidden_layer_sizes=(30, 10), filter__n=20 ...................\n",
      "[CV]  NN__hidden_layer_sizes=(30, 10), filter__n=20, score=0.9223300970873787, total=   1.1s\n",
      "[CV] NN__hidden_layer_sizes=(30, 10), filter__n=20 ...................\n",
      "[CV]  NN__hidden_layer_sizes=(30, 10), filter__n=20, score=0.883495145631068, total=   0.8s\n",
      "[CV] NN__hidden_layer_sizes=(30, 10), filter__n=20 ...................\n",
      "[CV]  NN__hidden_layer_sizes=(30, 10), filter__n=20, score=0.9203109815354713, total=   1.0s\n",
      "[CV] NN__hidden_layer_sizes=(30, 10), filter__n=20 ...................\n",
      "[CV]  NN__hidden_layer_sizes=(30, 10), filter__n=20, score=0.8717201166180758, total=   1.0s\n",
      "[CV] NN__hidden_layer_sizes=(30, 10), filter__n=20 ...................\n",
      "[CV]  NN__hidden_layer_sizes=(30, 10), filter__n=20, score=0.8949416342412452, total=   0.9s\n",
      "[CV] NN__hidden_layer_sizes=(30, 10), filter__n=25 ...................\n",
      "[CV]  NN__hidden_layer_sizes=(30, 10), filter__n=25, score=0.9087378640776699, total=   1.0s\n",
      "[CV] NN__hidden_layer_sizes=(30, 10), filter__n=25 ...................\n",
      "[CV]  NN__hidden_layer_sizes=(30, 10), filter__n=25, score=0.870873786407767, total=   0.9s\n",
      "[CV] NN__hidden_layer_sizes=(30, 10), filter__n=25 ...................\n",
      "[CV]  NN__hidden_layer_sizes=(30, 10), filter__n=25, score=0.9358600583090378, total=   1.4s\n",
      "[CV] NN__hidden_layer_sizes=(30, 10), filter__n=25 ...................\n",
      "[CV]  NN__hidden_layer_sizes=(30, 10), filter__n=25, score=0.923226433430515, total=   1.1s\n",
      "[CV] NN__hidden_layer_sizes=(30, 10), filter__n=25 ...................\n",
      "[CV]  NN__hidden_layer_sizes=(30, 10), filter__n=25, score=0.8900778210116731, total=   1.4s\n",
      "[CV] NN__hidden_layer_sizes=(30, 10), filter__n=30 ...................\n",
      "[CV]  NN__hidden_layer_sizes=(30, 10), filter__n=30, score=0.6029126213592233, total=   0.7s\n",
      "[CV] NN__hidden_layer_sizes=(30, 10), filter__n=30 ...................\n",
      "[CV]  NN__hidden_layer_sizes=(30, 10), filter__n=30, score=0.9106796116504854, total=   1.1s\n",
      "[CV] NN__hidden_layer_sizes=(30, 10), filter__n=30 ...................\n",
      "[CV]  NN__hidden_layer_sizes=(30, 10), filter__n=30, score=0.9086491739552964, total=   1.1s\n",
      "[CV] NN__hidden_layer_sizes=(30, 10), filter__n=30 ...................\n",
      "[CV]  NN__hidden_layer_sizes=(30, 10), filter__n=30, score=0.8794946550048591, total=   1.1s\n",
      "[CV] NN__hidden_layer_sizes=(30, 10), filter__n=30 ...................\n",
      "[CV]  NN__hidden_layer_sizes=(30, 10), filter__n=30, score=0.9105058365758755, total=   1.0s\n",
      "[CV] NN__hidden_layer_sizes=(30, 10), filter__n=35 ...................\n",
      "[CV]  NN__hidden_layer_sizes=(30, 10), filter__n=35, score=0.8320388349514564, total=   1.1s\n",
      "[CV] NN__hidden_layer_sizes=(30, 10), filter__n=35 ...................\n"
     ]
    },
    {
     "name": "stdout",
     "output_type": "stream",
     "text": [
      "[CV]  NN__hidden_layer_sizes=(30, 10), filter__n=35, score=0.6398058252427185, total=   0.7s\n",
      "[CV] NN__hidden_layer_sizes=(30, 10), filter__n=35 ...................\n",
      "[CV]  NN__hidden_layer_sizes=(30, 10), filter__n=35, score=0.6482021379980564, total=   0.7s\n",
      "[CV] NN__hidden_layer_sizes=(30, 10), filter__n=35 ...................\n",
      "[CV]  NN__hidden_layer_sizes=(30, 10), filter__n=35, score=0.6180758017492711, total=   0.7s\n",
      "[CV] NN__hidden_layer_sizes=(30, 10), filter__n=35 ...................\n",
      "[CV]  NN__hidden_layer_sizes=(30, 10), filter__n=35, score=0.607976653696498, total=   0.7s\n",
      "[CV] NN__hidden_layer_sizes=(30, 10), filter__n=40 ...................\n",
      "[CV]  NN__hidden_layer_sizes=(30, 10), filter__n=40, score=0.920388349514563, total=   1.0s\n",
      "[CV] NN__hidden_layer_sizes=(30, 10), filter__n=40 ...................\n",
      "[CV]  NN__hidden_layer_sizes=(30, 10), filter__n=40, score=0.9174757281553398, total=   1.1s\n",
      "[CV] NN__hidden_layer_sizes=(30, 10), filter__n=40 ...................\n",
      "[CV]  NN__hidden_layer_sizes=(30, 10), filter__n=40, score=0.9105928085519922, total=   1.0s\n",
      "[CV] NN__hidden_layer_sizes=(30, 10), filter__n=40 ...................\n",
      "[CV]  NN__hidden_layer_sizes=(30, 10), filter__n=40, score=0.6025267249757046, total=   0.7s\n",
      "[CV] NN__hidden_layer_sizes=(30, 10), filter__n=40 ...................\n",
      "[CV]  NN__hidden_layer_sizes=(30, 10), filter__n=40, score=0.8929961089494164, total=   1.1s\n",
      "[CV] NN__hidden_layer_sizes=(30, 10), filter__n=45 ...................\n",
      "[CV]  NN__hidden_layer_sizes=(30, 10), filter__n=45, score=0.8766990291262136, total=   1.1s\n",
      "[CV] NN__hidden_layer_sizes=(30, 10), filter__n=45 ...................\n",
      "[CV]  NN__hidden_layer_sizes=(30, 10), filter__n=45, score=0.9262135922330097, total=   1.1s\n",
      "[CV] NN__hidden_layer_sizes=(30, 10), filter__n=45 ...................\n",
      "[CV]  NN__hidden_layer_sizes=(30, 10), filter__n=45, score=0.8960155490767736, total=   1.1s\n",
      "[CV] NN__hidden_layer_sizes=(30, 10), filter__n=45 ...................\n",
      "[CV]  NN__hidden_layer_sizes=(30, 10), filter__n=45, score=0.8814382896015549, total=   1.0s\n",
      "[CV] NN__hidden_layer_sizes=(30, 10), filter__n=45 ...................\n",
      "[CV]  NN__hidden_layer_sizes=(30, 10), filter__n=45, score=0.9017509727626459, total=   1.0s\n",
      "[CV] NN__hidden_layer_sizes=(30, 10), filter__n=50 ...................\n",
      "[CV]  NN__hidden_layer_sizes=(30, 10), filter__n=50, score=0.8893203883495145, total=   1.2s\n",
      "[CV] NN__hidden_layer_sizes=(30, 10), filter__n=50 ...................\n",
      "[CV]  NN__hidden_layer_sizes=(30, 10), filter__n=50, score=0.9242718446601942, total=   1.2s\n",
      "[CV] NN__hidden_layer_sizes=(30, 10), filter__n=50 ...................\n",
      "[CV]  NN__hidden_layer_sizes=(30, 10), filter__n=50, score=0.9300291545189504, total=   1.0s\n",
      "[CV] NN__hidden_layer_sizes=(30, 10), filter__n=50 ...................\n",
      "[CV]  NN__hidden_layer_sizes=(30, 10), filter__n=50, score=0.8726919339164237, total=   1.0s\n",
      "[CV] NN__hidden_layer_sizes=(30, 10), filter__n=50 ...................\n",
      "[CV]  NN__hidden_layer_sizes=(30, 10), filter__n=50, score=0.9036964980544747, total=   1.1s\n",
      "[CV] NN__hidden_layer_sizes=(30, 10), filter__n=55 ...................\n",
      "[CV]  NN__hidden_layer_sizes=(30, 10), filter__n=55, score=0.9300970873786408, total=   1.0s\n",
      "[CV] NN__hidden_layer_sizes=(30, 10), filter__n=55 ...................\n",
      "[CV]  NN__hidden_layer_sizes=(30, 10), filter__n=55, score=0.9310679611650485, total=   1.1s\n",
      "[CV] NN__hidden_layer_sizes=(30, 10), filter__n=55 ...................\n",
      "[CV]  NN__hidden_layer_sizes=(30, 10), filter__n=55, score=0.8843537414965986, total=   1.0s\n",
      "[CV] NN__hidden_layer_sizes=(30, 10), filter__n=55 ...................\n",
      "[CV]  NN__hidden_layer_sizes=(30, 10), filter__n=55, score=0.8969873663751214, total=   1.5s\n",
      "[CV] NN__hidden_layer_sizes=(30, 10), filter__n=55 ...................\n",
      "[CV]  NN__hidden_layer_sizes=(30, 10), filter__n=55, score=0.9455252918287937, total=   2.8s\n",
      "[CV] NN__hidden_layer_sizes=(30, 10), filter__n=60 ...................\n",
      "[CV]  NN__hidden_layer_sizes=(30, 10), filter__n=60, score=0.916504854368932, total=   1.7s\n",
      "[CV] NN__hidden_layer_sizes=(30, 10), filter__n=60 ...................\n",
      "[CV]  NN__hidden_layer_sizes=(30, 10), filter__n=60, score=0.9213592233009709, total=   1.2s\n",
      "[CV] NN__hidden_layer_sizes=(30, 10), filter__n=60 ...................\n",
      "[CV]  NN__hidden_layer_sizes=(30, 10), filter__n=60, score=0.9193391642371235, total=   1.0s\n",
      "[CV] NN__hidden_layer_sizes=(30, 10), filter__n=60 ...................\n",
      "[CV]  NN__hidden_layer_sizes=(30, 10), filter__n=60, score=0.9008746355685131, total=   1.1s\n",
      "[CV] NN__hidden_layer_sizes=(30, 10), filter__n=60 ...................\n",
      "[CV]  NN__hidden_layer_sizes=(30, 10), filter__n=60, score=0.8657587548638133, total=   1.0s\n",
      "[CV] NN__hidden_layer_sizes=(30, 20), filter__n=2 ....................\n",
      "[CV]  NN__hidden_layer_sizes=(30, 20), filter__n=2, score=0.7650485436893204, total=   0.7s\n",
      "[CV] NN__hidden_layer_sizes=(30, 20), filter__n=2 ....................\n",
      "[CV]  NN__hidden_layer_sizes=(30, 20), filter__n=2, score=0.7572815533980582, total=   0.7s\n",
      "[CV] NN__hidden_layer_sizes=(30, 20), filter__n=2 ....................\n",
      "[CV]  NN__hidden_layer_sizes=(30, 20), filter__n=2, score=0.760932944606414, total=   0.7s\n",
      "[CV] NN__hidden_layer_sizes=(30, 20), filter__n=2 ....................\n",
      "[CV]  NN__hidden_layer_sizes=(30, 20), filter__n=2, score=0.7648202137998056, total=   0.7s\n",
      "[CV] NN__hidden_layer_sizes=(30, 20), filter__n=2 ....................\n",
      "[CV]  NN__hidden_layer_sizes=(30, 20), filter__n=2, score=0.7607003891050583, total=   0.7s\n",
      "[CV] NN__hidden_layer_sizes=(30, 20), filter__n=5 ....................\n",
      "[CV]  NN__hidden_layer_sizes=(30, 20), filter__n=5, score=0.9466019417475728, total=   0.8s\n",
      "[CV] NN__hidden_layer_sizes=(30, 20), filter__n=5 ....................\n",
      "[CV]  NN__hidden_layer_sizes=(30, 20), filter__n=5, score=0.9475728155339805, total=   0.8s\n",
      "[CV] NN__hidden_layer_sizes=(30, 20), filter__n=5 ....................\n",
      "[CV]  NN__hidden_layer_sizes=(30, 20), filter__n=5, score=0.9368318756073858, total=   0.7s\n",
      "[CV] NN__hidden_layer_sizes=(30, 20), filter__n=5 ....................\n",
      "[CV]  NN__hidden_layer_sizes=(30, 20), filter__n=5, score=0.9339164237123421, total=   0.8s\n",
      "[CV] NN__hidden_layer_sizes=(30, 20), filter__n=5 ....................\n",
      "[CV]  NN__hidden_layer_sizes=(30, 20), filter__n=5, score=0.9221789883268483, total=   0.7s\n",
      "[CV] NN__hidden_layer_sizes=(30, 20), filter__n=10 ...................\n",
      "[CV]  NN__hidden_layer_sizes=(30, 20), filter__n=10, score=0.9475728155339805, total=   1.0s\n",
      "[CV] NN__hidden_layer_sizes=(30, 20), filter__n=10 ...................\n",
      "[CV]  NN__hidden_layer_sizes=(30, 20), filter__n=10, score=0.9300970873786408, total=   0.9s\n",
      "[CV] NN__hidden_layer_sizes=(30, 20), filter__n=10 ...................\n",
      "[CV]  NN__hidden_layer_sizes=(30, 20), filter__n=10, score=0.9368318756073858, total=   1.0s\n",
      "[CV] NN__hidden_layer_sizes=(30, 20), filter__n=10 ...................\n",
      "[CV]  NN__hidden_layer_sizes=(30, 20), filter__n=10, score=0.9105928085519922, total=   1.3s\n",
      "[CV] NN__hidden_layer_sizes=(30, 20), filter__n=10 ...................\n",
      "[CV]  NN__hidden_layer_sizes=(30, 20), filter__n=10, score=0.9250972762645915, total=   1.2s\n",
      "[CV] NN__hidden_layer_sizes=(30, 20), filter__n=15 ...................\n",
      "[CV]  NN__hidden_layer_sizes=(30, 20), filter__n=15, score=0.9553398058252427, total=   0.9s\n",
      "[CV] NN__hidden_layer_sizes=(30, 20), filter__n=15 ...................\n",
      "[CV]  NN__hidden_layer_sizes=(30, 20), filter__n=15, score=0.958252427184466, total=   1.7s\n",
      "[CV] NN__hidden_layer_sizes=(30, 20), filter__n=15 ...................\n",
      "[CV]  NN__hidden_layer_sizes=(30, 20), filter__n=15, score=0.9067055393586005, total=   2.0s\n",
      "[CV] NN__hidden_layer_sizes=(30, 20), filter__n=15 ...................\n",
      "[CV]  NN__hidden_layer_sizes=(30, 20), filter__n=15, score=0.9222546161321672, total=   1.6s\n",
      "[CV] NN__hidden_layer_sizes=(30, 20), filter__n=15 ...................\n",
      "[CV]  NN__hidden_layer_sizes=(30, 20), filter__n=15, score=0.9484435797665369, total=   1.4s\n",
      "[CV] NN__hidden_layer_sizes=(30, 20), filter__n=20 ...................\n",
      "[CV]  NN__hidden_layer_sizes=(30, 20), filter__n=20, score=0.9019417475728155, total=   2.2s\n",
      "[CV] NN__hidden_layer_sizes=(30, 20), filter__n=20 ...................\n",
      "[CV]  NN__hidden_layer_sizes=(30, 20), filter__n=20, score=0.9640776699029127, total=   1.2s\n",
      "[CV] NN__hidden_layer_sizes=(30, 20), filter__n=20 ...................\n"
     ]
    },
    {
     "name": "stdout",
     "output_type": "stream",
     "text": [
      "[CV]  NN__hidden_layer_sizes=(30, 20), filter__n=20, score=0.9067055393586005, total=   2.0s\n",
      "[CV] NN__hidden_layer_sizes=(30, 20), filter__n=20 ...................\n",
      "[CV]  NN__hidden_layer_sizes=(30, 20), filter__n=20, score=0.9407191448007775, total=   1.1s\n",
      "[CV] NN__hidden_layer_sizes=(30, 20), filter__n=20 ...................\n",
      "[CV]  NN__hidden_layer_sizes=(30, 20), filter__n=20, score=0.9134241245136187, total=   1.4s\n",
      "[CV] NN__hidden_layer_sizes=(30, 20), filter__n=25 ...................\n",
      "[CV]  NN__hidden_layer_sizes=(30, 20), filter__n=25, score=0.9233009708737864, total=   1.6s\n",
      "[CV] NN__hidden_layer_sizes=(30, 20), filter__n=25 ...................\n",
      "[CV]  NN__hidden_layer_sizes=(30, 20), filter__n=25, score=0.933009708737864, total=   1.6s\n",
      "[CV] NN__hidden_layer_sizes=(30, 20), filter__n=25 ...................\n",
      "[CV]  NN__hidden_layer_sizes=(30, 20), filter__n=25, score=0.6268221574344023, total=   1.4s\n",
      "[CV] NN__hidden_layer_sizes=(30, 20), filter__n=25 ...................\n",
      "[CV]  NN__hidden_layer_sizes=(30, 20), filter__n=25, score=0.8960155490767736, total=   1.1s\n",
      "[CV] NN__hidden_layer_sizes=(30, 20), filter__n=25 ...................\n",
      "[CV]  NN__hidden_layer_sizes=(30, 20), filter__n=25, score=0.8949416342412452, total=   1.6s\n",
      "[CV] NN__hidden_layer_sizes=(30, 20), filter__n=30 ...................\n",
      "[CV]  NN__hidden_layer_sizes=(30, 20), filter__n=30, score=0.916504854368932, total=   1.1s\n",
      "[CV] NN__hidden_layer_sizes=(30, 20), filter__n=30 ...................\n",
      "[CV]  NN__hidden_layer_sizes=(30, 20), filter__n=30, score=0.9077669902912622, total=   1.4s\n",
      "[CV] NN__hidden_layer_sizes=(30, 20), filter__n=30 ...................\n",
      "[CV]  NN__hidden_layer_sizes=(30, 20), filter__n=30, score=0.902818270165209, total=   1.1s\n",
      "[CV] NN__hidden_layer_sizes=(30, 20), filter__n=30 ...................\n",
      "[CV]  NN__hidden_layer_sizes=(30, 20), filter__n=30, score=0.8931000971817298, total=   1.1s\n",
      "[CV] NN__hidden_layer_sizes=(30, 20), filter__n=30 ...................\n",
      "[CV]  NN__hidden_layer_sizes=(30, 20), filter__n=30, score=0.9105058365758755, total=   1.1s\n",
      "[CV] NN__hidden_layer_sizes=(30, 20), filter__n=35 ...................\n",
      "[CV]  NN__hidden_layer_sizes=(30, 20), filter__n=35, score=0.845631067961165, total=   1.3s\n",
      "[CV] NN__hidden_layer_sizes=(30, 20), filter__n=35 ...................\n",
      "[CV]  NN__hidden_layer_sizes=(30, 20), filter__n=35, score=0.912621359223301, total=   1.0s\n",
      "[CV] NN__hidden_layer_sizes=(30, 20), filter__n=35 ...................\n",
      "[CV]  NN__hidden_layer_sizes=(30, 20), filter__n=35, score=0.7551020408163265, total=   1.0s\n",
      "[CV] NN__hidden_layer_sizes=(30, 20), filter__n=35 ...................\n",
      "[CV]  NN__hidden_layer_sizes=(30, 20), filter__n=35, score=0.8095238095238095, total=   1.0s\n",
      "[CV] NN__hidden_layer_sizes=(30, 20), filter__n=35 ...................\n",
      "[CV]  NN__hidden_layer_sizes=(30, 20), filter__n=35, score=0.8297665369649806, total=   1.3s\n",
      "[CV] NN__hidden_layer_sizes=(30, 20), filter__n=40 ...................\n",
      "[CV]  NN__hidden_layer_sizes=(30, 20), filter__n=40, score=0.8475728155339806, total=   1.9s\n",
      "[CV] NN__hidden_layer_sizes=(30, 20), filter__n=40 ...................\n",
      "[CV]  NN__hidden_layer_sizes=(30, 20), filter__n=40, score=0.6223300970873786, total=   1.0s\n",
      "[CV] NN__hidden_layer_sizes=(30, 20), filter__n=40 ...................\n",
      "[CV]  NN__hidden_layer_sizes=(30, 20), filter__n=40, score=0.8794946550048591, total=   1.2s\n",
      "[CV] NN__hidden_layer_sizes=(30, 20), filter__n=40 ...................\n",
      "[CV]  NN__hidden_layer_sizes=(30, 20), filter__n=40, score=0.8493683187560739, total=   1.6s\n",
      "[CV] NN__hidden_layer_sizes=(30, 20), filter__n=40 ...................\n",
      "[CV]  NN__hidden_layer_sizes=(30, 20), filter__n=40, score=0.867704280155642, total=   1.5s\n",
      "[CV] NN__hidden_layer_sizes=(30, 20), filter__n=45 ...................\n",
      "[CV]  NN__hidden_layer_sizes=(30, 20), filter__n=45, score=0.6174757281553398, total=   0.8s\n",
      "[CV] NN__hidden_layer_sizes=(30, 20), filter__n=45 ...................\n",
      "[CV]  NN__hidden_layer_sizes=(30, 20), filter__n=45, score=0.8815533980582524, total=   1.0s\n",
      "[CV] NN__hidden_layer_sizes=(30, 20), filter__n=45 ...................\n",
      "[CV]  NN__hidden_layer_sizes=(30, 20), filter__n=45, score=0.8639455782312925, total=   0.8s\n",
      "[CV] NN__hidden_layer_sizes=(30, 20), filter__n=45 ...................\n",
      "[CV]  NN__hidden_layer_sizes=(30, 20), filter__n=45, score=0.826044703595724, total=   1.0s\n",
      "[CV] NN__hidden_layer_sizes=(30, 20), filter__n=45 ...................\n",
      "[CV]  NN__hidden_layer_sizes=(30, 20), filter__n=45, score=0.5943579766536965, total=   0.7s\n",
      "[CV] NN__hidden_layer_sizes=(30, 20), filter__n=50 ...................\n",
      "[CV]  NN__hidden_layer_sizes=(30, 20), filter__n=50, score=0.6213592233009708, total=   0.8s\n",
      "[CV] NN__hidden_layer_sizes=(30, 20), filter__n=50 ...................\n",
      "[CV]  NN__hidden_layer_sizes=(30, 20), filter__n=50, score=0.7213592233009709, total=   0.8s\n",
      "[CV] NN__hidden_layer_sizes=(30, 20), filter__n=50 ...................\n",
      "[CV]  NN__hidden_layer_sizes=(30, 20), filter__n=50, score=0.8454810495626822, total=   1.0s\n",
      "[CV] NN__hidden_layer_sizes=(30, 20), filter__n=50 ...................\n",
      "[CV]  NN__hidden_layer_sizes=(30, 20), filter__n=50, score=0.7968901846452867, total=   1.0s\n",
      "[CV] NN__hidden_layer_sizes=(30, 20), filter__n=50 ...................\n",
      "[CV]  NN__hidden_layer_sizes=(30, 20), filter__n=50, score=0.6196498054474708, total=   0.8s\n",
      "[CV] NN__hidden_layer_sizes=(30, 20), filter__n=55 ...................\n",
      "[CV]  NN__hidden_layer_sizes=(30, 20), filter__n=55, score=0.8427184466019417, total=   1.0s\n",
      "[CV] NN__hidden_layer_sizes=(30, 20), filter__n=55 ...................\n",
      "[CV]  NN__hidden_layer_sizes=(30, 20), filter__n=55, score=0.8553398058252427, total=   0.9s\n",
      "[CV] NN__hidden_layer_sizes=(30, 20), filter__n=55 ...................\n",
      "[CV]  NN__hidden_layer_sizes=(30, 20), filter__n=55, score=0.8445092322643343, total=   0.9s\n",
      "[CV] NN__hidden_layer_sizes=(30, 20), filter__n=55 ...................\n",
      "[CV]  NN__hidden_layer_sizes=(30, 20), filter__n=55, score=0.8950437317784257, total=   1.2s\n",
      "[CV] NN__hidden_layer_sizes=(30, 20), filter__n=55 ...................\n",
      "[CV]  NN__hidden_layer_sizes=(30, 20), filter__n=55, score=0.8998054474708171, total=   1.4s\n",
      "[CV] NN__hidden_layer_sizes=(30, 20), filter__n=60 ...................\n",
      "[CV]  NN__hidden_layer_sizes=(30, 20), filter__n=60, score=0.4786407766990291, total=   0.7s\n",
      "[CV] NN__hidden_layer_sizes=(30, 20), filter__n=60 ...................\n",
      "[CV]  NN__hidden_layer_sizes=(30, 20), filter__n=60, score=0.6805825242718446, total=   0.8s\n",
      "[CV] NN__hidden_layer_sizes=(30, 20), filter__n=60 ...................\n",
      "[CV]  NN__hidden_layer_sizes=(30, 20), filter__n=60, score=0.9096209912536443, total=   1.2s\n",
      "[CV] NN__hidden_layer_sizes=(30, 20), filter__n=60 ...................\n",
      "[CV]  NN__hidden_layer_sizes=(30, 20), filter__n=60, score=0.7978620019436345, total=   1.1s\n",
      "[CV] NN__hidden_layer_sizes=(30, 20), filter__n=60 ...................\n",
      "[CV]  NN__hidden_layer_sizes=(30, 20), filter__n=60, score=0.8093385214007782, total=   1.0s\n",
      "[CV] NN__hidden_layer_sizes=(30, 30), filter__n=2 ....................\n",
      "[CV]  NN__hidden_layer_sizes=(30, 30), filter__n=2, score=0.7873786407766991, total=   0.8s\n",
      "[CV] NN__hidden_layer_sizes=(30, 30), filter__n=2 ....................\n",
      "[CV]  NN__hidden_layer_sizes=(30, 30), filter__n=2, score=0.7834951456310679, total=   0.8s\n",
      "[CV] NN__hidden_layer_sizes=(30, 30), filter__n=2 ....................\n",
      "[CV]  NN__hidden_layer_sizes=(30, 30), filter__n=2, score=0.7648202137998056, total=   0.8s\n",
      "[CV] NN__hidden_layer_sizes=(30, 30), filter__n=2 ....................\n",
      "[CV]  NN__hidden_layer_sizes=(30, 30), filter__n=2, score=0.7667638483965015, total=   0.7s\n",
      "[CV] NN__hidden_layer_sizes=(30, 30), filter__n=2 ....................\n",
      "[CV]  NN__hidden_layer_sizes=(30, 30), filter__n=2, score=0.7684824902723736, total=   0.7s\n",
      "[CV] NN__hidden_layer_sizes=(30, 30), filter__n=5 ....................\n",
      "[CV]  NN__hidden_layer_sizes=(30, 30), filter__n=5, score=0.9475728155339805, total=   0.8s\n",
      "[CV] NN__hidden_layer_sizes=(30, 30), filter__n=5 ....................\n",
      "[CV]  NN__hidden_layer_sizes=(30, 30), filter__n=5, score=0.945631067961165, total=   0.8s\n",
      "[CV] NN__hidden_layer_sizes=(30, 30), filter__n=5 ....................\n",
      "[CV]  NN__hidden_layer_sizes=(30, 30), filter__n=5, score=0.9426627793974732, total=   0.8s\n",
      "[CV] NN__hidden_layer_sizes=(30, 30), filter__n=5 ....................\n"
     ]
    },
    {
     "name": "stdout",
     "output_type": "stream",
     "text": [
      "[CV]  NN__hidden_layer_sizes=(30, 30), filter__n=5, score=0.9436345966958212, total=   1.0s\n",
      "[CV] NN__hidden_layer_sizes=(30, 30), filter__n=5 ....................\n",
      "[CV]  NN__hidden_layer_sizes=(30, 30), filter__n=5, score=0.919260700389105, total=   0.8s\n",
      "[CV] NN__hidden_layer_sizes=(30, 30), filter__n=10 ...................\n",
      "[CV]  NN__hidden_layer_sizes=(30, 30), filter__n=10, score=0.9388349514563107, total=   0.9s\n",
      "[CV] NN__hidden_layer_sizes=(30, 30), filter__n=10 ...................\n",
      "[CV]  NN__hidden_layer_sizes=(30, 30), filter__n=10, score=0.9281553398058252, total=   0.9s\n",
      "[CV] NN__hidden_layer_sizes=(30, 30), filter__n=10 ...................\n",
      "[CV]  NN__hidden_layer_sizes=(30, 30), filter__n=10, score=0.9310009718172984, total=   1.1s\n",
      "[CV] NN__hidden_layer_sizes=(30, 30), filter__n=10 ...................\n",
      "[CV]  NN__hidden_layer_sizes=(30, 30), filter__n=10, score=0.9057337220602527, total=   1.0s\n",
      "[CV] NN__hidden_layer_sizes=(30, 30), filter__n=10 ...................\n",
      "[CV]  NN__hidden_layer_sizes=(30, 30), filter__n=10, score=0.9367704280155642, total=   1.0s\n",
      "[CV] NN__hidden_layer_sizes=(30, 30), filter__n=15 ...................\n",
      "[CV]  NN__hidden_layer_sizes=(30, 30), filter__n=15, score=0.9864077669902913, total=   1.4s\n",
      "[CV] NN__hidden_layer_sizes=(30, 30), filter__n=15 ...................\n",
      "[CV]  NN__hidden_layer_sizes=(30, 30), filter__n=15, score=0.9533980582524272, total=   1.1s\n",
      "[CV] NN__hidden_layer_sizes=(30, 30), filter__n=15 ...................\n",
      "[CV]  NN__hidden_layer_sizes=(30, 30), filter__n=15, score=0.9611273080660836, total=   1.2s\n",
      "[CV] NN__hidden_layer_sizes=(30, 30), filter__n=15 ...................\n",
      "[CV]  NN__hidden_layer_sizes=(30, 30), filter__n=15, score=0.9747327502429544, total=   1.2s\n",
      "[CV] NN__hidden_layer_sizes=(30, 30), filter__n=15 ...................\n",
      "[CV]  NN__hidden_layer_sizes=(30, 30), filter__n=15, score=0.9212062256809338, total=   1.0s\n",
      "[CV] NN__hidden_layer_sizes=(30, 30), filter__n=20 ...................\n",
      "[CV]  NN__hidden_layer_sizes=(30, 30), filter__n=20, score=0.8980582524271845, total=   1.2s\n",
      "[CV] NN__hidden_layer_sizes=(30, 30), filter__n=20 ...................\n",
      "[CV]  NN__hidden_layer_sizes=(30, 30), filter__n=20, score=0.9631067961165048, total=   1.1s\n",
      "[CV] NN__hidden_layer_sizes=(30, 30), filter__n=20 ...................\n",
      "[CV]  NN__hidden_layer_sizes=(30, 30), filter__n=20, score=0.8862973760932945, total=   1.0s\n",
      "[CV] NN__hidden_layer_sizes=(30, 30), filter__n=20 ...................\n",
      "[CV]  NN__hidden_layer_sizes=(30, 30), filter__n=20, score=0.9183673469387755, total=   0.9s\n",
      "[CV] NN__hidden_layer_sizes=(30, 30), filter__n=20 ...................\n",
      "[CV]  NN__hidden_layer_sizes=(30, 30), filter__n=20, score=0.9309338521400778, total=   1.2s\n",
      "[CV] NN__hidden_layer_sizes=(30, 30), filter__n=25 ...................\n",
      "[CV]  NN__hidden_layer_sizes=(30, 30), filter__n=25, score=0.8990291262135922, total=   0.9s\n",
      "[CV] NN__hidden_layer_sizes=(30, 30), filter__n=25 ...................\n",
      "[CV]  NN__hidden_layer_sizes=(30, 30), filter__n=25, score=0.9194174757281554, total=   0.9s\n",
      "[CV] NN__hidden_layer_sizes=(30, 30), filter__n=25 ...................\n",
      "[CV]  NN__hidden_layer_sizes=(30, 30), filter__n=25, score=0.9008746355685131, total=   1.2s\n",
      "[CV] NN__hidden_layer_sizes=(30, 30), filter__n=25 ...................\n",
      "[CV]  NN__hidden_layer_sizes=(30, 30), filter__n=25, score=0.8931000971817298, total=   1.3s\n",
      "[CV] NN__hidden_layer_sizes=(30, 30), filter__n=25 ...................\n",
      "[CV]  NN__hidden_layer_sizes=(30, 30), filter__n=25, score=0.8589494163424124, total=   1.0s\n",
      "[CV] NN__hidden_layer_sizes=(30, 30), filter__n=30 ...................\n",
      "[CV]  NN__hidden_layer_sizes=(30, 30), filter__n=30, score=0.8592233009708737, total=   1.0s\n",
      "[CV] NN__hidden_layer_sizes=(30, 30), filter__n=30 ...................\n",
      "[CV]  NN__hidden_layer_sizes=(30, 30), filter__n=30, score=0.5563106796116505, total=   0.6s\n",
      "[CV] NN__hidden_layer_sizes=(30, 30), filter__n=30 ...................\n",
      "[CV]  NN__hidden_layer_sizes=(30, 30), filter__n=30, score=0.8765792031098154, total=   1.1s\n",
      "[CV] NN__hidden_layer_sizes=(30, 30), filter__n=30 ...................\n",
      "[CV]  NN__hidden_layer_sizes=(30, 30), filter__n=30, score=0.902818270165209, total=   1.0s\n",
      "[CV] NN__hidden_layer_sizes=(30, 30), filter__n=30 ...................\n",
      "[CV]  NN__hidden_layer_sizes=(30, 30), filter__n=30, score=0.8813229571984436, total=   1.6s\n",
      "[CV] NN__hidden_layer_sizes=(30, 30), filter__n=35 ...................\n",
      "[CV]  NN__hidden_layer_sizes=(30, 30), filter__n=35, score=0.6485436893203883, total=   0.7s\n",
      "[CV] NN__hidden_layer_sizes=(30, 30), filter__n=35 ...................\n",
      "[CV]  NN__hidden_layer_sizes=(30, 30), filter__n=35, score=0.8883495145631068, total=   1.0s\n",
      "[CV] NN__hidden_layer_sizes=(30, 30), filter__n=35 ...................\n",
      "[CV]  NN__hidden_layer_sizes=(30, 30), filter__n=35, score=0.6482021379980564, total=   0.7s\n",
      "[CV] NN__hidden_layer_sizes=(30, 30), filter__n=35 ...................\n",
      "[CV]  NN__hidden_layer_sizes=(30, 30), filter__n=35, score=0.6482021379980564, total=   0.7s\n",
      "[CV] NN__hidden_layer_sizes=(30, 30), filter__n=35 ...................\n",
      "[CV]  NN__hidden_layer_sizes=(30, 30), filter__n=35, score=0.6488326848249028, total=   0.7s\n",
      "[CV] NN__hidden_layer_sizes=(30, 30), filter__n=40 ...................\n",
      "[CV]  NN__hidden_layer_sizes=(30, 30), filter__n=40, score=0.8864077669902912, total=   1.0s\n",
      "[CV] NN__hidden_layer_sizes=(30, 30), filter__n=40 ...................\n",
      "[CV]  NN__hidden_layer_sizes=(30, 30), filter__n=40, score=0.8436893203883495, total=   0.9s\n",
      "[CV] NN__hidden_layer_sizes=(30, 30), filter__n=40 ...................\n",
      "[CV]  NN__hidden_layer_sizes=(30, 30), filter__n=40, score=0.9183673469387755, total=   1.4s\n",
      "[CV] NN__hidden_layer_sizes=(30, 30), filter__n=40 ...................\n",
      "[CV]  NN__hidden_layer_sizes=(30, 30), filter__n=40, score=0.6482021379980564, total=   0.7s\n",
      "[CV] NN__hidden_layer_sizes=(30, 30), filter__n=40 ...................\n",
      "[CV]  NN__hidden_layer_sizes=(30, 30), filter__n=40, score=0.8929961089494164, total=   1.2s\n",
      "[CV] NN__hidden_layer_sizes=(30, 30), filter__n=45 ...................\n",
      "[CV]  NN__hidden_layer_sizes=(30, 30), filter__n=45, score=0.9048543689320389, total=   0.9s\n",
      "[CV] NN__hidden_layer_sizes=(30, 30), filter__n=45 ...................\n",
      "[CV]  NN__hidden_layer_sizes=(30, 30), filter__n=45, score=0.8718446601941747, total=   1.1s\n",
      "[CV] NN__hidden_layer_sizes=(30, 30), filter__n=45 ...................\n",
      "[CV]  NN__hidden_layer_sizes=(30, 30), filter__n=45, score=0.8318756073858115, total=   0.9s\n",
      "[CV] NN__hidden_layer_sizes=(30, 30), filter__n=45 ...................\n",
      "[CV]  NN__hidden_layer_sizes=(30, 30), filter__n=45, score=0.847424684159378, total=   1.0s\n",
      "[CV] NN__hidden_layer_sizes=(30, 30), filter__n=45 ...................\n",
      "[CV]  NN__hidden_layer_sizes=(30, 30), filter__n=45, score=0.6284046692607004, total=   0.7s\n",
      "[CV] NN__hidden_layer_sizes=(30, 30), filter__n=50 ...................\n",
      "[CV]  NN__hidden_layer_sizes=(30, 30), filter__n=50, score=0.829126213592233, total=   0.9s\n",
      "[CV] NN__hidden_layer_sizes=(30, 30), filter__n=50 ...................\n",
      "[CV]  NN__hidden_layer_sizes=(30, 30), filter__n=50, score=0.9271844660194175, total=   1.2s\n",
      "[CV] NN__hidden_layer_sizes=(30, 30), filter__n=50 ...................\n",
      "[CV]  NN__hidden_layer_sizes=(30, 30), filter__n=50, score=0.7648202137998056, total=   0.9s\n",
      "[CV] NN__hidden_layer_sizes=(30, 30), filter__n=50 ...................\n",
      "[CV]  NN__hidden_layer_sizes=(30, 30), filter__n=50, score=0.5753158406219631, total=   0.7s\n",
      "[CV] NN__hidden_layer_sizes=(30, 30), filter__n=50 ...................\n",
      "[CV]  NN__hidden_layer_sizes=(30, 30), filter__n=50, score=0.8667315175097277, total=   1.0s\n",
      "[CV] NN__hidden_layer_sizes=(30, 30), filter__n=55 ...................\n",
      "[CV]  NN__hidden_layer_sizes=(30, 30), filter__n=55, score=0.8786407766990292, total=   1.3s\n",
      "[CV] NN__hidden_layer_sizes=(30, 30), filter__n=55 ...................\n",
      "[CV]  NN__hidden_layer_sizes=(30, 30), filter__n=55, score=0.6368932038834951, total=   0.8s\n",
      "[CV] NN__hidden_layer_sizes=(30, 30), filter__n=55 ...................\n",
      "[CV]  NN__hidden_layer_sizes=(30, 30), filter__n=55, score=0.8241010689990281, total=   0.9s\n",
      "[CV] NN__hidden_layer_sizes=(30, 30), filter__n=55 ...................\n"
     ]
    },
    {
     "name": "stdout",
     "output_type": "stream",
     "text": [
      "[CV]  NN__hidden_layer_sizes=(30, 30), filter__n=55, score=0.6977648202137998, total=   0.8s\n",
      "[CV] NN__hidden_layer_sizes=(30, 30), filter__n=55 ...................\n",
      "[CV]  NN__hidden_layer_sizes=(30, 30), filter__n=55, score=0.8978599221789884, total=   1.1s\n",
      "[CV] NN__hidden_layer_sizes=(30, 30), filter__n=60 ...................\n",
      "[CV]  NN__hidden_layer_sizes=(30, 30), filter__n=60, score=0.9213592233009709, total=   1.2s\n",
      "[CV] NN__hidden_layer_sizes=(30, 30), filter__n=60 ...................\n",
      "[CV]  NN__hidden_layer_sizes=(30, 30), filter__n=60, score=0.6485436893203883, total=   0.7s\n",
      "[CV] NN__hidden_layer_sizes=(30, 30), filter__n=60 ...................\n",
      "[CV]  NN__hidden_layer_sizes=(30, 30), filter__n=60, score=0.8318756073858115, total=   1.0s\n",
      "[CV] NN__hidden_layer_sizes=(30, 30), filter__n=60 ...................\n",
      "[CV]  NN__hidden_layer_sizes=(30, 30), filter__n=60, score=0.8551992225461613, total=   0.9s\n",
      "[CV] NN__hidden_layer_sizes=(30, 30), filter__n=60 ...................\n",
      "[CV]  NN__hidden_layer_sizes=(30, 30), filter__n=60, score=0.8949416342412452, total=   1.2s\n"
     ]
    },
    {
     "name": "stderr",
     "output_type": "stream",
     "text": [
      "[Parallel(n_jobs=1)]: Done 780 out of 780 | elapsed: 14.3min finished\n",
      "C:\\Users\\ajmot\\Anaconda3\\lib\\site-packages\\sklearn\\utils\\deprecation.py:122: FutureWarning: You are accessing a training score ('mean_train_score'), which will not be available by default any more in 0.21. If you need training scores, please set return_train_score=True\n",
      "  warnings.warn(*warn_args, **warn_kwargs)\n",
      "C:\\Users\\ajmot\\Anaconda3\\lib\\site-packages\\sklearn\\utils\\deprecation.py:122: FutureWarning: You are accessing a training score ('split0_train_score'), which will not be available by default any more in 0.21. If you need training scores, please set return_train_score=True\n",
      "  warnings.warn(*warn_args, **warn_kwargs)\n",
      "C:\\Users\\ajmot\\Anaconda3\\lib\\site-packages\\sklearn\\utils\\deprecation.py:122: FutureWarning: You are accessing a training score ('split1_train_score'), which will not be available by default any more in 0.21. If you need training scores, please set return_train_score=True\n",
      "  warnings.warn(*warn_args, **warn_kwargs)\n",
      "C:\\Users\\ajmot\\Anaconda3\\lib\\site-packages\\sklearn\\utils\\deprecation.py:122: FutureWarning: You are accessing a training score ('split2_train_score'), which will not be available by default any more in 0.21. If you need training scores, please set return_train_score=True\n",
      "  warnings.warn(*warn_args, **warn_kwargs)\n",
      "C:\\Users\\ajmot\\Anaconda3\\lib\\site-packages\\sklearn\\utils\\deprecation.py:122: FutureWarning: You are accessing a training score ('split3_train_score'), which will not be available by default any more in 0.21. If you need training scores, please set return_train_score=True\n",
      "  warnings.warn(*warn_args, **warn_kwargs)\n",
      "C:\\Users\\ajmot\\Anaconda3\\lib\\site-packages\\sklearn\\utils\\deprecation.py:122: FutureWarning: You are accessing a training score ('split4_train_score'), which will not be available by default any more in 0.21. If you need training scores, please set return_train_score=True\n",
      "  warnings.warn(*warn_args, **warn_kwargs)\n",
      "C:\\Users\\ajmot\\Anaconda3\\lib\\site-packages\\sklearn\\utils\\deprecation.py:122: FutureWarning: You are accessing a training score ('std_train_score'), which will not be available by default any more in 0.21. If you need training scores, please set return_train_score=True\n",
      "  warnings.warn(*warn_args, **warn_kwargs)\n"
     ]
    }
   ],
   "source": [
    "from sklearn.ensemble import RandomForestClassifier\n",
    "from sklearn.base import TransformerMixin,BaseEstimator\n",
    "\n",
    "class ImportanceSelect(BaseEstimator, TransformerMixin):\n",
    "    def __init__(self, model, n=1):\n",
    "         self.model = model\n",
    "         self.n = n\n",
    "    def fit(self, *args, **kwargs):\n",
    "         self.model.fit(*args, **kwargs)\n",
    "         return self\n",
    "    def transform(self, X):\n",
    "         return X[:,self.model.feature_importances_.argsort()[::-1][:self.n]]\n",
    "\n",
    "dims_bb = [2,5,10,15,20,25,30,35]\n",
    "nn_arch= [(5,10),(10,10),(10,20),(20,20),(20,10),(5,),(10,),(20,),(30,),(30,10),(30,20),(30,30)]\n",
    "\n",
    "rfc = RandomForestClassifier(n_estimators=100,class_weight='balanced',n_jobs=7)\n",
    "filtr = ImportanceSelect(rfc)\n",
    "grid ={'filter__n':dims,'NN__hidden_layer_sizes':nn_arch}\n",
    "mlp = MLPClassifier(activation='relu',max_iter=2000,early_stopping=True,random_state=5)\n",
    "pipe = Pipeline([('filter',filtr),('NN',mlp)])\n",
    "gs = GridSearchCV(pipe,grid,verbose=10,cv=5)\n",
    "\n",
    "gs.fit(basketball[\"data\"],basketball[\"target\"])\n",
    "tmp = pd.DataFrame(gs.cv_results_)\n",
    "tmp.to_csv('bball_rp_nn.csv')"
   ]
  },
  {
   "cell_type": "code",
   "execution_count": null,
   "metadata": {
    "collapsed": true
   },
   "outputs": [],
   "source": []
  },
  {
   "cell_type": "code",
   "execution_count": null,
   "metadata": {
    "collapsed": true
   },
   "outputs": [],
   "source": []
  }
 ],
 "metadata": {
  "kernelspec": {
   "display_name": "Python 3",
   "language": "python",
   "name": "python3"
  },
  "language_info": {
   "codemirror_mode": {
    "name": "ipython",
    "version": 3
   },
   "file_extension": ".py",
   "mimetype": "text/x-python",
   "name": "python",
   "nbconvert_exporter": "python",
   "pygments_lexer": "ipython3",
   "version": "3.6.4"
  }
 },
 "nbformat": 4,
 "nbformat_minor": 2
}
